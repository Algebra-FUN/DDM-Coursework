{
 "cells": [
  {
   "attachments": {},
   "cell_type": "markdown",
   "metadata": {},
   "source": [
    "# Assignment 2 "
   ]
  },
  {
   "cell_type": "code",
   "execution_count": 2,
   "metadata": {},
   "outputs": [],
   "source": [
    "import pandas as pd\n",
    "import numpy as np\n",
    "from matplotlib import pyplot as plt\n",
    "from IPython.display import Markdown, display\n",
    "from statsmodels.stats.diagnostic import acorr_ljungbox\n",
    "from statsmodels.graphics import tsaplots\n",
    "from statsmodels.tsa.arima.model import ARIMA\n",
    "from itertools import product\n",
    "import warnings\n",
    "\n",
    "warnings.filterwarnings(\"ignore\")\n",
    "\n",
    "plt.rcParams['figure.figsize'] = [5, 3]"
   ]
  },
  {
   "cell_type": "code",
   "execution_count": 3,
   "metadata": {},
   "outputs": [
    {
     "data": {
      "image/png": "[encoded data removed]",
      "text/plain": [
       "<Figure size 500x300 with 1 Axes>"
      ]
     },
     "metadata": {},
     "output_type": "display_data"
    }
   ],
   "source": [
    "import qrcode\n",
    "url = \"https://algebra-fun.github.io/DDM-Coursework/MSDM5053/Homework/hw2/\"\n",
    "plt.imshow(qrcode.make(url), cmap='gray')\n",
    "plt.title(\"Scan this qrcode to view this homework on web!\")\n",
    "plt.show()"
   ]
  },
  {
   "attachments": {},
   "cell_type": "markdown",
   "metadata": {},
   "source": [
    "## 1. Consider the conventional 30-year mortgage rate of U.S. \n",
    "\n",
    "from June 1976 to March 2007. \n",
    "\n",
    "The data are obtained from Federal Reserve Bank at St Louis. \n",
    "\n",
    "1. Take the natural log transformation of the mortgage rate to build a time series model for the series. \n",
    "2. Perform model checking using Q(12) for residuals. (all tests are based on the 5% significance level) \n",
    "3. Write down the fitted model. \n",
    "4. Use the fitted model to produce 1-step to 4-step ahead forecasts at the forecast origin March, 2007. "
   ]
  },
  {
   "cell_type": "code",
   "execution_count": 2,
   "metadata": {},
   "outputs": [
    {
     "data": {
      "text/html": [
       "<div>\n",
       "<style scoped>\n",
       "    .dataframe tbody tr th:only-of-type {\n",
       "        vertical-align: middle;\n",
       "    }\n",
       "\n",
       "    .dataframe tbody tr th {\n",
       "        vertical-align: top;\n",
       "    }\n",
       "\n",
       "    .dataframe thead th {\n",
       "        text-align: right;\n",
       "    }\n",
       "</style>\n",
       "<table border=\"1\" class=\"dataframe\">\n",
       "  <thead>\n",
       "    <tr style=\"text-align: right;\">\n",
       "      <th></th>\n",
       "      <th>rate</th>\n",
       "    </tr>\n",
       "    <tr>\n",
       "      <th>date</th>\n",
       "      <th></th>\n",
       "    </tr>\n",
       "  </thead>\n",
       "  <tbody>\n",
       "    <tr>\n",
       "      <th>1976-06-01</th>\n",
       "      <td>8.85</td>\n",
       "    </tr>\n",
       "    <tr>\n",
       "      <th>1976-07-01</th>\n",
       "      <td>8.93</td>\n",
       "    </tr>\n",
       "    <tr>\n",
       "      <th>1976-08-01</th>\n",
       "      <td>9.00</td>\n",
       "    </tr>\n",
       "    <tr>\n",
       "      <th>1976-09-01</th>\n",
       "      <td>8.98</td>\n",
       "    </tr>\n",
       "    <tr>\n",
       "      <th>1976-10-01</th>\n",
       "      <td>8.93</td>\n",
       "    </tr>\n",
       "    <tr>\n",
       "      <th>...</th>\n",
       "      <td>...</td>\n",
       "    </tr>\n",
       "    <tr>\n",
       "      <th>2006-11-01</th>\n",
       "      <td>6.24</td>\n",
       "    </tr>\n",
       "    <tr>\n",
       "      <th>2006-12-01</th>\n",
       "      <td>6.14</td>\n",
       "    </tr>\n",
       "    <tr>\n",
       "      <th>2007-01-01</th>\n",
       "      <td>6.22</td>\n",
       "    </tr>\n",
       "    <tr>\n",
       "      <th>2007-02-01</th>\n",
       "      <td>6.29</td>\n",
       "    </tr>\n",
       "    <tr>\n",
       "      <th>2007-03-01</th>\n",
       "      <td>6.16</td>\n",
       "    </tr>\n",
       "  </tbody>\n",
       "</table>\n",
       "<p>370 rows × 1 columns</p>\n",
       "</div>"
      ],
      "text/plain": [
       "            rate\n",
       "date            \n",
       "1976-06-01  8.85\n",
       "1976-07-01  8.93\n",
       "1976-08-01  9.00\n",
       "1976-09-01  8.98\n",
       "1976-10-01  8.93\n",
       "...          ...\n",
       "2006-11-01  6.24\n",
       "2006-12-01  6.14\n",
       "2007-01-01  6.22\n",
       "2007-02-01  6.29\n",
       "2007-03-01  6.16\n",
       "\n",
       "[370 rows x 1 columns]"
      ]
     },
     "execution_count": 2,
     "metadata": {},
     "output_type": "execute_result"
    }
   ],
   "source": [
    "mortg = pd.read_csv(\"data/m-mortg.csv\", index_col=0, parse_dates=True)\n",
    "mortg"
   ]
  },
  {
   "cell_type": "code",
   "execution_count": 3,
   "metadata": {},
   "outputs": [
    {
     "data": {
      "text/html": [
       "<div>\n",
       "<style scoped>\n",
       "    .dataframe tbody tr th:only-of-type {\n",
       "        vertical-align: middle;\n",
       "    }\n",
       "\n",
       "    .dataframe tbody tr th {\n",
       "        vertical-align: top;\n",
       "    }\n",
       "\n",
       "    .dataframe thead th {\n",
       "        text-align: right;\n",
       "    }\n",
       "</style>\n",
       "<table border=\"1\" class=\"dataframe\">\n",
       "  <thead>\n",
       "    <tr style=\"text-align: right;\">\n",
       "      <th></th>\n",
       "      <th>rate</th>\n",
       "      <th>log_rate</th>\n",
       "    </tr>\n",
       "    <tr>\n",
       "      <th>date</th>\n",
       "      <th></th>\n",
       "      <th></th>\n",
       "    </tr>\n",
       "  </thead>\n",
       "  <tbody>\n",
       "    <tr>\n",
       "      <th>1976-06-01</th>\n",
       "      <td>8.85</td>\n",
       "      <td>2.180417</td>\n",
       "    </tr>\n",
       "    <tr>\n",
       "      <th>1976-07-01</th>\n",
       "      <td>8.93</td>\n",
       "      <td>2.189416</td>\n",
       "    </tr>\n",
       "    <tr>\n",
       "      <th>1976-08-01</th>\n",
       "      <td>9.00</td>\n",
       "      <td>2.197225</td>\n",
       "    </tr>\n",
       "    <tr>\n",
       "      <th>1976-09-01</th>\n",
       "      <td>8.98</td>\n",
       "      <td>2.195000</td>\n",
       "    </tr>\n",
       "    <tr>\n",
       "      <th>1976-10-01</th>\n",
       "      <td>8.93</td>\n",
       "      <td>2.189416</td>\n",
       "    </tr>\n",
       "    <tr>\n",
       "      <th>...</th>\n",
       "      <td>...</td>\n",
       "      <td>...</td>\n",
       "    </tr>\n",
       "    <tr>\n",
       "      <th>2006-11-01</th>\n",
       "      <td>6.24</td>\n",
       "      <td>1.830980</td>\n",
       "    </tr>\n",
       "    <tr>\n",
       "      <th>2006-12-01</th>\n",
       "      <td>6.14</td>\n",
       "      <td>1.814825</td>\n",
       "    </tr>\n",
       "    <tr>\n",
       "      <th>2007-01-01</th>\n",
       "      <td>6.22</td>\n",
       "      <td>1.827770</td>\n",
       "    </tr>\n",
       "    <tr>\n",
       "      <th>2007-02-01</th>\n",
       "      <td>6.29</td>\n",
       "      <td>1.838961</td>\n",
       "    </tr>\n",
       "    <tr>\n",
       "      <th>2007-03-01</th>\n",
       "      <td>6.16</td>\n",
       "      <td>1.818077</td>\n",
       "    </tr>\n",
       "  </tbody>\n",
       "</table>\n",
       "<p>370 rows × 2 columns</p>\n",
       "</div>"
      ],
      "text/plain": [
       "            rate  log_rate\n",
       "date                      \n",
       "1976-06-01  8.85  2.180417\n",
       "1976-07-01  8.93  2.189416\n",
       "1976-08-01  9.00  2.197225\n",
       "1976-09-01  8.98  2.195000\n",
       "1976-10-01  8.93  2.189416\n",
       "...          ...       ...\n",
       "2006-11-01  6.24  1.830980\n",
       "2006-12-01  6.14  1.814825\n",
       "2007-01-01  6.22  1.827770\n",
       "2007-02-01  6.29  1.838961\n",
       "2007-03-01  6.16  1.818077\n",
       "\n",
       "[370 rows x 2 columns]"
      ]
     },
     "execution_count": 3,
     "metadata": {},
     "output_type": "execute_result"
    }
   ],
   "source": [
    "# 1. Take the natural log transformation of the mortgage rate to build a time series model for the series.\n",
    "mortg[\"log_rate\"] = mortg[\"rate\"].apply(np.log)\n",
    "mortg"
   ]
  },
  {
   "cell_type": "code",
   "execution_count": 4,
   "metadata": {},
   "outputs": [],
   "source": [
    "def plot_acf_pacf(series, lags=12):\n",
    "    fig, (ax1,ax2) = plt.subplots(1,2)\n",
    "\n",
    "    tsaplots.plot_acf(series, lags=lags,ax=ax1)\n",
    "    ax1.set_xlabel(\"lags\")\n",
    "    ax1.set_ylabel(\"acf\")\n",
    "    ax1.grid(\"True\")\n",
    "\n",
    "    tsaplots.plot_pacf(series, lags=lags,ax=ax2)\n",
    "    ax2.set_xlabel(\"lags\")\n",
    "    ax2.set_ylabel(\"pacf\")\n",
    "    ax2.grid(\"True\")\n",
    "\n",
    "    fig.tight_layout()"
   ]
  },
  {
   "cell_type": "code",
   "execution_count": 5,
   "metadata": {},
   "outputs": [
    {
     "data": {
      "image/png": "[encoded data removed]",
      "text/plain": [
       "<Figure size 500x300 with 2 Axes>"
      ]
     },
     "metadata": {},
     "output_type": "display_data"
    }
   ],
   "source": [
    "plot_acf_pacf(mortg[\"log_rate\"],lags=12)\n",
    "plt.show()"
   ]
  },
  {
   "attachments": {},
   "cell_type": "markdown",
   "metadata": {},
   "source": [
    "From the plot of acf and pacf, we can see pacfs are significant when lag $\\tau \\leq 2$, while acfs aren't 0 and decay, which indicates an `AR(2)` model."
   ]
  },
  {
   "cell_type": "code",
   "execution_count": 6,
   "metadata": {},
   "outputs": [
    {
     "name": "stdout",
     "output_type": "stream",
     "text": [
      "current selection: ARIMA(0, 0, 0), AIC=146.12\n",
      "current selection: ARIMA(0, 0, 1), AIC=-338.81\n",
      "current selection: ARIMA(0, 0, 2), AIC=-726.39\n",
      "current selection: ARIMA(0, 0, 3), AIC=-983.87\n",
      "current selection: ARIMA(0, 1, 0), AIC=-1541.29\n",
      "current selection: ARIMA(0, 1, 1), AIC=-1630.03\n",
      "current selection: ARIMA(0, 1, 3), AIC=-1632.85\n",
      "current selection: ARIMA(3, 1, 0), AIC=-1633.45\n"
     ]
    },
    {
     "data": {
      "text/html": [
       "<table class=\"simpletable\">\n",
       "<caption>SARIMAX Results</caption>\n",
       "<tr>\n",
       "  <th>Dep. Variable:</th>       <td>log_rate</td>     <th>  No. Observations:  </th>    <td>370</td>   \n",
       "</tr>\n",
       "<tr>\n",
       "  <th>Model:</th>            <td>ARIMA(3, 1, 0)</td>  <th>  Log Likelihood     </th>  <td>820.726</td> \n",
       "</tr>\n",
       "<tr>\n",
       "  <th>Date:</th>            <td>Sat, 25 Mar 2023</td> <th>  AIC                </th> <td>-1633.453</td>\n",
       "</tr>\n",
       "<tr>\n",
       "  <th>Time:</th>                <td>12:09:51</td>     <th>  BIC                </th> <td>-1617.810</td>\n",
       "</tr>\n",
       "<tr>\n",
       "  <th>Sample:</th>             <td>06-01-1976</td>    <th>  HQIC               </th> <td>-1627.239</td>\n",
       "</tr>\n",
       "<tr>\n",
       "  <th></th>                   <td>- 03-01-2007</td>   <th>                     </th>     <td> </td>    \n",
       "</tr>\n",
       "<tr>\n",
       "  <th>Covariance Type:</th>        <td>opg</td>       <th>                     </th>     <td> </td>    \n",
       "</tr>\n",
       "</table>\n",
       "<table class=\"simpletable\">\n",
       "<tr>\n",
       "     <td></td>       <th>coef</th>     <th>std err</th>      <th>z</th>      <th>P>|z|</th>  <th>[0.025</th>    <th>0.975]</th>  \n",
       "</tr>\n",
       "<tr>\n",
       "  <th>ar.L1</th>  <td>    0.5323</td> <td>    0.049</td> <td>   10.758</td> <td> 0.000</td> <td>    0.435</td> <td>    0.629</td>\n",
       "</tr>\n",
       "<tr>\n",
       "  <th>ar.L2</th>  <td>   -0.3491</td> <td>    0.041</td> <td>   -8.560</td> <td> 0.000</td> <td>   -0.429</td> <td>   -0.269</td>\n",
       "</tr>\n",
       "<tr>\n",
       "  <th>ar.L3</th>  <td>    0.0894</td> <td>    0.054</td> <td>    1.654</td> <td> 0.098</td> <td>   -0.017</td> <td>    0.195</td>\n",
       "</tr>\n",
       "<tr>\n",
       "  <th>sigma2</th> <td>    0.0007</td> <td> 3.12e-05</td> <td>   21.949</td> <td> 0.000</td> <td>    0.001</td> <td>    0.001</td>\n",
       "</tr>\n",
       "</table>\n",
       "<table class=\"simpletable\">\n",
       "<tr>\n",
       "  <th>Ljung-Box (L1) (Q):</th>     <td>0.00</td> <th>  Jarque-Bera (JB):  </th> <td>281.52</td>\n",
       "</tr>\n",
       "<tr>\n",
       "  <th>Prob(Q):</th>                <td>0.96</td> <th>  Prob(JB):          </th>  <td>0.00</td> \n",
       "</tr>\n",
       "<tr>\n",
       "  <th>Heteroskedasticity (H):</th> <td>0.92</td> <th>  Skew:              </th>  <td>0.67</td> \n",
       "</tr>\n",
       "<tr>\n",
       "  <th>Prob(H) (two-sided):</th>    <td>0.64</td> <th>  Kurtosis:          </th>  <td>7.07</td> \n",
       "</tr>\n",
       "</table><br/><br/>Warnings:<br/>[1] Covariance matrix calculated using the outer product of gradients (complex-step)."
      ],
      "text/plain": [
       "<class 'statsmodels.iolib.summary.Summary'>\n",
       "\"\"\"\n",
       "                               SARIMAX Results                                \n",
       "==============================================================================\n",
       "Dep. Variable:               log_rate   No. Observations:                  370\n",
       "Model:                 ARIMA(3, 1, 0)   Log Likelihood                 820.726\n",
       "Date:                Sat, 25 Mar 2023   AIC                          -1633.453\n",
       "Time:                        12:09:51   BIC                          -1617.810\n",
       "Sample:                    06-01-1976   HQIC                         -1627.239\n",
       "                         - 03-01-2007                                         \n",
       "Covariance Type:                  opg                                         \n",
       "==============================================================================\n",
       "                 coef    std err          z      P>|z|      [0.025      0.975]\n",
       "------------------------------------------------------------------------------\n",
       "ar.L1          0.5323      0.049     10.758      0.000       0.435       0.629\n",
       "ar.L2         -0.3491      0.041     -8.560      0.000      -0.429      -0.269\n",
       "ar.L3          0.0894      0.054      1.654      0.098      -0.017       0.195\n",
       "sigma2         0.0007   3.12e-05     21.949      0.000       0.001       0.001\n",
       "===================================================================================\n",
       "Ljung-Box (L1) (Q):                   0.00   Jarque-Bera (JB):               281.52\n",
       "Prob(Q):                              0.96   Prob(JB):                         0.00\n",
       "Heteroskedasticity (H):               0.92   Skew:                             0.67\n",
       "Prob(H) (two-sided):                  0.64   Kurtosis:                         7.07\n",
       "===================================================================================\n",
       "\n",
       "Warnings:\n",
       "[1] Covariance matrix calculated using the outer product of gradients (complex-step).\n",
       "\"\"\""
      ]
     },
     "execution_count": 6,
     "metadata": {},
     "output_type": "execute_result"
    }
   ],
   "source": [
    "# build an ARIMA model by grid search\n",
    "ps = range(4)\n",
    "ds = range(3)\n",
    "qs = range(4)\n",
    "best_aic = np.inf\n",
    "for p,d,q in product(ps,ds,qs):\n",
    "    try:\n",
    "        mod = ARIMA(mortg.log_rate, order=(p,d,q),dates=mortg.index).fit()\n",
    "        if mod.aic < best_aic:\n",
    "            best_aic = mod.aic\n",
    "            best_mod = mod\n",
    "            print(f\"current selection: ARIMA{(p,d,q)}, AIC={best_aic:.2f}\") \n",
    "    except:\n",
    "        continue\n",
    "\n",
    "mortg_mod = best_mod\n",
    "mortg_mod.summary()"
   ]
  },
  {
   "cell_type": "code",
   "execution_count": 28,
   "metadata": {},
   "outputs": [
    {
     "data": {
      "text/plain": [
       "-0.000981953066326313"
      ]
     },
     "execution_count": 28,
     "metadata": {},
     "output_type": "execute_result"
    }
   ],
   "source": [
    "np.diff(mortg_mod.data.endog,n=1).mean()"
   ]
  },
  {
   "cell_type": "code",
   "execution_count": 56,
   "metadata": {},
   "outputs": [
    {
     "data": {
      "text/html": [
       "<div>\n",
       "<style scoped>\n",
       "    .dataframe tbody tr th:only-of-type {\n",
       "        vertical-align: middle;\n",
       "    }\n",
       "\n",
       "    .dataframe tbody tr th {\n",
       "        vertical-align: top;\n",
       "    }\n",
       "\n",
       "    .dataframe thead th {\n",
       "        text-align: right;\n",
       "    }\n",
       "</style>\n",
       "<table border=\"1\" class=\"dataframe\">\n",
       "  <thead>\n",
       "    <tr style=\"text-align: right;\">\n",
       "      <th></th>\n",
       "      <th>lb_stat</th>\n",
       "      <th>lb_pvalue</th>\n",
       "    </tr>\n",
       "  </thead>\n",
       "  <tbody>\n",
       "    <tr>\n",
       "      <th>12</th>\n",
       "      <td>0.05655</td>\n",
       "      <td>1.0</td>\n",
       "    </tr>\n",
       "  </tbody>\n",
       "</table>\n",
       "</div>"
      ],
      "text/plain": [
       "    lb_stat  lb_pvalue\n",
       "12  0.05655        1.0"
      ]
     },
     "metadata": {},
     "output_type": "display_data"
    },
    {
     "data": {
      "text/markdown": [
       "\n",
       "The p-value for the Ljung-Box test is 1.0000, which is greater than $\\alpha=0.05$, \n",
       "so we failed to reject the null hypothesis that the residuals are uncorrelated. \n"
      ],
      "text/plain": [
       "<IPython.core.display.Markdown object>"
      ]
     },
     "execution_count": 56,
     "metadata": {},
     "output_type": "execute_result"
    }
   ],
   "source": [
    "# 2. Perform model checking using Q(12) for residuals.\n",
    "Q12 = acorr_ljungbox(mortg_mod.resid, model_df=mortg_mod.df_model-1,lags=[12], return_df=True)\n",
    "display(Q12)\n",
    "Markdown(rf\"\"\"\n",
    "The p-value for the Ljung-Box test is {Q12.lb_pvalue.item():.4f}, which is greater than $\\alpha=0.05$, \n",
    "so we failed to reject the null hypothesis that the residuals are uncorrelated. \n",
    "\"\"\")"
   ]
  },
  {
   "cell_type": "code",
   "execution_count": 8,
   "metadata": {},
   "outputs": [
    {
     "data": {
      "image/png": "[encoded data removed]",
      "text/plain": [
       "<Figure size 500x300 with 1 Axes>"
      ]
     },
     "metadata": {},
     "output_type": "display_data"
    }
   ],
   "source": [
    "tsaplots.plot_acf(mortg_mod.resid,lags=12)\n",
    "plt.grid(True)\n",
    "plt.show()"
   ]
  },
  {
   "cell_type": "code",
   "execution_count": 44,
   "metadata": {},
   "outputs": [
    {
     "data": {
      "text/plain": [
       "-0.000714260353130526"
      ]
     },
     "execution_count": 44,
     "metadata": {},
     "output_type": "execute_result"
    }
   ],
   "source": [
    "# 3. Write down the fitted model. \n",
    "mu = np.diff(mortg_mod.data.endog,n=1).mean()\n",
    "intercept = mortg_mod.polynomial_ar.sum()*mu\n",
    "intercept"
   ]
  },
  {
   "attachments": {},
   "cell_type": "markdown",
   "metadata": {},
   "source": [
    "#### (3) Write down the fitted model. \n",
    "\n",
    "**ARIMA(3,1,0)**:\n",
    "\n",
    "$$\n",
    "(1-0.53232078B+0.34909144B^2-0.0893832B^3)(1-B)r_t=-0.000714260353130526+a_t,\\quad \\hat{\\sigma_a^2}=0.0007\n",
    "$$"
   ]
  },
  {
   "cell_type": "code",
   "execution_count": 9,
   "metadata": {},
   "outputs": [
    {
     "data": {
      "image/png": "[encoded data removed]",
      "text/plain": [
       "<Figure size 500x300 with 1 Axes>"
      ]
     },
     "metadata": {},
     "output_type": "display_data"
    }
   ],
   "source": [
    "plt.plot(mortg.log_rate,label=\"data\")\n",
    "plt.plot(mortg_mod.fittedvalues,label=\"fitted\")\n",
    "plt.grid(True)\n",
    "plt.legend()\n",
    "plt.show()"
   ]
  },
  {
   "cell_type": "code",
   "execution_count": 10,
   "metadata": {},
   "outputs": [
    {
     "data": {
      "text/plain": [
       "2007-04-01    1.804210\n",
       "2007-05-01    1.805119\n",
       "2007-06-01    1.808577\n",
       "2007-07-01    1.808861\n",
       "Freq: MS, Name: predicted_mean, dtype: float64"
      ]
     },
     "execution_count": 10,
     "metadata": {},
     "output_type": "execute_result"
    }
   ],
   "source": [
    "# 4. Use the fitted model to produce 1-step to 4-step ahead forecasts at the forecast origin March, 2007. \n",
    "mortg_mod.forecast(steps=4)"
   ]
  },
  {
   "attachments": {},
   "cell_type": "markdown",
   "metadata": {},
   "source": [
    "## 2.Recall the monthly simple returns of the Decile 1 portfolio from January 1980 to December 2006. \n",
    "\n",
    "1. Use seasonal model to analyze the Deceile 1 returns. The model is a multiplicative seasonal model as ARIMA(0,0,1)(1,0,1) with period 12. \n",
    "2. Perform model checking on the fitted model, e.g., compute Q(24) of the residuals. Is the model adequate? (all tests are based on the 5% significance level)\n",
    "3. Write down the fitted model. "
   ]
  },
  {
   "cell_type": "code",
   "execution_count": 11,
   "metadata": {},
   "outputs": [
    {
     "data": {
      "text/html": [
       "<div>\n",
       "<style scoped>\n",
       "    .dataframe tbody tr th:only-of-type {\n",
       "        vertical-align: middle;\n",
       "    }\n",
       "\n",
       "    .dataframe tbody tr th {\n",
       "        vertical-align: top;\n",
       "    }\n",
       "\n",
       "    .dataframe thead th {\n",
       "        text-align: right;\n",
       "    }\n",
       "</style>\n",
       "<table border=\"1\" class=\"dataframe\">\n",
       "  <thead>\n",
       "    <tr style=\"text-align: right;\">\n",
       "      <th></th>\n",
       "      <th>return</th>\n",
       "    </tr>\n",
       "    <tr>\n",
       "      <th>date</th>\n",
       "      <th></th>\n",
       "    </tr>\n",
       "  </thead>\n",
       "  <tbody>\n",
       "    <tr>\n",
       "      <th>1980-01-31</th>\n",
       "      <td>0.18668</td>\n",
       "    </tr>\n",
       "    <tr>\n",
       "      <th>1980-02-29</th>\n",
       "      <td>0.02908</td>\n",
       "    </tr>\n",
       "    <tr>\n",
       "      <th>1980-03-31</th>\n",
       "      <td>-0.16778</td>\n",
       "    </tr>\n",
       "    <tr>\n",
       "      <th>1980-04-30</th>\n",
       "      <td>0.00772</td>\n",
       "    </tr>\n",
       "    <tr>\n",
       "      <th>1980-05-30</th>\n",
       "      <td>0.04802</td>\n",
       "    </tr>\n",
       "    <tr>\n",
       "      <th>...</th>\n",
       "      <td>...</td>\n",
       "    </tr>\n",
       "    <tr>\n",
       "      <th>2006-08-31</th>\n",
       "      <td>-0.00685</td>\n",
       "    </tr>\n",
       "    <tr>\n",
       "      <th>2006-09-29</th>\n",
       "      <td>0.00628</td>\n",
       "    </tr>\n",
       "    <tr>\n",
       "      <th>2006-10-31</th>\n",
       "      <td>0.03864</td>\n",
       "    </tr>\n",
       "    <tr>\n",
       "      <th>2006-11-30</th>\n",
       "      <td>0.03859</td>\n",
       "    </tr>\n",
       "    <tr>\n",
       "      <th>2006-12-29</th>\n",
       "      <td>0.01514</td>\n",
       "    </tr>\n",
       "  </tbody>\n",
       "</table>\n",
       "<p>324 rows × 1 columns</p>\n",
       "</div>"
      ],
      "text/plain": [
       "             return\n",
       "date               \n",
       "1980-01-31  0.18668\n",
       "1980-02-29  0.02908\n",
       "1980-03-31 -0.16778\n",
       "1980-04-30  0.00772\n",
       "1980-05-30  0.04802\n",
       "...             ...\n",
       "2006-08-31 -0.00685\n",
       "2006-09-29  0.00628\n",
       "2006-10-31  0.03864\n",
       "2006-11-30  0.03859\n",
       "2006-12-29  0.01514\n",
       "\n",
       "[324 rows x 1 columns]"
      ]
     },
     "execution_count": 11,
     "metadata": {},
     "output_type": "execute_result"
    }
   ],
   "source": [
    "dec1 = pd.read_csv(\"data/m-dec1-8006.csv\", index_col=0, parse_dates=True,\n",
    "                   date_parser=lambda x: pd.to_datetime(x, format=\"%Y%m%d\"))\n",
    "dec1"
   ]
  },
  {
   "cell_type": "code",
   "execution_count": 12,
   "metadata": {},
   "outputs": [
    {
     "data": {
      "text/html": [
       "<table class=\"simpletable\">\n",
       "<caption>SARIMAX Results</caption>\n",
       "<tr>\n",
       "  <th>Dep. Variable:</th>              <td>return</td>            <th>  No. Observations:  </th>    <td>324</td>  \n",
       "</tr>\n",
       "<tr>\n",
       "  <th>Model:</th>           <td>ARIMA(0, 0, 1)x(1, 0, 1, 12)</td> <th>  Log Likelihood     </th>  <td>420.447</td>\n",
       "</tr>\n",
       "<tr>\n",
       "  <th>Date:</th>                  <td>Sat, 25 Mar 2023</td>       <th>  AIC                </th> <td>-830.894</td>\n",
       "</tr>\n",
       "<tr>\n",
       "  <th>Time:</th>                      <td>12:09:51</td>           <th>  BIC                </th> <td>-811.990</td>\n",
       "</tr>\n",
       "<tr>\n",
       "  <th>Sample:</th>                        <td>0</td>              <th>  HQIC               </th> <td>-823.348</td>\n",
       "</tr>\n",
       "<tr>\n",
       "  <th></th>                            <td> - 324</td>            <th>                     </th>     <td> </td>   \n",
       "</tr>\n",
       "<tr>\n",
       "  <th>Covariance Type:</th>              <td>opg</td>             <th>                     </th>     <td> </td>   \n",
       "</tr>\n",
       "</table>\n",
       "<table class=\"simpletable\">\n",
       "<tr>\n",
       "      <td></td>        <th>coef</th>     <th>std err</th>      <th>z</th>      <th>P>|z|</th>  <th>[0.025</th>    <th>0.975]</th>  \n",
       "</tr>\n",
       "<tr>\n",
       "  <th>const</th>    <td>    0.0183</td> <td>    0.014</td> <td>    1.313</td> <td> 0.189</td> <td>   -0.009</td> <td>    0.046</td>\n",
       "</tr>\n",
       "<tr>\n",
       "  <th>ma.L1</th>    <td>    0.2438</td> <td>    0.035</td> <td>    7.011</td> <td> 0.000</td> <td>    0.176</td> <td>    0.312</td>\n",
       "</tr>\n",
       "<tr>\n",
       "  <th>ar.S.L12</th> <td>    0.9998</td> <td>    0.014</td> <td>   74.032</td> <td> 0.000</td> <td>    0.973</td> <td>    1.026</td>\n",
       "</tr>\n",
       "<tr>\n",
       "  <th>ma.S.L12</th> <td>   -0.9888</td> <td>    0.363</td> <td>   -2.724</td> <td> 0.006</td> <td>   -1.700</td> <td>   -0.277</td>\n",
       "</tr>\n",
       "<tr>\n",
       "  <th>sigma2</th>   <td>    0.0041</td> <td>    0.001</td> <td>    3.147</td> <td> 0.002</td> <td>    0.002</td> <td>    0.007</td>\n",
       "</tr>\n",
       "</table>\n",
       "<table class=\"simpletable\">\n",
       "<tr>\n",
       "  <th>Ljung-Box (L1) (Q):</th>     <td>0.02</td> <th>  Jarque-Bera (JB):  </th> <td>1105.75</td>\n",
       "</tr>\n",
       "<tr>\n",
       "  <th>Prob(Q):</th>                <td>0.89</td> <th>  Prob(JB):          </th>  <td>0.00</td>  \n",
       "</tr>\n",
       "<tr>\n",
       "  <th>Heteroskedasticity (H):</th> <td>1.93</td> <th>  Skew:              </th>  <td>0.72</td>  \n",
       "</tr>\n",
       "<tr>\n",
       "  <th>Prob(H) (two-sided):</th>    <td>0.00</td> <th>  Kurtosis:          </th>  <td>11.94</td> \n",
       "</tr>\n",
       "</table><br/><br/>Warnings:<br/>[1] Covariance matrix calculated using the outer product of gradients (complex-step)."
      ],
      "text/plain": [
       "<class 'statsmodels.iolib.summary.Summary'>\n",
       "\"\"\"\n",
       "                                    SARIMAX Results                                     \n",
       "========================================================================================\n",
       "Dep. Variable:                           return   No. Observations:                  324\n",
       "Model:             ARIMA(0, 0, 1)x(1, 0, 1, 12)   Log Likelihood                 420.447\n",
       "Date:                          Sat, 25 Mar 2023   AIC                           -830.894\n",
       "Time:                                  12:09:51   BIC                           -811.990\n",
       "Sample:                                       0   HQIC                          -823.348\n",
       "                                          - 324                                         \n",
       "Covariance Type:                            opg                                         \n",
       "==============================================================================\n",
       "                 coef    std err          z      P>|z|      [0.025      0.975]\n",
       "------------------------------------------------------------------------------\n",
       "const          0.0183      0.014      1.313      0.189      -0.009       0.046\n",
       "ma.L1          0.2438      0.035      7.011      0.000       0.176       0.312\n",
       "ar.S.L12       0.9998      0.014     74.032      0.000       0.973       1.026\n",
       "ma.S.L12      -0.9888      0.363     -2.724      0.006      -1.700      -0.277\n",
       "sigma2         0.0041      0.001      3.147      0.002       0.002       0.007\n",
       "===================================================================================\n",
       "Ljung-Box (L1) (Q):                   0.02   Jarque-Bera (JB):              1105.75\n",
       "Prob(Q):                              0.89   Prob(JB):                         0.00\n",
       "Heteroskedasticity (H):               1.93   Skew:                             0.72\n",
       "Prob(H) (two-sided):                  0.00   Kurtosis:                        11.94\n",
       "===================================================================================\n",
       "\n",
       "Warnings:\n",
       "[1] Covariance matrix calculated using the outer product of gradients (complex-step).\n",
       "\"\"\""
      ]
     },
     "execution_count": 12,
     "metadata": {},
     "output_type": "execute_result"
    }
   ],
   "source": [
    "# 1. build ARIMA(0,0,1)(1,0,1) with period 12.\n",
    "dec1_mod = ARIMA(dec1['return'], order=(0,0,1), seasonal_order=(1,0,1,12)).fit()\n",
    "dec1_mod.summary()"
   ]
  },
  {
   "cell_type": "code",
   "execution_count": 13,
   "metadata": {},
   "outputs": [
    {
     "data": {
      "image/png": "[encoded data removed]",
      "text/plain": [
       "<Figure size 500x300 with 2 Axes>"
      ]
     },
     "metadata": {},
     "output_type": "display_data"
    }
   ],
   "source": [
    "plot_acf_pacf(dec1['return'],lags=12)"
   ]
  },
  {
   "cell_type": "code",
   "execution_count": 57,
   "metadata": {},
   "outputs": [
    {
     "data": {
      "text/html": [
       "<div>\n",
       "<style scoped>\n",
       "    .dataframe tbody tr th:only-of-type {\n",
       "        vertical-align: middle;\n",
       "    }\n",
       "\n",
       "    .dataframe tbody tr th {\n",
       "        vertical-align: top;\n",
       "    }\n",
       "\n",
       "    .dataframe thead th {\n",
       "        text-align: right;\n",
       "    }\n",
       "</style>\n",
       "<table border=\"1\" class=\"dataframe\">\n",
       "  <thead>\n",
       "    <tr style=\"text-align: right;\">\n",
       "      <th></th>\n",
       "      <th>lb_stat</th>\n",
       "      <th>lb_pvalue</th>\n",
       "    </tr>\n",
       "  </thead>\n",
       "  <tbody>\n",
       "    <tr>\n",
       "      <th>24</th>\n",
       "      <td>23.332411</td>\n",
       "      <td>0.326514</td>\n",
       "    </tr>\n",
       "  </tbody>\n",
       "</table>\n",
       "</div>"
      ],
      "text/plain": [
       "      lb_stat  lb_pvalue\n",
       "24  23.332411   0.326514"
      ]
     },
     "metadata": {},
     "output_type": "display_data"
    },
    {
     "data": {
      "text/markdown": [
       "\n",
       "The p-value for the Ljung-Box test is 0.3265, which is bigger than $\\alpha=0.05$, so we fail to reject the null hypothesis that the residuals are uncorrelated.\n",
       "Then this test result indicates that the model is adequate.\n"
      ],
      "text/plain": [
       "<IPython.core.display.Markdown object>"
      ]
     },
     "execution_count": 57,
     "metadata": {},
     "output_type": "execute_result"
    }
   ],
   "source": [
    "# 2. Perform model checking on the fitted model, e.g., compute Q(24) of the residuals.\n",
    "Q24 = acorr_ljungbox(dec1_mod.resid, model_df=dec1_mod.df_model-2, lags=[24], return_df=True)\n",
    "display(Q24)\n",
    "Markdown(rf\"\"\"\n",
    "The p-value for the Ljung-Box test is {Q24.lb_pvalue.item():.4f}, which is bigger than $\\alpha=0.05$, so we fail to reject the null hypothesis that the residuals are uncorrelated.\n",
    "Then this test result indicates that the model is adequate.\n",
    "\"\"\")"
   ]
  },
  {
   "cell_type": "code",
   "execution_count": 15,
   "metadata": {},
   "outputs": [
    {
     "data": {
      "image/png": "[encoded data removed]",
      "text/plain": [
       "<Figure size 500x300 with 1 Axes>"
      ]
     },
     "metadata": {},
     "output_type": "display_data"
    }
   ],
   "source": [
    "tsaplots.plot_acf(dec1_mod.resid,lags=12)\n",
    "plt.grid(True)\n",
    "plt.show()"
   ]
  },
  {
   "attachments": {},
   "cell_type": "markdown",
   "metadata": {},
   "source": [
    "From above plot, we can see the model fits not well. Thus, we claim this model isn't adequate."
   ]
  },
  {
   "cell_type": "code",
   "execution_count": 48,
   "metadata": {},
   "outputs": [
    {
     "data": {
      "text/plain": [
       "3.7154408770671947e-06"
      ]
     },
     "execution_count": 48,
     "metadata": {},
     "output_type": "execute_result"
    }
   ],
   "source": [
    "### (3) Write down the fitted model.\n",
    "mu = dec1_mod.data.endog.mean()\n",
    "intercept = dec1_mod.polynomial_seasonal_ar.sum()*mu\n",
    "intercept"
   ]
  },
  {
   "attachments": {},
   "cell_type": "markdown",
   "metadata": {},
   "source": [
    "#### (3) Write down the fitted model.\n",
    "\n",
    "**SARIMA(1,0,0)x(1,0,1,12)**:\n",
    "\n",
    "$$\n",
    "(1-0.9998B^{12})r_t=3.7154e-6+(1-0.2438B)(1+0.9888B^{12})a_t,\\quad\\hat{\\sigma_a}^2=0.0041\n",
    "$$"
   ]
  },
  {
   "cell_type": "code",
   "execution_count": 16,
   "metadata": {},
   "outputs": [
    {
     "data": {
      "image/png": "[encoded data removed]",
      "text/plain": [
       "<Figure size 500x300 with 1 Axes>"
      ]
     },
     "metadata": {},
     "output_type": "display_data"
    }
   ],
   "source": [
    "plt.plot(dec1.index, dec1['return'], label=\"data\")\n",
    "plt.plot(dec1.index, dec1_mod.fittedvalues, label=\"fitted\")\n",
    "plt.grid(True)\n",
    "plt.legend()\n",
    "plt.show()"
   ]
  },
  {
   "attachments": {},
   "cell_type": "markdown",
   "metadata": {},
   "source": [
    "# 3. Consider the quarterly earnings per share of the Alcoa stock \n",
    "\n",
    "from the 4th quarter of 1991 to the most recent quarter. Note that some earnings are negative. \n",
    "1. Build a model for the earning series. \n",
    "2. Perform model checking to ensure that the model is adequate using Q(12) of the residuals. \n",
    "3. Use the model to produce 1-step to 4-step ahead forecasts. (all tests are based on the 5% significance level)"
   ]
  },
  {
   "cell_type": "code",
   "execution_count": 17,
   "metadata": {},
   "outputs": [
    {
     "data": {
      "text/html": [
       "<div>\n",
       "<style scoped>\n",
       "    .dataframe tbody tr th:only-of-type {\n",
       "        vertical-align: middle;\n",
       "    }\n",
       "\n",
       "    .dataframe tbody tr th {\n",
       "        vertical-align: top;\n",
       "    }\n",
       "\n",
       "    .dataframe thead th {\n",
       "        text-align: right;\n",
       "    }\n",
       "</style>\n",
       "<table border=\"1\" class=\"dataframe\">\n",
       "  <thead>\n",
       "    <tr style=\"text-align: right;\">\n",
       "      <th></th>\n",
       "      <th>earning</th>\n",
       "    </tr>\n",
       "    <tr>\n",
       "      <th>date</th>\n",
       "      <th></th>\n",
       "    </tr>\n",
       "  </thead>\n",
       "  <tbody>\n",
       "    <tr>\n",
       "      <th>1991-11-05</th>\n",
       "      <td>0.15</td>\n",
       "    </tr>\n",
       "    <tr>\n",
       "      <th>1992-01-16</th>\n",
       "      <td>-0.29</td>\n",
       "    </tr>\n",
       "    <tr>\n",
       "      <th>1992-04-10</th>\n",
       "      <td>0.08</td>\n",
       "    </tr>\n",
       "    <tr>\n",
       "      <th>1992-07-14</th>\n",
       "      <td>0.06</td>\n",
       "    </tr>\n",
       "    <tr>\n",
       "      <th>1992-10-12</th>\n",
       "      <td>0.07</td>\n",
       "    </tr>\n",
       "    <tr>\n",
       "      <th>...</th>\n",
       "      <td>...</td>\n",
       "    </tr>\n",
       "    <tr>\n",
       "      <th>2005-10-10</th>\n",
       "      <td>0.33</td>\n",
       "    </tr>\n",
       "    <tr>\n",
       "      <th>2006-01-09</th>\n",
       "      <td>0.35</td>\n",
       "    </tr>\n",
       "    <tr>\n",
       "      <th>2006-04-10</th>\n",
       "      <td>0.70</td>\n",
       "    </tr>\n",
       "    <tr>\n",
       "      <th>2006-07-10</th>\n",
       "      <td>0.90</td>\n",
       "    </tr>\n",
       "    <tr>\n",
       "      <th>2006-10-10</th>\n",
       "      <td>0.62</td>\n",
       "    </tr>\n",
       "  </tbody>\n",
       "</table>\n",
       "<p>61 rows × 1 columns</p>\n",
       "</div>"
      ],
      "text/plain": [
       "            earning\n",
       "date               \n",
       "1991-11-05     0.15\n",
       "1992-01-16    -0.29\n",
       "1992-04-10     0.08\n",
       "1992-07-14     0.06\n",
       "1992-10-12     0.07\n",
       "...             ...\n",
       "2005-10-10     0.33\n",
       "2006-01-09     0.35\n",
       "2006-04-10     0.70\n",
       "2006-07-10     0.90\n",
       "2006-10-10     0.62\n",
       "\n",
       "[61 rows x 1 columns]"
      ]
     },
     "execution_count": 17,
     "metadata": {},
     "output_type": "execute_result"
    }
   ],
   "source": [
    "qaaearn = pd.read_csv(\"data/q-aa-earn.csv\", index_col=0, parse_dates=True,\n",
    "                      date_parser=lambda x: pd.to_datetime(x, format=\"%d/%m/%Y\"))\n",
    "qaaearn"
   ]
  },
  {
   "cell_type": "code",
   "execution_count": 18,
   "metadata": {},
   "outputs": [
    {
     "data": {
      "image/png": "[encoded data removed]",
      "text/plain": [
       "<Figure size 500x300 with 2 Axes>"
      ]
     },
     "metadata": {},
     "output_type": "display_data"
    }
   ],
   "source": [
    "plot_acf_pacf(qaaearn[\"earning\"],lags=12)"
   ]
  },
  {
   "cell_type": "code",
   "execution_count": 19,
   "metadata": {},
   "outputs": [
    {
     "name": "stdout",
     "output_type": "stream",
     "text": [
      "current selection: ARIMA(0, 0, 0)x(0, 0, 0, 4), AIC=-23.91\n",
      "current selection: ARIMA(0, 0, 0)x(0, 0, 1, 4), AIC=-46.97\n",
      "current selection: ARIMA(0, 0, 0)x(0, 0, 2, 4), AIC=-48.01\n",
      "current selection: ARIMA(0, 0, 0)x(0, 1, 0, 4), AIC=-57.46\n",
      "current selection: ARIMA(0, 0, 1)x(0, 0, 0, 4), AIC=-57.54\n",
      "current selection: ARIMA(0, 0, 1)x(0, 0, 1, 4), AIC=-77.23\n",
      "current selection: ARIMA(0, 0, 1)x(0, 0, 2, 4), AIC=-79.56\n",
      "current selection: ARIMA(0, 0, 1)x(0, 1, 0, 4), AIC=-82.05\n",
      "current selection: ARIMA(0, 0, 1)x(1, 0, 0, 4), AIC=-83.59\n",
      "current selection: ARIMA(0, 0, 2)x(0, 0, 1, 4), AIC=-87.86\n",
      "current selection: ARIMA(0, 0, 2)x(0, 0, 2, 4), AIC=-90.54\n",
      "current selection: ARIMA(0, 0, 2)x(0, 1, 0, 4), AIC=-91.37\n",
      "current selection: ARIMA(0, 0, 2)x(1, 0, 0, 4), AIC=-94.34\n",
      "current selection: ARIMA(1, 0, 0)x(1, 0, 0, 4), AIC=-95.64\n"
     ]
    },
    {
     "data": {
      "text/html": [
       "<table class=\"simpletable\">\n",
       "<caption>SARIMAX Results</caption>\n",
       "<tr>\n",
       "  <th>Dep. Variable:</th>             <td>earning</td>           <th>  No. Observations:  </th>   <td>61</td>   \n",
       "</tr>\n",
       "<tr>\n",
       "  <th>Model:</th>           <td>ARIMA(1, 0, 0)x(1, 0, 0, 4)</td> <th>  Log Likelihood     </th> <td>51.819</td> \n",
       "</tr>\n",
       "<tr>\n",
       "  <th>Date:</th>                 <td>Sat, 25 Mar 2023</td>       <th>  AIC                </th> <td>-95.639</td>\n",
       "</tr>\n",
       "<tr>\n",
       "  <th>Time:</th>                     <td>12:12:04</td>           <th>  BIC                </th> <td>-87.195</td>\n",
       "</tr>\n",
       "<tr>\n",
       "  <th>Sample:</th>                       <td>0</td>              <th>  HQIC               </th> <td>-92.329</td>\n",
       "</tr>\n",
       "<tr>\n",
       "  <th></th>                            <td> - 61</td>            <th>                     </th>    <td> </td>   \n",
       "</tr>\n",
       "<tr>\n",
       "  <th>Covariance Type:</th>             <td>opg</td>             <th>                     </th>    <td> </td>   \n",
       "</tr>\n",
       "</table>\n",
       "<table class=\"simpletable\">\n",
       "<tr>\n",
       "     <td></td>        <th>coef</th>     <th>std err</th>      <th>z</th>      <th>P>|z|</th>  <th>[0.025</th>    <th>0.975]</th>  \n",
       "</tr>\n",
       "<tr>\n",
       "  <th>const</th>   <td>    0.3204</td> <td>    0.143</td> <td>    2.246</td> <td> 0.025</td> <td>    0.041</td> <td>    0.600</td>\n",
       "</tr>\n",
       "<tr>\n",
       "  <th>ar.L1</th>   <td>    0.7206</td> <td>    0.095</td> <td>    7.595</td> <td> 0.000</td> <td>    0.535</td> <td>    0.907</td>\n",
       "</tr>\n",
       "<tr>\n",
       "  <th>ar.S.L4</th> <td>    0.6993</td> <td>    0.082</td> <td>    8.533</td> <td> 0.000</td> <td>    0.539</td> <td>    0.860</td>\n",
       "</tr>\n",
       "<tr>\n",
       "  <th>sigma2</th>  <td>    0.0101</td> <td>    0.001</td> <td>    8.513</td> <td> 0.000</td> <td>    0.008</td> <td>    0.012</td>\n",
       "</tr>\n",
       "</table>\n",
       "<table class=\"simpletable\">\n",
       "<tr>\n",
       "  <th>Ljung-Box (L1) (Q):</th>     <td>0.41</td> <th>  Jarque-Bera (JB):  </th> <td>54.12</td>\n",
       "</tr>\n",
       "<tr>\n",
       "  <th>Prob(Q):</th>                <td>0.52</td> <th>  Prob(JB):          </th> <td>0.00</td> \n",
       "</tr>\n",
       "<tr>\n",
       "  <th>Heteroskedasticity (H):</th> <td>1.65</td> <th>  Skew:              </th> <td>-0.42</td>\n",
       "</tr>\n",
       "<tr>\n",
       "  <th>Prob(H) (two-sided):</th>    <td>0.27</td> <th>  Kurtosis:          </th> <td>7.54</td> \n",
       "</tr>\n",
       "</table><br/><br/>Warnings:<br/>[1] Covariance matrix calculated using the outer product of gradients (complex-step)."
      ],
      "text/plain": [
       "<class 'statsmodels.iolib.summary.Summary'>\n",
       "\"\"\"\n",
       "                                    SARIMAX Results                                    \n",
       "=======================================================================================\n",
       "Dep. Variable:                         earning   No. Observations:                   61\n",
       "Model:             ARIMA(1, 0, 0)x(1, 0, 0, 4)   Log Likelihood                  51.819\n",
       "Date:                         Sat, 25 Mar 2023   AIC                            -95.639\n",
       "Time:                                 12:12:04   BIC                            -87.195\n",
       "Sample:                                      0   HQIC                           -92.329\n",
       "                                          - 61                                         \n",
       "Covariance Type:                           opg                                         \n",
       "==============================================================================\n",
       "                 coef    std err          z      P>|z|      [0.025      0.975]\n",
       "------------------------------------------------------------------------------\n",
       "const          0.3204      0.143      2.246      0.025       0.041       0.600\n",
       "ar.L1          0.7206      0.095      7.595      0.000       0.535       0.907\n",
       "ar.S.L4        0.6993      0.082      8.533      0.000       0.539       0.860\n",
       "sigma2         0.0101      0.001      8.513      0.000       0.008       0.012\n",
       "===================================================================================\n",
       "Ljung-Box (L1) (Q):                   0.41   Jarque-Bera (JB):                54.12\n",
       "Prob(Q):                              0.52   Prob(JB):                         0.00\n",
       "Heteroskedasticity (H):               1.65   Skew:                            -0.42\n",
       "Prob(H) (two-sided):                  0.27   Kurtosis:                         7.54\n",
       "===================================================================================\n",
       "\n",
       "Warnings:\n",
       "[1] Covariance matrix calculated using the outer product of gradients (complex-step).\n",
       "\"\"\""
      ]
     },
     "execution_count": 19,
     "metadata": {},
     "output_type": "execute_result"
    }
   ],
   "source": [
    "qs = range(3)\n",
    "ps = range(2)\n",
    "ds = range(2)\n",
    "ss = [4,6,12]\n",
    "best_aic = np.inf\n",
    "for (p,d,q),(P,D,Q,s) in product(product(ps,ds,qs),product(ps,ds,qs,ss)):\n",
    "    try:\n",
    "        mod = ARIMA(qaaearn.earning, order=(p,d,q), seasonal_order=(P,D,Q,s)).fit()\n",
    "        if mod.aic < best_aic:\n",
    "            best_aic = mod.aic\n",
    "            best_mod = mod\n",
    "            print(f\"current selection: ARIMA{(p,d,q)}x{(P,D,Q,s)}, AIC={best_aic:.2f}\") \n",
    "    except:\n",
    "        continue\n",
    "\n",
    "earn_mod = best_mod\n",
    "earn_mod.summary()"
   ]
  },
  {
   "cell_type": "code",
   "execution_count": 55,
   "metadata": {},
   "outputs": [
    {
     "data": {
      "text/html": [
       "<div>\n",
       "<style scoped>\n",
       "    .dataframe tbody tr th:only-of-type {\n",
       "        vertical-align: middle;\n",
       "    }\n",
       "\n",
       "    .dataframe tbody tr th {\n",
       "        vertical-align: top;\n",
       "    }\n",
       "\n",
       "    .dataframe thead th {\n",
       "        text-align: right;\n",
       "    }\n",
       "</style>\n",
       "<table border=\"1\" class=\"dataframe\">\n",
       "  <thead>\n",
       "    <tr style=\"text-align: right;\">\n",
       "      <th></th>\n",
       "      <th>lb_stat</th>\n",
       "      <th>lb_pvalue</th>\n",
       "    </tr>\n",
       "  </thead>\n",
       "  <tbody>\n",
       "    <tr>\n",
       "      <th>12</th>\n",
       "      <td>4.903769</td>\n",
       "      <td>0.897513</td>\n",
       "    </tr>\n",
       "  </tbody>\n",
       "</table>\n",
       "</div>"
      ],
      "text/plain": [
       "     lb_stat  lb_pvalue\n",
       "12  4.903769   0.897513"
      ]
     },
     "metadata": {},
     "output_type": "display_data"
    },
    {
     "data": {
      "text/markdown": [
       "\n",
       "The p-value for the Ljung-Box test is 0.8975, which is bigger than $\\alpha=0.05$, so we fail to reject the null hypothesis that the residuals are uncorrelated.\n",
       "Then this test result indicates that the model is adequate.\n"
      ],
      "text/plain": [
       "<IPython.core.display.Markdown object>"
      ]
     },
     "execution_count": 55,
     "metadata": {},
     "output_type": "execute_result"
    }
   ],
   "source": [
    "Q12 = acorr_ljungbox(earn_mod.resid, model_df=earn_mod.df_model-2,lags=[12], return_df=True)\n",
    "display(Q12)\n",
    "Markdown(rf\"\"\"\n",
    "The p-value for the Ljung-Box test is {Q12.lb_pvalue.item():.4f}, which is bigger than $\\alpha=0.05$, so we fail to reject the null hypothesis that the residuals are uncorrelated.\n",
    "Then this test result indicates that the model is adequate.\n",
    "\"\"\")"
   ]
  },
  {
   "cell_type": "code",
   "execution_count": 21,
   "metadata": {},
   "outputs": [
    {
     "data": {
      "image/png": "[encoded data removed]",
      "text/plain": [
       "<Figure size 500x300 with 1 Axes>"
      ]
     },
     "metadata": {},
     "output_type": "display_data"
    }
   ],
   "source": [
    "plt.plot(qaaearn.earning,label=\"data\")\n",
    "plt.plot(earn_mod.predict(),label=\"fitted\")\n",
    "plt.grid(True)\n",
    "plt.legend()\n",
    "plt.show()"
   ]
  },
  {
   "cell_type": "code",
   "execution_count": 22,
   "metadata": {},
   "outputs": [
    {
     "data": {
      "text/plain": [
       "61    0.552168\n",
       "62    0.737951\n",
       "63    0.835315\n",
       "64    0.608900\n",
       "Name: predicted_mean, dtype: float64"
      ]
     },
     "execution_count": 22,
     "metadata": {},
     "output_type": "execute_result"
    }
   ],
   "source": [
    "# forecast 1-step to 4-step ahead\n",
    "earn_mod.forecast(steps=4)"
   ]
  }
 ],
 "metadata": {
  "kernelspec": {
   "display_name": "Python 3",
   "language": "python",
   "name": "python3"
  },
  "language_info": {
   "codemirror_mode": {
    "name": "ipython",
    "version": 3
   },
   "file_extension": ".py",
   "mimetype": "text/x-python",
   "name": "python",
   "nbconvert_exporter": "python",
   "pygments_lexer": "ipython3",
   "version": "3.9.6"
  },
  "orig_nbformat": 4,
  "vscode": {
   "interpreter": {
    "hash": "31f2aee4e71d21fbe5cf8b01ff0e069b9275f58929596ceb00d14d90e3e16cd6"
   }
  }
 },
 "nbformat": 4,
 "nbformat_minor": 2
}
