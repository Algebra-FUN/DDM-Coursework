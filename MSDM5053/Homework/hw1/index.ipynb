{
 "cells": [
  {
   "attachments": {},
   "cell_type": "markdown",
   "metadata": {},
   "source": [
    "# Assignment 1"
   ]
  },
  {
   "cell_type": "code",
   "execution_count": 1,
   "metadata": {
    "tags": []
   },
   "outputs": [],
   "source": [
    "import pandas as pd\n",
    "import numpy as np\n",
    "from matplotlib import pyplot as plt\n",
    "from IPython.display import Markdown\n",
    "import statsmodels.tsa.api as tsa\n",
    "from statsmodels.stats.diagnostic import acorr_ljungbox\n",
    "from statsmodels.graphics import tsaplots\n",
    "from statsmodels.tsa.arima.model import ARIMA\n",
    "import warnings\n",
    "\n",
    "warnings.filterwarnings(\"ignore\")"
   ]
  },
  {
   "cell_type": "code",
   "execution_count": 2,
   "metadata": {},
   "outputs": [
    {
     "data": {
      "image/png": "[encoded data removed]",
      "text/plain": [
       "<Figure size 640x480 with 1 Axes>"
      ]
     },
     "metadata": {},
     "output_type": "display_data"
    }
   ],
   "source": [
    "import qrcode\n",
    "url = \"https://algebra-fun.github.io/DDM-Coursework/MSDM5053/Homework/hw1/\"\n",
    "plt.imshow(qrcode.make(url), cmap='gray')\n",
    "plt.title(\"Scan this qrcode to view this homework on web!\")\n",
    "plt.show()"
   ]
  },
  {
   "attachments": {},
   "cell_type": "markdown",
   "metadata": {},
   "source": [
    "**You can view by scanning the qrcode to see the colorful html version on web!**"
   ]
  },
  {
   "attachments": {},
   "cell_type": "markdown",
   "metadata": {},
   "source": [
    "## 1. Consider the monthly simple returns \n",
    "\n",
    "of the CRSP Decile 1 and 9 portfolios from January 1970 to December 2006. \n",
    "\n",
    "The portfolios consist of NYSE/AMEX/NASDAQ stocks based on market capitalization and rebalanced annually. See CRSP (via WRDS) for more information. The data are in m-dec19.txt with date, Decile-1 return, and Decile-9 return in three columns.\n",
    "\n",
    "### (a) Compute the first 24 lags of ACF and PACF of the simple return series of Decile 1 portfolio."
   ]
  },
  {
   "cell_type": "code",
   "execution_count": 3,
   "metadata": {
    "tags": []
   },
   "outputs": [
    {
     "data": {
      "text/html": [
       "<div>\n",
       "<style scoped>\n",
       "    .dataframe tbody tr th:only-of-type {\n",
       "        vertical-align: middle;\n",
       "    }\n",
       "\n",
       "    .dataframe tbody tr th {\n",
       "        vertical-align: top;\n",
       "    }\n",
       "\n",
       "    .dataframe thead th {\n",
       "        text-align: right;\n",
       "    }\n",
       "</style>\n",
       "<table border=\"1\" class=\"dataframe\">\n",
       "  <thead>\n",
       "    <tr style=\"text-align: right;\">\n",
       "      <th></th>\n",
       "      <th>dec1</th>\n",
       "      <th>dec9</th>\n",
       "    </tr>\n",
       "    <tr>\n",
       "      <th>date</th>\n",
       "      <th></th>\n",
       "      <th></th>\n",
       "    </tr>\n",
       "  </thead>\n",
       "  <tbody>\n",
       "    <tr>\n",
       "      <th>1970-01-30</th>\n",
       "      <td>0.05438</td>\n",
       "      <td>-0.07308</td>\n",
       "    </tr>\n",
       "    <tr>\n",
       "      <th>1970-02-27</th>\n",
       "      <td>0.02026</td>\n",
       "      <td>0.06419</td>\n",
       "    </tr>\n",
       "    <tr>\n",
       "      <th>1970-03-31</th>\n",
       "      <td>-0.03179</td>\n",
       "      <td>-0.00403</td>\n",
       "    </tr>\n",
       "    <tr>\n",
       "      <th>1970-04-30</th>\n",
       "      <td>-0.18477</td>\n",
       "      <td>-0.11582</td>\n",
       "    </tr>\n",
       "    <tr>\n",
       "      <th>1970-05-29</th>\n",
       "      <td>-0.08819</td>\n",
       "      <td>-0.08557</td>\n",
       "    </tr>\n",
       "    <tr>\n",
       "      <th>...</th>\n",
       "      <td>...</td>\n",
       "      <td>...</td>\n",
       "    </tr>\n",
       "    <tr>\n",
       "      <th>2006-08-31</th>\n",
       "      <td>-0.00685</td>\n",
       "      <td>0.02572</td>\n",
       "    </tr>\n",
       "    <tr>\n",
       "      <th>2006-09-29</th>\n",
       "      <td>0.00628</td>\n",
       "      <td>0.01112</td>\n",
       "    </tr>\n",
       "    <tr>\n",
       "      <th>2006-10-31</th>\n",
       "      <td>0.03864</td>\n",
       "      <td>0.04285</td>\n",
       "    </tr>\n",
       "    <tr>\n",
       "      <th>2006-11-30</th>\n",
       "      <td>0.03859</td>\n",
       "      <td>0.03836</td>\n",
       "    </tr>\n",
       "    <tr>\n",
       "      <th>2006-12-29</th>\n",
       "      <td>0.01514</td>\n",
       "      <td>0.00271</td>\n",
       "    </tr>\n",
       "  </tbody>\n",
       "</table>\n",
       "<p>444 rows × 2 columns</p>\n",
       "</div>"
      ],
      "text/plain": [
       "               dec1     dec9\n",
       "date                        \n",
       "1970-01-30  0.05438 -0.07308\n",
       "1970-02-27  0.02026  0.06419\n",
       "1970-03-31 -0.03179 -0.00403\n",
       "1970-04-30 -0.18477 -0.11582\n",
       "1970-05-29 -0.08819 -0.08557\n",
       "...             ...      ...\n",
       "2006-08-31 -0.00685  0.02572\n",
       "2006-09-29  0.00628  0.01112\n",
       "2006-10-31  0.03864  0.04285\n",
       "2006-11-30  0.03859  0.03836\n",
       "2006-12-29  0.01514  0.00271\n",
       "\n",
       "[444 rows x 2 columns]"
      ]
     },
     "execution_count": 3,
     "metadata": {},
     "output_type": "execute_result"
    }
   ],
   "source": [
    "mdec19 = pd.read_csv(\"data/m-dec19.csv\",index_col=\"date\")\n",
    "mdec19.index = pd.to_datetime(mdec19.index,format=\"%Y%m%d\")\n",
    "mdec19"
   ]
  },
  {
   "cell_type": "code",
   "execution_count": 4,
   "metadata": {},
   "outputs": [
    {
     "data": {
      "text/plain": [
       "date\n",
       "1970-01-30   -0.07308\n",
       "1970-02-27    0.06419\n",
       "1970-03-31   -0.00403\n",
       "1970-04-30   -0.11582\n",
       "1970-05-29   -0.08557\n",
       "               ...   \n",
       "2006-08-31    0.02572\n",
       "2006-09-29    0.01112\n",
       "2006-10-31    0.04285\n",
       "2006-11-30    0.03836\n",
       "2006-12-29    0.00271\n",
       "Name: dec9, Length: 444, dtype: float64"
      ]
     },
     "execution_count": 4,
     "metadata": {},
     "output_type": "execute_result"
    }
   ],
   "source": [
    "mdec19.dec9"
   ]
  },
  {
   "cell_type": "code",
   "execution_count": 5,
   "metadata": {},
   "outputs": [
    {
     "data": {
      "text/plain": [
       "array([ 1.        ,  0.22456128, -0.00215612, -0.07622322, -0.02973589,\n",
       "       -0.02236116, -0.05065079, -0.0503511 , -0.08492762, -0.07922587,\n",
       "       -0.00448568,  0.07566051,  0.26752714,  0.01766952, -0.05160729,\n",
       "       -0.09218498, -0.02438723, -0.04173056, -0.09113585, -0.08018132,\n",
       "       -0.05086801, -0.05762566, -0.04871422,  0.05264791,  0.24732463])"
      ]
     },
     "execution_count": 5,
     "metadata": {},
     "output_type": "execute_result"
    }
   ],
   "source": [
    "tsa.acf(mdec19.dec1,nlags=24)"
   ]
  },
  {
   "cell_type": "code",
   "execution_count": 6,
   "metadata": {},
   "outputs": [
    {
     "data": {
      "text/plain": [
       "array([ 1.        ,  0.22506819, -0.05564005, -0.06731191,  0.00318794,\n",
       "       -0.02068808, -0.05085435, -0.03236082, -0.07657688, -0.05768586,\n",
       "        0.01680366,  0.06200173,  0.24655303, -0.10950884, -0.03024777,\n",
       "       -0.05944057, -0.00383516, -0.0492873 , -0.07295287, -0.0370297 ,\n",
       "       -0.00110313, -0.05059673, -0.06483611,  0.03969557,  0.17896128])"
      ]
     },
     "execution_count": 6,
     "metadata": {},
     "output_type": "execute_result"
    }
   ],
   "source": [
    "tsa.pacf(mdec19.dec1,nlags=24)"
   ]
  },
  {
   "cell_type": "code",
   "execution_count": 7,
   "metadata": {},
   "outputs": [
    {
     "data": {
      "image/png": "[encoded data removed]",
      "text/plain": [
       "<Figure size 640x480 with 2 Axes>"
      ]
     },
     "metadata": {},
     "output_type": "display_data"
    }
   ],
   "source": [
    "fig, (ax1,ax2) = plt.subplots(1,2)\n",
    "\n",
    "tsaplots.plot_acf(mdec19.dec1,lags=24,ax=ax1)\n",
    "ax1.set_xlabel(\"lags\")\n",
    "ax1.set_ylabel(\"acf\")\n",
    "ax1.grid(\"True\")\n",
    "\n",
    "tsaplots.plot_pacf(mdec19.dec1,lags=24,ax=ax2)\n",
    "ax2.set_xlabel(\"lags\")\n",
    "ax2.set_ylabel(\"pacf\")\n",
    "ax2.grid(\"True\")\n",
    "\n",
    "fig.tight_layout()\n",
    "plt.show()"
   ]
  },
  {
   "attachments": {},
   "cell_type": "markdown",
   "metadata": {},
   "source": [
    "### (b) Test the hypothesis that the first 12 lags of ACF are zero. \n",
    "\n",
    "That is, $H_0:ρ_1 =···=ρ_{12}=0$ versus $H_1:ρ_i\\neq 0$ forsome $1≤i≤12$. Draw your conclusion.\n",
    "\n",
    "Use `Ljung-Box` Test:"
   ]
  },
  {
   "cell_type": "code",
   "execution_count": 8,
   "metadata": {},
   "outputs": [
    {
     "data": {
      "text/html": [
       "<div>\n",
       "<style scoped>\n",
       "    .dataframe tbody tr th:only-of-type {\n",
       "        vertical-align: middle;\n",
       "    }\n",
       "\n",
       "    .dataframe tbody tr th {\n",
       "        vertical-align: top;\n",
       "    }\n",
       "\n",
       "    .dataframe thead th {\n",
       "        text-align: right;\n",
       "    }\n",
       "</style>\n",
       "<table border=\"1\" class=\"dataframe\">\n",
       "  <thead>\n",
       "    <tr style=\"text-align: right;\">\n",
       "      <th></th>\n",
       "      <th>lb_stat</th>\n",
       "      <th>lb_pvalue</th>\n",
       "    </tr>\n",
       "  </thead>\n",
       "  <tbody>\n",
       "    <tr>\n",
       "      <th>12</th>\n",
       "      <td>69.652382</td>\n",
       "      <td>3.720227e-10</td>\n",
       "    </tr>\n",
       "  </tbody>\n",
       "</table>\n",
       "</div>"
      ],
      "text/plain": [
       "      lb_stat     lb_pvalue\n",
       "12  69.652382  3.720227e-10"
      ]
     },
     "execution_count": 8,
     "metadata": {},
     "output_type": "execute_result"
    }
   ],
   "source": [
    "acorr_ljungbox(mdec19.dec1,lags=[12])"
   ]
  },
  {
   "attachments": {},
   "cell_type": "markdown",
   "metadata": {},
   "source": [
    "**Conclusion:**\n",
    "\n",
    "From the result, we can see p-value is only 3.72e-10 << $\\alpha$. If we choose a $\\alpha$ equals to 0.01 or other common signficance value. \n",
    "\n",
    "Thus we can reject $H_0$ and accept $H_1$. "
   ]
  },
  {
   "attachments": {},
   "cell_type": "markdown",
   "metadata": {},
   "source": [
    "## 2. Consider the monthly simple returns of the CRSP Decile 9 portfolio in Problem 1.\n",
    "### (a) Compute the ACF of the simple returns for the first 12 lags."
   ]
  },
  {
   "cell_type": "code",
   "execution_count": 9,
   "metadata": {},
   "outputs": [
    {
     "data": {
      "text/plain": [
       "array([ 1.        ,  0.1366922 , -0.06237143, -0.03337735, -0.05910569,\n",
       "       -0.0090983 ,  0.00276946, -0.01111476, -0.07820778, -0.02708135,\n",
       "        0.04301872, -0.03555275,  0.00529402])"
      ]
     },
     "execution_count": 9,
     "metadata": {},
     "output_type": "execute_result"
    }
   ],
   "source": [
    "tsa.acf(mdec19.dec9,nlags=12)"
   ]
  },
  {
   "cell_type": "code",
   "execution_count": 10,
   "metadata": {},
   "outputs": [
    {
     "data": {
      "image/png": "[encoded data removed]",
      "text/plain": [
       "<Figure size 640x480 with 1 Axes>"
      ]
     },
     "metadata": {},
     "output_type": "display_data"
    }
   ],
   "source": [
    "tsaplots.plot_pacf(mdec19.dec9,lags=12,ax=plt.gca())\n",
    "plt.xlabel(\"lags\")\n",
    "plt.ylabel(\"acf\")\n",
    "plt.grid(True)\n",
    "plt.show()"
   ]
  },
  {
   "attachments": {},
   "cell_type": "markdown",
   "metadata": {},
   "source": [
    "\n",
    "### (b) Test the hypothesis that all 12 ACFs are zero. \n",
    "That is, $H_0:ρ_1 =···=ρ_{12}=0$ versus $H_1:ρ_i\\neq 0$ forsome $1≤i≤12$. Draw your conclusion.\n",
    "\n",
    "Use `Ljung-Box` Test:"
   ]
  },
  {
   "cell_type": "code",
   "execution_count": 11,
   "metadata": {},
   "outputs": [
    {
     "data": {
      "text/html": [
       "<div>\n",
       "<style scoped>\n",
       "    .dataframe tbody tr th:only-of-type {\n",
       "        vertical-align: middle;\n",
       "    }\n",
       "\n",
       "    .dataframe tbody tr th {\n",
       "        vertical-align: top;\n",
       "    }\n",
       "\n",
       "    .dataframe thead th {\n",
       "        text-align: right;\n",
       "    }\n",
       "</style>\n",
       "<table border=\"1\" class=\"dataframe\">\n",
       "  <thead>\n",
       "    <tr style=\"text-align: right;\">\n",
       "      <th></th>\n",
       "      <th>lb_stat</th>\n",
       "      <th>lb_pvalue</th>\n",
       "    </tr>\n",
       "  </thead>\n",
       "  <tbody>\n",
       "    <tr>\n",
       "      <th>12</th>\n",
       "      <td>16.811541</td>\n",
       "      <td>0.156825</td>\n",
       "    </tr>\n",
       "  </tbody>\n",
       "</table>\n",
       "</div>"
      ],
      "text/plain": [
       "      lb_stat  lb_pvalue\n",
       "12  16.811541   0.156825"
      ]
     },
     "execution_count": 11,
     "metadata": {},
     "output_type": "execute_result"
    }
   ],
   "source": [
    "acorr_ljungbox(mdec19.dec9,lags=[12])"
   ]
  },
  {
   "attachments": {},
   "cell_type": "markdown",
   "metadata": {},
   "source": [
    "**Conclusion**:\n",
    "\n",
    "From the result, we can see the p-value is about $0.15$ > $\\alpha=0.01$ or $\\alpha=0.05$. \n",
    "\n",
    "Thus we can't reject the null hypothesis $H_0$."
   ]
  },
  {
   "attachments": {},
   "cell_type": "markdown",
   "metadata": {},
   "source": [
    "### 3. Consider the monthly U.S. Consumer Price Index Less Engery \n",
    "\n",
    "from January 1, 1957 to February 2, 2007. The data are seasonally adjusted and obtained from the Federal Reserve Bank at St Louis. The origin of the data is U.S. Department of Labors, Bureau of Labot Statistics. The data file is m-cpileng.txt (in year, mm, dd, cpi format).\n",
    "\n",
    "Compute the percentage growth rate series of CPI defined as $c_t = 100[\\ln(X_t)− \\ln(X_{t−1})]$, where $X_t$ denotes the $t^{th}$ observation of CPI."
   ]
  },
  {
   "cell_type": "code",
   "execution_count": 12,
   "metadata": {},
   "outputs": [
    {
     "data": {
      "text/html": [
       "<div>\n",
       "<style scoped>\n",
       "    .dataframe tbody tr th:only-of-type {\n",
       "        vertical-align: middle;\n",
       "    }\n",
       "\n",
       "    .dataframe tbody tr th {\n",
       "        vertical-align: top;\n",
       "    }\n",
       "\n",
       "    .dataframe thead th {\n",
       "        text-align: right;\n",
       "    }\n",
       "</style>\n",
       "<table border=\"1\" class=\"dataframe\">\n",
       "  <thead>\n",
       "    <tr style=\"text-align: right;\">\n",
       "      <th></th>\n",
       "      <th>cpi</th>\n",
       "    </tr>\n",
       "    <tr>\n",
       "      <th>date</th>\n",
       "      <th></th>\n",
       "    </tr>\n",
       "  </thead>\n",
       "  <tbody>\n",
       "    <tr>\n",
       "      <th>1957-01-01</th>\n",
       "      <td>28.400</td>\n",
       "    </tr>\n",
       "    <tr>\n",
       "      <th>1957-02-01</th>\n",
       "      <td>28.500</td>\n",
       "    </tr>\n",
       "    <tr>\n",
       "      <th>1957-03-01</th>\n",
       "      <td>28.600</td>\n",
       "    </tr>\n",
       "    <tr>\n",
       "      <th>1957-04-01</th>\n",
       "      <td>28.600</td>\n",
       "    </tr>\n",
       "    <tr>\n",
       "      <th>1957-05-01</th>\n",
       "      <td>28.700</td>\n",
       "    </tr>\n",
       "    <tr>\n",
       "      <th>...</th>\n",
       "      <td>...</td>\n",
       "    </tr>\n",
       "    <tr>\n",
       "      <th>2006-10-01</th>\n",
       "      <td>205.300</td>\n",
       "    </tr>\n",
       "    <tr>\n",
       "      <th>2006-11-01</th>\n",
       "      <td>205.500</td>\n",
       "    </tr>\n",
       "    <tr>\n",
       "      <th>2006-12-01</th>\n",
       "      <td>205.800</td>\n",
       "    </tr>\n",
       "    <tr>\n",
       "      <th>2007-01-01</th>\n",
       "      <td>206.414</td>\n",
       "    </tr>\n",
       "    <tr>\n",
       "      <th>2007-02-01</th>\n",
       "      <td>207.083</td>\n",
       "    </tr>\n",
       "  </tbody>\n",
       "</table>\n",
       "<p>602 rows × 1 columns</p>\n",
       "</div>"
      ],
      "text/plain": [
       "                cpi\n",
       "date               \n",
       "1957-01-01   28.400\n",
       "1957-02-01   28.500\n",
       "1957-03-01   28.600\n",
       "1957-04-01   28.600\n",
       "1957-05-01   28.700\n",
       "...             ...\n",
       "2006-10-01  205.300\n",
       "2006-11-01  205.500\n",
       "2006-12-01  205.800\n",
       "2007-01-01  206.414\n",
       "2007-02-01  207.083\n",
       "\n",
       "[602 rows x 1 columns]"
      ]
     },
     "execution_count": 12,
     "metadata": {},
     "output_type": "execute_result"
    }
   ],
   "source": [
    "cpileng = pd.read_csv(\"data/m-cpileng.csv\",index_col=\"date\")\n",
    "cpileng"
   ]
  },
  {
   "cell_type": "code",
   "execution_count": 13,
   "metadata": {},
   "outputs": [
    {
     "data": {
      "text/plain": [
       "date\n",
       "1957-02-01    0.351494\n",
       "1957-03-01    0.350263\n",
       "1957-04-01    0.000000\n",
       "1957-05-01    0.349040\n",
       "1957-06-01    0.347826\n",
       "                ...   \n",
       "2006-10-01    0.146234\n",
       "2006-11-01    0.097371\n",
       "2006-12-01    0.145879\n",
       "2007-01-01    0.297904\n",
       "2007-02-01    0.323582\n",
       "Name: cpi, Length: 601, dtype: float64"
      ]
     },
     "execution_count": 13,
     "metadata": {},
     "output_type": "execute_result"
    }
   ],
   "source": [
    "c = 100*np.log(cpileng.cpi).diff()[1:]\n",
    "c"
   ]
  },
  {
   "attachments": {},
   "cell_type": "markdown",
   "metadata": {},
   "source": [
    "### (a) Compute the 12 lags of ACF and PACF of $c_t$. \n",
    "\n",
    "Test the null hypothesis that the first 12 lags of ACF are zero. Draw your conclusion."
   ]
  },
  {
   "cell_type": "code",
   "execution_count": 14,
   "metadata": {},
   "outputs": [
    {
     "data": {
      "text/plain": [
       "array([1.        , 0.5834442 , 0.59637012, 0.55793032, 0.50079595,\n",
       "       0.56627591, 0.55148108, 0.52988917, 0.55545063, 0.54580214,\n",
       "       0.56355919, 0.49762566, 0.50298513])"
      ]
     },
     "execution_count": 14,
     "metadata": {},
     "output_type": "execute_result"
    }
   ],
   "source": [
    "tsa.acf(c,nlags=12)"
   ]
  },
  {
   "cell_type": "code",
   "execution_count": 15,
   "metadata": {},
   "outputs": [
    {
     "data": {
      "text/plain": [
       "array([ 1.        ,  0.58441661,  0.39003075,  0.21402368,  0.07183054,\n",
       "        0.22557983,  0.16354837,  0.0735764 ,  0.12242671,  0.11973931,\n",
       "        0.12840863, -0.04477735,  0.0155138 ])"
      ]
     },
     "execution_count": 15,
     "metadata": {},
     "output_type": "execute_result"
    }
   ],
   "source": [
    "tsa.pacf(c,nlags=12)"
   ]
  },
  {
   "cell_type": "code",
   "execution_count": 16,
   "metadata": {},
   "outputs": [
    {
     "data": {
      "image/png": "[encoded data removed]",
      "text/plain": [
       "<Figure size 640x480 with 2 Axes>"
      ]
     },
     "metadata": {},
     "output_type": "display_data"
    }
   ],
   "source": [
    "\n",
    "plt.subplot(121)\n",
    "tsaplots.plot_acf(c,lags=12,ax=plt.gca())\n",
    "plt.xlabel(\"lags\")\n",
    "plt.ylabel(\"acf\")\n",
    "plt.grid(\"True\")\n",
    "\n",
    "plt.subplot(122)\n",
    "tsaplots.plot_pacf(c,lags=12,ax=plt.gca())\n",
    "plt.xlabel(\"lags\")\n",
    "plt.ylabel(\"pacf\")\n",
    "plt.grid(\"True\")\n",
    "\n",
    "plt.subplots_adjust(wspace=0.4)\n",
    "plt.show()"
   ]
  },
  {
   "cell_type": "code",
   "execution_count": 17,
   "metadata": {},
   "outputs": [
    {
     "data": {
      "text/html": [
       "<div>\n",
       "<style scoped>\n",
       "    .dataframe tbody tr th:only-of-type {\n",
       "        vertical-align: middle;\n",
       "    }\n",
       "\n",
       "    .dataframe tbody tr th {\n",
       "        vertical-align: top;\n",
       "    }\n",
       "\n",
       "    .dataframe thead th {\n",
       "        text-align: right;\n",
       "    }\n",
       "</style>\n",
       "<table border=\"1\" class=\"dataframe\">\n",
       "  <thead>\n",
       "    <tr style=\"text-align: right;\">\n",
       "      <th></th>\n",
       "      <th>lb_stat</th>\n",
       "      <th>lb_pvalue</th>\n",
       "    </tr>\n",
       "  </thead>\n",
       "  <tbody>\n",
       "    <tr>\n",
       "      <th>12</th>\n",
       "      <td>2186.64584</td>\n",
       "      <td>0.0</td>\n",
       "    </tr>\n",
       "  </tbody>\n",
       "</table>\n",
       "</div>"
      ],
      "text/plain": [
       "       lb_stat  lb_pvalue\n",
       "12  2186.64584        0.0"
      ]
     },
     "execution_count": 17,
     "metadata": {},
     "output_type": "execute_result"
    }
   ],
   "source": [
    "acorr_ljungbox(c,lags=[12])"
   ]
  },
  {
   "attachments": {},
   "cell_type": "markdown",
   "metadata": {},
   "source": [
    "**Conclusion**:\n",
    "\n",
    "From the result, we can see the p-value is such small that underflow and returen a $0.0$ << $\\alpha=0.01$ or $\\alpha=0.05$. \n",
    "\n",
    "Thus we can reject the null hypothesis $H_0$."
   ]
  },
  {
   "attachments": {},
   "cell_type": "markdown",
   "metadata": {},
   "source": [
    "### (b) The patterns of ACF and PACF indicate that the $c_t$ series does not follow a simple AR or MA model. \n",
    "\n",
    "To gain further insight, compute the first 12 lags of ACF of the differenced series $z_t = c_t − c_{t−1}$.\n",
    " "
   ]
  },
  {
   "cell_type": "code",
   "execution_count": 18,
   "metadata": {},
   "outputs": [
    {
     "data": {
      "text/plain": [
       "date\n",
       "1957-03-01   -0.001231\n",
       "1957-04-01   -0.350263\n",
       "1957-05-01    0.349040\n",
       "1957-06-01   -0.001214\n",
       "1957-07-01    0.344218\n",
       "                ...   \n",
       "2006-10-01   -0.049078\n",
       "2006-11-01   -0.048863\n",
       "2006-12-01    0.048508\n",
       "2007-01-01    0.152025\n",
       "2007-02-01    0.025678\n",
       "Name: cpi, Length: 600, dtype: float64"
      ]
     },
     "execution_count": 18,
     "metadata": {},
     "output_type": "execute_result"
    }
   ],
   "source": [
    "z = c.diff()[1:]\n",
    "z"
   ]
  },
  {
   "cell_type": "code",
   "execution_count": 19,
   "metadata": {},
   "outputs": [
    {
     "data": {
      "text/plain": [
       "array([ 1.        , -0.51552667,  0.06183221,  0.02222489, -0.14716833,\n",
       "        0.09616349,  0.00837264, -0.05639724,  0.04227394, -0.03310702,\n",
       "        0.1004575 , -0.08557486,  0.04165747])"
      ]
     },
     "execution_count": 19,
     "metadata": {},
     "output_type": "execute_result"
    }
   ],
   "source": [
    "tsa.acf(z,nlags=12)"
   ]
  },
  {
   "cell_type": "code",
   "execution_count": 20,
   "metadata": {},
   "outputs": [
    {
     "data": {
      "image/png": "[encoded data removed]",
      "text/plain": [
       "<Figure size 640x480 with 1 Axes>"
      ]
     },
     "metadata": {},
     "output_type": "display_data"
    }
   ],
   "source": [
    "tsaplots.plot_acf(z,lags=12)\n",
    "plt.xlabel(\"lags\")\n",
    "plt.ylabel(\"acf\")\n",
    "plt.grid(True)\n",
    "plt.show()"
   ]
  },
  {
   "attachments": {},
   "cell_type": "markdown",
   "metadata": {},
   "source": [
    "### (c) Based on the ACF of $z_t$, one may fit an ARMA(1,5) model for the $c_t$ series. \n",
    "\n",
    "Write down the fitted model."
   ]
  },
  {
   "cell_type": "code",
   "execution_count": 21,
   "metadata": {},
   "outputs": [
    {
     "data": {
      "text/html": [
       "<table class=\"simpletable\">\n",
       "<caption>SARIMAX Results</caption>\n",
       "<tr>\n",
       "  <th>Dep. Variable:</th>          <td>cpi</td>       <th>  No. Observations:  </th>    <td>601</td>  \n",
       "</tr>\n",
       "<tr>\n",
       "  <th>Model:</th>            <td>ARIMA(1, 0, 5)</td>  <th>  Log Likelihood     </th>  <td>163.605</td>\n",
       "</tr>\n",
       "<tr>\n",
       "  <th>Date:</th>            <td>Fri, 24 Mar 2023</td> <th>  AIC                </th> <td>-311.209</td>\n",
       "</tr>\n",
       "<tr>\n",
       "  <th>Time:</th>                <td>15:05:07</td>     <th>  BIC                </th> <td>-276.020</td>\n",
       "</tr>\n",
       "<tr>\n",
       "  <th>Sample:</th>             <td>02-01-1957</td>    <th>  HQIC               </th> <td>-297.512</td>\n",
       "</tr>\n",
       "<tr>\n",
       "  <th></th>                   <td>- 02-01-2007</td>   <th>                     </th>     <td> </td>   \n",
       "</tr>\n",
       "<tr>\n",
       "  <th>Covariance Type:</th>        <td>opg</td>       <th>                     </th>     <td> </td>   \n",
       "</tr>\n",
       "</table>\n",
       "<table class=\"simpletable\">\n",
       "<tr>\n",
       "     <td></td>       <th>coef</th>     <th>std err</th>      <th>z</th>      <th>P>|z|</th>  <th>[0.025</th>    <th>0.975]</th>  \n",
       "</tr>\n",
       "<tr>\n",
       "  <th>const</th>  <td>    0.3234</td> <td>    0.087</td> <td>    3.708</td> <td> 0.000</td> <td>    0.152</td> <td>    0.494</td>\n",
       "</tr>\n",
       "<tr>\n",
       "  <th>ar.L1</th>  <td>    0.9782</td> <td>    0.008</td> <td>  119.424</td> <td> 0.000</td> <td>    0.962</td> <td>    0.994</td>\n",
       "</tr>\n",
       "<tr>\n",
       "  <th>ma.L1</th>  <td>   -0.8160</td> <td>    0.032</td> <td>  -25.302</td> <td> 0.000</td> <td>   -0.879</td> <td>   -0.753</td>\n",
       "</tr>\n",
       "<tr>\n",
       "  <th>ma.L2</th>  <td>    0.0652</td> <td>    0.045</td> <td>    1.438</td> <td> 0.150</td> <td>   -0.024</td> <td>    0.154</td>\n",
       "</tr>\n",
       "<tr>\n",
       "  <th>ma.L3</th>  <td>   -0.0997</td> <td>    0.050</td> <td>   -2.013</td> <td> 0.044</td> <td>   -0.197</td> <td>   -0.003</td>\n",
       "</tr>\n",
       "<tr>\n",
       "  <th>ma.L4</th>  <td>   -0.1061</td> <td>    0.053</td> <td>   -2.012</td> <td> 0.044</td> <td>   -0.210</td> <td>   -0.003</td>\n",
       "</tr>\n",
       "<tr>\n",
       "  <th>ma.L5</th>  <td>    0.1913</td> <td>    0.041</td> <td>    4.688</td> <td> 0.000</td> <td>    0.111</td> <td>    0.271</td>\n",
       "</tr>\n",
       "<tr>\n",
       "  <th>sigma2</th> <td>    0.0339</td> <td>    0.001</td> <td>   27.749</td> <td> 0.000</td> <td>    0.031</td> <td>    0.036</td>\n",
       "</tr>\n",
       "</table>\n",
       "<table class=\"simpletable\">\n",
       "<tr>\n",
       "  <th>Ljung-Box (L1) (Q):</th>     <td>0.01</td> <th>  Jarque-Bera (JB):  </th> <td>673.34</td>\n",
       "</tr>\n",
       "<tr>\n",
       "  <th>Prob(Q):</th>                <td>0.93</td> <th>  Prob(JB):          </th>  <td>0.00</td> \n",
       "</tr>\n",
       "<tr>\n",
       "  <th>Heteroskedasticity (H):</th> <td>0.12</td> <th>  Skew:              </th>  <td>0.55</td> \n",
       "</tr>\n",
       "<tr>\n",
       "  <th>Prob(H) (two-sided):</th>    <td>0.00</td> <th>  Kurtosis:          </th>  <td>8.07</td> \n",
       "</tr>\n",
       "</table><br/><br/>Warnings:<br/>[1] Covariance matrix calculated using the outer product of gradients (complex-step)."
      ],
      "text/plain": [
       "<class 'statsmodels.iolib.summary.Summary'>\n",
       "\"\"\"\n",
       "                               SARIMAX Results                                \n",
       "==============================================================================\n",
       "Dep. Variable:                    cpi   No. Observations:                  601\n",
       "Model:                 ARIMA(1, 0, 5)   Log Likelihood                 163.605\n",
       "Date:                Fri, 24 Mar 2023   AIC                           -311.209\n",
       "Time:                        15:05:07   BIC                           -276.020\n",
       "Sample:                    02-01-1957   HQIC                          -297.512\n",
       "                         - 02-01-2007                                         \n",
       "Covariance Type:                  opg                                         \n",
       "==============================================================================\n",
       "                 coef    std err          z      P>|z|      [0.025      0.975]\n",
       "------------------------------------------------------------------------------\n",
       "const          0.3234      0.087      3.708      0.000       0.152       0.494\n",
       "ar.L1          0.9782      0.008    119.424      0.000       0.962       0.994\n",
       "ma.L1         -0.8160      0.032    -25.302      0.000      -0.879      -0.753\n",
       "ma.L2          0.0652      0.045      1.438      0.150      -0.024       0.154\n",
       "ma.L3         -0.0997      0.050     -2.013      0.044      -0.197      -0.003\n",
       "ma.L4         -0.1061      0.053     -2.012      0.044      -0.210      -0.003\n",
       "ma.L5          0.1913      0.041      4.688      0.000       0.111       0.271\n",
       "sigma2         0.0339      0.001     27.749      0.000       0.031       0.036\n",
       "===================================================================================\n",
       "Ljung-Box (L1) (Q):                   0.01   Jarque-Bera (JB):               673.34\n",
       "Prob(Q):                              0.93   Prob(JB):                         0.00\n",
       "Heteroskedasticity (H):               0.12   Skew:                             0.55\n",
       "Prob(H) (two-sided):                  0.00   Kurtosis:                         8.07\n",
       "===================================================================================\n",
       "\n",
       "Warnings:\n",
       "[1] Covariance matrix calculated using the outer product of gradients (complex-step).\n",
       "\"\"\""
      ]
     },
     "execution_count": 21,
     "metadata": {},
     "output_type": "execute_result"
    }
   ],
   "source": [
    "arma15 = ARIMA(c,order=(1,0,5)).fit()\n",
    "arma15.summary()"
   ]
  },
  {
   "cell_type": "code",
   "execution_count": 46,
   "metadata": {},
   "outputs": [],
   "source": [
    "def series_latex(series,s=\"s\"):\n",
    "    series_latex = f\"{s}_t\"\n",
    "    for i, param in enumerate(series,start=1):\n",
    "        sign = \"+\" if param > 0 else \"-\"\n",
    "        series_latex += f\" {sign} {abs(param)}{s}_{{t-{i}}}\"\n",
    "    return series_latex\n",
    "\n",
    "def writedown_fitted_model(result,ndigits=3):\n",
    "    mu = result.data.endog.mean()\n",
    "    intercept = round(mu*result.polynomial_ar.sum(),ndigits=ndigits)\n",
    "    sigma2 = round(result.params.sigma2,ndigits=ndigits)\n",
    "    arparams = np.round(result.polynomial_ar[1:],decimals=ndigits)\n",
    "    maparams = np.round(result.maparams,decimals=ndigits)\n",
    "    ar_str = series_latex(arparams,s=\"r\")\n",
    "    ma_str = series_latex(maparams,s=\"a\")\n",
    "    return Markdown(rf\"${ar_str} = {intercept} + {ma_str}, \\hat{{\\sigma_a}}^2={sigma2}$\")"
   ]
  },
  {
   "cell_type": "code",
   "execution_count": 47,
   "metadata": {},
   "outputs": [
    {
     "data": {
      "text/markdown": [
       "$r_t - 0.978r_{t-1} = 0.007 + a_t - 0.816a_{t-1} + 0.065a_{t-2} - 0.1a_{t-3} - 0.106a_{t-4} + 0.191a_{t-5}, \\hat{\\sigma_a}^2=0.034$"
      ],
      "text/plain": [
       "<IPython.core.display.Markdown object>"
      ]
     },
     "execution_count": 47,
     "metadata": {},
     "output_type": "execute_result"
    }
   ],
   "source": [
    "writedown_fitted_model(arma15)"
   ]
  },
  {
   "attachments": {},
   "cell_type": "markdown",
   "metadata": {},
   "source": [
    "## 4. Consider the growth rate of U.S. real GNP series from the $2^{nd}$ quarter of 1947 to the last quarter of 2006. \n",
    "\n",
    "The data are in the file q-gnprate.txt."
   ]
  },
  {
   "cell_type": "code",
   "execution_count": 24,
   "metadata": {},
   "outputs": [
    {
     "data": {
      "text/html": [
       "<div>\n",
       "<style scoped>\n",
       "    .dataframe tbody tr th:only-of-type {\n",
       "        vertical-align: middle;\n",
       "    }\n",
       "\n",
       "    .dataframe tbody tr th {\n",
       "        vertical-align: top;\n",
       "    }\n",
       "\n",
       "    .dataframe thead th {\n",
       "        text-align: right;\n",
       "    }\n",
       "</style>\n",
       "<table border=\"1\" class=\"dataframe\">\n",
       "  <thead>\n",
       "    <tr style=\"text-align: right;\">\n",
       "      <th></th>\n",
       "      <th>data</th>\n",
       "    </tr>\n",
       "  </thead>\n",
       "  <tbody>\n",
       "    <tr>\n",
       "      <th>0</th>\n",
       "      <td>0.014173</td>\n",
       "    </tr>\n",
       "    <tr>\n",
       "      <th>1</th>\n",
       "      <td>0.016828</td>\n",
       "    </tr>\n",
       "    <tr>\n",
       "      <th>2</th>\n",
       "      <td>0.039502</td>\n",
       "    </tr>\n",
       "    <tr>\n",
       "      <th>3</th>\n",
       "      <td>0.023967</td>\n",
       "    </tr>\n",
       "    <tr>\n",
       "      <th>4</th>\n",
       "      <td>0.026387</td>\n",
       "    </tr>\n",
       "    <tr>\n",
       "      <th>...</th>\n",
       "      <td>...</td>\n",
       "    </tr>\n",
       "    <tr>\n",
       "      <th>234</th>\n",
       "      <td>0.009248</td>\n",
       "    </tr>\n",
       "    <tr>\n",
       "      <th>235</th>\n",
       "      <td>0.022840</td>\n",
       "    </tr>\n",
       "    <tr>\n",
       "      <th>236</th>\n",
       "      <td>0.013916</td>\n",
       "    </tr>\n",
       "    <tr>\n",
       "      <th>237</th>\n",
       "      <td>0.008969</td>\n",
       "    </tr>\n",
       "    <tr>\n",
       "      <th>238</th>\n",
       "      <td>0.012671</td>\n",
       "    </tr>\n",
       "  </tbody>\n",
       "</table>\n",
       "<p>239 rows × 1 columns</p>\n",
       "</div>"
      ],
      "text/plain": [
       "         data\n",
       "0    0.014173\n",
       "1    0.016828\n",
       "2    0.039502\n",
       "3    0.023967\n",
       "4    0.026387\n",
       "..        ...\n",
       "234  0.009248\n",
       "235  0.022840\n",
       "236  0.013916\n",
       "237  0.008969\n",
       "238  0.012671\n",
       "\n",
       "[239 rows x 1 columns]"
      ]
     },
     "execution_count": 24,
     "metadata": {},
     "output_type": "execute_result"
    }
   ],
   "source": [
    "gnp = pd.read_csv(\"data/q-gnprate.csv\")\n",
    "gnp"
   ]
  },
  {
   "attachments": {},
   "cell_type": "markdown",
   "metadata": {},
   "source": [
    "### (a) Fit an AR(3) model to the series. Write down the fitted model."
   ]
  },
  {
   "cell_type": "code",
   "execution_count": 25,
   "metadata": {},
   "outputs": [
    {
     "data": {
      "text/html": [
       "<table class=\"simpletable\">\n",
       "<caption>SARIMAX Results</caption>\n",
       "<tr>\n",
       "  <th>Dep. Variable:</th>         <td>data</td>       <th>  No. Observations:  </th>    <td>239</td>   \n",
       "</tr>\n",
       "<tr>\n",
       "  <th>Model:</th>            <td>ARIMA(3, 0, 0)</td>  <th>  Log Likelihood     </th>  <td>769.833</td> \n",
       "</tr>\n",
       "<tr>\n",
       "  <th>Date:</th>            <td>Fri, 24 Mar 2023</td> <th>  AIC                </th> <td>-1529.666</td>\n",
       "</tr>\n",
       "<tr>\n",
       "  <th>Time:</th>                <td>15:05:08</td>     <th>  BIC                </th> <td>-1512.283</td>\n",
       "</tr>\n",
       "<tr>\n",
       "  <th>Sample:</th>                  <td>0</td>        <th>  HQIC               </th> <td>-1522.661</td>\n",
       "</tr>\n",
       "<tr>\n",
       "  <th></th>                      <td> - 239</td>      <th>                     </th>     <td> </td>    \n",
       "</tr>\n",
       "<tr>\n",
       "  <th>Covariance Type:</th>        <td>opg</td>       <th>                     </th>     <td> </td>    \n",
       "</tr>\n",
       "</table>\n",
       "<table class=\"simpletable\">\n",
       "<tr>\n",
       "     <td></td>       <th>coef</th>     <th>std err</th>      <th>z</th>      <th>P>|z|</th>  <th>[0.025</th>    <th>0.975]</th>  \n",
       "</tr>\n",
       "<tr>\n",
       "  <th>const</th>  <td>    0.0168</td> <td>    0.001</td> <td>   14.275</td> <td> 0.000</td> <td>    0.015</td> <td>    0.019</td>\n",
       "</tr>\n",
       "<tr>\n",
       "  <th>ar.L1</th>  <td>    0.4171</td> <td>    0.053</td> <td>    7.872</td> <td> 0.000</td> <td>    0.313</td> <td>    0.521</td>\n",
       "</tr>\n",
       "<tr>\n",
       "  <th>ar.L2</th>  <td>    0.2002</td> <td>    0.054</td> <td>    3.712</td> <td> 0.000</td> <td>    0.094</td> <td>    0.306</td>\n",
       "</tr>\n",
       "<tr>\n",
       "  <th>ar.L3</th>  <td>   -0.1648</td> <td>    0.049</td> <td>   -3.390</td> <td> 0.001</td> <td>   -0.260</td> <td>   -0.070</td>\n",
       "</tr>\n",
       "<tr>\n",
       "  <th>sigma2</th> <td> 9.312e-05</td> <td> 6.19e-06</td> <td>   15.036</td> <td> 0.000</td> <td>  8.1e-05</td> <td>    0.000</td>\n",
       "</tr>\n",
       "</table>\n",
       "<table class=\"simpletable\">\n",
       "<tr>\n",
       "  <th>Ljung-Box (L1) (Q):</th>     <td>0.02</td> <th>  Jarque-Bera (JB):  </th> <td>46.21</td>\n",
       "</tr>\n",
       "<tr>\n",
       "  <th>Prob(Q):</th>                <td>0.90</td> <th>  Prob(JB):          </th> <td>0.00</td> \n",
       "</tr>\n",
       "<tr>\n",
       "  <th>Heteroskedasticity (H):</th> <td>0.20</td> <th>  Skew:              </th> <td>0.43</td> \n",
       "</tr>\n",
       "<tr>\n",
       "  <th>Prob(H) (two-sided):</th>    <td>0.00</td> <th>  Kurtosis:          </th> <td>4.98</td> \n",
       "</tr>\n",
       "</table><br/><br/>Warnings:<br/>[1] Covariance matrix calculated using the outer product of gradients (complex-step)."
      ],
      "text/plain": [
       "<class 'statsmodels.iolib.summary.Summary'>\n",
       "\"\"\"\n",
       "                               SARIMAX Results                                \n",
       "==============================================================================\n",
       "Dep. Variable:                   data   No. Observations:                  239\n",
       "Model:                 ARIMA(3, 0, 0)   Log Likelihood                 769.833\n",
       "Date:                Fri, 24 Mar 2023   AIC                          -1529.666\n",
       "Time:                        15:05:08   BIC                          -1512.283\n",
       "Sample:                             0   HQIC                         -1522.661\n",
       "                                - 239                                         \n",
       "Covariance Type:                  opg                                         \n",
       "==============================================================================\n",
       "                 coef    std err          z      P>|z|      [0.025      0.975]\n",
       "------------------------------------------------------------------------------\n",
       "const          0.0168      0.001     14.275      0.000       0.015       0.019\n",
       "ar.L1          0.4171      0.053      7.872      0.000       0.313       0.521\n",
       "ar.L2          0.2002      0.054      3.712      0.000       0.094       0.306\n",
       "ar.L3         -0.1648      0.049     -3.390      0.001      -0.260      -0.070\n",
       "sigma2      9.312e-05   6.19e-06     15.036      0.000     8.1e-05       0.000\n",
       "===================================================================================\n",
       "Ljung-Box (L1) (Q):                   0.02   Jarque-Bera (JB):                46.21\n",
       "Prob(Q):                              0.90   Prob(JB):                         0.00\n",
       "Heteroskedasticity (H):               0.20   Skew:                             0.43\n",
       "Prob(H) (two-sided):                  0.00   Kurtosis:                         4.98\n",
       "===================================================================================\n",
       "\n",
       "Warnings:\n",
       "[1] Covariance matrix calculated using the outer product of gradients (complex-step).\n",
       "\"\"\""
      ]
     },
     "execution_count": 25,
     "metadata": {},
     "output_type": "execute_result"
    }
   ],
   "source": [
    "ar3 = ARIMA(gnp.data,order=(3,0,0)).fit()\n",
    "ar3.summary()"
   ]
  },
  {
   "cell_type": "code",
   "execution_count": 49,
   "metadata": {},
   "outputs": [
    {
     "data": {
      "text/markdown": [
       "$r_t - 0.4171r_{t-1} - 0.2002r_{t-2} + 0.1648r_{t-3} = 0.0093 + a_t, \\hat{\\sigma_a}^2=0.0001$"
      ],
      "text/plain": [
       "<IPython.core.display.Markdown object>"
      ]
     },
     "execution_count": 49,
     "metadata": {},
     "output_type": "execute_result"
    }
   ],
   "source": [
    "writedown_fitted_model(ar3,ndigits=4)"
   ]
  },
  {
   "attachments": {},
   "cell_type": "markdown",
   "metadata": {},
   "source": [
    "### (b) For the fitted AR(3) model, compute the average period of business cycles if they exist?"
   ]
  },
  {
   "cell_type": "code",
   "execution_count": 27,
   "metadata": {},
   "outputs": [
    {
     "data": {
      "image/png": "[encoded data removed]",
      "text/plain": [
       "<Figure size 640x480 with 1 Axes>"
      ]
     },
     "metadata": {},
     "output_type": "display_data"
    }
   ],
   "source": [
    "tsaplots.plot_acf(gnp.data,lags=24)\n",
    "plt.xlabel(\"lags\")\n",
    "plt.ylabel(\"acf\")\n",
    "plt.grid(True)\n",
    "plt.show()"
   ]
  },
  {
   "cell_type": "code",
   "execution_count": 28,
   "metadata": {},
   "outputs": [
    {
     "data": {
      "text/plain": [
       "array([-1.87099401-0.j        ,  1.54264825-0.92872557j,\n",
       "        1.54264825+0.92872557j])"
      ]
     },
     "execution_count": 28,
     "metadata": {},
     "output_type": "execute_result"
    }
   ],
   "source": [
    "ar3.arroots"
   ]
  },
  {
   "attachments": {},
   "cell_type": "markdown",
   "metadata": {},
   "source": [
    "The corresponding difference equation has two complex roots, which confirms the existence of business cycle."
   ]
  },
  {
   "cell_type": "code",
   "execution_count": 29,
   "metadata": {},
   "outputs": [
    {
     "data": {
      "text/markdown": [
       "The average length of business cycles is $k \\approx 11.5944$ quarters."
      ],
      "text/plain": [
       "<IPython.core.display.Markdown object>"
      ]
     },
     "execution_count": 29,
     "metadata": {},
     "output_type": "execute_result"
    }
   ],
   "source": [
    "root1 = ar3.arroots[1]\n",
    "a = np.real(root1)\n",
    "k = (2*np.pi)/(np.arccos(a/np.abs(root1)))\n",
    "Markdown(rf\"The average length of business cycles is $k \\approx {k:.4f}$ quarters.\")"
   ]
  },
  {
   "attachments": {},
   "cell_type": "markdown",
   "metadata": {},
   "source": [
    "### c) Compute 1-step to 4-step ahead forecasts \n",
    "\n",
    "of the fitted model at the end of the data, i.e. October (or the fourth quarter) of 2006. Write down the forecasts and their standard errors.\n"
   ]
  },
  {
   "cell_type": "code",
   "execution_count": 30,
   "metadata": {},
   "outputs": [
    {
     "data": {
      "text/html": [
       "<div>\n",
       "<style scoped>\n",
       "    .dataframe tbody tr th:only-of-type {\n",
       "        vertical-align: middle;\n",
       "    }\n",
       "\n",
       "    .dataframe tbody tr th {\n",
       "        vertical-align: top;\n",
       "    }\n",
       "\n",
       "    .dataframe thead th {\n",
       "        text-align: right;\n",
       "    }\n",
       "</style>\n",
       "<table border=\"1\" class=\"dataframe\">\n",
       "  <thead>\n",
       "    <tr style=\"text-align: right;\">\n",
       "      <th>data</th>\n",
       "      <th>mean</th>\n",
       "      <th>mean_se</th>\n",
       "      <th>mean_ci_lower</th>\n",
       "      <th>mean_ci_upper</th>\n",
       "    </tr>\n",
       "  </thead>\n",
       "  <tbody>\n",
       "    <tr>\n",
       "      <th>239</th>\n",
       "      <td>0.014008</td>\n",
       "      <td>0.009650</td>\n",
       "      <td>-0.004906</td>\n",
       "      <td>0.032921</td>\n",
       "    </tr>\n",
       "    <tr>\n",
       "      <th>240</th>\n",
       "      <td>0.016122</td>\n",
       "      <td>0.010456</td>\n",
       "      <td>-0.004371</td>\n",
       "      <td>0.036614</td>\n",
       "    </tr>\n",
       "    <tr>\n",
       "      <th>241</th>\n",
       "      <td>0.016661</td>\n",
       "      <td>0.011061</td>\n",
       "      <td>-0.005019</td>\n",
       "      <td>0.038341</td>\n",
       "    </tr>\n",
       "    <tr>\n",
       "      <th>242</th>\n",
       "      <td>0.017088</td>\n",
       "      <td>0.011085</td>\n",
       "      <td>-0.004638</td>\n",
       "      <td>0.038814</td>\n",
       "    </tr>\n",
       "  </tbody>\n",
       "</table>\n",
       "</div>"
      ],
      "text/plain": [
       "data      mean   mean_se  mean_ci_lower  mean_ci_upper\n",
       "239   0.014008  0.009650      -0.004906       0.032921\n",
       "240   0.016122  0.010456      -0.004371       0.036614\n",
       "241   0.016661  0.011061      -0.005019       0.038341\n",
       "242   0.017088  0.011085      -0.004638       0.038814"
      ]
     },
     "execution_count": 30,
     "metadata": {},
     "output_type": "execute_result"
    }
   ],
   "source": [
    "forecast_result = ar3.get_forecast(4)\n",
    "forecast_result.summary_frame()"
   ]
  },
  {
   "attachments": {},
   "cell_type": "markdown",
   "metadata": {},
   "source": [
    "## 5. Consider the monthly simple return of CRSP Decile 9 portfolio \n",
    "\n",
    "from January 1970 to December 2006 of Problem 1.\n",
    "\n",
    "### (a) Fit an MA(1) model to the series. Write down the fitted model."
   ]
  },
  {
   "cell_type": "code",
   "execution_count": 31,
   "metadata": {},
   "outputs": [
    {
     "data": {
      "text/html": [
       "<table class=\"simpletable\">\n",
       "<caption>SARIMAX Results</caption>\n",
       "<tr>\n",
       "  <th>Dep. Variable:</th>         <td>dec9</td>       <th>  No. Observations:  </th>    <td>444</td>   \n",
       "</tr>\n",
       "<tr>\n",
       "  <th>Model:</th>            <td>ARIMA(0, 0, 1)</td>  <th>  Log Likelihood     </th>  <td>683.033</td> \n",
       "</tr>\n",
       "<tr>\n",
       "  <th>Date:</th>            <td>Fri, 24 Mar 2023</td> <th>  AIC                </th> <td>-1360.065</td>\n",
       "</tr>\n",
       "<tr>\n",
       "  <th>Time:</th>                <td>15:05:08</td>     <th>  BIC                </th> <td>-1347.778</td>\n",
       "</tr>\n",
       "<tr>\n",
       "  <th>Sample:</th>                  <td>0</td>        <th>  HQIC               </th> <td>-1355.220</td>\n",
       "</tr>\n",
       "<tr>\n",
       "  <th></th>                      <td> - 444</td>      <th>                     </th>     <td> </td>    \n",
       "</tr>\n",
       "<tr>\n",
       "  <th>Covariance Type:</th>        <td>opg</td>       <th>                     </th>     <td> </td>    \n",
       "</tr>\n",
       "</table>\n",
       "<table class=\"simpletable\">\n",
       "<tr>\n",
       "     <td></td>       <th>coef</th>     <th>std err</th>      <th>z</th>      <th>P>|z|</th>  <th>[0.025</th>    <th>0.975]</th>  \n",
       "</tr>\n",
       "<tr>\n",
       "  <th>const</th>  <td>    0.0109</td> <td>    0.003</td> <td>    3.485</td> <td> 0.000</td> <td>    0.005</td> <td>    0.017</td>\n",
       "</tr>\n",
       "<tr>\n",
       "  <th>ma.L1</th>  <td>    0.1593</td> <td>    0.052</td> <td>    3.085</td> <td> 0.002</td> <td>    0.058</td> <td>    0.261</td>\n",
       "</tr>\n",
       "<tr>\n",
       "  <th>sigma2</th> <td>    0.0027</td> <td>    0.000</td> <td>   22.332</td> <td> 0.000</td> <td>    0.002</td> <td>    0.003</td>\n",
       "</tr>\n",
       "</table>\n",
       "<table class=\"simpletable\">\n",
       "<tr>\n",
       "  <th>Ljung-Box (L1) (Q):</th>     <td>0.04</td> <th>  Jarque-Bera (JB):  </th> <td>144.47</td>\n",
       "</tr>\n",
       "<tr>\n",
       "  <th>Prob(Q):</th>                <td>0.83</td> <th>  Prob(JB):          </th>  <td>0.00</td> \n",
       "</tr>\n",
       "<tr>\n",
       "  <th>Heteroskedasticity (H):</th> <td>0.77</td> <th>  Skew:              </th>  <td>-0.38</td>\n",
       "</tr>\n",
       "<tr>\n",
       "  <th>Prob(H) (two-sided):</th>    <td>0.12</td> <th>  Kurtosis:          </th>  <td>5.69</td> \n",
       "</tr>\n",
       "</table><br/><br/>Warnings:<br/>[1] Covariance matrix calculated using the outer product of gradients (complex-step)."
      ],
      "text/plain": [
       "<class 'statsmodels.iolib.summary.Summary'>\n",
       "\"\"\"\n",
       "                               SARIMAX Results                                \n",
       "==============================================================================\n",
       "Dep. Variable:                   dec9   No. Observations:                  444\n",
       "Model:                 ARIMA(0, 0, 1)   Log Likelihood                 683.033\n",
       "Date:                Fri, 24 Mar 2023   AIC                          -1360.065\n",
       "Time:                        15:05:08   BIC                          -1347.778\n",
       "Sample:                             0   HQIC                         -1355.220\n",
       "                                - 444                                         \n",
       "Covariance Type:                  opg                                         \n",
       "==============================================================================\n",
       "                 coef    std err          z      P>|z|      [0.025      0.975]\n",
       "------------------------------------------------------------------------------\n",
       "const          0.0109      0.003      3.485      0.000       0.005       0.017\n",
       "ma.L1          0.1593      0.052      3.085      0.002       0.058       0.261\n",
       "sigma2         0.0027      0.000     22.332      0.000       0.002       0.003\n",
       "===================================================================================\n",
       "Ljung-Box (L1) (Q):                   0.04   Jarque-Bera (JB):               144.47\n",
       "Prob(Q):                              0.83   Prob(JB):                         0.00\n",
       "Heteroskedasticity (H):               0.77   Skew:                            -0.38\n",
       "Prob(H) (two-sided):                  0.12   Kurtosis:                         5.69\n",
       "===================================================================================\n",
       "\n",
       "Warnings:\n",
       "[1] Covariance matrix calculated using the outer product of gradients (complex-step).\n",
       "\"\"\""
      ]
     },
     "execution_count": 31,
     "metadata": {},
     "output_type": "execute_result"
    }
   ],
   "source": [
    "ma1 = ARIMA(mdec19.dec9,order=(0,0,1)).fit()\n",
    "ma1.summary()"
   ]
  },
  {
   "cell_type": "code",
   "execution_count": 50,
   "metadata": {},
   "outputs": [
    {
     "data": {
      "text/markdown": [
       "$r_t = 0.011 + a_t + 0.159a_{t-1}, \\hat{\\sigma_a}^2=0.003$"
      ],
      "text/plain": [
       "<IPython.core.display.Markdown object>"
      ]
     },
     "execution_count": 50,
     "metadata": {},
     "output_type": "execute_result"
    }
   ],
   "source": [
    "writedown_fitted_model(ma1)"
   ]
  },
  {
   "attachments": {},
   "cell_type": "markdown",
   "metadata": {},
   "source": [
    "### (b) Is the fitted MA(1) model adequate? Why?"
   ]
  },
  {
   "cell_type": "code",
   "execution_count": 33,
   "metadata": {},
   "outputs": [
    {
     "data": {
      "image/png": "[encoded data removed]",
      "text/plain": [
       "<Figure size 640x480 with 1 Axes>"
      ]
     },
     "metadata": {},
     "output_type": "display_data"
    }
   ],
   "source": [
    "tsaplots.plot_acf(mdec19.dec9,lags=24)\n",
    "plt.xlabel(\"lags\")\n",
    "plt.ylabel(\"acf\")\n",
    "plt.grid(True)\n",
    "plt.show()"
   ]
  },
  {
   "cell_type": "code",
   "execution_count": 34,
   "metadata": {},
   "outputs": [
    {
     "data": {
      "image/png": "[encoded data removed]",
      "text/plain": [
       "<Figure size 640x480 with 1 Axes>"
      ]
     },
     "metadata": {},
     "output_type": "display_data"
    }
   ],
   "source": [
    "tsaplots.plot_acf(ma1.resid,lags=24)\n",
    "plt.xlabel(\"lags\")\n",
    "plt.ylabel(\"acf\")\n",
    "plt.title(r\"ACF of residual($\\hat{a}_t$)\")\n",
    "plt.grid(True)\n",
    "plt.show()"
   ]
  },
  {
   "cell_type": "code",
   "execution_count": 35,
   "metadata": {},
   "outputs": [
    {
     "data": {
      "text/html": [
       "<div>\n",
       "<style scoped>\n",
       "    .dataframe tbody tr th:only-of-type {\n",
       "        vertical-align: middle;\n",
       "    }\n",
       "\n",
       "    .dataframe tbody tr th {\n",
       "        vertical-align: top;\n",
       "    }\n",
       "\n",
       "    .dataframe thead th {\n",
       "        text-align: right;\n",
       "    }\n",
       "</style>\n",
       "<table border=\"1\" class=\"dataframe\">\n",
       "  <thead>\n",
       "    <tr style=\"text-align: right;\">\n",
       "      <th></th>\n",
       "      <th>lb_stat</th>\n",
       "      <th>lb_pvalue</th>\n",
       "    </tr>\n",
       "  </thead>\n",
       "  <tbody>\n",
       "    <tr>\n",
       "      <th>1</th>\n",
       "      <td>0.044783</td>\n",
       "      <td>0.832403</td>\n",
       "    </tr>\n",
       "    <tr>\n",
       "      <th>2</th>\n",
       "      <td>1.563664</td>\n",
       "      <td>0.457567</td>\n",
       "    </tr>\n",
       "    <tr>\n",
       "      <th>3</th>\n",
       "      <td>1.671446</td>\n",
       "      <td>0.643301</td>\n",
       "    </tr>\n",
       "    <tr>\n",
       "      <th>4</th>\n",
       "      <td>3.101801</td>\n",
       "      <td>0.540936</td>\n",
       "    </tr>\n",
       "    <tr>\n",
       "      <th>5</th>\n",
       "      <td>3.102095</td>\n",
       "      <td>0.684249</td>\n",
       "    </tr>\n",
       "    <tr>\n",
       "      <th>6</th>\n",
       "      <td>3.105974</td>\n",
       "      <td>0.795433</td>\n",
       "    </tr>\n",
       "    <tr>\n",
       "      <th>7</th>\n",
       "      <td>3.105975</td>\n",
       "      <td>0.875029</td>\n",
       "    </tr>\n",
       "    <tr>\n",
       "      <th>8</th>\n",
       "      <td>5.604731</td>\n",
       "      <td>0.691411</td>\n",
       "    </tr>\n",
       "    <tr>\n",
       "      <th>9</th>\n",
       "      <td>5.862833</td>\n",
       "      <td>0.753564</td>\n",
       "    </tr>\n",
       "    <tr>\n",
       "      <th>10</th>\n",
       "      <td>7.176595</td>\n",
       "      <td>0.708675</td>\n",
       "    </tr>\n",
       "  </tbody>\n",
       "</table>\n",
       "</div>"
      ],
      "text/plain": [
       "     lb_stat  lb_pvalue\n",
       "1   0.044783   0.832403\n",
       "2   1.563664   0.457567\n",
       "3   1.671446   0.643301\n",
       "4   3.101801   0.540936\n",
       "5   3.102095   0.684249\n",
       "6   3.105974   0.795433\n",
       "7   3.105975   0.875029\n",
       "8   5.604731   0.691411\n",
       "9   5.862833   0.753564\n",
       "10  7.176595   0.708675"
      ]
     },
     "execution_count": 35,
     "metadata": {},
     "output_type": "execute_result"
    }
   ],
   "source": [
    "acorr_ljungbox(ma1.resid)"
   ]
  },
  {
   "attachments": {},
   "cell_type": "markdown",
   "metadata": {},
   "source": [
    "From the result of `ACF plots` and `Ljung-Box Test on residual`, we can assert that $\\hat{a}_t$ is white noise which satisifys our assumption.\n",
    "\n",
    "Thus, we can assert that the fitted `MA(1)` model is adequate."
   ]
  },
  {
   "attachments": {},
   "cell_type": "markdown",
   "metadata": {},
   "source": [
    "### (c) Compute 1-step to 4-step ahead forecasts \n",
    "\n",
    "of the fitted MA(1) model using the last observation as the forecast origin."
   ]
  },
  {
   "cell_type": "code",
   "execution_count": 36,
   "metadata": {},
   "outputs": [
    {
     "data": {
      "text/html": [
       "<div>\n",
       "<style scoped>\n",
       "    .dataframe tbody tr th:only-of-type {\n",
       "        vertical-align: middle;\n",
       "    }\n",
       "\n",
       "    .dataframe tbody tr th {\n",
       "        vertical-align: top;\n",
       "    }\n",
       "\n",
       "    .dataframe thead th {\n",
       "        text-align: right;\n",
       "    }\n",
       "</style>\n",
       "<table border=\"1\" class=\"dataframe\">\n",
       "  <thead>\n",
       "    <tr style=\"text-align: right;\">\n",
       "      <th>dec9</th>\n",
       "      <th>mean</th>\n",
       "      <th>mean_se</th>\n",
       "      <th>mean_ci_lower</th>\n",
       "      <th>mean_ci_upper</th>\n",
       "    </tr>\n",
       "  </thead>\n",
       "  <tbody>\n",
       "    <tr>\n",
       "      <th>444</th>\n",
       "      <td>0.009026</td>\n",
       "      <td>0.051953</td>\n",
       "      <td>-0.092799</td>\n",
       "      <td>0.110852</td>\n",
       "    </tr>\n",
       "    <tr>\n",
       "      <th>445</th>\n",
       "      <td>0.010896</td>\n",
       "      <td>0.052608</td>\n",
       "      <td>-0.092213</td>\n",
       "      <td>0.114006</td>\n",
       "    </tr>\n",
       "    <tr>\n",
       "      <th>446</th>\n",
       "      <td>0.010896</td>\n",
       "      <td>0.052608</td>\n",
       "      <td>-0.092213</td>\n",
       "      <td>0.114006</td>\n",
       "    </tr>\n",
       "    <tr>\n",
       "      <th>447</th>\n",
       "      <td>0.010896</td>\n",
       "      <td>0.052608</td>\n",
       "      <td>-0.092213</td>\n",
       "      <td>0.114006</td>\n",
       "    </tr>\n",
       "  </tbody>\n",
       "</table>\n",
       "</div>"
      ],
      "text/plain": [
       "dec9      mean   mean_se  mean_ci_lower  mean_ci_upper\n",
       "444   0.009026  0.051953      -0.092799       0.110852\n",
       "445   0.010896  0.052608      -0.092213       0.114006\n",
       "446   0.010896  0.052608      -0.092213       0.114006\n",
       "447   0.010896  0.052608      -0.092213       0.114006"
      ]
     },
     "execution_count": 36,
     "metadata": {},
     "output_type": "execute_result"
    }
   ],
   "source": [
    "ma1.get_forecast(4).summary_frame()"
   ]
  }
 ],
 "metadata": {
  "kernelspec": {
   "display_name": "Python 3",
   "language": "python",
   "name": "python3"
  },
  "language_info": {
   "codemirror_mode": {
    "name": "ipython",
    "version": 3
   },
   "file_extension": ".py",
   "mimetype": "text/x-python",
   "name": "python",
   "nbconvert_exporter": "python",
   "pygments_lexer": "ipython3",
   "version": "3.9.6"
  },
  "vscode": {
   "interpreter": {
    "hash": "31f2aee4e71d21fbe5cf8b01ff0e069b9275f58929596ceb00d14d90e3e16cd6"
   }
  }
 },
 "nbformat": 4,
 "nbformat_minor": 4
}
