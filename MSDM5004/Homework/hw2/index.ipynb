{
 "cells": [
  {
   "cell_type": "markdown",
   "id": "b20b902e-62f8-4ba2-bab3-392bfe549d30",
   "metadata": {},
   "source": [
    "# MSDM5004 Homework 2\n",
    "\n",
    "## 1. Write a code using to compute the derivative of \n",
    "$f(x) = \\frac{\\sin x}{x^3}$ at $x = 4$ using the central difference formula, and check the order of\n",
    "convergence."
   ]
  },
  {
   "cell_type": "code",
   "execution_count": 1,
   "id": "8d26223c-12e1-4ee9-9582-80002984a592",
   "metadata": {
    "tags": []
   },
   "outputs": [
    {
     "data": {
      "text/plain": [
       "central_diff (generic function with 1 method)"
      ]
     },
     "execution_count": 1,
     "metadata": {},
     "output_type": "execute_result"
    }
   ],
   "source": [
    "function central_diff(f::Function,x::Real,h::Real)\n",
    "    return (f(x+h)-f(x-h))/2/h\n",
    "end"
   ]
  },
  {
   "cell_type": "code",
   "execution_count": 2,
   "id": "d1dd7b5e-c9ed-4adb-b63d-ab49974b7486",
   "metadata": {
    "tags": []
   },
   "outputs": [
    {
     "data": {
      "text/plain": [
       "f (generic function with 1 method)"
      ]
     },
     "execution_count": 2,
     "metadata": {},
     "output_type": "execute_result"
    }
   ],
   "source": [
    "f(x) = sin(x)/x^3"
   ]
  },
  {
   "cell_type": "code",
   "execution_count": 3,
   "id": "c3aebab3-2398-4882-a67b-e17a0c7633db",
   "metadata": {
    "tags": []
   },
   "outputs": [
    {
     "data": {
      "text/markdown": [
       "The derivative of f(x) at x=4 is -0.0013444070485774812"
      ]
     },
     "metadata": {},
     "output_type": "display_data"
    }
   ],
   "source": [
    "v = central_diff(f,4,1e-3)\n",
    "display(\"text/markdown\",\"The derivative of f(x) at x=4 is $v\")"
   ]
  },
  {
   "cell_type": "markdown",
   "id": "ed1925e6-1ec8-41f5-944e-f7f22fc01608",
   "metadata": {},
   "source": [
    "Then let check the order of convergence:"
   ]
  },
  {
   "cell_type": "code",
   "execution_count": 4,
   "id": "81cc98ad-9ce8-44d5-a204-57f36e2c11a9",
   "metadata": {
    "tags": []
   },
   "outputs": [
    {
     "name": "stdout",
     "output_type": "stream",
     "text": [
      "r = 4.002842241732386\n",
      "r = 4.000710087426402\n",
      "r = 4.000177492575602\n",
      "r = 4.000044360840964\n",
      "r = 4.000011257409564\n",
      "r = 4.000002797273308\n",
      "r = 3.999998456677391\n",
      "r = 3.9999876534572376\n"
     ]
    }
   ],
   "source": [
    "n = 10\n",
    "h₀ = 0.1\n",
    "hs = h₀ * (1/2) .^ collect(0:(n-1))\n",
    "phi = central_diff.(f,4,hs)\n",
    "rs = (phi[1:end-2]-phi[2:end-1])./(phi[2:end-1]-phi[3:end])\n",
    "for r in rs\n",
    "    @show r\n",
    "end"
   ]
  },
  {
   "cell_type": "markdown",
   "id": "4fe0d492-d7a1-416f-98e4-5a78112c10da",
   "metadata": {},
   "source": [
    "## 2. Find the first two iterations using \n",
    "- (1) the Jacobi method\n",
    "- (2) the Gauss-Seidel method \n",
    "\n",
    "for the following linear system, starting from $x^{(0)} = (0, 0, -1)$.\n",
    "\n",
    "$$\n",
    "\\begin{aligned}\n",
    "4x_1 −x_2 + x_3 &=3,\\\\\n",
    "2x_1 + 5x_2 + 2x_3 &=4,\\\\\n",
    "−x_1 + x_2 + 3x_3 &= −6.\n",
    "\\end{aligned}\n",
    "$$"
   ]
  },
  {
   "cell_type": "code",
   "execution_count": 5,
   "id": "dbaac4cb-3ef8-475d-bfba-577e1a803f07",
   "metadata": {
    "tags": []
   },
   "outputs": [
    {
     "data": {
      "text/plain": [
       "DLU (generic function with 1 method)"
      ]
     },
     "execution_count": 5,
     "metadata": {},
     "output_type": "execute_result"
    }
   ],
   "source": [
    "using LinearAlgebra\n",
    "\n",
    "include(\"../utils/MatrixDisplay.jl\")\n",
    "\n",
    "function DLU(A::Matrix{<:Real})\n",
    "    D = Diagonal(A)\n",
    "    L = D-LowerTriangular(A)\n",
    "    U = D-UpperTriangular(A)\n",
    "    return D,L,U\n",
    "end"
   ]
  },
  {
   "cell_type": "code",
   "execution_count": 6,
   "id": "2421da10-65c8-415c-a90e-0ec07b299c58",
   "metadata": {
    "tags": []
   },
   "outputs": [],
   "source": [
    "A = [\n",
    "    4 -1 1;\n",
    "    2 5 2;\n",
    "    -1 1 3\n",
    "];\n",
    "b = [3;4;-6];\n",
    "x⁽⁰⁾ = [0;0;-1];"
   ]
  },
  {
   "cell_type": "markdown",
   "id": "1d8a476b-6e38-4423-90d2-36e13af245a7",
   "metadata": {},
   "source": [
    "First of all, let's decompose matrix A into D,L,U"
   ]
  },
  {
   "cell_type": "code",
   "execution_count": 7,
   "id": "7c5f2273-1ef3-4f3e-9908-60b778c3101f",
   "metadata": {
    "tags": []
   },
   "outputs": [],
   "source": [
    "D,L,U=DLU(A);"
   ]
  },
  {
   "cell_type": "code",
   "execution_count": 8,
   "id": "ddfc557c-a161-46b1-8214-33e6454ff802",
   "metadata": {
    "tags": []
   },
   "outputs": [
    {
     "data": {
      "text/latex": [
       "<center>$D=\\begin{pmatrix}4&0&0\\\\0&5&0\\\\0&0&3\\end{pmatrix}$</center>\n",
       "\n"
      ],
      "text/markdown": [
       "<center>$D=\\begin{pmatrix}4&0&0\\\\0&5&0\\\\0&0&3\\end{pmatrix}$</center>\n"
      ],
      "text/plain": [
       "  <center>\u001b[35mD=\\begin{pmatrix}4&0&0\\\\0&5&0\\\\0&0&3\\end{pmatrix}\u001b[39m</center>"
      ]
     },
     "execution_count": 8,
     "metadata": {},
     "output_type": "execute_result"
    }
   ],
   "source": [
    "@latex D"
   ]
  },
  {
   "cell_type": "code",
   "execution_count": 9,
   "id": "a074e832-b72a-4845-9eb7-2f296c49cf46",
   "metadata": {
    "tags": []
   },
   "outputs": [
    {
     "data": {
      "text/latex": [
       "<center>$L=\\begin{pmatrix}0&0&0\\\\-2&0&0\\\\1&-1&0\\end{pmatrix}$</center>\n",
       "\n"
      ],
      "text/markdown": [
       "<center>$L=\\begin{pmatrix}0&0&0\\\\-2&0&0\\\\1&-1&0\\end{pmatrix}$</center>\n"
      ],
      "text/plain": [
       "  <center>\u001b[35mL=\\begin{pmatrix}0&0&0\\\\-2&0&0\\\\1&-1&0\\end{pmatrix}\u001b[39m</center>"
      ]
     },
     "execution_count": 9,
     "metadata": {},
     "output_type": "execute_result"
    }
   ],
   "source": [
    "@latex L"
   ]
  },
  {
   "cell_type": "code",
   "execution_count": 10,
   "id": "587d29cc-a907-4c09-9292-c8307c386f99",
   "metadata": {
    "tags": []
   },
   "outputs": [
    {
     "data": {
      "text/latex": [
       "<center>$U=\\begin{pmatrix}0&1&-1\\\\0&0&-2\\\\0&0&0\\end{pmatrix}$</center>\n",
       "\n"
      ],
      "text/markdown": [
       "<center>$U=\\begin{pmatrix}0&1&-1\\\\0&0&-2\\\\0&0&0\\end{pmatrix}$</center>\n"
      ],
      "text/plain": [
       "  <center>\u001b[35mU=\\begin{pmatrix}0&1&-1\\\\0&0&-2\\\\0&0&0\\end{pmatrix}\u001b[39m</center>"
      ]
     },
     "execution_count": 10,
     "metadata": {},
     "output_type": "execute_result"
    }
   ],
   "source": [
    "@latex U"
   ]
  },
  {
   "cell_type": "markdown",
   "id": "6d03279f-69a2-4aff-b004-f94979c9c53a",
   "metadata": {},
   "source": [
    "### (1) Jacobi method"
   ]
  },
  {
   "cell_type": "code",
   "execution_count": 11,
   "id": "a09526c5-180b-42c6-89d6-cabd0f87a816",
   "metadata": {
    "tags": []
   },
   "outputs": [
    {
     "data": {
      "text/latex": [
       "<center>$Tⱼ=\\begin{pmatrix}0.0&0.25&-0.25\\\\-0.4&0.0&-0.4\\\\0.3333333333333333&-0.3333333333333333&0.0\\end{pmatrix}$</center>\n",
       "\n"
      ],
      "text/markdown": [
       "<center>$Tⱼ=\\begin{pmatrix}0.0&0.25&-0.25\\\\-0.4&0.0&-0.4\\\\0.3333333333333333&-0.3333333333333333&0.0\\end{pmatrix}$</center>\n"
      ],
      "text/plain": [
       "  <center>\u001b[35mTⱼ=\\begin{pmatrix}0.0&0.25&-0.25\\\\-0.4&0.0&-0.4\\\\0.3333333333333333&-0.3333333333333333&0.0\\end{pmatrix}\u001b[39m</center>"
      ]
     },
     "execution_count": 11,
     "metadata": {},
     "output_type": "execute_result"
    }
   ],
   "source": [
    "@latex Tⱼ = D^(-1)*(L+U)"
   ]
  },
  {
   "cell_type": "code",
   "execution_count": 12,
   "id": "17b2f977-d852-4d7f-8dde-46996d6f6b7a",
   "metadata": {
    "tags": []
   },
   "outputs": [
    {
     "data": {
      "text/latex": [
       "<center>$cⱼ=\\begin{pmatrix}0.75\\\\0.8\\\\-2.0\\end{pmatrix}$</center>\n",
       "\n"
      ],
      "text/markdown": [
       "<center>$cⱼ=\\begin{pmatrix}0.75\\\\0.8\\\\-2.0\\end{pmatrix}$</center>\n"
      ],
      "text/plain": [
       "  <center>\u001b[35mcⱼ=\\begin{pmatrix}0.75\\\\0.8\\\\-2.0\\end{pmatrix}\u001b[39m</center>"
      ]
     },
     "execution_count": 12,
     "metadata": {},
     "output_type": "execute_result"
    }
   ],
   "source": [
    "@latex cⱼ = D^(-1)*b"
   ]
  },
  {
   "cell_type": "code",
   "execution_count": 13,
   "id": "5fc3a34b-11e6-4f3b-9407-7765bb431fd1",
   "metadata": {
    "tags": []
   },
   "outputs": [
    {
     "data": {
      "text/latex": [
       "<center>$x⁽¹⁾=\\begin{pmatrix}1.0\\\\1.2000000000000002\\\\-2.0\\end{pmatrix}$</center>\n",
       "\n"
      ],
      "text/markdown": [
       "<center>$x⁽¹⁾=\\begin{pmatrix}1.0\\\\1.2000000000000002\\\\-2.0\\end{pmatrix}$</center>\n"
      ],
      "text/plain": [
       "  <center>\u001b[35mx⁽¹⁾=\\begin{pmatrix}1.0\\\\1.2000000000000002\\\\-2.0\\end{pmatrix}\u001b[39m</center>"
      ]
     },
     "execution_count": 13,
     "metadata": {},
     "output_type": "execute_result"
    }
   ],
   "source": [
    "@latex x⁽¹⁾ = Tⱼ*x⁽⁰⁾+cⱼ"
   ]
  },
  {
   "cell_type": "code",
   "execution_count": 14,
   "id": "d91242db-cdaf-4bc7-8279-d3b861138998",
   "metadata": {
    "tags": []
   },
   "outputs": [
    {
     "data": {
      "text/latex": [
       "<center>$x⁽²⁾=\\begin{pmatrix}1.55\\\\1.2000000000000002\\\\-2.066666666666667\\end{pmatrix}$</center>\n",
       "\n"
      ],
      "text/markdown": [
       "<center>$x⁽²⁾=\\begin{pmatrix}1.55\\\\1.2000000000000002\\\\-2.066666666666667\\end{pmatrix}$</center>\n"
      ],
      "text/plain": [
       "  <center>\u001b[35mx⁽²⁾=\\begin{pmatrix}1.55\\\\1.2000000000000002\\\\-2.066666666666667\\end{pmatrix}\u001b[39m</center>"
      ]
     },
     "execution_count": 14,
     "metadata": {},
     "output_type": "execute_result"
    }
   ],
   "source": [
    "@latex x⁽²⁾ = Tⱼ*x⁽¹⁾+cⱼ"
   ]
  },
  {
   "cell_type": "markdown",
   "id": "a93b70e0-2756-4a8f-8c1e-9c15c972155a",
   "metadata": {},
   "source": [
    "### (2) Gauss-Seidel method"
   ]
  },
  {
   "cell_type": "code",
   "execution_count": 15,
   "id": "09080a48-d0ef-40f9-8a08-83b241992391",
   "metadata": {
    "tags": []
   },
   "outputs": [
    {
     "data": {
      "text/latex": [
       "<center>$Tg=\\begin{pmatrix}0.0&0.25&-0.25\\\\0.0&-0.1&-0.30000000000000004\\\\0.0&0.11666666666666665&0.016666666666666677\\end{pmatrix}$</center>\n",
       "\n"
      ],
      "text/markdown": [
       "<center>$Tg=\\begin{pmatrix}0.0&0.25&-0.25\\\\0.0&-0.1&-0.30000000000000004\\\\0.0&0.11666666666666665&0.016666666666666677\\end{pmatrix}$</center>\n"
      ],
      "text/plain": [
       "  <center>\u001b[35mTg=\\begin{pmatrix}0.0&0.25&-0.25\\\\0.0&-0.1&-0.30000000000000004\\\\0.0&0.11666666666666665&0.016666666666666677\\end{pmatrix}\u001b[39m</center>"
      ]
     },
     "execution_count": 15,
     "metadata": {},
     "output_type": "execute_result"
    }
   ],
   "source": [
    "@latex Tg = (D-L)^(-1)*U"
   ]
  },
  {
   "cell_type": "code",
   "execution_count": 16,
   "id": "2b8d3e7b-c953-4317-b5bd-181eb5959bc9",
   "metadata": {
    "tags": []
   },
   "outputs": [
    {
     "data": {
      "text/latex": [
       "<center>$cg=\\begin{pmatrix}0.75\\\\0.5\\\\-1.9166666666666667\\end{pmatrix}$</center>\n",
       "\n"
      ],
      "text/markdown": [
       "<center>$cg=\\begin{pmatrix}0.75\\\\0.5\\\\-1.9166666666666667\\end{pmatrix}$</center>\n"
      ],
      "text/plain": [
       "  <center>\u001b[35mcg=\\begin{pmatrix}0.75\\\\0.5\\\\-1.9166666666666667\\end{pmatrix}\u001b[39m</center>"
      ]
     },
     "execution_count": 16,
     "metadata": {},
     "output_type": "execute_result"
    }
   ],
   "source": [
    "@latex cg = (D-L)^(-1)*b"
   ]
  },
  {
   "cell_type": "code",
   "execution_count": 17,
   "id": "9f3bd6dc-915e-4970-b6b0-fda292212c54",
   "metadata": {
    "tags": []
   },
   "outputs": [
    {
     "data": {
      "text/latex": [
       "<center>$x⁽¹⁾=\\begin{pmatrix}1.0\\\\0.8\\\\-1.9333333333333333\\end{pmatrix}$</center>\n",
       "\n"
      ],
      "text/markdown": [
       "<center>$x⁽¹⁾=\\begin{pmatrix}1.0\\\\0.8\\\\-1.9333333333333333\\end{pmatrix}$</center>\n"
      ],
      "text/plain": [
       "  <center>\u001b[35mx⁽¹⁾=\\begin{pmatrix}1.0\\\\0.8\\\\-1.9333333333333333\\end{pmatrix}\u001b[39m</center>"
      ]
     },
     "execution_count": 17,
     "metadata": {},
     "output_type": "execute_result"
    }
   ],
   "source": [
    "@latex x⁽¹⁾=Tg*x⁽⁰⁾+cg"
   ]
  },
  {
   "cell_type": "code",
   "execution_count": 18,
   "id": "b0af8bea-c934-4833-b408-4ca5d0eecc42",
   "metadata": {
    "tags": []
   },
   "outputs": [
    {
     "data": {
      "text/latex": [
       "<center>$x⁽²⁾=\\begin{pmatrix}1.4333333333333333\\\\1.0\\\\-1.8555555555555556\\end{pmatrix}$</center>\n",
       "\n"
      ],
      "text/markdown": [
       "<center>$x⁽²⁾=\\begin{pmatrix}1.4333333333333333\\\\1.0\\\\-1.8555555555555556\\end{pmatrix}$</center>\n"
      ],
      "text/plain": [
       "  <center>\u001b[35mx⁽²⁾=\\begin{pmatrix}1.4333333333333333\\\\1.0\\\\-1.8555555555555556\\end{pmatrix}\u001b[39m</center>"
      ]
     },
     "execution_count": 18,
     "metadata": {},
     "output_type": "execute_result"
    }
   ],
   "source": [
    "@latex x⁽²⁾=Tg*x⁽¹⁾+cg"
   ]
  },
  {
   "cell_type": "markdown",
   "id": "0be5e1cc-5617-4c87-99ec-fbf8bba6cbb0",
   "metadata": {},
   "source": [
    "## 3. Solve the following linear system using \n",
    "- (1) the Gauss-Seidel method,\n",
    "- (2) the SOR method with ω =1.2. \n",
    "\n",
    "The initial estimate is $x^{(0)} = (0, 0, 1, 0)$. \n",
    "\n",
    "Stop the iterations until the $l_{\\infty}$ norm\n",
    "$||x^{(k)}-x^{(k-1)}||_{\\infty} \\leq 10^{-3}$.\n",
    "\n",
    "$$\n",
    "\\begin{aligned}\n",
    "4x_1 + x_2 -x_3 + x_4 &= -3,\\\\\n",
    "x_1 + 4x_2 -x_3 -x_4 &= -2,\\\\\n",
    "-x_1 -x_2 + 5x_3 + x_4 &=5,\\\\\n",
    "x_1 -x_2 + x_3 + 3x_4 &=2.\\\\\n",
    "\\end{aligned}\n",
    "$$"
   ]
  },
  {
   "cell_type": "code",
   "execution_count": 19,
   "id": "1fbc2b39-6aca-4dd5-942e-57c53f5b46c6",
   "metadata": {
    "tags": []
   },
   "outputs": [],
   "source": [
    "A = [\n",
    "    4  1 -1  1;\n",
    "    1  4 -1 -1;\n",
    "   -1 -1  5  1;\n",
    "    1 -1  1  3\n",
    "];\n",
    "b = [-3;-2;5;2];\n",
    "x₀ = [0;0;1;0];"
   ]
  },
  {
   "cell_type": "markdown",
   "id": "ab7c920c-1239-4bb3-98ab-5d64f071de51",
   "metadata": {},
   "source": [
    "### (1) Gauss-Seidel method"
   ]
  },
  {
   "cell_type": "code",
   "execution_count": 20,
   "id": "da29ec9d-1677-4a4e-9f64-9728bb55e5fb",
   "metadata": {
    "tags": []
   },
   "outputs": [
    {
     "data": {
      "text/plain": [
       "GaussSeidel (generic function with 1 method)"
      ]
     },
     "execution_count": 20,
     "metadata": {},
     "output_type": "execute_result"
    }
   ],
   "source": [
    "function GaussSeidel(A,b,x₀;ϵ=1e-3,maxiter=1e4,norm=maximum)\n",
    "    D,L,U=DLU(A)\n",
    "    invDL = inv(D - L)\n",
    "    T = invDL*U\n",
    "    c = invDL*b\n",
    "    for k in 1:maxiter\n",
    "        x₁ = T*x₀ + c\n",
    "        if norm(x₁-x₀) ≤ ϵ\n",
    "            return x₁\n",
    "        end\n",
    "        x₀ = x₁\n",
    "    end   \n",
    "end"
   ]
  },
  {
   "cell_type": "code",
   "execution_count": 21,
   "id": "13268435-98f7-4601-b97f-d3b2601d17d7",
   "metadata": {
    "tags": []
   },
   "outputs": [
    {
     "data": {
      "text/latex": [
       "<center>$xᵍ=\\begin{pmatrix}-0.7527255627893519\\\\0.040855425708911985\\\\0.7195080258246528\\\\0.691357654224537\\end{pmatrix}$</center>\n",
       "\n"
      ],
      "text/markdown": [
       "<center>$xᵍ=\\begin{pmatrix}-0.7527255627893519\\\\0.040855425708911985\\\\0.7195080258246528\\\\0.691357654224537\\end{pmatrix}$</center>\n"
      ],
      "text/plain": [
       "  <center>\u001b[35mxᵍ=\\begin{pmatrix}-0.7527255627893519\\\\0.040855425708911985\\\\0.7195080258246528\\\\0.691357654224537\\end{pmatrix}\u001b[39m</center>"
      ]
     },
     "execution_count": 21,
     "metadata": {},
     "output_type": "execute_result"
    }
   ],
   "source": [
    "@latex xᵍ = GaussSeidel(A,b,x₀)"
   ]
  },
  {
   "cell_type": "markdown",
   "id": "19b251b4-0631-4012-b641-95af9c7b00fe",
   "metadata": {},
   "source": [
    "### (2) the SOR method"
   ]
  },
  {
   "cell_type": "code",
   "execution_count": 22,
   "id": "680bf19c-1312-4ac5-8a92-c0e84a2f9d4f",
   "metadata": {
    "tags": []
   },
   "outputs": [
    {
     "data": {
      "text/plain": [
       "SOR (generic function with 1 method)"
      ]
     },
     "execution_count": 22,
     "metadata": {},
     "output_type": "execute_result"
    }
   ],
   "source": [
    "function SOR(A,b,x₀;ω=1.2,ϵ=1e-3,maxiter=1e4,norm=maximum)\n",
    "    D,L,U=DLU(A)\n",
    "    invDL = inv(D - ω*L)\n",
    "    T = invDL*((1-ω)*D+ω*U)\n",
    "    c = invDL*ω*b\n",
    "    for k in 1:maxiter\n",
    "        x₁ = T*x₀ + c\n",
    "        if norm(x₁-x₀) ≤ ϵ\n",
    "            return x₁\n",
    "        end\n",
    "        x₀ = x₁\n",
    "    end   \n",
    "end"
   ]
  },
  {
   "cell_type": "code",
   "execution_count": 23,
   "id": "eb03f3b8-ac94-4bd1-91f7-540e46f68085",
   "metadata": {
    "tags": []
   },
   "outputs": [
    {
     "data": {
      "text/latex": [
       "<center>$xˢ=\\begin{pmatrix}-0.7530897093888335\\\\0.04117280965301612\\\\0.7192518346947181\\\\0.6916350607145069\\end{pmatrix}$</center>\n",
       "\n"
      ],
      "text/markdown": [
       "<center>$xˢ=\\begin{pmatrix}-0.7530897093888335\\\\0.04117280965301612\\\\0.7192518346947181\\\\0.6916350607145069\\end{pmatrix}$</center>\n"
      ],
      "text/plain": [
       "  <center>\u001b[35mxˢ=\\begin{pmatrix}-0.7530897093888335\\\\0.04117280965301612\\\\0.7192518346947181\\\\0.6916350607145069\\end{pmatrix}\u001b[39m</center>"
      ]
     },
     "execution_count": 23,
     "metadata": {},
     "output_type": "execute_result"
    }
   ],
   "source": [
    "@latex xˢ = SOR(A,b,x₀;ω=1.2)"
   ]
  }
 ],
 "metadata": {
  "kernelspec": {
   "display_name": "Julia 1.8.3",
   "language": "julia",
   "name": "julia-1.8"
  },
  "language_info": {
   "file_extension": ".jl",
   "mimetype": "application/julia",
   "name": "julia",
   "version": "1.8.3"
  }
 },
 "nbformat": 4,
 "nbformat_minor": 5
}
