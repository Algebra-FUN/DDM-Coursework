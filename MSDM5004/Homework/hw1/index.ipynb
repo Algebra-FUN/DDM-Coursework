{
 "cells": [
  {
   "cell_type": "markdown",
   "id": "8dfb380a-134f-42db-bb7e-871192afe5f8",
   "metadata": {},
   "source": [
    "# MSDM5004 Homework 1\n",
    "\n",
    "## 1. Consider the problem of solving the equation $f(x)=0$, \n",
    "where\n",
    "$$\n",
    "f(x)=2\\cos 2x+4x\\sin x-x^2-2.\n",
    "$$\n",
    "\n",
    "First of all, we calculate the derived function of $f(x)$,\n",
    "\n",
    "$$\n",
    "f^{'}(x)=-4\\sin2x+4\\sin x+4x\\cos x-2x.\n",
    "$$\n",
    "\n",
    "Let review the iteration algorithm of Newton's method:\n",
    "\n",
    "$$\n",
    "x^{(k+1)}=x^{(k)}-\\frac{f(x^{(k)})}{f^{'}(x^{(k)})}\n",
    "$$"
   ]
  },
  {
   "cell_type": "markdown",
   "id": "aaa849be-32e7-42c1-9648-3900ca491358",
   "metadata": {},
   "source": [
    "### (1) Write down the iteration algorithm of Newton’s method, \n",
    "then perform 4 iterations\n",
    "with the starting point $x^{(0)} = \\frac{\\pi}2$.\n",
    "\n",
    "$$k=1,x^{(1)}=x^{(0)}-\\frac{2\\cos(2x^{(0)})+4x\\sin(x^{(0)})-{x^{(0)}}^2-2}{-4\\sin(2x^{(0)})+4\\sin(x^{(0)})+4x\\cos(x^{(0)})-2x^{(0)}}=1.7853981633974483$$\n",
    "$$k=2,x^{(2)}=x^{(1)}-\\frac{2\\cos(2x^{(1)})+4x\\sin(x^{(1)})-{x^{(1)}}^2-2}{-4\\sin(2x^{(1)})+4\\sin(x^{(1)})+4x\\cos(x^{(1)})-2x^{(1)}}=1.8445616296017857$$\n",
    "$$k=3,x^{(3)}=x^{(2)}-\\frac{2\\cos(2x^{(2)})+4x\\sin(x^{(2)})-{x^{(2)}}^2-2}{-4\\sin(2x^{(2)})+4\\sin(x^{(2)})+4x\\cos(x^{(2)})-2x^{(2)}}=1.8708344176888623$$\n",
    "$$k=4,x^{(4)}=x^{(3)}-\\frac{2\\cos(2x^{(3)})+4x\\sin(x^{(3)})-{x^{(3)}}^2-2}{-4\\sin(2x^{(3)})+4\\sin(x^{(3)})+4x\\cos(x^{(3)})-2x^{(3)}}=1.88334642692721$$"
   ]
  },
  {
   "cell_type": "markdown",
   "id": "39422803-2dac-44a5-8e5f-805bb7fb4397",
   "metadata": {},
   "source": [
    "### (2) Write codes using MATLAB to solve this equation with an accuracy of 10−5 using"
   ]
  },
  {
   "cell_type": "code",
   "execution_count": 1,
   "id": "a3925dd6-728e-447c-a917-ee5146a5f16b",
   "metadata": {},
   "outputs": [
    {
     "data": {
      "text/plain": [
       "df (generic function with 1 method)"
      ]
     },
     "execution_count": 1,
     "metadata": {},
     "output_type": "execute_result"
    }
   ],
   "source": [
    "f(x)=2cos(2x)+4x*sin(x)-x^2-2\n",
    "df(x)=-4sin(2x)+4sin(x)+4x*cos(x)-2x"
   ]
  },
  {
   "cell_type": "markdown",
   "id": "479c3041-0592-4414-8412-5b472eb22c13",
   "metadata": {},
   "source": [
    "#### (i) Newton’s method"
   ]
  },
  {
   "cell_type": "code",
   "execution_count": 2,
   "id": "6dda7ab8-d9ff-4ee4-9bab-9a243244ce46",
   "metadata": {
    "tags": []
   },
   "outputs": [
    {
     "data": {
      "text/plain": [
       "newton (generic function with 1 method)"
      ]
     },
     "execution_count": 2,
     "metadata": {},
     "output_type": "execute_result"
    }
   ],
   "source": [
    "function newton(f,df,xₖ;ϵ=1e-5,maxiter=10^4,require_step=false)\n",
    "    for k in 0:maxiter\n",
    "        xₖ₊₁ = xₖ-f(xₖ)/df(xₖ)\n",
    "        require_step && display(\"text/markdown\",\"\\$x^{($(k+1))}=$xₖ₊₁\\$\")\n",
    "        if abs(xₖ₊₁-xₖ) < ϵ\n",
    "            return xₖ₊₁\n",
    "        end\n",
    "        xₖ = xₖ₊₁\n",
    "    end\n",
    "    return xₖ₊₁\n",
    "end"
   ]
  },
  {
   "cell_type": "code",
   "execution_count": 3,
   "id": "d259b156-4a5b-4c9e-9f9b-d4585166e4c6",
   "metadata": {
    "tags": []
   },
   "outputs": [
    {
     "data": {
      "text/markdown": [
       "$x^{(1)}=1.7853981633974483$"
      ]
     },
     "metadata": {},
     "output_type": "display_data"
    },
    {
     "data": {
      "text/markdown": [
       "$x^{(2)}=1.8445616296017857$"
      ]
     },
     "metadata": {},
     "output_type": "display_data"
    },
    {
     "data": {
      "text/markdown": [
       "$x^{(3)}=1.8708344176888623$"
      ]
     },
     "metadata": {},
     "output_type": "display_data"
    },
    {
     "data": {
      "text/markdown": [
       "$x^{(4)}=1.88334642692721$"
      ]
     },
     "metadata": {},
     "output_type": "display_data"
    },
    {
     "data": {
      "text/markdown": [
       "$x^{(5)}=1.889463764182277$"
      ]
     },
     "metadata": {},
     "output_type": "display_data"
    },
    {
     "data": {
      "text/markdown": [
       "$x^{(6)}=1.8924896245342215$"
      ]
     },
     "metadata": {},
     "output_type": "display_data"
    },
    {
     "data": {
      "text/markdown": [
       "$x^{(7)}=1.8939945683559443$"
      ]
     },
     "metadata": {},
     "output_type": "display_data"
    },
    {
     "data": {
      "text/markdown": [
       "$x^{(8)}=1.8947450696911707$"
      ]
     },
     "metadata": {},
     "output_type": "display_data"
    },
    {
     "data": {
      "text/markdown": [
       "$x^{(9)}=1.8951198309093136$"
      ]
     },
     "metadata": {},
     "output_type": "display_data"
    },
    {
     "data": {
      "text/markdown": [
       "$x^{(10)}=1.8953070895520374$"
      ]
     },
     "metadata": {},
     "output_type": "display_data"
    },
    {
     "data": {
      "text/markdown": [
       "$x^{(11)}=1.895400688431482$"
      ]
     },
     "metadata": {},
     "output_type": "display_data"
    },
    {
     "data": {
      "text/markdown": [
       "$x^{(12)}=1.8954474802680659$"
      ]
     },
     "metadata": {},
     "output_type": "display_data"
    },
    {
     "data": {
      "text/markdown": [
       "$x^{(13)}=1.8954708742854796$"
      ]
     },
     "metadata": {},
     "output_type": "display_data"
    },
    {
     "data": {
      "text/markdown": [
       "$x^{(14)}=1.8954825708162713$"
      ]
     },
     "metadata": {},
     "output_type": "display_data"
    },
    {
     "data": {
      "text/markdown": [
       "$x^{(15)}=1.8954884189651426$"
      ]
     },
     "metadata": {},
     "output_type": "display_data"
    },
    {
     "data": {
      "text/plain": [
       "1.8954884189651426"
      ]
     },
     "execution_count": 3,
     "metadata": {},
     "output_type": "execute_result"
    }
   ],
   "source": [
    "newton(f,df,π/2;require_step=true)"
   ]
  },
  {
   "cell_type": "markdown",
   "id": "f9e0dc62-dd6a-4fdb-9e45-723926b2aa27",
   "metadata": {},
   "source": [
    "#### (ii) the secant method.\n",
    "\n",
    "First of all, let review secant method,\n",
    "$$\n",
    "x^{(k+1)}=x^{(k)}-\\frac{f(x^{(k)})(x^{(k)}-x^{(k-1)})}{f(x^{(k)})-f(x^{(k-1)})}\n",
    "$$"
   ]
  },
  {
   "cell_type": "code",
   "execution_count": 4,
   "id": "fc81642d-9e57-4343-9b3f-3d28c110ca63",
   "metadata": {
    "tags": []
   },
   "outputs": [
    {
     "data": {
      "text/plain": [
       "secant (generic function with 1 method)"
      ]
     },
     "execution_count": 4,
     "metadata": {},
     "output_type": "execute_result"
    }
   ],
   "source": [
    "function secant(f,xₖ,xₖ₋₁;ϵ=1e-5,maxiter=10^4,require_step=false)\n",
    "    for k in 1:maxiter\n",
    "        xₖ₊₁ = xₖ-f(xₖ)*(xₖ-xₖ₋₁)/(f(xₖ)-f(xₖ₋₁))\n",
    "        require_step && display(\"text/markdown\",\"\\$x^{($(k+1))}=$xₖ₊₁\\$\")\n",
    "        if abs(xₖ₊₁-xₖ)< ϵ\n",
    "            return xₖ₊₁\n",
    "        end\n",
    "        xₖ,xₖ₋₁=xₖ₊₁,xₖ\n",
    "    end\n",
    "    return xₖ₊₁\n",
    "end"
   ]
  },
  {
   "cell_type": "code",
   "execution_count": 5,
   "id": "de92c2ec-bb6c-4d99-baf2-ca29721cf72a",
   "metadata": {
    "tags": []
   },
   "outputs": [
    {
     "data": {
      "text/markdown": [
       "$x^{(2)}=1.8244650562717795$"
      ]
     },
     "metadata": {},
     "output_type": "display_data"
    },
    {
     "data": {
      "text/markdown": [
       "$x^{(3)}=1.8547302107271924$"
      ]
     },
     "metadata": {},
     "output_type": "display_data"
    },
    {
     "data": {
      "text/markdown": [
       "$x^{(4)}=1.870436603532765$"
      ]
     },
     "metadata": {},
     "output_type": "display_data"
    },
    {
     "data": {
      "text/markdown": [
       "$x^{(5)}=1.8802679559143871$"
      ]
     },
     "metadata": {},
     "output_type": "display_data"
    },
    {
     "data": {
      "text/markdown": [
       "$x^{(6)}=1.886129943413245$"
      ]
     },
     "metadata": {},
     "output_type": "display_data"
    },
    {
     "data": {
      "text/markdown": [
       "$x^{(7)}=1.889735548479691$"
      ]
     },
     "metadata": {},
     "output_type": "display_data"
    },
    {
     "data": {
      "text/markdown": [
       "$x^{(8)}=1.8919432892275994$"
      ]
     },
     "metadata": {},
     "output_type": "display_data"
    },
    {
     "data": {
      "text/markdown": [
       "$x^{(9)}=1.8933033512059763$"
      ]
     },
     "metadata": {},
     "output_type": "display_data"
    },
    {
     "data": {
      "text/markdown": [
       "$x^{(10)}=1.8941414649292136$"
      ]
     },
     "metadata": {},
     "output_type": "display_data"
    },
    {
     "data": {
      "text/markdown": [
       "$x^{(11)}=1.8946587039668$"
      ]
     },
     "metadata": {},
     "output_type": "display_data"
    },
    {
     "data": {
      "text/markdown": [
       "$x^{(12)}=1.8949780484328256$"
      ]
     },
     "metadata": {},
     "output_type": "display_data"
    },
    {
     "data": {
      "text/markdown": [
       "$x^{(13)}=1.8951753000053817$"
      ]
     },
     "metadata": {},
     "output_type": "display_data"
    },
    {
     "data": {
      "text/markdown": [
       "$x^{(14)}=1.8952971621973898$"
      ]
     },
     "metadata": {},
     "output_type": "display_data"
    },
    {
     "data": {
      "text/markdown": [
       "$x^{(15)}=1.895372460203441$"
      ]
     },
     "metadata": {},
     "output_type": "display_data"
    },
    {
     "data": {
      "text/markdown": [
       "$x^{(16)}=1.8954189903166652$"
      ]
     },
     "metadata": {},
     "output_type": "display_data"
    },
    {
     "data": {
      "text/markdown": [
       "$x^{(17)}=1.8954477450152836$"
      ]
     },
     "metadata": {},
     "output_type": "display_data"
    },
    {
     "data": {
      "text/markdown": [
       "$x^{(18)}=1.8954655154327857$"
      ]
     },
     "metadata": {},
     "output_type": "display_data"
    },
    {
     "data": {
      "text/markdown": [
       "$x^{(19)}=1.8954764977981646$"
      ]
     },
     "metadata": {},
     "output_type": "display_data"
    },
    {
     "data": {
      "text/markdown": [
       "$x^{(20)}=1.8954832851153758$"
      ]
     },
     "metadata": {},
     "output_type": "display_data"
    },
    {
     "data": {
      "text/plain": [
       "1.8954832851153758"
      ]
     },
     "execution_count": 5,
     "metadata": {},
     "output_type": "execute_result"
    }
   ],
   "source": [
    "secant(f,1.785,π/2;require_step=true)"
   ]
  }
 ],
 "metadata": {
  "kernelspec": {
   "display_name": "Julia 1.8.3",
   "language": "julia",
   "name": "julia-1.8"
  },
  "language_info": {
   "file_extension": ".jl",
   "mimetype": "application/julia",
   "name": "julia",
   "version": "1.8.3"
  }
 },
 "nbformat": 4,
 "nbformat_minor": 5
}
