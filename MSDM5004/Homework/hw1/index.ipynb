{
 "cells": [
  {
   "cell_type": "markdown",
   "id": "8dfb380a-134f-42db-bb7e-871192afe5f8",
   "metadata": {},
   "source": [
    "# MSDM5004 Homework 1\n",
    "\n",
    "## 1. Consider the problem of solving the equation $f(x)=0$, \n",
    "where\n",
    "$$\n",
    "f(x)=2\\cos 2x+4x\\sin x-x^2-2.\n",
    "$$"
   ]
  },
  {
   "cell_type": "markdown",
   "id": "aaa849be-32e7-42c1-9648-3900ca491358",
   "metadata": {},
   "source": [
    "### (1) Write down the iteration algorithm of Newton’s method, \n",
    "\n",
    "First of all, we calculate the derived function of $f(x)$,\n",
    "\n",
    "$$\n",
    "f^{'}(x)=-4\\sin2x+4\\sin x+4x\\cos x-2x.\n",
    "$$\n",
    "\n",
    "Then, let's review the iteration algorithm of Newton's method:\n",
    "\n",
    "$$\n",
    "x^{(k+1)}=x^{(k)}-\\frac{f(x^{(k)})}{f^{'}(x^{(k)})}\n",
    "$$\n",
    "\n",
    "then perform 4 iterations\n",
    "with the starting point $x^{(0)} = \\frac{\\pi}2$.\n",
    "\n",
    "$$k=1,x^{(1)}=x^{(0)}-\\frac{2\\cos(2x^{(0)})+4x\\sin(x^{(0)})-{x^{(0)}}^2-2}{-4\\sin(2x^{(0)})+4\\sin(x^{(0)})+4x\\cos(x^{(0)})-2x^{(0)}}=1.7853$$\n",
    "$$k=2,x^{(2)}=x^{(1)}-\\frac{2\\cos(2x^{(1)})+4x\\sin(x^{(1)})-{x^{(1)}}^2-2}{-4\\sin(2x^{(1)})+4\\sin(x^{(1)})+4x\\cos(x^{(1)})-2x^{(1)}}=1.8445$$\n",
    "$$k=3,x^{(3)}=x^{(2)}-\\frac{2\\cos(2x^{(2)})+4x\\sin(x^{(2)})-{x^{(2)}}^2-2}{-4\\sin(2x^{(2)})+4\\sin(x^{(2)})+4x\\cos(x^{(2)})-2x^{(2)}}=1.8708$$\n",
    "$$k=4,x^{(4)}=x^{(3)}-\\frac{2\\cos(2x^{(3)})+4x\\sin(x^{(3)})-{x^{(3)}}^2-2}{-4\\sin(2x^{(3)})+4\\sin(x^{(3)})+4x\\cos(x^{(3)})-2x^{(3)}}=1.8833$$"
   ]
  },
  {
   "cell_type": "markdown",
   "id": "39422803-2dac-44a5-8e5f-805bb7fb4397",
   "metadata": {},
   "source": [
    "### (2) Write codes using MATLAB to solve this equation with an accuracy of 10−5 using"
   ]
  },
  {
   "cell_type": "code",
   "execution_count": 1,
   "id": "a3925dd6-728e-447c-a917-ee5146a5f16b",
   "metadata": {},
   "outputs": [
    {
     "data": {
      "text/plain": [
       "df (generic function with 1 method)"
      ]
     },
     "execution_count": 1,
     "metadata": {},
     "output_type": "execute_result"
    }
   ],
   "source": [
    "f(x)=2cos(2x)+4x*sin(x)-x^2-2\n",
    "df(x)=-4sin(2x)+4sin(x)+4x*cos(x)-2x"
   ]
  },
  {
   "cell_type": "markdown",
   "id": "479c3041-0592-4414-8412-5b472eb22c13",
   "metadata": {},
   "source": [
    "#### (i) Newton’s method"
   ]
  },
  {
   "cell_type": "code",
   "execution_count": 2,
   "id": "6dda7ab8-d9ff-4ee4-9bab-9a243244ce46",
   "metadata": {
    "tags": []
   },
   "outputs": [
    {
     "data": {
      "text/plain": [
       "newton (generic function with 1 method)"
      ]
     },
     "execution_count": 2,
     "metadata": {},
     "output_type": "execute_result"
    }
   ],
   "source": [
    "function newton(f,df,xₖ;ϵ=1e-5,maxiter=10^4,require_step=false)\n",
    "    for k in 0:maxiter\n",
    "        xₖ₊₁ = xₖ-f(xₖ)/df(xₖ)\n",
    "        require_step && display(\"text/markdown\",\"\\$x^{($(k+1))}=$xₖ₊₁\\$\")\n",
    "        if abs(xₖ₊₁-xₖ) < ϵ\n",
    "            return xₖ₊₁\n",
    "        end\n",
    "        xₖ = xₖ₊₁\n",
    "    end\n",
    "    return xₖ₊₁\n",
    "end"
   ]
  },
  {
   "cell_type": "code",
   "execution_count": 3,
   "id": "d259b156-4a5b-4c9e-9f9b-d4585166e4c6",
   "metadata": {
    "tags": []
   },
   "outputs": [
    {
     "data": {
      "text/markdown": [
       "$x^{(1)}=1.7853981633974483$"
      ]
     },
     "metadata": {},
     "output_type": "display_data"
    },
    {
     "data": {
      "text/markdown": [
       "$x^{(2)}=1.8445616296017857$"
      ]
     },
     "metadata": {},
     "output_type": "display_data"
    },
    {
     "data": {
      "text/markdown": [
       "$x^{(3)}=1.8708344176888623$"
      ]
     },
     "metadata": {},
     "output_type": "display_data"
    },
    {
     "data": {
      "text/markdown": [
       "$x^{(4)}=1.88334642692721$"
      ]
     },
     "metadata": {},
     "output_type": "display_data"
    },
    {
     "data": {
      "text/markdown": [
       "$x^{(5)}=1.889463764182277$"
      ]
     },
     "metadata": {},
     "output_type": "display_data"
    },
    {
     "data": {
      "text/markdown": [
       "$x^{(6)}=1.8924896245342215$"
      ]
     },
     "metadata": {},
     "output_type": "display_data"
    },
    {
     "data": {
      "text/markdown": [
       "$x^{(7)}=1.8939945683559443$"
      ]
     },
     "metadata": {},
     "output_type": "display_data"
    },
    {
     "data": {
      "text/markdown": [
       "$x^{(8)}=1.8947450696911707$"
      ]
     },
     "metadata": {},
     "output_type": "display_data"
    },
    {
     "data": {
      "text/markdown": [
       "$x^{(9)}=1.8951198309093136$"
      ]
     },
     "metadata": {},
     "output_type": "display_data"
    },
    {
     "data": {
      "text/markdown": [
       "$x^{(10)}=1.8953070895520374$"
      ]
     },
     "metadata": {},
     "output_type": "display_data"
    },
    {
     "data": {
      "text/markdown": [
       "$x^{(11)}=1.895400688431482$"
      ]
     },
     "metadata": {},
     "output_type": "display_data"
    },
    {
     "data": {
      "text/markdown": [
       "$x^{(12)}=1.8954474802680659$"
      ]
     },
     "metadata": {},
     "output_type": "display_data"
    },
    {
     "data": {
      "text/markdown": [
       "$x^{(13)}=1.8954708742854796$"
      ]
     },
     "metadata": {},
     "output_type": "display_data"
    },
    {
     "data": {
      "text/markdown": [
       "$x^{(14)}=1.8954825708162713$"
      ]
     },
     "metadata": {},
     "output_type": "display_data"
    },
    {
     "data": {
      "text/markdown": [
       "$x^{(15)}=1.8954884189651426$"
      ]
     },
     "metadata": {},
     "output_type": "display_data"
    },
    {
     "data": {
      "text/plain": [
       "1.8954884189651426"
      ]
     },
     "execution_count": 3,
     "metadata": {},
     "output_type": "execute_result"
    }
   ],
   "source": [
    "newton(f,df,π/2;require_step=true)"
   ]
  },
  {
   "cell_type": "markdown",
   "id": "f9e0dc62-dd6a-4fdb-9e45-723926b2aa27",
   "metadata": {},
   "source": [
    "#### (ii) the secant method.\n",
    "\n",
    "First of all, let review secant method,\n",
    "$$\n",
    "x^{(k+1)}=x^{(k)}-\\frac{f(x^{(k)})(x^{(k)}-x^{(k-1)})}{f(x^{(k)})-f(x^{(k-1)})}\n",
    "$$"
   ]
  },
  {
   "cell_type": "code",
   "execution_count": 4,
   "id": "fc81642d-9e57-4343-9b3f-3d28c110ca63",
   "metadata": {
    "tags": []
   },
   "outputs": [
    {
     "data": {
      "text/plain": [
       "secant (generic function with 1 method)"
      ]
     },
     "execution_count": 4,
     "metadata": {},
     "output_type": "execute_result"
    }
   ],
   "source": [
    "function secant(f,xₖ,xₖ₋₁;ϵ=1e-5,maxiter=10^4,require_step=false)\n",
    "    for k in 1:maxiter\n",
    "        xₖ₊₁ = xₖ-f(xₖ)*(xₖ-xₖ₋₁)/(f(xₖ)-f(xₖ₋₁))\n",
    "        require_step && display(\"text/markdown\",\"\\$x^{($(k+1))}=$xₖ₊₁\\$\")\n",
    "        if abs(xₖ₊₁-xₖ)< ϵ\n",
    "            return xₖ₊₁\n",
    "        end\n",
    "        xₖ,xₖ₋₁=xₖ₊₁,xₖ\n",
    "    end\n",
    "    return xₖ₊₁\n",
    "end"
   ]
  },
  {
   "cell_type": "code",
   "execution_count": 5,
   "id": "de92c2ec-bb6c-4d99-baf2-ca29721cf72a",
   "metadata": {
    "tags": []
   },
   "outputs": [
    {
     "data": {
      "text/markdown": [
       "$x^{(2)}=1.8244650562717795$"
      ]
     },
     "metadata": {},
     "output_type": "display_data"
    },
    {
     "data": {
      "text/markdown": [
       "$x^{(3)}=1.8547302107271924$"
      ]
     },
     "metadata": {},
     "output_type": "display_data"
    },
    {
     "data": {
      "text/markdown": [
       "$x^{(4)}=1.870436603532765$"
      ]
     },
     "metadata": {},
     "output_type": "display_data"
    },
    {
     "data": {
      "text/markdown": [
       "$x^{(5)}=1.8802679559143871$"
      ]
     },
     "metadata": {},
     "output_type": "display_data"
    },
    {
     "data": {
      "text/markdown": [
       "$x^{(6)}=1.886129943413245$"
      ]
     },
     "metadata": {},
     "output_type": "display_data"
    },
    {
     "data": {
      "text/markdown": [
       "$x^{(7)}=1.889735548479691$"
      ]
     },
     "metadata": {},
     "output_type": "display_data"
    },
    {
     "data": {
      "text/markdown": [
       "$x^{(8)}=1.8919432892275994$"
      ]
     },
     "metadata": {},
     "output_type": "display_data"
    },
    {
     "data": {
      "text/markdown": [
       "$x^{(9)}=1.8933033512059763$"
      ]
     },
     "metadata": {},
     "output_type": "display_data"
    },
    {
     "data": {
      "text/markdown": [
       "$x^{(10)}=1.8941414649292136$"
      ]
     },
     "metadata": {},
     "output_type": "display_data"
    },
    {
     "data": {
      "text/markdown": [
       "$x^{(11)}=1.8946587039668$"
      ]
     },
     "metadata": {},
     "output_type": "display_data"
    },
    {
     "data": {
      "text/markdown": [
       "$x^{(12)}=1.8949780484328256$"
      ]
     },
     "metadata": {},
     "output_type": "display_data"
    },
    {
     "data": {
      "text/markdown": [
       "$x^{(13)}=1.8951753000053817$"
      ]
     },
     "metadata": {},
     "output_type": "display_data"
    },
    {
     "data": {
      "text/markdown": [
       "$x^{(14)}=1.8952971621973898$"
      ]
     },
     "metadata": {},
     "output_type": "display_data"
    },
    {
     "data": {
      "text/markdown": [
       "$x^{(15)}=1.895372460203441$"
      ]
     },
     "metadata": {},
     "output_type": "display_data"
    },
    {
     "data": {
      "text/markdown": [
       "$x^{(16)}=1.8954189903166652$"
      ]
     },
     "metadata": {},
     "output_type": "display_data"
    },
    {
     "data": {
      "text/markdown": [
       "$x^{(17)}=1.8954477450152836$"
      ]
     },
     "metadata": {},
     "output_type": "display_data"
    },
    {
     "data": {
      "text/markdown": [
       "$x^{(18)}=1.8954655154327857$"
      ]
     },
     "metadata": {},
     "output_type": "display_data"
    },
    {
     "data": {
      "text/markdown": [
       "$x^{(19)}=1.8954764977981646$"
      ]
     },
     "metadata": {},
     "output_type": "display_data"
    },
    {
     "data": {
      "text/markdown": [
       "$x^{(20)}=1.8954832851153758$"
      ]
     },
     "metadata": {},
     "output_type": "display_data"
    },
    {
     "data": {
      "text/plain": [
       "1.8954832851153758"
      ]
     },
     "execution_count": 5,
     "metadata": {},
     "output_type": "execute_result"
    }
   ],
   "source": [
    "secant(f,1.785,π/2;require_step=true)"
   ]
  },
  {
   "cell_type": "markdown",
   "id": "03c12ee6-cd81-48ef-a24a-5c0a7167c253",
   "metadata": {},
   "source": [
    "## 2. \n",
    "### (1) Find the Lagrange interpolating polynomial for these data:\n",
    "|$x$   |−1|0|2|\n",
    "|--|--|--|--|\n",
    "|$f(x)$| 0|2|1|\n",
    "\n",
    "Denote $x_0=-1,x_1=0,x_2=2$,\n",
    "\n",
    "then we can get the lagrange interpolating base functions:\n",
    "$$\n",
    "L_0(x)=\\frac{x-0}{-1-0}\\frac{x-2}{-1-2},L_1(x)=\\frac{x+1}{0+1}\\frac{x-2}{0-2},L_2(x)=\\frac{x+1}{2+1}\\frac{x-0}{2-0}.\n",
    "$$\n",
    "Then simplify them,\n",
    "$$\n",
    "L_0(x)=\\frac{x(x-2)}3,L_1(x)=-\\frac{(x+1)(x-2)}2,L_2(x)=\\frac{x(x+1)}6.\n",
    "$$\n",
    "The the interpolating polynomial is\n",
    "$$\n",
    "\\begin{align}\n",
    "P(x)\n",
    "&=\\sum_{i=0}^2 L_i(x)f(x_i)\\\\\n",
    "&=-\\frac56 x^2 + \\frac76 x+ 2\n",
    "\\end{align}\n",
    "$$"
   ]
  },
  {
   "cell_type": "markdown",
   "id": "825676b5-b6d6-4cfb-b28e-585d9b8d01f6",
   "metadata": {},
   "source": [
    "## (2) Find approximation of f(1) using the interpolating polynomial.\n",
    "\n",
    "The approximation of $f(1)$ is given by $P(1)=\\frac73$."
   ]
  },
  {
   "cell_type": "markdown",
   "id": "0723b13a-5726-4a63-82bd-e8417fce0599",
   "metadata": {},
   "source": [
    "## 3. Find the least squares polynomial of degree 1 for the data in the table, \n",
    "and compute the error $E$.\n",
    "\n",
    "|$x_i$|1.0|1.1|1.3|1.5|1.9|\n",
    "|--|--|--|--|--|--|\n",
    "|$y_i$|1.77|1.89|2.14|2.38|2.87|\n",
    "\n",
    "Let denote the model as $y=a x+b$\n",
    "\n",
    "With given data, we can construct matrix for following computation"
   ]
  },
  {
   "cell_type": "code",
   "execution_count": 6,
   "id": "bbd6c96a-338f-43a2-bf9e-f454f94d5f51",
   "metadata": {
    "tags": []
   },
   "outputs": [],
   "source": [
    "x = [1.0;1.1;1.3;1.5;1.9];\n",
    "X = [x one.(x)];\n",
    "y = [1.77;1.89;2.14;2.38;2.87];"
   ]
  },
  {
   "cell_type": "code",
   "execution_count": 7,
   "id": "3e12246a-53ee-4dd3-be96-53e15b77137f",
   "metadata": {
    "tags": []
   },
   "outputs": [
    {
     "data": {
      "text/plain": [
       "2-element Vector{Float64}:\n",
       " 1.2226562500000016\n",
       " 0.5471874999999955"
      ]
     },
     "execution_count": 7,
     "metadata": {},
     "output_type": "execute_result"
    }
   ],
   "source": [
    "a = inv(X'*X)*X'*y"
   ]
  },
  {
   "cell_type": "code",
   "execution_count": 8,
   "id": "a621cabd-00e1-41be-b05c-855ba2538526",
   "metadata": {
    "tags": []
   },
   "outputs": [
    {
     "data": {
      "text/markdown": [
       "The parameters of the model $y=ax+b$ are $a=1.2226562500000016$ and $b=0.5471874999999955$ "
      ]
     },
     "metadata": {},
     "output_type": "display_data"
    }
   ],
   "source": [
    "display(\"text/markdown\",\"The parameters of the model \\$y=ax+b\\$ are \\$a=$(a[1])\\$ and \\$b=$(a[2])\\$ \")"
   ]
  },
  {
   "cell_type": "code",
   "execution_count": 9,
   "id": "544f56d7-80e7-4f74-a13a-b4ce55e27dd1",
   "metadata": {
    "tags": []
   },
   "outputs": [],
   "source": [
    "ŷ = X*a;"
   ]
  },
  {
   "cell_type": "code",
   "execution_count": 13,
   "id": "0ae75596-95d5-4995-99e4-91aa3949386d",
   "metadata": {
    "tags": []
   },
   "outputs": [
    {
     "data": {
      "application/vnd.plotly.v1+json": {
       "data": [
        {
         "colorbar": {
          "len": 0.914342738407699,
          "title": {
           "text": ""
          },
          "x": 0.9934383202099738,
          "y": 0.5329861111111112
         },
         "legendgroup": "data points",
         "marker": {
          "color": "rgba(0, 154, 250, 1.000)",
          "line": {
           "color": "rgba(0, 0, 0, 1)",
           "width": 1
          },
          "size": 8,
          "symbol": "circle"
         },
         "mode": "markers",
         "name": "data points",
         "showlegend": true,
         "type": "scatter",
         "x": [
          1,
          1.1,
          1.3,
          1.5,
          1.9
         ],
         "xaxis": "x",
         "y": [
          1.77,
          1.89,
          2.14,
          2.38,
          2.87
         ],
         "yaxis": "y"
        },
        {
         "colorbar": {
          "len": 0.914342738407699,
          "title": {
           "text": ""
          },
          "x": 0.9934383202099738,
          "y": 0.5329861111111112
         },
         "legendgroup": "fit curve",
         "line": {
          "color": "rgba(227, 111, 71, 1.000)",
          "dash": "solid",
          "shape": "linear",
          "width": 1
         },
         "mode": "lines",
         "name": "fit curve",
         "showlegend": true,
         "type": "scatter",
         "x": [
          1,
          1.1,
          1.3,
          1.5,
          1.9
         ],
         "xaxis": "x",
         "y": [
          1.769843749999997,
          1.8921093749999973,
          2.1366406249999974,
          2.381171874999998,
          2.870234374999998
         ],
         "yaxis": "y"
        }
       ],
       "layout": {
        "annotations": [],
        "height": 400,
        "legend": {
         "bgcolor": "rgba(255, 255, 255, 1.000)",
         "bordercolor": "rgba(0, 0, 0, 1)",
         "borderwidth": 1,
         "font": {
          "color": "rgba(0, 0, 0, 1)",
          "family": "sans-serif",
          "size": 11
         },
         "title": {
          "font": {
           "color": "rgba(0, 0, 0, 1)",
           "family": "sans-serif",
           "size": 15
          },
          "text": ""
         },
         "tracegroupgap": 0,
         "traceorder": "normal",
         "x": 1,
         "xanchor": "right",
         "y": 0.07,
         "yanchor": "bottom"
        },
        "margin": {
         "b": 20,
         "l": 0,
         "r": 0,
         "t": 20
        },
        "paper_bgcolor": "rgba(255, 255, 255, 1.000)",
        "plot_bgcolor": "rgba(255, 255, 255, 1.000)",
        "showlegend": true,
        "width": 600,
        "xaxis": {
         "anchor": "y",
         "domain": [
          0.09128390201224845,
          0.9934383202099738
         ],
         "gridcolor": "rgba(0, 0, 0, 0.1)",
         "gridwidth": 0.5,
         "linecolor": "rgba(0, 0, 0, 1)",
         "mirror": false,
         "range": [
          0.973,
          1.927
         ],
         "showgrid": true,
         "showline": true,
         "showticklabels": true,
         "tickangle": 0,
         "tickcolor": "rgb(0, 0, 0)",
         "tickfont": {
          "color": "rgba(0, 0, 0, 1)",
          "family": "sans-serif",
          "size": 11
         },
         "tickmode": "array",
         "ticks": "inside",
         "ticktext": [
          "1.0",
          "1.2",
          "1.4",
          "1.6",
          "1.8"
         ],
         "tickvals": [
          1,
          1.2000000000000002,
          1.4000000000000001,
          1.6,
          1.8
         ],
         "title": {
          "font": {
           "color": "rgba(0, 0, 0, 1)",
           "family": "sans-serif",
           "size": 15
          },
          "text": "x"
         },
         "type": "linear",
         "visible": true,
         "zeroline": false,
         "zerolinecolor": "rgba(0, 0, 0, 1)"
        },
        "yaxis": {
         "anchor": "x",
         "domain": [
          0.07581474190726165,
          0.9901574803149606
         ],
         "gridcolor": "rgba(0, 0, 0, 0.1)",
         "gridwidth": 0.5,
         "linecolor": "rgba(0, 0, 0, 1)",
         "mirror": false,
         "range": [
          1.736832031249997,
          2.903246093749998
         ],
         "showgrid": true,
         "showline": true,
         "showticklabels": true,
         "tickangle": 0,
         "tickcolor": "rgb(0, 0, 0)",
         "tickfont": {
          "color": "rgba(0, 0, 0, 1)",
          "family": "sans-serif",
          "size": 11
         },
         "tickmode": "array",
         "ticks": "inside",
         "ticktext": [
          "1.75",
          "2.00",
          "2.25",
          "2.50",
          "2.75"
         ],
         "tickvals": [
          1.75,
          2,
          2.25,
          2.5,
          2.75
         ],
         "title": {
          "font": {
           "color": "rgba(0, 0, 0, 1)",
           "family": "sans-serif",
           "size": 15
          },
          "text": "y"
         },
         "type": "linear",
         "visible": true,
         "zeroline": false,
         "zerolinecolor": "rgba(0, 0, 0, 1)"
        }
       }
      },
      "image/png": "[encoded data removed]",
      "text/html": [
       "    <div id=\"1668dd12-46ef-45eb-b858-9d2365076084\" style=\"width:600px;height:400px;\"></div>\n",
       "    <script>\n",
       "        requirejs.config({\n",
       "        paths: {\n",
       "            plotly: 'https://cdn.plot.ly/plotly-2.6.3.min'\n",
       "        }\n",
       "    });\n",
       "    require(['plotly'], function (Plotly) {\n",
       "\n",
       "    Plotly.newPlot('1668dd12-46ef-45eb-b858-9d2365076084', [\n",
       "    {\n",
       "        \"xaxis\": \"x\",\n",
       "        \"colorbar\": {\n",
       "            \"y\": 0.5329861111111112,\n",
       "            \"title\": \"\",\n",
       "            \"len\": 0.914342738407699,\n",
       "            \"x\": 0.9934383202099738\n",
       "        },\n",
       "        \"yaxis\": \"y\",\n",
       "        \"x\": [\n",
       "            1.0,\n",
       "            1.1,\n",
       "            1.3,\n",
       "            1.5,\n",
       "            1.9\n",
       "        ],\n",
       "        \"showlegend\": true,\n",
       "        \"mode\": \"markers\",\n",
       "        \"name\": \"data points\",\n",
       "        \"legendgroup\": \"data points\",\n",
       "        \"marker\": {\n",
       "            \"symbol\": \"circle\",\n",
       "            \"color\": \"rgba(0, 154, 250, 1.000)\",\n",
       "            \"line\": {\n",
       "                \"color\": \"rgba(0, 0, 0, 1.000)\",\n",
       "                \"width\": 1\n",
       "            },\n",
       "            \"size\": 8\n",
       "        },\n",
       "        \"y\": [\n",
       "            1.77,\n",
       "            1.89,\n",
       "            2.14,\n",
       "            2.38,\n",
       "            2.87\n",
       "        ],\n",
       "        \"type\": \"scatter\"\n",
       "    },\n",
       "    {\n",
       "        \"xaxis\": \"x\",\n",
       "        \"colorbar\": {\n",
       "            \"y\": 0.5329861111111112,\n",
       "            \"title\": \"\",\n",
       "            \"len\": 0.914342738407699,\n",
       "            \"x\": 0.9934383202099738\n",
       "        },\n",
       "        \"yaxis\": \"y\",\n",
       "        \"x\": [\n",
       "            1.0,\n",
       "            1.1,\n",
       "            1.3,\n",
       "            1.5,\n",
       "            1.9\n",
       "        ],\n",
       "        \"showlegend\": true,\n",
       "        \"mode\": \"lines\",\n",
       "        \"name\": \"fit curve\",\n",
       "        \"legendgroup\": \"fit curve\",\n",
       "        \"line\": {\n",
       "            \"color\": \"rgba(227, 111, 71, 1.000)\",\n",
       "            \"shape\": \"linear\",\n",
       "            \"dash\": \"solid\",\n",
       "            \"width\": 1\n",
       "        },\n",
       "        \"y\": [\n",
       "            1.769843749999997,\n",
       "            1.8921093749999973,\n",
       "            2.1366406249999974,\n",
       "            2.381171874999998,\n",
       "            2.870234374999998\n",
       "        ],\n",
       "        \"type\": \"scatter\"\n",
       "    }\n",
       "]\n",
       ", {\n",
       "    \"showlegend\": true,\n",
       "    \"xaxis\": {\n",
       "        \"showticklabels\": true,\n",
       "        \"gridwidth\": 0.5,\n",
       "        \"tickvals\": [\n",
       "            1.0,\n",
       "            1.2000000000000002,\n",
       "            1.4000000000000001,\n",
       "            1.6,\n",
       "            1.8\n",
       "        ],\n",
       "        \"range\": [\n",
       "            0.973,\n",
       "            1.927\n",
       "        ],\n",
       "        \"domain\": [\n",
       "            0.09128390201224845,\n",
       "            0.9934383202099738\n",
       "        ],\n",
       "        \"mirror\": false,\n",
       "        \"tickangle\": 0,\n",
       "        \"showline\": true,\n",
       "        \"ticktext\": [\n",
       "            \"1.0\",\n",
       "            \"1.2\",\n",
       "            \"1.4\",\n",
       "            \"1.6\",\n",
       "            \"1.8\"\n",
       "        ],\n",
       "        \"zeroline\": false,\n",
       "        \"tickfont\": {\n",
       "            \"color\": \"rgba(0, 0, 0, 1.000)\",\n",
       "            \"family\": \"sans-serif\",\n",
       "            \"size\": 11\n",
       "        },\n",
       "        \"zerolinecolor\": \"rgba(0, 0, 0, 1.000)\",\n",
       "        \"anchor\": \"y\",\n",
       "        \"visible\": true,\n",
       "        \"ticks\": \"inside\",\n",
       "        \"tickmode\": \"array\",\n",
       "        \"linecolor\": \"rgba(0, 0, 0, 1.000)\",\n",
       "        \"showgrid\": true,\n",
       "        \"title\": \"x\",\n",
       "        \"gridcolor\": \"rgba(0, 0, 0, 0.100)\",\n",
       "        \"titlefont\": {\n",
       "            \"color\": \"rgba(0, 0, 0, 1.000)\",\n",
       "            \"family\": \"sans-serif\",\n",
       "            \"size\": 15\n",
       "        },\n",
       "        \"tickcolor\": \"rgb(0, 0, 0)\",\n",
       "        \"type\": \"-\"\n",
       "    },\n",
       "    \"paper_bgcolor\": \"rgba(255, 255, 255, 1.000)\",\n",
       "    \"annotations\": [],\n",
       "    \"height\": 400,\n",
       "    \"margin\": {\n",
       "        \"l\": 0,\n",
       "        \"b\": 20,\n",
       "        \"r\": 0,\n",
       "        \"t\": 20\n",
       "    },\n",
       "    \"plot_bgcolor\": \"rgba(255, 255, 255, 1.000)\",\n",
       "    \"yaxis\": {\n",
       "        \"showticklabels\": true,\n",
       "        \"gridwidth\": 0.5,\n",
       "        \"tickvals\": [\n",
       "            1.75,\n",
       "            2.0,\n",
       "            2.25,\n",
       "            2.5,\n",
       "            2.75\n",
       "        ],\n",
       "        \"range\": [\n",
       "            1.736832031249997,\n",
       "            2.903246093749998\n",
       "        ],\n",
       "        \"domain\": [\n",
       "            0.07581474190726165,\n",
       "            0.9901574803149606\n",
       "        ],\n",
       "        \"mirror\": false,\n",
       "        \"tickangle\": 0,\n",
       "        \"showline\": true,\n",
       "        \"ticktext\": [\n",
       "            \"1.75\",\n",
       "            \"2.00\",\n",
       "            \"2.25\",\n",
       "            \"2.50\",\n",
       "            \"2.75\"\n",
       "        ],\n",
       "        \"zeroline\": false,\n",
       "        \"tickfont\": {\n",
       "            \"color\": \"rgba(0, 0, 0, 1.000)\",\n",
       "            \"family\": \"sans-serif\",\n",
       "            \"size\": 11\n",
       "        },\n",
       "        \"zerolinecolor\": \"rgba(0, 0, 0, 1.000)\",\n",
       "        \"anchor\": \"x\",\n",
       "        \"visible\": true,\n",
       "        \"ticks\": \"inside\",\n",
       "        \"tickmode\": \"array\",\n",
       "        \"linecolor\": \"rgba(0, 0, 0, 1.000)\",\n",
       "        \"showgrid\": true,\n",
       "        \"title\": \"y\",\n",
       "        \"gridcolor\": \"rgba(0, 0, 0, 0.100)\",\n",
       "        \"titlefont\": {\n",
       "            \"color\": \"rgba(0, 0, 0, 1.000)\",\n",
       "            \"family\": \"sans-serif\",\n",
       "            \"size\": 15\n",
       "        },\n",
       "        \"tickcolor\": \"rgb(0, 0, 0)\",\n",
       "        \"type\": \"-\"\n",
       "    },\n",
       "    \"legend\": {\n",
       "        \"yanchor\": \"bottom\",\n",
       "        \"xanchor\": \"right\",\n",
       "        \"bordercolor\": \"rgba(0, 0, 0, 1.000)\",\n",
       "        \"bgcolor\": \"rgba(255, 255, 255, 1.000)\",\n",
       "        \"borderwidth\": 1,\n",
       "        \"tracegroupgap\": 0,\n",
       "        \"y\": 0.07,\n",
       "        \"font\": {\n",
       "            \"color\": \"rgba(0, 0, 0, 1.000)\",\n",
       "            \"family\": \"sans-serif\",\n",
       "            \"size\": 11\n",
       "        },\n",
       "        \"title\": {\n",
       "            \"font\": {\n",
       "                \"color\": \"rgba(0, 0, 0, 1.000)\",\n",
       "                \"family\": \"sans-serif\",\n",
       "                \"size\": 15\n",
       "            },\n",
       "            \"text\": \"\"\n",
       "        },\n",
       "        \"traceorder\": \"normal\",\n",
       "        \"x\": 1.0\n",
       "    },\n",
       "    \"width\": 600\n",
       "}\n",
       ");\n",
       "    });\n",
       "    </script>\n"
      ]
     },
     "execution_count": 13,
     "metadata": {},
     "output_type": "execute_result"
    }
   ],
   "source": [
    "using Plots\n",
    "\n",
    "plotly()\n",
    "scatter(x,y,label=\"data points\",legend=:bottomright)\n",
    "plot!(x,ŷ,label=\"fit curve\")\n",
    "xlabel!(\"x\")\n",
    "ylabel!(\"y\")"
   ]
  },
  {
   "cell_type": "code",
   "execution_count": 11,
   "id": "ffe2e623-5891-4d92-9ca9-e2c16971961d",
   "metadata": {
    "tags": []
   },
   "outputs": [
    {
     "data": {
      "text/plain": [
       "1.7187500000002773e-5"
      ]
     },
     "execution_count": 11,
     "metadata": {},
     "output_type": "execute_result"
    }
   ],
   "source": [
    "E = (X*a.-y)'*(X*a.-y)"
   ]
  },
  {
   "cell_type": "code",
   "execution_count": 12,
   "id": "b0a4cce2-b8b2-4385-868f-e9da955153a2",
   "metadata": {
    "tags": []
   },
   "outputs": [
    {
     "data": {
      "text/markdown": [
       "The result of Error $E$ is 1.7187500000002773e-5"
      ]
     },
     "metadata": {},
     "output_type": "display_data"
    }
   ],
   "source": [
    "display(\"text/markdown\", \"The result of Error \\$E\\$ is $E\")"
   ]
  }
 ],
 "metadata": {
  "kernelspec": {
   "display_name": "Julia 1.8.3",
   "language": "julia",
   "name": "julia-1.8"
  },
  "language_info": {
   "file_extension": ".jl",
   "mimetype": "application/julia",
   "name": "julia",
   "version": "1.8.3"
  }
 },
 "nbformat": 4,
 "nbformat_minor": 5
}
