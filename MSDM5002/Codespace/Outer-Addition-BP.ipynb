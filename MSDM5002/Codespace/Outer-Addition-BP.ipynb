{
 "cells": [
  {
   "cell_type": "markdown",
   "metadata": {},
   "source": [
    "# The Best Practice for outer addition operation in NumPy\n",
    "\n",
    "The outer addition operation is quite common in real practice, so what is the best method to carry out outer addition in NumPy? In this jupyter notebook, I will give the answer with example."
   ]
  },
  {
   "cell_type": "code",
   "execution_count": 13,
   "metadata": {},
   "outputs": [],
   "source": [
    "import numpy as np"
   ]
  },
  {
   "cell_type": "code",
   "execution_count": 14,
   "metadata": {},
   "outputs": [],
   "source": [
    "limit_test=200\n",
    "xx=[i for i in range(-limit_test,limit_test)]\n",
    "yy=[i for i in range(-limit_test,limit_test)]\n",
    "zz=[i for i in range(-limit_test,limit_test)]\n",
    "\n",
    "MX=np.array(xx)**3\n",
    "MY=np.array(yy)**3\n",
    "MZ=np.array(zz)**3"
   ]
  },
  {
   "cell_type": "markdown",
   "metadata": {},
   "source": [
    "## Task\n",
    "\n",
    "The task is to outer add MX, MY and MZ."
   ]
  },
  {
   "cell_type": "markdown",
   "metadata": {},
   "source": [
    "## Different Method\n",
    "\n",
    "### 1. Using python build-in loop with NumPy\n",
    "\n",
    "This method is from `func_check6`."
   ]
  },
  {
   "cell_type": "code",
   "execution_count": 15,
   "metadata": {},
   "outputs": [
    {
     "name": "stdout",
     "output_type": "stream",
     "text": [
      "212 ms ± 1.51 ms per loop (mean ± std. dev. of 7 runs, 1 loop each)\n"
     ]
    }
   ],
   "source": [
    "%%timeit\n",
    "\n",
    "# func_check6\n",
    "\n",
    "xx3=[x**3 for x in xx]\n",
    "yy3=[y**3 for y in yy]\n",
    "zz3=[z**3 for z in zz]\n",
    "\n",
    "XY = np.zeros([len(xx3), len(yy3)], int)\n",
    "for n in range(len(yy3)):\n",
    "    XY[n, :] = MX+yy3[n]\n",
    "\n",
    "XYZ = np.zeros([len(xx3), len(yy3), len(zz3)], int)\n",
    "for n in range(len(zz3)):\n",
    "    XYZ[n, :, :] = XY+zz3[n]"
   ]
  },
  {
   "cell_type": "markdown",
   "metadata": {},
   "source": [
    "## 2. Using transpose\n",
    "\n",
    "This method is from `func_check9`"
   ]
  },
  {
   "cell_type": "code",
   "execution_count": 16,
   "metadata": {},
   "outputs": [
    {
     "name": "stdout",
     "output_type": "stream",
     "text": [
      "476 ms ± 4.94 ms per loop (mean ± std. dev. of 7 runs, 1 loop each)\n"
     ]
    }
   ],
   "source": [
    "%%timeit\n",
    "\n",
    "# func_check9\n",
    "\n",
    "XY=np.zeros([len(xx),len(yy)],int)+MX\n",
    "XY=XY.transpose()+MY\n",
    "    \n",
    "XYZ=np.zeros([len(xx),len(yy),len(zz)],int)+XY\n",
    "XYZ=XYZ.transpose()+MZ"
   ]
  },
  {
   "cell_type": "markdown",
   "metadata": {},
   "source": [
    "## 3. Using outer function in Numpy\n",
    "\n",
    "```python\n",
    "np.add.outer(X,Y)\n",
    "```\n",
    "\n",
    "Any other `ufunc` such as `substract`,`multiply` have `outer` function either."
   ]
  },
  {
   "cell_type": "code",
   "execution_count": 17,
   "metadata": {},
   "outputs": [
    {
     "name": "stdout",
     "output_type": "stream",
     "text": [
      "194 ms ± 2.54 ms per loop (mean ± std. dev. of 7 runs, 10 loops each)\n"
     ]
    }
   ],
   "source": [
    "%%timeit\n",
    "\n",
    "XY=np.add.outer(MX,MY)\n",
    "XYZ=np.add.outer(XY,MZ)"
   ]
  },
  {
   "cell_type": "markdown",
   "metadata": {},
   "source": [
    "## 4. Using np.newaxis to utilize broadcasting\n",
    "\n",
    "```python\n",
    "X[:,np.newaxis]+Y\n",
    "X[:,None]+Y\n",
    "```\n",
    "\n",
    "Since `np.newaxis` is `None`, the two method is same theoretically."
   ]
  },
  {
   "cell_type": "code",
   "execution_count": 18,
   "metadata": {},
   "outputs": [
    {
     "name": "stdout",
     "output_type": "stream",
     "text": [
      "190 ms ± 1.94 ms per loop (mean ± std. dev. of 7 runs, 10 loops each)\n"
     ]
    }
   ],
   "source": [
    "%%timeit\n",
    "\n",
    "XY=MX[...,np.newaxis]+MY\n",
    "XYZ=XY[...,np.newaxis]+MZ"
   ]
  },
  {
   "cell_type": "markdown",
   "metadata": {},
   "source": [
    "## Conclusion\n",
    "\n",
    "Based on timing of each method, it is obvious that using np.newaxis to broadcast and np.add.outer is the best way, considering time consume and code neatness."
   ]
  },
  {
   "cell_type": "markdown",
   "metadata": {},
   "source": [
    "## Be cautious about np.newaxis\n",
    "\n",
    "### Add new axis at the end\n",
    "\n",
    "```python\n",
    "X[...,np.newaxis]\n",
    "```\n",
    "\n",
    "which means adding a new axis at the end of all axis."
   ]
  },
  {
   "cell_type": "code",
   "execution_count": 19,
   "metadata": {},
   "outputs": [
    {
     "data": {
      "text/plain": [
       "(400, 400, 1)"
      ]
     },
     "execution_count": 19,
     "metadata": {},
     "output_type": "execute_result"
    }
   ],
   "source": [
    "XY=MX[:,np.newaxis]+MY\n",
    "XY[...,np.newaxis].shape"
   ]
  },
  {
   "cell_type": "markdown",
   "metadata": {},
   "source": [
    "### Insert new axis\n",
    "\n",
    "```python\n",
    "X[:,np.newaxis]\n",
    "```\n",
    "\n",
    "which means inserting a new axis after the first axis, meanwhile, other axis moving right."
   ]
  },
  {
   "cell_type": "code",
   "execution_count": 20,
   "metadata": {},
   "outputs": [
    {
     "data": {
      "text/plain": [
       "(400, 1, 400)"
      ]
     },
     "execution_count": 20,
     "metadata": {},
     "output_type": "execute_result"
    }
   ],
   "source": [
    "XY=MX[:,np.newaxis]+MY\n",
    "XY[:,np.newaxis].shape"
   ]
  }
 ],
 "metadata": {
  "kernelspec": {
   "display_name": "Python 3.8.7 64-bit",
   "language": "python",
   "name": "python3"
  },
  "language_info": {
   "codemirror_mode": {
    "name": "ipython",
    "version": 3
   },
   "file_extension": ".py",
   "mimetype": "text/x-python",
   "name": "python",
   "nbconvert_exporter": "python",
   "pygments_lexer": "ipython3",
   "version": "3.8.7"
  },
  "vscode": {
   "interpreter": {
    "hash": "570feb405e2e27c949193ac68f46852414290d515b0ba6e5d90d076ed2284471"
   }
  }
 },
 "nbformat": 4,
 "nbformat_minor": 4
}
