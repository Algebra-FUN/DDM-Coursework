{
 "cells": [
  {
   "cell_type": "markdown",
   "id": "common-commissioner",
   "metadata": {},
   "source": [
    "# Midterm Project\n",
    "\n",
    "## Problem 1: Speed and Stopping Distances of Cars\n",
    "\n",
    "Import data from \"cars.csv\"."
   ]
  },
  {
   "cell_type": "code",
   "execution_count": 1,
   "id": "dying-section",
   "metadata": {},
   "outputs": [],
   "source": [
    "cars.data = read.csv('cars.csv')"
   ]
  },
  {
   "cell_type": "markdown",
   "id": "complimentary-croatia",
   "metadata": {},
   "source": [
    "### 1. Use leave-one-out cross validation, and plot the CV errors versus degree of polynomial. \n",
    "Report your finding and conclusion."
   ]
  },
  {
   "cell_type": "code",
   "execution_count": 29,
   "id": "accepting-curtis",
   "metadata": {},
   "outputs": [],
   "source": [
    "library(boot)"
   ]
  },
  {
   "cell_type": "code",
   "execution_count": 8,
   "id": "rapid-compression",
   "metadata": {},
   "outputs": [
    {
     "data": {
      "text/html": [
       "<style>\n",
       ".list-inline {list-style: none; margin:0; padding: 0}\n",
       ".list-inline>li {display: inline-block}\n",
       ".list-inline>li:not(:last-child)::after {content: \"\\00b7\"; padding: 0 .5ex}\n",
       "</style>\n",
       "<ol class=list-inline><li>246.405415952717</li><li>243.029174600149</li><li>246.828775418163</li><li>250.091445053008</li><li>279.686445686865</li><li>327.501375907856</li><li>408.947909017654</li><li>476.436550955773</li><li>318.191738510315</li><li>696.901526612334</li></ol>\n"
      ],
      "text/latex": [
       "\\begin{enumerate*}\n",
       "\\item 246.405415952717\n",
       "\\item 243.029174600149\n",
       "\\item 246.828775418163\n",
       "\\item 250.091445053008\n",
       "\\item 279.686445686865\n",
       "\\item 327.501375907856\n",
       "\\item 408.947909017654\n",
       "\\item 476.436550955773\n",
       "\\item 318.191738510315\n",
       "\\item 696.901526612334\n",
       "\\end{enumerate*}\n"
      ],
      "text/markdown": [
       "1. 246.405415952717\n",
       "2. 243.029174600149\n",
       "3. 246.828775418163\n",
       "4. 250.091445053008\n",
       "5. 279.686445686865\n",
       "6. 327.501375907856\n",
       "7. 408.947909017654\n",
       "8. 476.436550955773\n",
       "9. 318.191738510315\n",
       "10. 696.901526612334\n",
       "\n",
       "\n"
      ],
      "text/plain": [
       " [1] 246.4054 243.0292 246.8288 250.0914 279.6864 327.5014 408.9479 476.4366\n",
       " [9] 318.1917 696.9015"
      ]
     },
     "metadata": {},
     "output_type": "display_data"
    }
   ],
   "source": [
    "cars.loocv.error=rep(0,10)\n",
    "\n",
    "for(i in 1:10){\n",
    "    glm.fit=glm(dist~poly(speed,i),data=cars.data)\n",
    "    cars.loocv.error[i]=cv.glm(cars.data,glm.fit)$delta[1]\n",
    "}\n",
    "cars.loocv.error"
   ]
  },
  {
   "cell_type": "code",
   "execution_count": 9,
   "id": "absolute-today",
   "metadata": {},
   "outputs": [
    {
     "data": {
      "image/png": "[encoded data removed]",
      "text/plain": [
       "Plot with title \"LOOCV on cars.data\""
      ]
     },
     "metadata": {
      "image/png": {
       "height": 420,
       "width": 420
      }
     },
     "output_type": "display_data"
    }
   ],
   "source": [
    "plot(1:10,cars.loocv.error,type='b',xlab=\"Degree of polynomial\",ylab=\"CV Error\",main=\"LOOCV on cars.data\")"
   ]
  },
  {
   "cell_type": "markdown",
   "id": "uniform-delta",
   "metadata": {},
   "source": [
    "From this plot, we can find the CV Error of degree = 2 is the smallest one, so the Quadratic model(dist~speed+speed^2) is the best model for this problem."
   ]
  },
  {
   "cell_type": "markdown",
   "id": "weird-joining",
   "metadata": {},
   "source": [
    "### 2. Use 5-fold cross validation, and plot the CV errors versus degree of polynomial. \n",
    "Report your finding and conclusion."
   ]
  },
  {
   "cell_type": "code",
   "execution_count": 26,
   "id": "fifty-notification",
   "metadata": {},
   "outputs": [
    {
     "data": {
      "image/png": "[encoded data removed]",
      "text/plain": [
       "Plot with title \"5-fold CV on cars.data\""
      ]
     },
     "metadata": {
      "image/png": {
       "height": 420,
       "width": 420
      }
     },
     "output_type": "display_data"
    }
   ],
   "source": [
    "K=5\n",
    "deg.max = 6\n",
    "time.max = 6\n",
    "\n",
    "cars.cv.error.6=matrix(rep(0,deg.max*time.max),deg.max,time.max)\n",
    "for(j in 1:time.max){\n",
    "    set.seed(j+114)\n",
    "    for(i in 1:deg.max){\n",
    "        glm.fit=glm(dist~poly(speed,i),data=cars.data)\n",
    "        cars.cv.error.6[i,j]=cv.glm(cars.data,glm.fit,K=K)$delta[1]\n",
    "    }\n",
    "}\n",
    "matplot(cars.cv.error.6,type='l',col=1:time.max ,xlab=\"Degree of polynomial\",ylab=\"CV Error\",main=\"5-fold CV on cars.data\")"
   ]
  },
  {
   "cell_type": "markdown",
   "id": "enhanced-facility",
   "metadata": {},
   "source": [
    "From this plot, we can find the CV Error of degree = 2 is the smallest one, so the Quadratic model(dist~speed+speed^2) is the best model for this problem."
   ]
  },
  {
   "cell_type": "markdown",
   "id": "greenhouse-confusion",
   "metadata": {},
   "source": [
    "### 3. Compare the above two approaches and report your findings."
   ]
  },
  {
   "cell_type": "markdown",
   "id": "alive-hollow",
   "metadata": {},
   "source": [
    "For this given dataset, two approaches give the same final choice of model——the Quadratic model(dist~speed+speed^2). Since K-fold cross vaildation rely on random dataset split, so the randomness will affect its result, so we have to split dataset multiple times to overcome its unstability, while this unstability also reflect the data balance on the real data distribution."
   ]
  },
  {
   "cell_type": "markdown",
   "id": "constitutional-benchmark",
   "metadata": {},
   "source": [
    "## Problem 2: Titanic – Survival or Not\n",
    "\n",
    "Import data from \"titanic.csv\".\n",
    "\n",
    "Preprocess it with:\n",
    "\n",
    "1. Omit NA sample\n",
    "2. Create feature sex.male from Sex\n",
    "3. Create feature pclass.1st,pclass.2nd,pclass.3rd from pclass"
   ]
  },
  {
   "cell_type": "code",
   "execution_count": 76,
   "id": "vanilla-butterfly",
   "metadata": {},
   "outputs": [],
   "source": [
    "titanic.data=na.omit(read.csv(\"titanic.csv\"))\n",
    "titanic.data$sex.male=as.numeric(titanic.data$Sex==\"male\")\n",
    "titanic.data$pclass.1st=as.numeric(titanic.data$Pclass==1)\n",
    "titanic.data$pclass.2nd=as.numeric(titanic.data$Pclass==2)\n",
    "titanic.data$pclass.3rd=as.numeric(titanic.data$Pclass==3)"
   ]
  },
  {
   "cell_type": "markdown",
   "id": "piano-logic",
   "metadata": {},
   "source": [
    "### 1. Treat survival as response, fit a logistic regression model using predictors pclass, sex, age, sibsp and fare.\n",
    "Report the estimated coefficients for Sex/male and pclass/3rd, and report their 95% confidence intervals.\n",
    "\n",
    "\n",
    "Since pclass.1st, pclass.2nd and pclass.3rd are linear dependent(pclass.2nd=1-pclass.1st-pclass.3rd), in this report we just use the feature pclass.1st and pclass.3rd to represent the PClass."
   ]
  },
  {
   "cell_type": "code",
   "execution_count": 66,
   "id": "automotive-madagascar",
   "metadata": {},
   "outputs": [
    {
     "data": {
      "text/plain": [
       "\n",
       "Call:\n",
       "glm(formula = Survived ~ sex.male + pclass.1st + pclass.3rd + \n",
       "    Age + SibSp + Fare, family = \"binomial\", data = titanic.data)\n",
       "\n",
       "Deviance Residuals: \n",
       "    Min       1Q   Median       3Q      Max  \n",
       "-2.8192  -0.6436  -0.3845   0.6282   2.4471  \n",
       "\n",
       "Coefficients:\n",
       "             Estimate Std. Error z value Pr(>|z|)    \n",
       "(Intercept)  2.863316   0.365804   7.827 4.98e-15 ***\n",
       "sex.male    -2.616107   0.215413 -12.145  < 2e-16 ***\n",
       "pclass.1st   1.308268   0.319741   4.092 4.28e-05 ***\n",
       "pclass.3rd  -1.217522   0.246563  -4.938 7.89e-07 ***\n",
       "Age         -0.044147   0.008262  -5.343 9.13e-08 ***\n",
       "SibSp       -0.393449   0.123221  -3.193  0.00141 ** \n",
       "Fare         0.001750   0.002455   0.713  0.47599    \n",
       "---\n",
       "Signif. codes:  0 '***' 0.001 '**' 0.01 '*' 0.05 '.' 0.1 ' ' 1\n",
       "\n",
       "(Dispersion parameter for binomial family taken to be 1)\n",
       "\n",
       "    Null deviance: 964.52  on 713  degrees of freedom\n",
       "Residual deviance: 636.03  on 707  degrees of freedom\n",
       "AIC: 650.03\n",
       "\n",
       "Number of Fisher Scoring iterations: 5\n"
      ]
     },
     "metadata": {},
     "output_type": "display_data"
    }
   ],
   "source": [
    "library(ROCR);\n",
    "\n",
    "titanic.logmod = glm(Survived~sex.male+pclass.1st+pclass.3rd+Age+SibSp+Fare,family=\"binomial\",data=titanic.data)\n",
    "\n",
    "summary(titanic.logmod)"
   ]
  },
  {
   "cell_type": "markdown",
   "id": "approved-prairie",
   "metadata": {},
   "source": [
    "From the model summary, we can see Survived and sex.male is negative correlated, which proves that the gentleman on the Titanic indeed let lady go first. And Survived and pclass is positve correlated, so the passenagers with higher class have greater surviving probability than lower class. And Survived and Age is negative correlated, so it seems younger people have greater surviving probabiliry than older. Meanwhile Survived and SibSp is negative correlated, so it seems people who have less siblings/spouses aboard have greater surviving probabiliry than other since they don't have to take care of their familiy."
   ]
  },
  {
   "cell_type": "code",
   "execution_count": 32,
   "id": "portable-granny",
   "metadata": {},
   "outputs": [
    {
     "name": "stderr",
     "output_type": "stream",
     "text": [
      "Waiting for profiling to be done...\n",
      "\n"
     ]
    },
    {
     "data": {
      "text/html": [
       "<table>\n",
       "<caption>A matrix: 2 × 2 of type dbl</caption>\n",
       "<thead>\n",
       "\t<tr><th></th><th scope=col>2.5 %</th><th scope=col>97.5 %</th></tr>\n",
       "</thead>\n",
       "<tbody>\n",
       "\t<tr><th scope=row>sex.male</th><td>-3.048940</td><td>-2.2032872</td></tr>\n",
       "\t<tr><th scope=row>pclass.3rd</th><td>-1.705975</td><td>-0.7378443</td></tr>\n",
       "</tbody>\n",
       "</table>\n"
      ],
      "text/latex": [
       "A matrix: 2 × 2 of type dbl\n",
       "\\begin{tabular}{r|ll}\n",
       "  & 2.5 \\% & 97.5 \\%\\\\\n",
       "\\hline\n",
       "\tsex.male & -3.048940 & -2.2032872\\\\\n",
       "\tpclass.3rd & -1.705975 & -0.7378443\\\\\n",
       "\\end{tabular}\n"
      ],
      "text/markdown": [
       "\n",
       "A matrix: 2 × 2 of type dbl\n",
       "\n",
       "| <!--/--> | 2.5 % | 97.5 % |\n",
       "|---|---|---|\n",
       "| sex.male | -3.048940 | -2.2032872 |\n",
       "| pclass.3rd | -1.705975 | -0.7378443 |\n",
       "\n"
      ],
      "text/plain": [
       "           2.5 %     97.5 %    \n",
       "sex.male   -3.048940 -2.2032872\n",
       "pclass.3rd -1.705975 -0.7378443"
      ]
     },
     "metadata": {},
     "output_type": "display_data"
    }
   ],
   "source": [
    "confint(titanic.logmod,c(\"sex.male\",\"pclass.3rd\"),level=0.95)"
   ]
  },
  {
   "cell_type": "markdown",
   "id": "alien-usage",
   "metadata": {},
   "source": [
    "### 2. Now, apply Bootstrap with 1000 repetitions to obtain the 95% confidence intervals for the above coefficients.\n",
    "How do they compare with the reported confidence intervals from above."
   ]
  },
  {
   "cell_type": "code",
   "execution_count": 89,
   "id": "acting-breakdown",
   "metadata": {},
   "outputs": [],
   "source": [
    "titanic.logmod.fn=function(data,index){\n",
    "    return(coef(glm(Survived~sex.male+pclass.1st+pclass.3rd+Age+SibSp+Fare,family=\"binomial\",data=data,subset=index)))\n",
    "}"
   ]
  },
  {
   "cell_type": "code",
   "execution_count": 95,
   "id": "rubber-timeline",
   "metadata": {},
   "outputs": [],
   "source": [
    "set.seed(114514)\n",
    "titanic.logmod.boot<-boot(titanic.data,titanic.logmod.fn,1000)\n",
    "titanic.logmod.boot.sex.male=titanic.logmod.boot$t[,2]\n",
    "titanic.logmod.boot.pclass.3rd=titanic.logmod.boot$t[,4]"
   ]
  },
  {
   "cell_type": "code",
   "execution_count": 96,
   "id": "ideal-agriculture",
   "metadata": {},
   "outputs": [
    {
     "data": {
      "image/png": "[encoded data removed]",
      "text/plain": [
       "Plot with title \"Bootstrap Estimate of sex.male\""
      ]
     },
     "metadata": {
      "image/png": {
       "height": 420,
       "width": 420
      }
     },
     "output_type": "display_data"
    }
   ],
   "source": [
    "hist(titanic.logmod.boot.sex.male,xlab=\"Bootstrap Estimate of sex.male\",main=\"Bootstrap Estimate of sex.male\")"
   ]
  },
  {
   "cell_type": "code",
   "execution_count": 98,
   "id": "healthy-excuse",
   "metadata": {},
   "outputs": [
    {
     "data": {
      "text/html": [
       "<style>\n",
       ".dl-inline {width: auto; margin:0; padding: 0}\n",
       ".dl-inline>dt, .dl-inline>dd {float: none; width: auto; display: inline-block}\n",
       ".dl-inline>dt::after {content: \":\\0020\"; padding-right: .5ex}\n",
       ".dl-inline>dt:not(:first-of-type) {padding-left: .5ex}\n",
       "</style><dl class=dl-inline><dt>2.5%</dt><dd>-3.06330171138055</dd><dt>97.5%</dt><dd>-2.22283948908192</dd></dl>\n"
      ],
      "text/latex": [
       "\\begin{description*}\n",
       "\\item[2.5\\textbackslash{}\\%] -3.06330171138055\n",
       "\\item[97.5\\textbackslash{}\\%] -2.22283948908192\n",
       "\\end{description*}\n"
      ],
      "text/markdown": [
       "2.5%\n",
       ":   -3.0633017113805597.5%\n",
       ":   -2.22283948908192\n",
       "\n"
      ],
      "text/plain": [
       "     2.5%     97.5% \n",
       "-3.063302 -2.222839 "
      ]
     },
     "metadata": {},
     "output_type": "display_data"
    }
   ],
   "source": [
    "quantile(titanic.logmod.boot.sex.male,probs=seq(0.025,0.975,0.95))"
   ]
  },
  {
   "cell_type": "code",
   "execution_count": 99,
   "id": "prospective-halloween",
   "metadata": {},
   "outputs": [
    {
     "data": {
      "image/png": "[encoded data removed]",
      "text/plain": [
       "Plot with title \"Bootstrap Estimate of pclass.3rd\""
      ]
     },
     "metadata": {
      "image/png": {
       "height": 420,
       "width": 420
      }
     },
     "output_type": "display_data"
    }
   ],
   "source": [
    "hist(titanic.logmod.boot.pclass.3rd,xlab=\"Bootstrap Estimate of pclass.3rd\",main=\"Bootstrap Estimate of pclass.3rd\")"
   ]
  },
  {
   "cell_type": "code",
   "execution_count": 100,
   "id": "compound-empire",
   "metadata": {},
   "outputs": [
    {
     "data": {
      "text/html": [
       "<style>\n",
       ".dl-inline {width: auto; margin:0; padding: 0}\n",
       ".dl-inline>dt, .dl-inline>dd {float: none; width: auto; display: inline-block}\n",
       ".dl-inline>dt::after {content: \":\\0020\"; padding-right: .5ex}\n",
       ".dl-inline>dt:not(:first-of-type) {padding-left: .5ex}\n",
       "</style><dl class=dl-inline><dt>2.5%</dt><dd>-1.71862735149273</dd><dt>97.5%</dt><dd>-0.781360299478977</dd></dl>\n"
      ],
      "text/latex": [
       "\\begin{description*}\n",
       "\\item[2.5\\textbackslash{}\\%] -1.71862735149273\n",
       "\\item[97.5\\textbackslash{}\\%] -0.781360299478977\n",
       "\\end{description*}\n"
      ],
      "text/markdown": [
       "2.5%\n",
       ":   -1.7186273514927397.5%\n",
       ":   -0.781360299478977\n",
       "\n"
      ],
      "text/plain": [
       "      2.5%      97.5% \n",
       "-1.7186274 -0.7813603 "
      ]
     },
     "metadata": {},
     "output_type": "display_data"
    }
   ],
   "source": [
    "quantile(titanic.logmod.boot.pclass.3rd,probs=seq(0.025,0.975,0.95))"
   ]
  },
  {
   "cell_type": "markdown",
   "id": "extreme-nightmare",
   "metadata": {},
   "source": [
    "These bootstrap estimates' confidence intervals are quite similar with above result."
   ]
  },
  {
   "cell_type": "markdown",
   "id": "czech-denial",
   "metadata": {},
   "source": [
    "### 3. Explore the dataset as you like and report some of your findings."
   ]
  },
  {
   "cell_type": "markdown",
   "id": "liable-wrist",
   "metadata": {},
   "source": [
    "Use LDA model to explore this dataset"
   ]
  },
  {
   "cell_type": "code",
   "execution_count": 84,
   "id": "acquired-legend",
   "metadata": {},
   "outputs": [
    {
     "data": {
      "text/plain": [
       "Call:\n",
       "lda(Survived ~ Sex + Pclass + Age + SibSp + Fare + Parch, data = titanic.data)\n",
       "\n",
       "Prior probabilities of groups:\n",
       "        0         1 \n",
       "0.5938375 0.4061625 \n",
       "\n",
       "Group means:\n",
       "    Sexmale   Pclass      Age     SibSp     Fare     Parch\n",
       "0 0.8490566 2.485849 30.62618 0.5259434 22.96546 0.3655660\n",
       "1 0.3206897 1.872414 28.34369 0.4931034 51.84321 0.5275862\n",
       "\n",
       "Coefficients of linear discriminants:\n",
       "                 LD1\n",
       "Sexmale -2.026826826\n",
       "Pclass  -0.804709910\n",
       "Age     -0.027085304\n",
       "SibSp   -0.221255390\n",
       "Fare     0.001274598\n",
       "Parch   -0.050270281"
      ]
     },
     "metadata": {},
     "output_type": "display_data"
    }
   ],
   "source": [
    "library(MASS);\n",
    "\n",
    "titanic.lda.mod =lda(Survived~Sex+Pclass+Age+SibSp+Fare+Parch,data=titanic.data)\n",
    "\n",
    "titanic.lda.mod"
   ]
  },
  {
   "cell_type": "markdown",
   "id": "adjusted-island",
   "metadata": {},
   "source": [
    "From Coefficients of linear discriminants, we can conclude that female have greater survived probability than male and passenagers with higher ticket class have greater survived probability. \n",
    "\n",
    "From group means, we can find that about 85% the died passenagers are male and 68% survived passenagers are female. The mean age of died and survived groups are quite same, since most of passenagers are younger people. Although the coefficient of Fare is not significant, but from groups mean, we can find the mean fare of survived passenagers are about 2.5 times greater than died groups."
   ]
  },
  {
   "cell_type": "markdown",
   "id": "extended-philadelphia",
   "metadata": {},
   "source": [
    "## Problem 3: Predicting First-Year College Students’ GPA\n",
    "\n",
    "Import data and library."
   ]
  },
  {
   "cell_type": "code",
   "execution_count": 30,
   "id": "human-swedish",
   "metadata": {},
   "outputs": [],
   "source": [
    "library(leaps,boot);\n",
    "\n",
    "gpa.data = read.csv(\"FirstYearGPA.csv\")"
   ]
  },
  {
   "cell_type": "markdown",
   "id": "adjusted-interstate",
   "metadata": {},
   "source": [
    "### 1. Use all variables to predict students’ first-year GPA, by best subset selection up to the size of 8. \n",
    "Report the 8 best linear models (best model for each model size k = 1,···,8) and plot the R-square versus model size. Which is the best model using adjusted R-square?"
   ]
  },
  {
   "cell_type": "code",
   "execution_count": 31,
   "id": "republican-catering",
   "metadata": {},
   "outputs": [
    {
     "data": {
      "text/plain": [
       "Subset selection object\n",
       "Call: regsubsets.formula(GPA ~ ., data = gpa.data, method = \"exhaustive\", \n",
       "    nbest = 1, nvmax = 8)\n",
       "9 Variables  (and intercept)\n",
       "             Forced in Forced out\n",
       "HSGPA            FALSE      FALSE\n",
       "SATV             FALSE      FALSE\n",
       "SATM             FALSE      FALSE\n",
       "Male             FALSE      FALSE\n",
       "HU               FALSE      FALSE\n",
       "SS               FALSE      FALSE\n",
       "FirstGen         FALSE      FALSE\n",
       "White            FALSE      FALSE\n",
       "CollegeBound     FALSE      FALSE\n",
       "1 subsets of each size up to 8\n",
       "Selection Algorithm: exhaustive\n",
       "         HSGPA SATV SATM Male HU  SS  FirstGen White CollegeBound\n",
       "1  ( 1 ) \"*\"   \" \"  \" \"  \" \"  \" \" \" \" \" \"      \" \"   \" \"         \n",
       "2  ( 1 ) \"*\"   \" \"  \" \"  \" \"  \"*\" \" \" \" \"      \" \"   \" \"         \n",
       "3  ( 1 ) \"*\"   \" \"  \" \"  \" \"  \"*\" \" \" \" \"      \"*\"   \" \"         \n",
       "4  ( 1 ) \"*\"   \"*\"  \" \"  \" \"  \"*\" \" \" \" \"      \"*\"   \" \"         \n",
       "5  ( 1 ) \"*\"   \"*\"  \" \"  \" \"  \"*\" \"*\" \" \"      \"*\"   \" \"         \n",
       "6  ( 1 ) \"*\"   \"*\"  \" \"  \"*\"  \"*\" \"*\" \" \"      \"*\"   \" \"         \n",
       "7  ( 1 ) \"*\"   \"*\"  \" \"  \"*\"  \"*\" \"*\" \"*\"      \"*\"   \" \"         \n",
       "8  ( 1 ) \"*\"   \"*\"  \" \"  \"*\"  \"*\" \"*\" \"*\"      \"*\"   \"*\"         "
      ]
     },
     "metadata": {},
     "output_type": "display_data"
    }
   ],
   "source": [
    "gpa.regfit=regsubsets(GPA~.,data=gpa.data,method=\"exhaustive\",nbest=1,nvmax=8)\n",
    "gpa.regfit.sum=summary(gpa.regfit)\n",
    "gpa.regfit.sum"
   ]
  },
  {
   "cell_type": "code",
   "execution_count": 10,
   "id": "equivalent-wiring",
   "metadata": {},
   "outputs": [
    {
     "data": {
      "image/png": "[encoded data removed]",
      "text/plain": [
       "plot without title"
      ]
     },
     "metadata": {
      "image/png": {
       "height": 420,
       "width": 420
      }
     },
     "output_type": "display_data"
    }
   ],
   "source": [
    "plot(1:8,gpa.regfit.sum$rsq,type=\"b\",col=\"red\",lwd=2,xlab=\"Model sizes\",ylab=\"R-square\")"
   ]
  },
  {
   "cell_type": "code",
   "execution_count": 12,
   "id": "sticky-consistency",
   "metadata": {},
   "outputs": [
    {
     "data": {
      "image/png": "[encoded data removed]",
      "text/plain": [
       "plot without title"
      ]
     },
     "metadata": {
      "image/png": {
       "height": 420,
       "width": 420
      }
     },
     "output_type": "display_data"
    }
   ],
   "source": [
    "plot(1:8,gpa.regfit.sum$adjr2,type=\"b\",col=\"red\",lwd=2,xlab=\"Model sizes\",ylab=\"adjusted R-square\")"
   ]
  },
  {
   "cell_type": "code",
   "execution_count": 22,
   "id": "sticky-authorization",
   "metadata": {},
   "outputs": [
    {
     "data": {
      "text/html": [
       "<style>\n",
       ".list-inline {list-style: none; margin:0; padding: 0}\n",
       ".list-inline>li {display: inline-block}\n",
       ".list-inline>li:not(:last-child)::after {content: \"\\00b7\"; padding: 0 .5ex}\n",
       "</style>\n",
       "<ol class=list-inline><li>0.196020321540252</li><li>0.262954307462351</li><li>0.313644046595438</li><li>0.325115329255573</li><li>0.328342271705114</li><li>0.328513390592907</li><li>0.327800003361184</li><li>0.324742961808235</li></ol>\n"
      ],
      "text/latex": [
       "\\begin{enumerate*}\n",
       "\\item 0.196020321540252\n",
       "\\item 0.262954307462351\n",
       "\\item 0.313644046595438\n",
       "\\item 0.325115329255573\n",
       "\\item 0.328342271705114\n",
       "\\item 0.328513390592907\n",
       "\\item 0.327800003361184\n",
       "\\item 0.324742961808235\n",
       "\\end{enumerate*}\n"
      ],
      "text/markdown": [
       "1. 0.196020321540252\n",
       "2. 0.262954307462351\n",
       "3. 0.313644046595438\n",
       "4. 0.325115329255573\n",
       "5. 0.328342271705114\n",
       "6. 0.328513390592907\n",
       "7. 0.327800003361184\n",
       "8. 0.324742961808235\n",
       "\n",
       "\n"
      ],
      "text/plain": [
       "[1] 0.1960203 0.2629543 0.3136440 0.3251153 0.3283423 0.3285134 0.3278000\n",
       "[8] 0.3247430"
      ]
     },
     "metadata": {},
     "output_type": "display_data"
    }
   ],
   "source": [
    "gpa.regfit.sum$adjr2"
   ]
  },
  {
   "cell_type": "code",
   "execution_count": 20,
   "id": "artificial-silicon",
   "metadata": {},
   "outputs": [
    {
     "data": {
      "text/html": [
       "6"
      ],
      "text/latex": [
       "6"
      ],
      "text/markdown": [
       "6"
      ],
      "text/plain": [
       "[1] 6"
      ]
     },
     "metadata": {},
     "output_type": "display_data"
    }
   ],
   "source": [
    "which.max(gpa.regfit.sum$adjr2)"
   ]
  },
  {
   "cell_type": "markdown",
   "id": "subject-bible",
   "metadata": {},
   "source": [
    "From the plot of the adjusted R-square versus model size, we can see that the linear model with 6 predictors has the largest adjusted R-square, thus we choose the linear model with 6 predictors(GPA\\~HSGPA+SATV+Male+HU+SS+White) as the best model. However, noticed that the adjusted R-square of the linear model with 5 predictors has no significant difference with the linear model with 6 predictors, thus we can also choose the linear model with 5 predictors(GPA\\~HSGPA+SATV+HU+SS+White) as the best model of this sub-problem."
   ]
  },
  {
   "cell_type": "markdown",
   "id": "commercial-beginning",
   "metadata": {},
   "source": [
    "### 2. Repeat Step 1 but choose the best model by 5-fold CV. Report the summary of that model."
   ]
  },
  {
   "cell_type": "code",
   "execution_count": 53,
   "id": "adaptive-dress",
   "metadata": {},
   "outputs": [],
   "source": [
    "set.seed(114514)\n",
    "\n",
    "gpa.regfit=regsubsets(GPA~.,data=gpa.data,method=\"exhaustive\",nbest=1,nvmax=8)\n",
    "gpa.regfit.sum=summary(gpa.regfit)\n",
    "\n",
    "CV5.err=rep(0,8)\n",
    "for(p in 1:8){\n",
    "    dfname=c(\"GPA\",names(gpa.data)[as.numeric(which(gpa.regfit.sum$which[p,]))[-1]])\n",
    "    gpa.data.part=gpa.data[,dfname]\n",
    "    glm.fit=glm(GPA~.,data=gpa.data.part)\n",
    "    cv.err=cv.glm(gpa.data.part,glm.fit,K=5)\n",
    "    CV5.err[p]=cv.err$delta[1] \n",
    "}"
   ]
  },
  {
   "cell_type": "code",
   "execution_count": 54,
   "id": "packed-calculator",
   "metadata": {},
   "outputs": [
    {
     "data": {
      "image/png": "[encoded data removed]",
      "text/plain": [
       "plot without title"
      ]
     },
     "metadata": {
      "image/png": {
       "height": 420,
       "width": 420
      }
     },
     "output_type": "display_data"
    }
   ],
   "source": [
    "plot(1:8,CV5.err,type=\"b\",col=\"red\",lwd=2,xlab=\"Model sizes\",ylab=\"5-fold CV Error\")"
   ]
  },
  {
   "cell_type": "markdown",
   "id": "prime-completion",
   "metadata": {},
   "source": [
    "From this plot of the 5-fold CV Error versus model sizes, we can see the model with 5 predictors has the smallest CV Error, thus we choose it as this best model in the sub-problem."
   ]
  },
  {
   "cell_type": "markdown",
   "id": "broad-sensitivity",
   "metadata": {},
   "source": [
    "#### The summary of the best model in this sub-problem."
   ]
  },
  {
   "cell_type": "code",
   "execution_count": 64,
   "id": "optimum-gilbert",
   "metadata": {},
   "outputs": [
    {
     "data": {
      "text/plain": [
       "\n",
       "Call:\n",
       "lm(formula = GPA ~ ., data = gpa.data.part)\n",
       "\n",
       "Residuals:\n",
       "     Min       1Q   Median       3Q      Max \n",
       "-1.08660 -0.25827  0.04326  0.25822  0.87954 \n",
       "\n",
       "Coefficients:\n",
       "             Estimate Std. Error t value Pr(>|t|)    \n",
       "(Intercept) 0.5684876  0.2827454   2.011  0.04563 *  \n",
       "HSGPA       0.4739983  0.0709413   6.682 2.03e-10 ***\n",
       "SATV        0.0007481  0.0003410   2.194  0.02932 *  \n",
       "HU          0.0167447  0.0038183   4.385 1.82e-05 ***\n",
       "SS          0.0077474  0.0054401   1.424  0.15587    \n",
       "White       0.2060408  0.0685881   3.004  0.00298 ** \n",
       "---\n",
       "Signif. codes:  0 '***' 0.001 '**' 0.01 '*' 0.05 '.' 0.1 ' ' 1\n",
       "\n",
       "Residual standard error: 0.3815 on 213 degrees of freedom\n",
       "Multiple R-squared:  0.3437,\tAdjusted R-squared:  0.3283 \n",
       "F-statistic: 22.31 on 5 and 213 DF,  p-value: < 2.2e-16\n"
      ]
     },
     "metadata": {},
     "output_type": "display_data"
    }
   ],
   "source": [
    "dfname=c(\"GPA\",names(gpa.data)[as.numeric(which(gpa.regfit.sum$which[5,]))[-1]])\n",
    "gpa.data.part=gpa.data[,dfname]\n",
    "best.mod.fit=lm(GPA~.,data=gpa.data.part)\n",
    "summary(best.mod.fit)"
   ]
  },
  {
   "cell_type": "markdown",
   "id": "heavy-listing",
   "metadata": {},
   "source": [
    "### 3. Use all variables to predict students’ first-year GPA, by forward stepwise selection up to the size of 8. \n",
    "Report the 8 (best model for each model size k = 1,···,8) best linear models and plot the adjusted R-square versus\n",
    "model size. Which is the best model using BIC?"
   ]
  },
  {
   "cell_type": "code",
   "execution_count": 27,
   "id": "collaborative-syria",
   "metadata": {},
   "outputs": [
    {
     "data": {
      "text/plain": [
       "Subset selection object\n",
       "Call: regsubsets.formula(GPA ~ ., data = gpa.data, method = \"forward\", \n",
       "    nvmax = 8)\n",
       "9 Variables  (and intercept)\n",
       "             Forced in Forced out\n",
       "HSGPA            FALSE      FALSE\n",
       "SATV             FALSE      FALSE\n",
       "SATM             FALSE      FALSE\n",
       "Male             FALSE      FALSE\n",
       "HU               FALSE      FALSE\n",
       "SS               FALSE      FALSE\n",
       "FirstGen         FALSE      FALSE\n",
       "White            FALSE      FALSE\n",
       "CollegeBound     FALSE      FALSE\n",
       "1 subsets of each size up to 8\n",
       "Selection Algorithm: forward\n",
       "         HSGPA SATV SATM Male HU  SS  FirstGen White CollegeBound\n",
       "1  ( 1 ) \"*\"   \" \"  \" \"  \" \"  \" \" \" \" \" \"      \" \"   \" \"         \n",
       "2  ( 1 ) \"*\"   \" \"  \" \"  \" \"  \"*\" \" \" \" \"      \" \"   \" \"         \n",
       "3  ( 1 ) \"*\"   \" \"  \" \"  \" \"  \"*\" \" \" \" \"      \"*\"   \" \"         \n",
       "4  ( 1 ) \"*\"   \"*\"  \" \"  \" \"  \"*\" \" \" \" \"      \"*\"   \" \"         \n",
       "5  ( 1 ) \"*\"   \"*\"  \" \"  \" \"  \"*\" \"*\" \" \"      \"*\"   \" \"         \n",
       "6  ( 1 ) \"*\"   \"*\"  \" \"  \"*\"  \"*\" \"*\" \" \"      \"*\"   \" \"         \n",
       "7  ( 1 ) \"*\"   \"*\"  \" \"  \"*\"  \"*\" \"*\" \"*\"      \"*\"   \" \"         \n",
       "8  ( 1 ) \"*\"   \"*\"  \" \"  \"*\"  \"*\" \"*\" \"*\"      \"*\"   \"*\"         "
      ]
     },
     "metadata": {},
     "output_type": "display_data"
    }
   ],
   "source": [
    "gpa.regfit=regsubsets(GPA~.,data=gpa.data,method=\"forward\",nvmax=8)\n",
    "gpa.regfit.sum=summary(gpa.regfit)\n",
    "gpa.regfit.sum"
   ]
  },
  {
   "cell_type": "code",
   "execution_count": 25,
   "id": "completed-proceeding",
   "metadata": {},
   "outputs": [
    {
     "data": {
      "image/png": "[encoded data removed]",
      "text/plain": [
       "plot without title"
      ]
     },
     "metadata": {
      "image/png": {
       "height": 420,
       "width": 420
      }
     },
     "output_type": "display_data"
    }
   ],
   "source": [
    "plot(1:8,gpa.regfit.sum$adjr2,type=\"b\",col=\"red\",lwd=2,xlab=\"Model sizes\",ylab=\"adjusted R-square\")"
   ]
  },
  {
   "cell_type": "code",
   "execution_count": 28,
   "id": "earned-heritage",
   "metadata": {},
   "outputs": [
    {
     "data": {
      "image/png": "[encoded data removed]",
      "text/plain": [
       "plot without title"
      ]
     },
     "metadata": {
      "image/png": {
       "height": 420,
       "width": 420
      }
     },
     "output_type": "display_data"
    }
   ],
   "source": [
    "plot(1:8,gpa.regfit.sum$bic,type=\"b\",col=\"red\",lwd=2,xlab=\"Model sizes\",ylab=\"BIC\")"
   ]
  },
  {
   "cell_type": "markdown",
   "id": "developmental-rugby",
   "metadata": {},
   "source": [
    "From the plot of the BIC versus model size, we can see that the linear model with 3 predictors has the smallest BIC, thus we choose the linear model with 3 predictors(GPA\\~HSGPA+HU+White) as the best model. "
   ]
  },
  {
   "cell_type": "markdown",
   "id": "virgin-battle",
   "metadata": {},
   "source": [
    "### 4. Repeat Step 3 but choose the best model by 5-fold CV. Report the summary of that model."
   ]
  },
  {
   "cell_type": "code",
   "execution_count": 66,
   "id": "selected-indian",
   "metadata": {},
   "outputs": [],
   "source": [
    "set.seed(114514)\n",
    "\n",
    "gpa.regfit=regsubsets(GPA~.,data=gpa.data,method=\"forward\",nvmax=8)\n",
    "gpa.regfit.sum=summary(gpa.regfit)\n",
    "\n",
    "CV5.err=rep(0,8)\n",
    "for(p in 1:8){\n",
    "    dfname=c(\"GPA\",names(gpa.data)[as.numeric(which(gpa.regfit.sum$which[p,]))[-1]])\n",
    "    gpa.data.part=gpa.data[,dfname]\n",
    "    glm.fit=glm(GPA~.,data=gpa.data.part)\n",
    "    cv.err=cv.glm(gpa.data.part,glm.fit,K=5)\n",
    "    CV5.err[p]=cv.err$delta[1] \n",
    "}"
   ]
  },
  {
   "cell_type": "code",
   "execution_count": 67,
   "id": "incorporated-trauma",
   "metadata": {},
   "outputs": [
    {
     "data": {
      "image/png": "[encoded data removed]",
      "text/plain": [
       "plot without title"
      ]
     },
     "metadata": {
      "image/png": {
       "height": 420,
       "width": 420
      }
     },
     "output_type": "display_data"
    }
   ],
   "source": [
    "plot(1:8,CV5.err,type=\"b\",col=\"red\",lwd=2,xlab=\"Model sizes\",ylab=\"5-fold CV Error\")"
   ]
  },
  {
   "cell_type": "markdown",
   "id": "compliant-fabric",
   "metadata": {},
   "source": [
    "From this plot of the 5-fold CV Error versus model sizes, we can see the model with 5 predictors has the smallest CV Error, thus we choose it as this best model in the sub-problem."
   ]
  },
  {
   "cell_type": "markdown",
   "id": "broadband-citizenship",
   "metadata": {},
   "source": [
    "#### The summary of the best model in this sub-problem."
   ]
  },
  {
   "cell_type": "code",
   "execution_count": 68,
   "id": "incorporated-camping",
   "metadata": {},
   "outputs": [
    {
     "data": {
      "text/plain": [
       "\n",
       "Call:\n",
       "lm(formula = GPA ~ ., data = gpa.data.part)\n",
       "\n",
       "Residuals:\n",
       "     Min       1Q   Median       3Q      Max \n",
       "-1.08660 -0.25827  0.04326  0.25822  0.87954 \n",
       "\n",
       "Coefficients:\n",
       "             Estimate Std. Error t value Pr(>|t|)    \n",
       "(Intercept) 0.5684876  0.2827454   2.011  0.04563 *  \n",
       "HSGPA       0.4739983  0.0709413   6.682 2.03e-10 ***\n",
       "SATV        0.0007481  0.0003410   2.194  0.02932 *  \n",
       "HU          0.0167447  0.0038183   4.385 1.82e-05 ***\n",
       "SS          0.0077474  0.0054401   1.424  0.15587    \n",
       "White       0.2060408  0.0685881   3.004  0.00298 ** \n",
       "---\n",
       "Signif. codes:  0 '***' 0.001 '**' 0.01 '*' 0.05 '.' 0.1 ' ' 1\n",
       "\n",
       "Residual standard error: 0.3815 on 213 degrees of freedom\n",
       "Multiple R-squared:  0.3437,\tAdjusted R-squared:  0.3283 \n",
       "F-statistic: 22.31 on 5 and 213 DF,  p-value: < 2.2e-16\n"
      ]
     },
     "metadata": {},
     "output_type": "display_data"
    }
   ],
   "source": [
    "dfname=c(\"GPA\",names(gpa.data)[as.numeric(which(gpa.regfit.sum$which[5,]))[-1]])\n",
    "gpa.data.part=gpa.data[,dfname]\n",
    "best.mod.fit=lm(GPA~.,data=gpa.data.part)\n",
    "summary(best.mod.fit)"
   ]
  },
  {
   "cell_type": "markdown",
   "id": "changed-irrigation",
   "metadata": {},
   "source": [
    "## Problem 4: Prediction of the Progression of Diabetes\n",
    "\n",
    "First of all, load trainning and test data and import used library."
   ]
  },
  {
   "cell_type": "code",
   "execution_count": 2,
   "id": "linear-improvement",
   "metadata": {},
   "outputs": [],
   "source": [
    "library(glmnet);\n",
    "\n",
    "diab.data.train=read.csv(\"diabetes_train.csv\")\n",
    "diab.data.test=read.csv(\"diabetes_test.csv\")"
   ]
  },
  {
   "cell_type": "markdown",
   "id": "adolescent-injury",
   "metadata": {},
   "source": [
    "Notice that there are some features are originally coded by number 1 and 2, but they are replicated, so we drop these features coded by number 1 and 2."
   ]
  },
  {
   "cell_type": "code",
   "execution_count": 3,
   "id": "secure-apple",
   "metadata": {},
   "outputs": [],
   "source": [
    "diab.data.train=subset(diab.data.train,select=-c(age.1,sex.1,bmi.1,map.1,tc.1,ldl.1,hdl.1,tch.1,ltg.1,glu.1,age.2,bmi.2,map.2,tc.2,ldl.2,hdl.2,tch.2,ltg.2,glu.2))\n",
    "diab.data.test=subset(diab.data.test,select=-c(age.1,sex.1,bmi.1,map.1,tc.1,ldl.1,hdl.1,tch.1,ltg.1,glu.1,age.2,bmi.2,map.2,tc.2,ldl.2,hdl.2,tch.2,ltg.2,glu.2))"
   ]
  },
  {
   "cell_type": "markdown",
   "id": "regulated-advertiser",
   "metadata": {},
   "source": [
    "Since notice that all the input features are already standardized, then I don't have to standardize them on my own."
   ]
  },
  {
   "cell_type": "markdown",
   "id": "dutch-cancer",
   "metadata": {},
   "source": [
    "### 1. Use the train dataset to fit LASSO estimators \n",
    "with regularization parameter λ chosen from the grid $10^{seq(4,−2,length=100)}$. Plot the coefficients versus the $l_1$ norm. Report any findings you think interesting."
   ]
  },
  {
   "cell_type": "code",
   "execution_count": 4,
   "id": "unusual-thong",
   "metadata": {},
   "outputs": [],
   "source": [
    "grid=10^seq(4,-2,length=100)\n",
    "x=model.matrix(Y~.,diab.data.train)[,-1]\n",
    "y=diab.data.train$Y"
   ]
  },
  {
   "cell_type": "code",
   "execution_count": 42,
   "id": "metric-honolulu",
   "metadata": {},
   "outputs": [
    {
     "name": "stderr",
     "output_type": "stream",
     "text": [
      "Warning message in regularize.values(x, y, ties, missing(ties), na.rm = na.rm):\n",
      "\"collapsing to unique 'x' values\"\n"
     ]
    },
    {
     "data": {
      "image/png": "[encoded data removed]",
      "text/plain": [
       "plot without title"
      ]
     },
     "metadata": {
      "image/png": {
       "height": 420,
       "width": 420
      }
     },
     "output_type": "display_data"
    }
   ],
   "source": [
    "lasso.mod=glmnet(x,y,alpha=1,lambda=grid)\n",
    "plot(lasso.mod)"
   ]
  },
  {
   "cell_type": "markdown",
   "id": "allied-entity",
   "metadata": {},
   "source": [
    "Any interested finding?"
   ]
  },
  {
   "cell_type": "code",
   "execution_count": 63,
   "id": "relevant-adaptation",
   "metadata": {},
   "outputs": [
    {
     "name": "stderr",
     "output_type": "stream",
     "text": [
      "   [[ suppressing 20 column names 's39', 's40', 's41' ... ]]\n",
      "\n"
     ]
    },
    {
     "data": {
      "text/plain": [
       "30 x 20 sparse Matrix of class \"dgCMatrix\"\n",
       "                                                                       \n",
       "age      .         .         .        .        .        .        .     \n",
       "sex      .         .         .        .        .        .        .     \n",
       "bmi     61.19573 153.30136 224.0172 285.5201 339.0122 385.5369 416.6300\n",
       "map      .         .         .        .        .        .       31.2602\n",
       "tc       .         .         .        .        .        .        .     \n",
       "ldl      .         .         .        .        .        .        .     \n",
       "hdl      .         .         .        .        .        .        .     \n",
       "tch      .         .         .        .        .        .        .     \n",
       "ltg      .        57.55162 129.8938 192.8142 247.5392 295.1362 328.2691\n",
       "glu      .         .         .        .        .        .        .     \n",
       "age.sex  .         .         .        .        .        .        .     \n",
       "age.bmi  .         .         .        .        .        .        .     \n",
       "age.map  .         .         .        .        .        .        .     \n",
       "age.tc   .         .         .        .        .        .        .     \n",
       "age.ldl  .         .         .        .        .        .        .     \n",
       "age.hdl  .         .         .        .        .        .        .     \n",
       "age.tch  .         .         .        .        .        .        .     \n",
       "age.ltg  .         .         .        .        .        .        .     \n",
       "age.glu  .         .         .        .        .        .        .     \n",
       "sex.bmi  .         .         .        .        .        .        .     \n",
       "sex.map  .         .         .        .        .        .        .     \n",
       "sex.tc   .         .         .        .        .        .        .     \n",
       "sex.ldl  .         .         .        .        .        .        .     \n",
       "sex.hdl  .         .         .        .        .        .        .     \n",
       "sex.tch  .         .         .        .        .        .        .     \n",
       "sex.ltg  .         .         .        .        .        .        .     \n",
       "sex.glu  .         .         .        .        .        .        .     \n",
       "bmi.map  .         .         .        .        .        .        .     \n",
       "bmi.tc   .         .         .        .        .        .        .     \n",
       "bmi.ldl  .         .         .        .        .        .        .     \n",
       "                                                                             \n",
       "age       .         .         .        .        .          .         .       \n",
       "sex       .         .         .        .        .          .         .       \n",
       "bmi     443.32793 466.51581 486.6834 504.1707 515.452425 523.24025 531.029790\n",
       "map      60.06214  85.07887 106.8372 125.7292 138.451357 146.95489 154.881785\n",
       "tc        .         .         .        .        .          .         .       \n",
       "ldl       .         .         .        .        .          .         .       \n",
       "hdl       .         .         .        .      -12.219894 -27.93949 -41.197109\n",
       "tch       .         .         .        .        .          .         .       \n",
       "ltg     356.59881 381.26630 402.7208 421.4172 433.595494 441.56723 447.779791\n",
       "glu       .         .         .        .        5.951471  16.65010  25.376302\n",
       "age.sex   .         .         .        .        .          .         .       \n",
       "age.bmi   .         .         .        .        .          .         .       \n",
       "age.map   .         .         .        .        .          .         .       \n",
       "age.tc    .         .         .        .        .          .         .       \n",
       "age.ldl   .         .         .        .        .          .         .       \n",
       "age.hdl   .         .         .        .        .          .         .       \n",
       "age.tch   .         .         .        .        .          .         .       \n",
       "age.ltg   .         .         .        .        .          .         5.577508\n",
       "age.glu   .         .         .        .        .          .         2.408053\n",
       "sex.bmi   .         .         .        .        .          .         .       \n",
       "sex.map   .         .         .        .        .          .         .       \n",
       "sex.tc    .         .         .        .        .          .         .       \n",
       "sex.ldl   .         .         .        .        .          .         .       \n",
       "sex.hdl   .         .         .        .        .          .         .       \n",
       "sex.tch   .         .         .        .        .          .         .       \n",
       "sex.ltg   .         .         .        .        .          .         .       \n",
       "sex.glu   .         .         .        .        .          .         .       \n",
       "bmi.map   .         .         .        .       18.847459  44.36518  64.685855\n",
       "bmi.tc    .         .         .        .        .          .         .       \n",
       "bmi.ldl   .         .         .        .        .          .         .       \n",
       "                                                                            \n",
       "age       .          .          .           .           .           .       \n",
       "sex     -15.795699 -46.156496 -72.402091  -97.073108 -118.994729 -137.884898\n",
       "bmi     535.232074 535.417063 535.785439  533.122319  530.107541  527.704368\n",
       "map     166.715576 180.879568 193.192720  204.393461  214.082046  222.389460\n",
       "tc        .          .          .           .           .           .       \n",
       "ldl       .          .          .           .           .           .       \n",
       "hdl     -57.088892 -77.721690 -95.509759 -114.490715 -132.014167 -147.082300\n",
       "tch       .          .          .           .           .           .       \n",
       "ltg     454.308721 459.121386 463.286022  467.567923  471.306907  474.563855\n",
       "glu      35.506671  46.362716  55.713874   63.974533   71.309186   77.682692\n",
       "age.sex  17.687146  35.882483  51.743295   66.017513   78.375740   89.071492\n",
       "age.bmi   .          .          .           .           .           .       \n",
       "age.map   1.100975   4.207615   6.814402    7.932605    8.920687    9.725346\n",
       "age.tc    .          .          .           .           .           .       \n",
       "age.ldl   .          .          .           .           .           .       \n",
       "age.hdl   .          .          .           .           .           .       \n",
       "age.tch   .          .          .           .           .           .       \n",
       "age.ltg  14.716701  20.557551  25.581718   30.127612   34.358090   38.043923\n",
       "age.glu   8.630170  11.315031  13.737107   14.364087   14.298459   14.345319\n",
       "sex.bmi   .          .          .           .           .           .       \n",
       "sex.map   .          .          .           .           .           .       \n",
       "sex.tc    .          .          .           .           .           .       \n",
       "sex.ldl   .          .          .           .           .           .       \n",
       "sex.hdl   .          .          .           .           .           .       \n",
       "sex.tch   .          .          .           .           .           .       \n",
       "sex.ltg   .          .          .           .           .           .       \n",
       "sex.glu   .          .          .           .           .           .       \n",
       "bmi.map  80.264520  94.281977 106.183800  113.390005  119.454612  124.773618\n",
       "bmi.tc    .          .          .           .           .           .       \n",
       "bmi.ldl   .          .          .           .           .           .       "
      ]
     },
     "metadata": {},
     "output_type": "display_data"
    }
   ],
   "source": [
    "lasso.mod$beta[1:30,40:59]"
   ]
  },
  {
   "cell_type": "markdown",
   "id": "generous-genome",
   "metadata": {},
   "source": [
    "#### Some interesting finding\n",
    "\n",
    "From the plot the coefficients versus the $l_1$ norm and the coefficient of different lambda, we can find that bmi and ltg play the most significant role in this model. We know bmi is \"body mass index\", so this model show the truth that the fat person has the greater probability to have this disease and the progression of diabetes.\n",
    "\n",
    "Meanwhile, we find that the influence of most of interaction of baseline variables is less than original baseline variables, which means if we want simple model we can just drop this interaction term in the model."
   ]
  },
  {
   "cell_type": "markdown",
   "id": "short-exclusion",
   "metadata": {},
   "source": [
    "### 2. Use train dataset to fit LASSO and apply 10-fold cross validation. \n",
    "Plot the CV error versus the values of lambda. What is the best lambda value according CV error? Report the linear model using the best lambda\n",
    "value, how many variables are included in the model, what are they?"
   ]
  },
  {
   "cell_type": "code",
   "execution_count": 6,
   "id": "brutal-service",
   "metadata": {},
   "outputs": [
    {
     "data": {
      "image/png": "[encoded data removed]",
      "text/plain": [
       "plot without title"
      ]
     },
     "metadata": {
      "image/png": {
       "height": 420,
       "width": 420
      }
     },
     "output_type": "display_data"
    }
   ],
   "source": [
    "set.seed(114514)\n",
    "\n",
    "cv.lasso=cv.glmnet(x,y,alpha=1,nfolds=10)\n",
    "plot(cv.lasso)"
   ]
  },
  {
   "cell_type": "code",
   "execution_count": 26,
   "id": "technical-portland",
   "metadata": {},
   "outputs": [
    {
     "data": {
      "text/html": [
       "1.11938485485054"
      ],
      "text/latex": [
       "1.11938485485054"
      ],
      "text/markdown": [
       "1.11938485485054"
      ],
      "text/plain": [
       "[1] 1.119385"
      ]
     },
     "metadata": {},
     "output_type": "display_data"
    }
   ],
   "source": [
    "# the best lambda value according CV error\n",
    "best.lambda=cv.lasso$lambda.min\n",
    "best.lambda"
   ]
  },
  {
   "cell_type": "markdown",
   "id": "criminal-basis",
   "metadata": {},
   "source": [
    "The best lambda value according CV error is printed above."
   ]
  },
  {
   "cell_type": "code",
   "execution_count": 29,
   "id": "prompt-copying",
   "metadata": {},
   "outputs": [
    {
     "data": {
      "text/html": [
       "<style>\n",
       ".dl-inline {width: auto; margin:0; padding: 0}\n",
       ".dl-inline>dt, .dl-inline>dd {float: none; width: auto; display: inline-block}\n",
       ".dl-inline>dt::after {content: \":\\0020\"; padding-right: .5ex}\n",
       ".dl-inline>dt:not(:first-of-type) {padding-left: .5ex}\n",
       "</style><dl class=dl-inline><dt>(Intercept)</dt><dd>150.690416006044</dd><dt>sex</dt><dd>-230.0542280634</dd><dt>bmi</dt><dd>505.905228196802</dd><dt>map</dt><dd>274.584333420338</dd><dt>tc</dt><dd>-38.7046571602982</dd><dt>hdl</dt><dd>-229.937475248464</dd><dt>ltg</dt><dd>545.95293268119</dd><dt>glu</dt><dd>121.785790914392</dd><dt>age.sex</dt><dd>170.530278438661</dd><dt>age.bmi</dt><dd>18.9837961288917</dd><dt>age.ldl</dt><dd>-9.07650400802658</dd><dt>age.hdl</dt><dd>66.6962198270373</dd><dt>age.ltg</dt><dd>70.1415690432787</dd><dt>age.glu</dt><dd>22.0406729172566</dd><dt>sex.bmi</dt><dd>29.5711433077587</dd><dt>sex.ldl</dt><dd>-25.4480733518838</dd><dt>sex.hdl</dt><dd>14.7354227493327</dd><dt>bmi.map</dt><dd>149.97482681</dd><dt>bmi.tc</dt><dd>-14.7337205152118</dd><dt>bmi.hdl</dt><dd>-38.4557700260828</dd><dt>bmi.ltg</dt><dd>43.6810972153313</dd><dt>map.ldl</dt><dd>15.5115541172993</dd><dt>map.hdl</dt><dd>56.8541179696891</dd><dt>tc.hdl</dt><dd>15.1293306068254</dd><dt>tc.tch</dt><dd>-186.535951107108</dd><dt>tc.ltg</dt><dd>-78.5040190950033</dd><dt>ldl.ltg</dt><dd>199.144962538256</dd><dt>ldl.glu</dt><dd>2.88146854447162</dd><dt>tch.ltg</dt><dd>-22.1217896753319</dd><dt>tch.glu</dt><dd>122.452289232529</dd></dl>\n"
      ],
      "text/latex": [
       "\\begin{description*}\n",
       "\\item[(Intercept)] 150.690416006044\n",
       "\\item[sex] -230.0542280634\n",
       "\\item[bmi] 505.905228196802\n",
       "\\item[map] 274.584333420338\n",
       "\\item[tc] -38.7046571602982\n",
       "\\item[hdl] -229.937475248464\n",
       "\\item[ltg] 545.95293268119\n",
       "\\item[glu] 121.785790914392\n",
       "\\item[age.sex] 170.530278438661\n",
       "\\item[age.bmi] 18.9837961288917\n",
       "\\item[age.ldl] -9.07650400802658\n",
       "\\item[age.hdl] 66.6962198270373\n",
       "\\item[age.ltg] 70.1415690432787\n",
       "\\item[age.glu] 22.0406729172566\n",
       "\\item[sex.bmi] 29.5711433077587\n",
       "\\item[sex.ldl] -25.4480733518838\n",
       "\\item[sex.hdl] 14.7354227493327\n",
       "\\item[bmi.map] 149.97482681\n",
       "\\item[bmi.tc] -14.7337205152118\n",
       "\\item[bmi.hdl] -38.4557700260828\n",
       "\\item[bmi.ltg] 43.6810972153313\n",
       "\\item[map.ldl] 15.5115541172993\n",
       "\\item[map.hdl] 56.8541179696891\n",
       "\\item[tc.hdl] 15.1293306068254\n",
       "\\item[tc.tch] -186.535951107108\n",
       "\\item[tc.ltg] -78.5040190950033\n",
       "\\item[ldl.ltg] 199.144962538256\n",
       "\\item[ldl.glu] 2.88146854447162\n",
       "\\item[tch.ltg] -22.1217896753319\n",
       "\\item[tch.glu] 122.452289232529\n",
       "\\end{description*}\n"
      ],
      "text/markdown": [
       "(Intercept)\n",
       ":   150.690416006044sex\n",
       ":   -230.0542280634bmi\n",
       ":   505.905228196802map\n",
       ":   274.584333420338tc\n",
       ":   -38.7046571602982hdl\n",
       ":   -229.937475248464ltg\n",
       ":   545.95293268119glu\n",
       ":   121.785790914392age.sex\n",
       ":   170.530278438661age.bmi\n",
       ":   18.9837961288917age.ldl\n",
       ":   -9.07650400802658age.hdl\n",
       ":   66.6962198270373age.ltg\n",
       ":   70.1415690432787age.glu\n",
       ":   22.0406729172566sex.bmi\n",
       ":   29.5711433077587sex.ldl\n",
       ":   -25.4480733518838sex.hdl\n",
       ":   14.7354227493327bmi.map\n",
       ":   149.97482681bmi.tc\n",
       ":   -14.7337205152118bmi.hdl\n",
       ":   -38.4557700260828bmi.ltg\n",
       ":   43.6810972153313map.ldl\n",
       ":   15.5115541172993map.hdl\n",
       ":   56.8541179696891tc.hdl\n",
       ":   15.1293306068254tc.tch\n",
       ":   -186.535951107108tc.ltg\n",
       ":   -78.5040190950033ldl.ltg\n",
       ":   199.144962538256ldl.glu\n",
       ":   2.88146854447162tch.ltg\n",
       ":   -22.1217896753319tch.glu\n",
       ":   122.452289232529\n",
       "\n"
      ],
      "text/plain": [
       "(Intercept)         sex         bmi         map          tc         hdl \n",
       " 150.690416 -230.054228  505.905228  274.584333  -38.704657 -229.937475 \n",
       "        ltg         glu     age.sex     age.bmi     age.ldl     age.hdl \n",
       " 545.952933  121.785791  170.530278   18.983796   -9.076504   66.696220 \n",
       "    age.ltg     age.glu     sex.bmi     sex.ldl     sex.hdl     bmi.map \n",
       "  70.141569   22.040673   29.571143  -25.448073   14.735423  149.974827 \n",
       "     bmi.tc     bmi.hdl     bmi.ltg     map.ldl     map.hdl      tc.hdl \n",
       " -14.733721  -38.455770   43.681097   15.511554   56.854118   15.129331 \n",
       "     tc.tch      tc.ltg     ldl.ltg     ldl.glu     tch.ltg     tch.glu \n",
       "-186.535951  -78.504019  199.144963    2.881469  -22.121790  122.452289 "
      ]
     },
     "metadata": {},
     "output_type": "display_data"
    },
    {
     "data": {
      "text/html": [
       "29"
      ],
      "text/latex": [
       "29"
      ],
      "text/markdown": [
       "29"
      ],
      "text/plain": [
       "[1] 29"
      ]
     },
     "metadata": {},
     "output_type": "display_data"
    },
    {
     "data": {
      "text/html": [
       "<style>\n",
       ".list-inline {list-style: none; margin:0; padding: 0}\n",
       ".list-inline>li {display: inline-block}\n",
       ".list-inline>li:not(:last-child)::after {content: \"\\00b7\"; padding: 0 .5ex}\n",
       "</style>\n",
       "<ol class=list-inline><li>'sex'</li><li>'bmi'</li><li>'map'</li><li>'tc'</li><li>'hdl'</li><li>'ltg'</li><li>'glu'</li><li>'age.sex'</li><li>'age.bmi'</li><li>'age.ldl'</li><li>'age.hdl'</li><li>'age.ltg'</li><li>'age.glu'</li><li>'sex.bmi'</li><li>'sex.ldl'</li><li>'sex.hdl'</li><li>'bmi.map'</li><li>'bmi.tc'</li><li>'bmi.hdl'</li><li>'bmi.ltg'</li><li>'map.ldl'</li><li>'map.hdl'</li><li>'tc.hdl'</li><li>'tc.tch'</li><li>'tc.ltg'</li><li>'ldl.ltg'</li><li>'ldl.glu'</li><li>'tch.ltg'</li><li>'tch.glu'</li></ol>\n"
      ],
      "text/latex": [
       "\\begin{enumerate*}\n",
       "\\item 'sex'\n",
       "\\item 'bmi'\n",
       "\\item 'map'\n",
       "\\item 'tc'\n",
       "\\item 'hdl'\n",
       "\\item 'ltg'\n",
       "\\item 'glu'\n",
       "\\item 'age.sex'\n",
       "\\item 'age.bmi'\n",
       "\\item 'age.ldl'\n",
       "\\item 'age.hdl'\n",
       "\\item 'age.ltg'\n",
       "\\item 'age.glu'\n",
       "\\item 'sex.bmi'\n",
       "\\item 'sex.ldl'\n",
       "\\item 'sex.hdl'\n",
       "\\item 'bmi.map'\n",
       "\\item 'bmi.tc'\n",
       "\\item 'bmi.hdl'\n",
       "\\item 'bmi.ltg'\n",
       "\\item 'map.ldl'\n",
       "\\item 'map.hdl'\n",
       "\\item 'tc.hdl'\n",
       "\\item 'tc.tch'\n",
       "\\item 'tc.ltg'\n",
       "\\item 'ldl.ltg'\n",
       "\\item 'ldl.glu'\n",
       "\\item 'tch.ltg'\n",
       "\\item 'tch.glu'\n",
       "\\end{enumerate*}\n"
      ],
      "text/markdown": [
       "1. 'sex'\n",
       "2. 'bmi'\n",
       "3. 'map'\n",
       "4. 'tc'\n",
       "5. 'hdl'\n",
       "6. 'ltg'\n",
       "7. 'glu'\n",
       "8. 'age.sex'\n",
       "9. 'age.bmi'\n",
       "10. 'age.ldl'\n",
       "11. 'age.hdl'\n",
       "12. 'age.ltg'\n",
       "13. 'age.glu'\n",
       "14. 'sex.bmi'\n",
       "15. 'sex.ldl'\n",
       "16. 'sex.hdl'\n",
       "17. 'bmi.map'\n",
       "18. 'bmi.tc'\n",
       "19. 'bmi.hdl'\n",
       "20. 'bmi.ltg'\n",
       "21. 'map.ldl'\n",
       "22. 'map.hdl'\n",
       "23. 'tc.hdl'\n",
       "24. 'tc.tch'\n",
       "25. 'tc.ltg'\n",
       "26. 'ldl.ltg'\n",
       "27. 'ldl.glu'\n",
       "28. 'tch.ltg'\n",
       "29. 'tch.glu'\n",
       "\n",
       "\n"
      ],
      "text/plain": [
       " [1] \"sex\"     \"bmi\"     \"map\"     \"tc\"      \"hdl\"     \"ltg\"     \"glu\"    \n",
       " [8] \"age.sex\" \"age.bmi\" \"age.ldl\" \"age.hdl\" \"age.ltg\" \"age.glu\" \"sex.bmi\"\n",
       "[15] \"sex.ldl\" \"sex.hdl\" \"bmi.map\" \"bmi.tc\"  \"bmi.hdl\" \"bmi.ltg\" \"map.ldl\"\n",
       "[22] \"map.hdl\" \"tc.hdl\"  \"tc.tch\"  \"tc.ltg\"  \"ldl.ltg\" \"ldl.glu\" \"tch.ltg\"\n",
       "[29] \"tch.glu\""
      ]
     },
     "metadata": {},
     "output_type": "display_data"
    }
   ],
   "source": [
    "cv.lasso.coef=predict(cv.lasso,type=\"coefficients\",s=best.lambda)[1:56,]\n",
    "cv.lasso.coef=cv.lasso.coef[cv.lasso.coef!=0]\n",
    "# the coefficients of the best linear model using the best lambda value\n",
    "cv.lasso.coef\n",
    "# how many variables are included in the mode？\n",
    "length(cv.lasso.coef)-1\n",
    "# what are they？\n",
    "names(cv.lasso.coef)[-1]"
   ]
  },
  {
   "cell_type": "markdown",
   "id": "nonprofit-living",
   "metadata": {},
   "source": [
    "### 3. Use the best model in Step 2 to predict the progression of diabetes on the test dataset, and report the mean test error."
   ]
  },
  {
   "cell_type": "code",
   "execution_count": 28,
   "id": "persistent-postage",
   "metadata": {},
   "outputs": [
    {
     "data": {
      "text/html": [
       "3049.85537240809"
      ],
      "text/latex": [
       "3049.85537240809"
      ],
      "text/markdown": [
       "3049.85537240809"
      ],
      "text/plain": [
       "[1] 3049.855"
      ]
     },
     "metadata": {},
     "output_type": "display_data"
    }
   ],
   "source": [
    "x.test=model.matrix(Y~.,diab.data.test)[,-1]\n",
    "y.gt=diab.data.test$Y\n",
    "\n",
    "y.pred=predict(cv.lasso,s=best.lambda,newx=x.test)\n",
    "mean((y.pred-y.gt)^2)"
   ]
  },
  {
   "cell_type": "markdown",
   "id": "tired-deposit",
   "metadata": {},
   "source": [
    "The mean test error is printed above."
   ]
  }
 ],
 "metadata": {
  "kernelspec": {
   "display_name": "R",
   "language": "R",
   "name": "ir"
  },
  "language_info": {
   "codemirror_mode": "r",
   "file_extension": ".r",
   "mimetype": "text/x-r-source",
   "name": "R",
   "pygments_lexer": "r",
   "version": "4.0.3"
  },
  "toc-autonumbering": false,
  "toc-showcode": false,
  "toc-showmarkdowntxt": false
 },
 "nbformat": 4,
 "nbformat_minor": 5
}
