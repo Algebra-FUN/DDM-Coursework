{
 "cells": [
  {
   "cell_type": "markdown",
   "id": "45f4200c",
   "metadata": {},
   "source": [
    "<center><h1>Final Project of 5054</h1></center>"
   ]
  },
  {
   "cell_type": "markdown",
   "id": "reduced-robert",
   "metadata": {},
   "source": [
    "# Part I. Classification on 20newsgroup Data"
   ]
  },
  {
   "cell_type": "code",
   "execution_count": 45,
   "id": "satellite-ministry",
   "metadata": {},
   "outputs": [],
   "source": [
    "import pandas as pd\n",
    "import numpy as np\n",
    "from itertools import permutations\n",
    "from sklearn.ensemble import RandomForestClassifier\n",
    "from sklearn.discriminant_analysis import LinearDiscriminantAnalysis as LDA, QuadraticDiscriminantAnalysis as QDA\n",
    "from sklearn.decomposition import PCA\n",
    "from sklearn.cluster import KMeans\n",
    "from sklearn.model_selection import train_test_split,RandomizedSearchCV,GridSearchCV,cross_val_score\n",
    "from sklearn.metrics import confusion_matrix,accuracy_score\n",
    "import xgboost as xgb\n",
    "\n",
    "import warnings\n",
    "warnings.filterwarnings(\"ignore\")\n",
    "\n",
    "def CVError(model,X,Y,cv=5):\n",
    "    return 1-cross_val_score(model,X,Y,cv=cv).mean()"
   ]
  },
  {
   "attachments": {},
   "cell_type": "markdown",
   "id": "constant-israel",
   "metadata": {},
   "source": [
    "Preprocess data"
   ]
  },
  {
   "cell_type": "code",
   "execution_count": 4,
   "id": "underlying-championship",
   "metadata": {},
   "outputs": [],
   "source": [
    "doc=pd.read_table(r'../data/20newsgroup/documents.txt',header=None)\n",
    "wordlist=pd.read_table(r'../data/20newsgroup/wordlist.txt',header=None)[0].tolist()\n",
    "target=pd.read_table(r'../data/20newsgroup/newsgroups.txt',header=None)[0].to_numpy()"
   ]
  },
  {
   "cell_type": "code",
   "execution_count": 5,
   "id": "fiscal-possibility",
   "metadata": {},
   "outputs": [],
   "source": [
    "data=np.zeros((16242,100),dtype=int)\n",
    "for index, row in doc.iterrows():\n",
    "    i,j = row[0],row[1]\n",
    "    data[i-1,j-1] = 1"
   ]
  },
  {
   "cell_type": "code",
   "execution_count": 6,
   "id": "clear-wallpaper",
   "metadata": {},
   "outputs": [
    {
     "data": {
      "text/html": [
       "<div>\n",
       "<style scoped>\n",
       "    .dataframe tbody tr th:only-of-type {\n",
       "        vertical-align: middle;\n",
       "    }\n",
       "\n",
       "    .dataframe tbody tr th {\n",
       "        vertical-align: top;\n",
       "    }\n",
       "\n",
       "    .dataframe thead th {\n",
       "        text-align: right;\n",
       "    }\n",
       "</style>\n",
       "<table border=\"1\" class=\"dataframe\">\n",
       "  <thead>\n",
       "    <tr style=\"text-align: right;\">\n",
       "      <th></th>\n",
       "      <th>aids</th>\n",
       "      <th>baseball</th>\n",
       "      <th>bible</th>\n",
       "      <th>bmw</th>\n",
       "      <th>cancer</th>\n",
       "      <th>car</th>\n",
       "      <th>card</th>\n",
       "      <th>case</th>\n",
       "      <th>children</th>\n",
       "      <th>christian</th>\n",
       "      <th>...</th>\n",
       "      <th>university</th>\n",
       "      <th>version</th>\n",
       "      <th>video</th>\n",
       "      <th>vitamin</th>\n",
       "      <th>war</th>\n",
       "      <th>water</th>\n",
       "      <th>win</th>\n",
       "      <th>windows</th>\n",
       "      <th>won</th>\n",
       "      <th>world</th>\n",
       "    </tr>\n",
       "  </thead>\n",
       "  <tbody>\n",
       "    <tr>\n",
       "      <th>0</th>\n",
       "      <td>0</td>\n",
       "      <td>0</td>\n",
       "      <td>0</td>\n",
       "      <td>0</td>\n",
       "      <td>0</td>\n",
       "      <td>0</td>\n",
       "      <td>0</td>\n",
       "      <td>0</td>\n",
       "      <td>0</td>\n",
       "      <td>0</td>\n",
       "      <td>...</td>\n",
       "      <td>0</td>\n",
       "      <td>0</td>\n",
       "      <td>1</td>\n",
       "      <td>0</td>\n",
       "      <td>0</td>\n",
       "      <td>0</td>\n",
       "      <td>0</td>\n",
       "      <td>0</td>\n",
       "      <td>0</td>\n",
       "      <td>0</td>\n",
       "    </tr>\n",
       "    <tr>\n",
       "      <th>1</th>\n",
       "      <td>0</td>\n",
       "      <td>0</td>\n",
       "      <td>0</td>\n",
       "      <td>0</td>\n",
       "      <td>0</td>\n",
       "      <td>0</td>\n",
       "      <td>0</td>\n",
       "      <td>0</td>\n",
       "      <td>0</td>\n",
       "      <td>0</td>\n",
       "      <td>...</td>\n",
       "      <td>0</td>\n",
       "      <td>0</td>\n",
       "      <td>0</td>\n",
       "      <td>0</td>\n",
       "      <td>0</td>\n",
       "      <td>0</td>\n",
       "      <td>0</td>\n",
       "      <td>0</td>\n",
       "      <td>0</td>\n",
       "      <td>0</td>\n",
       "    </tr>\n",
       "    <tr>\n",
       "      <th>2</th>\n",
       "      <td>0</td>\n",
       "      <td>0</td>\n",
       "      <td>0</td>\n",
       "      <td>0</td>\n",
       "      <td>0</td>\n",
       "      <td>0</td>\n",
       "      <td>0</td>\n",
       "      <td>0</td>\n",
       "      <td>0</td>\n",
       "      <td>0</td>\n",
       "      <td>...</td>\n",
       "      <td>0</td>\n",
       "      <td>1</td>\n",
       "      <td>0</td>\n",
       "      <td>0</td>\n",
       "      <td>0</td>\n",
       "      <td>0</td>\n",
       "      <td>0</td>\n",
       "      <td>0</td>\n",
       "      <td>0</td>\n",
       "      <td>0</td>\n",
       "    </tr>\n",
       "    <tr>\n",
       "      <th>3</th>\n",
       "      <td>0</td>\n",
       "      <td>0</td>\n",
       "      <td>0</td>\n",
       "      <td>0</td>\n",
       "      <td>0</td>\n",
       "      <td>0</td>\n",
       "      <td>0</td>\n",
       "      <td>0</td>\n",
       "      <td>0</td>\n",
       "      <td>0</td>\n",
       "      <td>...</td>\n",
       "      <td>1</td>\n",
       "      <td>0</td>\n",
       "      <td>0</td>\n",
       "      <td>0</td>\n",
       "      <td>0</td>\n",
       "      <td>0</td>\n",
       "      <td>0</td>\n",
       "      <td>0</td>\n",
       "      <td>0</td>\n",
       "      <td>0</td>\n",
       "    </tr>\n",
       "    <tr>\n",
       "      <th>4</th>\n",
       "      <td>0</td>\n",
       "      <td>0</td>\n",
       "      <td>0</td>\n",
       "      <td>0</td>\n",
       "      <td>0</td>\n",
       "      <td>0</td>\n",
       "      <td>0</td>\n",
       "      <td>0</td>\n",
       "      <td>0</td>\n",
       "      <td>0</td>\n",
       "      <td>...</td>\n",
       "      <td>0</td>\n",
       "      <td>1</td>\n",
       "      <td>0</td>\n",
       "      <td>0</td>\n",
       "      <td>0</td>\n",
       "      <td>0</td>\n",
       "      <td>0</td>\n",
       "      <td>0</td>\n",
       "      <td>0</td>\n",
       "      <td>0</td>\n",
       "    </tr>\n",
       "    <tr>\n",
       "      <th>...</th>\n",
       "      <td>...</td>\n",
       "      <td>...</td>\n",
       "      <td>...</td>\n",
       "      <td>...</td>\n",
       "      <td>...</td>\n",
       "      <td>...</td>\n",
       "      <td>...</td>\n",
       "      <td>...</td>\n",
       "      <td>...</td>\n",
       "      <td>...</td>\n",
       "      <td>...</td>\n",
       "      <td>...</td>\n",
       "      <td>...</td>\n",
       "      <td>...</td>\n",
       "      <td>...</td>\n",
       "      <td>...</td>\n",
       "      <td>...</td>\n",
       "      <td>...</td>\n",
       "      <td>...</td>\n",
       "      <td>...</td>\n",
       "      <td>...</td>\n",
       "    </tr>\n",
       "    <tr>\n",
       "      <th>16237</th>\n",
       "      <td>0</td>\n",
       "      <td>0</td>\n",
       "      <td>0</td>\n",
       "      <td>0</td>\n",
       "      <td>0</td>\n",
       "      <td>0</td>\n",
       "      <td>0</td>\n",
       "      <td>0</td>\n",
       "      <td>0</td>\n",
       "      <td>0</td>\n",
       "      <td>...</td>\n",
       "      <td>0</td>\n",
       "      <td>0</td>\n",
       "      <td>0</td>\n",
       "      <td>0</td>\n",
       "      <td>0</td>\n",
       "      <td>0</td>\n",
       "      <td>0</td>\n",
       "      <td>0</td>\n",
       "      <td>0</td>\n",
       "      <td>0</td>\n",
       "    </tr>\n",
       "    <tr>\n",
       "      <th>16238</th>\n",
       "      <td>0</td>\n",
       "      <td>0</td>\n",
       "      <td>0</td>\n",
       "      <td>0</td>\n",
       "      <td>0</td>\n",
       "      <td>0</td>\n",
       "      <td>0</td>\n",
       "      <td>0</td>\n",
       "      <td>0</td>\n",
       "      <td>0</td>\n",
       "      <td>...</td>\n",
       "      <td>0</td>\n",
       "      <td>0</td>\n",
       "      <td>0</td>\n",
       "      <td>0</td>\n",
       "      <td>0</td>\n",
       "      <td>0</td>\n",
       "      <td>0</td>\n",
       "      <td>0</td>\n",
       "      <td>0</td>\n",
       "      <td>0</td>\n",
       "    </tr>\n",
       "    <tr>\n",
       "      <th>16239</th>\n",
       "      <td>0</td>\n",
       "      <td>0</td>\n",
       "      <td>0</td>\n",
       "      <td>0</td>\n",
       "      <td>0</td>\n",
       "      <td>0</td>\n",
       "      <td>0</td>\n",
       "      <td>0</td>\n",
       "      <td>0</td>\n",
       "      <td>1</td>\n",
       "      <td>...</td>\n",
       "      <td>0</td>\n",
       "      <td>0</td>\n",
       "      <td>0</td>\n",
       "      <td>0</td>\n",
       "      <td>0</td>\n",
       "      <td>0</td>\n",
       "      <td>1</td>\n",
       "      <td>0</td>\n",
       "      <td>0</td>\n",
       "      <td>0</td>\n",
       "    </tr>\n",
       "    <tr>\n",
       "      <th>16240</th>\n",
       "      <td>0</td>\n",
       "      <td>0</td>\n",
       "      <td>0</td>\n",
       "      <td>0</td>\n",
       "      <td>0</td>\n",
       "      <td>0</td>\n",
       "      <td>0</td>\n",
       "      <td>0</td>\n",
       "      <td>0</td>\n",
       "      <td>0</td>\n",
       "      <td>...</td>\n",
       "      <td>0</td>\n",
       "      <td>0</td>\n",
       "      <td>0</td>\n",
       "      <td>0</td>\n",
       "      <td>0</td>\n",
       "      <td>0</td>\n",
       "      <td>0</td>\n",
       "      <td>0</td>\n",
       "      <td>0</td>\n",
       "      <td>1</td>\n",
       "    </tr>\n",
       "    <tr>\n",
       "      <th>16241</th>\n",
       "      <td>0</td>\n",
       "      <td>0</td>\n",
       "      <td>0</td>\n",
       "      <td>0</td>\n",
       "      <td>0</td>\n",
       "      <td>0</td>\n",
       "      <td>0</td>\n",
       "      <td>0</td>\n",
       "      <td>0</td>\n",
       "      <td>1</td>\n",
       "      <td>...</td>\n",
       "      <td>0</td>\n",
       "      <td>0</td>\n",
       "      <td>0</td>\n",
       "      <td>0</td>\n",
       "      <td>0</td>\n",
       "      <td>0</td>\n",
       "      <td>0</td>\n",
       "      <td>0</td>\n",
       "      <td>0</td>\n",
       "      <td>0</td>\n",
       "    </tr>\n",
       "  </tbody>\n",
       "</table>\n",
       "<p>16242 rows × 100 columns</p>\n",
       "</div>"
      ],
      "text/plain": [
       "       aids  baseball  bible  bmw  cancer  car  card  case  children  \\\n",
       "0         0         0      0    0       0    0     0     0         0   \n",
       "1         0         0      0    0       0    0     0     0         0   \n",
       "2         0         0      0    0       0    0     0     0         0   \n",
       "3         0         0      0    0       0    0     0     0         0   \n",
       "4         0         0      0    0       0    0     0     0         0   \n",
       "...     ...       ...    ...  ...     ...  ...   ...   ...       ...   \n",
       "16237     0         0      0    0       0    0     0     0         0   \n",
       "16238     0         0      0    0       0    0     0     0         0   \n",
       "16239     0         0      0    0       0    0     0     0         0   \n",
       "16240     0         0      0    0       0    0     0     0         0   \n",
       "16241     0         0      0    0       0    0     0     0         0   \n",
       "\n",
       "       christian  ...  university  version  video  vitamin  war  water  win  \\\n",
       "0              0  ...           0        0      1        0    0      0    0   \n",
       "1              0  ...           0        0      0        0    0      0    0   \n",
       "2              0  ...           0        1      0        0    0      0    0   \n",
       "3              0  ...           1        0      0        0    0      0    0   \n",
       "4              0  ...           0        1      0        0    0      0    0   \n",
       "...          ...  ...         ...      ...    ...      ...  ...    ...  ...   \n",
       "16237          0  ...           0        0      0        0    0      0    0   \n",
       "16238          0  ...           0        0      0        0    0      0    0   \n",
       "16239          1  ...           0        0      0        0    0      0    1   \n",
       "16240          0  ...           0        0      0        0    0      0    0   \n",
       "16241          1  ...           0        0      0        0    0      0    0   \n",
       "\n",
       "       windows  won  world  \n",
       "0            0    0      0  \n",
       "1            0    0      0  \n",
       "2            0    0      0  \n",
       "3            0    0      0  \n",
       "4            0    0      0  \n",
       "...        ...  ...    ...  \n",
       "16237        0    0      0  \n",
       "16238        0    0      0  \n",
       "16239        0    0      0  \n",
       "16240        0    0      1  \n",
       "16241        0    0      0  \n",
       "\n",
       "[16242 rows x 100 columns]"
      ]
     },
     "execution_count": 6,
     "metadata": {},
     "output_type": "execute_result"
    }
   ],
   "source": [
    "datadf=pd.DataFrame(data,columns=wordlist)\n",
    "datadf"
   ]
  },
  {
   "cell_type": "code",
   "execution_count": 7,
   "id": "about-project",
   "metadata": {},
   "outputs": [],
   "source": [
    "X,Xtest,Y,Ytest=train_test_split(datadf,target,test_size=0.1,random_state=5054)"
   ]
  },
  {
   "cell_type": "markdown",
   "id": "advised-pillow",
   "metadata": {},
   "source": [
    "## 1.Build a random forest for this dataset \n",
    "and report the 5-fold cross validation value of the misclassification error. \n",
    "Note that you need to train the model by yourself, i.e., how many predictors \n",
    "are chosen in each tree and how many trees are used. There is no benchmark. Stop tuning when \n",
    "you feel appropriate. Report the best CV error, the corresponding confusion matrix and tuning \n",
    "parameters. What are the ten most important keywords based on variable importance?"
   ]
  },
  {
   "cell_type": "code",
   "execution_count": 10,
   "id": "cardiac-horror",
   "metadata": {},
   "outputs": [
    {
     "name": "stdout",
     "output_type": "stream",
     "text": [
      "{'n_estimators': 90, 'max_features': 2}\n"
     ]
    }
   ],
   "source": [
    "parameters = {'n_estimators': np.arange(\n",
    "    20, 100, 10), 'max_features': np.arange(0, 10, 1)}\n",
    "RF = RandomizedSearchCV(RandomForestClassifier(),\n",
    "                        param_distributions=parameters, cv=5,random_state=5054)\n",
    "RF.fit(X, Y)\n",
    "print(RF.best_params_)"
   ]
  },
  {
   "cell_type": "code",
   "execution_count": 18,
   "id": "increasing-disability",
   "metadata": {},
   "outputs": [
    {
     "name": "stdout",
     "output_type": "stream",
     "text": [
      "best CV error: 0.18717899877054156\n",
      "confusion matrix:\n",
      " [[416  32  50  24]\n",
      " [ 17 262  21  17]\n",
      " [ 20  13 148  24]\n",
      " [ 28  35  36 482]]\n",
      "tuning parameters: {'n_estimators': 90, 'max_features': 2}\n",
      "ten most important keywords:\n",
      " ['windows', 'car', 'christian', 'god', 'government', 'team', 'jews', 'religion', 'space', 'graphics']\n"
     ]
    }
   ],
   "source": [
    "RF_best = RF.best_estimator_\n",
    "RF_best.fit(X,Y)\n",
    "top10=[datadf.columns.values[i] for i in (np.argsort(RF_best.feature_importances_)[-1:-11:-1])]\n",
    "print(\"best CV error:\",CVError(RF_best,X,Y,cv=5)) \n",
    "print(\"confusion matrix:\\n\",confusion_matrix(RF_best.predict(Xtest),Ytest))\n",
    "print(\"tuning parameters:\",RF.best_params_)\n",
    "print(\"ten most important keywords:\\n\", top10)"
   ]
  },
  {
   "cell_type": "markdown",
   "id": "macro-enemy",
   "metadata": {},
   "source": [
    "## 2. Build a boosting tree for this dataset \n",
    "and report the 5-fold cross validation value of the \n",
    "misclassification error. Similarly, report the best CV error,  the corresponding confusion matrix and \n",
    "tuning parameters. "
   ]
  },
  {
   "cell_type": "code",
   "execution_count": 12,
   "id": "challenging-hamilton",
   "metadata": {},
   "outputs": [
    {
     "name": "stdout",
     "output_type": "stream",
     "text": [
      "{'learning_rate': 0.1, 'n_estimators': 90}\n"
     ]
    }
   ],
   "source": [
    "Y0 = Y-1\n",
    "Y0test = Ytest-1\n",
    "\n",
    "booster = GridSearchCV(\n",
    "    xgb.XGBClassifier(max_depth=5, booster='gbtree', objective='multi:softmax'),\n",
    "    param_grid={'n_estimators': np.arange(20, 100, 10), 'learning_rate': (0.1, 0.01)},\n",
    "    cv=5)\n",
    "booster.fit(X, Y0)\n",
    "print(booster.best_params_)"
   ]
  },
  {
   "cell_type": "code",
   "execution_count": 24,
   "id": "quiet-russell",
   "metadata": {},
   "outputs": [
    {
     "name": "stdout",
     "output_type": "stream",
     "text": [
      "best CV error: 0.18738370571995389\n",
      "confusion matrix:\n",
      " [[428  31  61  33]\n",
      " [  6 250   8   9]\n",
      " [ 21  15 145  32]\n",
      " [ 26  46  41 473]]\n",
      "tuning parameters: {'learning_rate': 0.1, 'n_estimators': 90}\n"
     ]
    }
   ],
   "source": [
    "booster_best=booster.best_estimator_\n",
    "print(\"best CV error:\",CVError(booster_best,X,Y0,cv=5)) \n",
    "print(\"confusion matrix:\\n\",confusion_matrix(booster_best.predict(Xtest),Y0test))\n",
    "print(\"tuning parameters:\",booster.best_params_)"
   ]
  },
  {
   "cell_type": "markdown",
   "id": "federal-membrane",
   "metadata": {},
   "source": [
    "## 3. Compare the results from random forest and boosting trees. \n",
    "\n",
    "The result of the best CV error of random forest and boosting trees is quite similar. The parameter of n_estimators(the number of trees) is similar based on the limitation from 10 to 100. However, the boostring trees is more difficult to train, since you should tune the learning rate and max_depth by youself and it takes more time to train than random forest. Both of them consume much time."
   ]
  },
  {
   "attachments": {},
   "cell_type": "markdown",
   "id": "laughing-librarian",
   "metadata": {},
   "source": [
    "## 4. Build a multi-class LDA classifier. \n",
    "Report the 5-fold CV error of misclassification and the confusion \n",
    "matrix. "
   ]
  },
  {
   "cell_type": "code",
   "execution_count": 32,
   "id": "substantial-corpus",
   "metadata": {},
   "outputs": [
    {
     "name": "stdout",
     "output_type": "stream",
     "text": [
      "5-fold CV error: 0.20058739755877364\n",
      "confusion matrix:\n",
      " [[416  35  55  34]\n",
      " [  3 238   9  13]\n",
      " [ 32  24 145  37]\n",
      " [ 30  45  46 463]]\n"
     ]
    }
   ],
   "source": [
    "lda = LDA()\n",
    "lda.fit(X, Y)\n",
    "\n",
    "print(\"5-fold CV error:\",CVError(lda,X,Y,cv=5))\n",
    "print(\"confusion matrix:\\n\",confusion_matrix(lda.predict(Xtest),Ytest))"
   ]
  },
  {
   "attachments": {},
   "cell_type": "markdown",
   "id": "resistant-conducting",
   "metadata": {},
   "source": [
    "## 5. Build a multi-class QDA classifier. \n",
    "Report the 5-fold CV error of misclassification and the confusion \n",
    "matrix."
   ]
  },
  {
   "cell_type": "code",
   "execution_count": 33,
   "id": "polish-charger",
   "metadata": {},
   "outputs": [
    {
     "name": "stdout",
     "output_type": "stream",
     "text": [
      "5-fold CV error: 0.3147670276728789\n",
      "confusion matrix:\n",
      " [[378  14  59  37]\n",
      " [ 86 321  95 215]\n",
      " [ 14   3  78  12]\n",
      " [  3   4  23 283]]\n"
     ]
    }
   ],
   "source": [
    "qda = QDA()\n",
    "qda.fit(X, Y)\n",
    "\n",
    "print(\"5-fold CV error:\",CVError(qda,X,Y,cv=5))\n",
    "print(\"confusion matrix:\\n\",confusion_matrix(qda.predict(Xtest),Ytest))"
   ]
  },
  {
   "cell_type": "markdown",
   "id": "several-graphic",
   "metadata": {},
   "source": [
    "## 6. Compare the performances of all above methods and give your comments.\n",
    "\n",
    "### Comparison of all above methods in table\n",
    "\n",
    "| Model         | Parameters to tune                  | CV Error            |\n",
    "| ------------- | ----------------------------------- | ------------------- |\n",
    "| Random Forest | num of trees, num of features       | 0.18717899877054156 |\n",
    "| Boosting Tree | num of trees, learning rates, depth | 0.18738370571995389 |\n",
    "| LDA           |                                     | 0.20058739755877364 |\n",
    "| QDA           |                                     | 0.3147670276728789  |\n",
    "\n",
    "### Comments\n",
    "\n",
    "The Random Forest and Boosting Tree models have better performance(based on CV Error metric), but there is not free launch since these two models require tuning parameter manually and massive computing time. LDA and QDA models run faster than previous two tree based model, but they also have limitation on the type of dataset. In this dataset, LDA performs better than QDA. However, in practice, we also have to try different methods and choose the best one."
   ]
  },
  {
   "attachments": {},
   "cell_type": "markdown",
   "id": "physical-theology",
   "metadata": {},
   "source": [
    "# Part II. Spectral Clustering on 20newsgroup Data"
   ]
  },
  {
   "cell_type": "code",
   "execution_count": 53,
   "id": "accessory-induction",
   "metadata": {},
   "outputs": [],
   "source": [
    "def mis_clustering_error_rate(pred,real,nclass):\n",
    "    pred_list = list(pred)\n",
    "    errors = []\n",
    "    for perm in permutations(range(nclass)):\n",
    "        perm_pred = np.array([perm[x] for x in pred_list])\n",
    "        errors.append(1-accuracy_score(perm_pred,real))\n",
    "    return min(errors)"
   ]
  },
  {
   "attachments": {},
   "cell_type": "markdown",
   "id": "olympic-silicon",
   "metadata": {},
   "source": [
    "## 1. Apply PCA on the binary occurrence matrix and apply K-means clustering. \n",
    "Basically, take the top \n",
    "4 left singular vectors of the occurrence matrix (of size 16242x100) and apply K-means on the \n",
    "rows of these singular vectors with K=4. Report the mis-clustering error rate."
   ]
  },
  {
   "cell_type": "code",
   "execution_count": 54,
   "id": "caroline-ethnic",
   "metadata": {},
   "outputs": [
    {
     "name": "stdout",
     "output_type": "stream",
     "text": [
      "mis-clustering_error_rate: 0.591092563453513\n"
     ]
    }
   ],
   "source": [
    "n4data = PCA(n_components=4).fit_transform(X)   \n",
    "km4 = KMeans(n_clusters=4,random_state=5054)\n",
    "km4.fit(n4data)\n",
    "print(\"mis-clustering_error_rate:\", mis_clustering_error_rate(km4.labels_,Y-1,4))"
   ]
  },
  {
   "attachments": {},
   "cell_type": "markdown",
   "id": "promising-religious",
   "metadata": {},
   "source": [
    "## 2. Now take the top 5 left singular vectors of the occurrence matrix and apply K-means on the rows \n",
    "of these singular vectors with K=4. \n",
    "Report the mis-clustering error rate. "
   ]
  },
  {
   "cell_type": "code",
   "execution_count": 55,
   "id": "historical-trademark",
   "metadata": {},
   "outputs": [
    {
     "name": "stdout",
     "output_type": "stream",
     "text": [
      "mis-clustering_error_rate: 0.591092563453513\n"
     ]
    }
   ],
   "source": [
    "n5data = PCA(n_components=5).fit_transform(X)   \n",
    "km5 = KMeans(n_clusters=4,random_state=5054)\n",
    "km5.fit(n4data)\n",
    "print(\"mis-clustering_error_rate:\", mis_clustering_error_rate(km5.labels_,Y-1,4))"
   ]
  },
  {
   "cell_type": "markdown",
   "id": "worst-legislation",
   "metadata": {},
   "source": [
    "## 3. Compare with the performances from part I. \n",
    "\n",
    "The performance of this K-means based on PCA model is poorer than the model from part I, but it's easy to understand since these model in part II only use 4 or 5 principle components then the models can only use part of information from the dataset. However, on the other hand, this method is easier to perform and save computation time."
   ]
  },
  {
   "cell_type": "markdown",
   "id": "alert-prefix",
   "metadata": {},
   "source": [
    "# Part III. Classification on MNIST Data"
   ]
  },
  {
   "cell_type": "code",
   "execution_count": 30,
   "id": "ready-monte",
   "metadata": {},
   "outputs": [],
   "source": [
    "import pandas as pd\n",
    "import numpy as np\n",
    "import time\n",
    "from sklearn.svm import SVC\n",
    "from sklearn.preprocessing import StandardScaler\n",
    "from sklearn.model_selection import GridSearchCV,cross_val_score\n",
    "from sklearn.metrics import confusion_matrix,accuracy_score\n",
    "\n",
    "def CVError(model,X,Y,cv=5):\n",
    "    return 1-cross_val_score(model,X,Y,cv=cv).mean()\n",
    "\n",
    "class Timer:\n",
    "    def __init__(self,):\n",
    "        self.time = None\n",
    "\n",
    "    def __enter__(self):\n",
    "        self.time = time.time()\n",
    "\n",
    "    def __exit__(self,*args,**kwargs):\n",
    "        used = time.time() - self.time\n",
    "        print(f\"Used time:{used}s\")\n",
    "\n",
    "timer = Timer()"
   ]
  },
  {
   "cell_type": "code",
   "execution_count": 31,
   "id": "residential-buffer",
   "metadata": {},
   "outputs": [],
   "source": [
    "traindata = pd.read_csv('../data/MNIST/train_resized.csv')\n",
    "testdata = pd.read_csv('../data/MNIST/test_resized.csv')"
   ]
  },
  {
   "cell_type": "markdown",
   "id": "shaped-memphis",
   "metadata": {},
   "source": [
    "## 1. Use only the digit images of 3 and 6 from train_resized.csv and test_resized.csv to build an SVM \n",
    "classifier for binary classification. More specifically, use a linear kernel and choose the best cost \n",
    "(the data size is large so a large cost value is suitable) parameter (called budget in our course) by 5 \n",
    "fold cross validation. Apply your model on the test data and report the misclassification error, \n",
    "confusion matrix. Also report the time cost of training your model."
   ]
  },
  {
   "cell_type": "code",
   "execution_count": 56,
   "id": "atmospheric-assumption",
   "metadata": {},
   "outputs": [],
   "source": [
    "traindata36 = traindata[traindata.label.isin((3,6))]\n",
    "testdata36 = testdata[testdata.label.isin((3,6))]\n",
    "scaler = StandardScaler()\n",
    "Xtrain = scaler.fit_transform(traindata36.loc[:,\"pixel1\":])\n",
    "Xtest = scaler.transform(testdata36.loc[:,\"pixel1\":])"
   ]
  },
  {
   "cell_type": "code",
   "execution_count": 57,
   "id": "tribal-graphics",
   "metadata": {},
   "outputs": [
    {
     "name": "stdout",
     "output_type": "stream",
     "text": [
      "Used time:5.108419895172119s\n"
     ]
    },
    {
     "data": {
      "text/html": [
       "<div>\n",
       "<style scoped>\n",
       "    .dataframe tbody tr th:only-of-type {\n",
       "        vertical-align: middle;\n",
       "    }\n",
       "\n",
       "    .dataframe tbody tr th {\n",
       "        vertical-align: top;\n",
       "    }\n",
       "\n",
       "    .dataframe thead th {\n",
       "        text-align: right;\n",
       "    }\n",
       "</style>\n",
       "<table border=\"1\" class=\"dataframe\">\n",
       "  <thead>\n",
       "    <tr style=\"text-align: right;\">\n",
       "      <th></th>\n",
       "      <th>params</th>\n",
       "      <th>5-fold CV Error</th>\n",
       "    </tr>\n",
       "  </thead>\n",
       "  <tbody>\n",
       "    <tr>\n",
       "      <th>0</th>\n",
       "      <td>{'C': 0.0001}</td>\n",
       "      <td>0.989877</td>\n",
       "    </tr>\n",
       "    <tr>\n",
       "      <th>1</th>\n",
       "      <td>{'C': 0.001}</td>\n",
       "      <td>0.994689</td>\n",
       "    </tr>\n",
       "    <tr>\n",
       "      <th>2</th>\n",
       "      <td>{'C': 0.01}</td>\n",
       "      <td>0.995187</td>\n",
       "    </tr>\n",
       "    <tr>\n",
       "      <th>3</th>\n",
       "      <td>{'C': 0.1}</td>\n",
       "      <td>0.994192</td>\n",
       "    </tr>\n",
       "    <tr>\n",
       "      <th>4</th>\n",
       "      <td>{'C': 1.0}</td>\n",
       "      <td>0.992698</td>\n",
       "    </tr>\n",
       "    <tr>\n",
       "      <th>5</th>\n",
       "      <td>{'C': 10.0}</td>\n",
       "      <td>0.992864</td>\n",
       "    </tr>\n",
       "    <tr>\n",
       "      <th>6</th>\n",
       "      <td>{'C': 100.0}</td>\n",
       "      <td>0.992864</td>\n",
       "    </tr>\n",
       "    <tr>\n",
       "      <th>7</th>\n",
       "      <td>{'C': 1000.0}</td>\n",
       "      <td>0.992864</td>\n",
       "    </tr>\n",
       "    <tr>\n",
       "      <th>8</th>\n",
       "      <td>{'C': 10000.0}</td>\n",
       "      <td>0.992864</td>\n",
       "    </tr>\n",
       "  </tbody>\n",
       "</table>\n",
       "</div>"
      ],
      "text/plain": [
       "           params  5-fold CV Error\n",
       "0   {'C': 0.0001}         0.989877\n",
       "1    {'C': 0.001}         0.994689\n",
       "2     {'C': 0.01}         0.995187\n",
       "3      {'C': 0.1}         0.994192\n",
       "4      {'C': 1.0}         0.992698\n",
       "5     {'C': 10.0}         0.992864\n",
       "6    {'C': 100.0}         0.992864\n",
       "7   {'C': 1000.0}         0.992864\n",
       "8  {'C': 10000.0}         0.992864"
      ]
     },
     "execution_count": 57,
     "metadata": {},
     "output_type": "execute_result"
    }
   ],
   "source": [
    "with timer:\n",
    "    params = {'C':np.logspace(-4,4,num=9)}\n",
    "    svclin = GridSearchCV(SVC(kernel='linear',degree=1),param_grid=params,cv=5)\n",
    "    svclin.fit(Xtrain,traindata36.label)\n",
    "    result_df = pd.DataFrame({'params':svclin.cv_results_['params'],'5-fold CV Error':svclin.cv_results_['mean_test_score']})\n",
    "result_df"
   ]
  },
  {
   "cell_type": "code",
   "execution_count": 58,
   "id": "severe-village",
   "metadata": {},
   "outputs": [
    {
     "data": {
      "text/html": [
       "<style>#sk-container-id-3 {color: black;background-color: white;}#sk-container-id-3 pre{padding: 0;}#sk-container-id-3 div.sk-toggleable {background-color: white;}#sk-container-id-3 label.sk-toggleable__label {cursor: pointer;display: block;width: 100%;margin-bottom: 0;padding: 0.3em;box-sizing: border-box;text-align: center;}#sk-container-id-3 label.sk-toggleable__label-arrow:before {content: \"▸\";float: left;margin-right: 0.25em;color: #696969;}#sk-container-id-3 label.sk-toggleable__label-arrow:hover:before {color: black;}#sk-container-id-3 div.sk-estimator:hover label.sk-toggleable__label-arrow:before {color: black;}#sk-container-id-3 div.sk-toggleable__content {max-height: 0;max-width: 0;overflow: hidden;text-align: left;background-color: #f0f8ff;}#sk-container-id-3 div.sk-toggleable__content pre {margin: 0.2em;color: black;border-radius: 0.25em;background-color: #f0f8ff;}#sk-container-id-3 input.sk-toggleable__control:checked~div.sk-toggleable__content {max-height: 200px;max-width: 100%;overflow: auto;}#sk-container-id-3 input.sk-toggleable__control:checked~label.sk-toggleable__label-arrow:before {content: \"▾\";}#sk-container-id-3 div.sk-estimator input.sk-toggleable__control:checked~label.sk-toggleable__label {background-color: #d4ebff;}#sk-container-id-3 div.sk-label input.sk-toggleable__control:checked~label.sk-toggleable__label {background-color: #d4ebff;}#sk-container-id-3 input.sk-hidden--visually {border: 0;clip: rect(1px 1px 1px 1px);clip: rect(1px, 1px, 1px, 1px);height: 1px;margin: -1px;overflow: hidden;padding: 0;position: absolute;width: 1px;}#sk-container-id-3 div.sk-estimator {font-family: monospace;background-color: #f0f8ff;border: 1px dotted black;border-radius: 0.25em;box-sizing: border-box;margin-bottom: 0.5em;}#sk-container-id-3 div.sk-estimator:hover {background-color: #d4ebff;}#sk-container-id-3 div.sk-parallel-item::after {content: \"\";width: 100%;border-bottom: 1px solid gray;flex-grow: 1;}#sk-container-id-3 div.sk-label:hover label.sk-toggleable__label {background-color: #d4ebff;}#sk-container-id-3 div.sk-serial::before {content: \"\";position: absolute;border-left: 1px solid gray;box-sizing: border-box;top: 0;bottom: 0;left: 50%;z-index: 0;}#sk-container-id-3 div.sk-serial {display: flex;flex-direction: column;align-items: center;background-color: white;padding-right: 0.2em;padding-left: 0.2em;position: relative;}#sk-container-id-3 div.sk-item {position: relative;z-index: 1;}#sk-container-id-3 div.sk-parallel {display: flex;align-items: stretch;justify-content: center;background-color: white;position: relative;}#sk-container-id-3 div.sk-item::before, #sk-container-id-3 div.sk-parallel-item::before {content: \"\";position: absolute;border-left: 1px solid gray;box-sizing: border-box;top: 0;bottom: 0;left: 50%;z-index: -1;}#sk-container-id-3 div.sk-parallel-item {display: flex;flex-direction: column;z-index: 1;position: relative;background-color: white;}#sk-container-id-3 div.sk-parallel-item:first-child::after {align-self: flex-end;width: 50%;}#sk-container-id-3 div.sk-parallel-item:last-child::after {align-self: flex-start;width: 50%;}#sk-container-id-3 div.sk-parallel-item:only-child::after {width: 0;}#sk-container-id-3 div.sk-dashed-wrapped {border: 1px dashed gray;margin: 0 0.4em 0.5em 0.4em;box-sizing: border-box;padding-bottom: 0.4em;background-color: white;}#sk-container-id-3 div.sk-label label {font-family: monospace;font-weight: bold;display: inline-block;line-height: 1.2em;}#sk-container-id-3 div.sk-label-container {text-align: center;}#sk-container-id-3 div.sk-container {/* jupyter's `normalize.less` sets `[hidden] { display: none; }` but bootstrap.min.css set `[hidden] { display: none !important; }` so we also need the `!important` here to be able to override the default hidden behavior on the sphinx rendered scikit-learn.org. See: https://github.com/scikit-learn/scikit-learn/issues/21755 */display: inline-block !important;position: relative;}#sk-container-id-3 div.sk-text-repr-fallback {display: none;}</style><div id=\"sk-container-id-3\" class=\"sk-top-container\"><div class=\"sk-text-repr-fallback\"><pre>SVC(C=0.01, degree=1, kernel=&#x27;linear&#x27;)</pre><b>In a Jupyter environment, please rerun this cell to show the HTML representation or trust the notebook. <br />On GitHub, the HTML representation is unable to render, please try loading this page with nbviewer.org.</b></div><div class=\"sk-container\" hidden><div class=\"sk-item\"><div class=\"sk-estimator sk-toggleable\"><input class=\"sk-toggleable__control sk-hidden--visually\" id=\"sk-estimator-id-3\" type=\"checkbox\" checked><label for=\"sk-estimator-id-3\" class=\"sk-toggleable__label sk-toggleable__label-arrow\">SVC</label><div class=\"sk-toggleable__content\"><pre>SVC(C=0.01, degree=1, kernel=&#x27;linear&#x27;)</pre></div></div></div></div></div>"
      ],
      "text/plain": [
       "SVC(C=0.01, degree=1, kernel='linear')"
      ]
     },
     "execution_count": 58,
     "metadata": {},
     "output_type": "execute_result"
    }
   ],
   "source": [
    "svclin_best = svclin.best_estimator_\n",
    "svclin_best"
   ]
  },
  {
   "cell_type": "code",
   "execution_count": 35,
   "id": "julian-provincial",
   "metadata": {},
   "outputs": [
    {
     "name": "stdout",
     "output_type": "stream",
     "text": [
      "misclassifcation error: 0.006904955320877315\n",
      "confusion matrix:\n",
      " [[1251    6]\n",
      " [  11 1194]]\n"
     ]
    }
   ],
   "source": [
    "svclin_best = svclin.best_estimator_\n",
    "pred = svclin_best.predict(Xtest)\n",
    "print(\"misclassifcation error:\",1-accuracy_score(pred,testdata36.label))\n",
    "print(\"confusion matrix:\\n\",confusion_matrix(svclin_best.predict(Xtest),testdata36.label))"
   ]
  },
  {
   "cell_type": "markdown",
   "id": "devoted-somerset",
   "metadata": {},
   "source": [
    "## 2. Use only the digit images of 3 and 6 from train_resized.csv and test_resized.csv to build an SVM \n",
    "classifier for binary classification. More specifically, use a radial kernel and choose the best cost \n",
    "parameter, gamma parameter by 5 fold cross validation. Apply your model on the test data and \n",
    "report the misclassification error, confusion matrix. Also report the time cost of training your \n",
    "model. "
   ]
  },
  {
   "cell_type": "code",
   "execution_count": 59,
   "id": "emerging-snake",
   "metadata": {},
   "outputs": [
    {
     "name": "stdout",
     "output_type": "stream",
     "text": [
      "Used time:20.494226694107056s\n"
     ]
    },
    {
     "data": {
      "text/html": [
       "<div>\n",
       "<style scoped>\n",
       "    .dataframe tbody tr th:only-of-type {\n",
       "        vertical-align: middle;\n",
       "    }\n",
       "\n",
       "    .dataframe tbody tr th {\n",
       "        vertical-align: top;\n",
       "    }\n",
       "\n",
       "    .dataframe thead th {\n",
       "        text-align: right;\n",
       "    }\n",
       "</style>\n",
       "<table border=\"1\" class=\"dataframe\">\n",
       "  <thead>\n",
       "    <tr style=\"text-align: right;\">\n",
       "      <th></th>\n",
       "      <th>params</th>\n",
       "      <th>5-fold CV Error</th>\n",
       "    </tr>\n",
       "  </thead>\n",
       "  <tbody>\n",
       "    <tr>\n",
       "      <th>0</th>\n",
       "      <td>{'C': 0.1, 'gamma': 0.001}</td>\n",
       "      <td>0.990374</td>\n",
       "    </tr>\n",
       "    <tr>\n",
       "      <th>1</th>\n",
       "      <td>{'C': 0.1, 'gamma': 0.007}</td>\n",
       "      <td>0.983239</td>\n",
       "    </tr>\n",
       "    <tr>\n",
       "      <th>2</th>\n",
       "      <td>{'C': 0.1, 'gamma': 0.01}</td>\n",
       "      <td>0.973116</td>\n",
       "    </tr>\n",
       "    <tr>\n",
       "      <th>3</th>\n",
       "      <td>{'C': 1, 'gamma': 0.001}</td>\n",
       "      <td>0.995353</td>\n",
       "    </tr>\n",
       "    <tr>\n",
       "      <th>4</th>\n",
       "      <td>{'C': 1, 'gamma': 0.007}</td>\n",
       "      <td>0.992532</td>\n",
       "    </tr>\n",
       "    <tr>\n",
       "      <th>5</th>\n",
       "      <td>{'C': 1, 'gamma': 0.01}</td>\n",
       "      <td>0.990541</td>\n",
       "    </tr>\n",
       "    <tr>\n",
       "      <th>6</th>\n",
       "      <td>{'C': 5, 'gamma': 0.001}</td>\n",
       "      <td>0.996017</td>\n",
       "    </tr>\n",
       "    <tr>\n",
       "      <th>7</th>\n",
       "      <td>{'C': 5, 'gamma': 0.007}</td>\n",
       "      <td>0.993030</td>\n",
       "    </tr>\n",
       "    <tr>\n",
       "      <th>8</th>\n",
       "      <td>{'C': 5, 'gamma': 0.01}</td>\n",
       "      <td>0.990872</td>\n",
       "    </tr>\n",
       "    <tr>\n",
       "      <th>9</th>\n",
       "      <td>{'C': 10, 'gamma': 0.001}</td>\n",
       "      <td>0.996349</td>\n",
       "    </tr>\n",
       "    <tr>\n",
       "      <th>10</th>\n",
       "      <td>{'C': 10, 'gamma': 0.007}</td>\n",
       "      <td>0.992864</td>\n",
       "    </tr>\n",
       "    <tr>\n",
       "      <th>11</th>\n",
       "      <td>{'C': 10, 'gamma': 0.01}</td>\n",
       "      <td>0.990872</td>\n",
       "    </tr>\n",
       "    <tr>\n",
       "      <th>12</th>\n",
       "      <td>{'C': 15, 'gamma': 0.001}</td>\n",
       "      <td>0.996515</td>\n",
       "    </tr>\n",
       "    <tr>\n",
       "      <th>13</th>\n",
       "      <td>{'C': 15, 'gamma': 0.007}</td>\n",
       "      <td>0.992864</td>\n",
       "    </tr>\n",
       "    <tr>\n",
       "      <th>14</th>\n",
       "      <td>{'C': 15, 'gamma': 0.01}</td>\n",
       "      <td>0.990872</td>\n",
       "    </tr>\n",
       "    <tr>\n",
       "      <th>15</th>\n",
       "      <td>{'C': 20, 'gamma': 0.001}</td>\n",
       "      <td>0.996349</td>\n",
       "    </tr>\n",
       "    <tr>\n",
       "      <th>16</th>\n",
       "      <td>{'C': 20, 'gamma': 0.007}</td>\n",
       "      <td>0.992864</td>\n",
       "    </tr>\n",
       "    <tr>\n",
       "      <th>17</th>\n",
       "      <td>{'C': 20, 'gamma': 0.01}</td>\n",
       "      <td>0.990872</td>\n",
       "    </tr>\n",
       "    <tr>\n",
       "      <th>18</th>\n",
       "      <td>{'C': 100, 'gamma': 0.001}</td>\n",
       "      <td>0.996018</td>\n",
       "    </tr>\n",
       "    <tr>\n",
       "      <th>19</th>\n",
       "      <td>{'C': 100, 'gamma': 0.007}</td>\n",
       "      <td>0.992864</td>\n",
       "    </tr>\n",
       "    <tr>\n",
       "      <th>20</th>\n",
       "      <td>{'C': 100, 'gamma': 0.01}</td>\n",
       "      <td>0.990872</td>\n",
       "    </tr>\n",
       "  </tbody>\n",
       "</table>\n",
       "</div>"
      ],
      "text/plain": [
       "                        params  5-fold CV Error\n",
       "0   {'C': 0.1, 'gamma': 0.001}         0.990374\n",
       "1   {'C': 0.1, 'gamma': 0.007}         0.983239\n",
       "2    {'C': 0.1, 'gamma': 0.01}         0.973116\n",
       "3     {'C': 1, 'gamma': 0.001}         0.995353\n",
       "4     {'C': 1, 'gamma': 0.007}         0.992532\n",
       "5      {'C': 1, 'gamma': 0.01}         0.990541\n",
       "6     {'C': 5, 'gamma': 0.001}         0.996017\n",
       "7     {'C': 5, 'gamma': 0.007}         0.993030\n",
       "8      {'C': 5, 'gamma': 0.01}         0.990872\n",
       "9    {'C': 10, 'gamma': 0.001}         0.996349\n",
       "10   {'C': 10, 'gamma': 0.007}         0.992864\n",
       "11    {'C': 10, 'gamma': 0.01}         0.990872\n",
       "12   {'C': 15, 'gamma': 0.001}         0.996515\n",
       "13   {'C': 15, 'gamma': 0.007}         0.992864\n",
       "14    {'C': 15, 'gamma': 0.01}         0.990872\n",
       "15   {'C': 20, 'gamma': 0.001}         0.996349\n",
       "16   {'C': 20, 'gamma': 0.007}         0.992864\n",
       "17    {'C': 20, 'gamma': 0.01}         0.990872\n",
       "18  {'C': 100, 'gamma': 0.001}         0.996018\n",
       "19  {'C': 100, 'gamma': 0.007}         0.992864\n",
       "20   {'C': 100, 'gamma': 0.01}         0.990872"
      ]
     },
     "execution_count": 59,
     "metadata": {},
     "output_type": "execute_result"
    }
   ],
   "source": [
    "with timer:\n",
    "    params = {'C': (0.1, 1,5,10,15,20,100),'gamma': (0.001,0.007,0.01)}\n",
    "    svcrbf = GridSearchCV(SVC(kernel='rbf'), param_grid=params,\n",
    "                                cv=5, n_jobs=-1)\n",
    "    svcrbf.fit(Xtrain, traindata36.label)\n",
    "    result_df = pd.DataFrame({'params': svcrbf.cv_results_[\n",
    "                             'params'], '5-fold CV Error': svcrbf.cv_results_['mean_test_score']})\n",
    "result_df"
   ]
  },
  {
   "cell_type": "code",
   "execution_count": 60,
   "id": "sophisticated-wrapping",
   "metadata": {},
   "outputs": [
    {
     "data": {
      "text/html": [
       "<style>#sk-container-id-4 {color: black;background-color: white;}#sk-container-id-4 pre{padding: 0;}#sk-container-id-4 div.sk-toggleable {background-color: white;}#sk-container-id-4 label.sk-toggleable__label {cursor: pointer;display: block;width: 100%;margin-bottom: 0;padding: 0.3em;box-sizing: border-box;text-align: center;}#sk-container-id-4 label.sk-toggleable__label-arrow:before {content: \"▸\";float: left;margin-right: 0.25em;color: #696969;}#sk-container-id-4 label.sk-toggleable__label-arrow:hover:before {color: black;}#sk-container-id-4 div.sk-estimator:hover label.sk-toggleable__label-arrow:before {color: black;}#sk-container-id-4 div.sk-toggleable__content {max-height: 0;max-width: 0;overflow: hidden;text-align: left;background-color: #f0f8ff;}#sk-container-id-4 div.sk-toggleable__content pre {margin: 0.2em;color: black;border-radius: 0.25em;background-color: #f0f8ff;}#sk-container-id-4 input.sk-toggleable__control:checked~div.sk-toggleable__content {max-height: 200px;max-width: 100%;overflow: auto;}#sk-container-id-4 input.sk-toggleable__control:checked~label.sk-toggleable__label-arrow:before {content: \"▾\";}#sk-container-id-4 div.sk-estimator input.sk-toggleable__control:checked~label.sk-toggleable__label {background-color: #d4ebff;}#sk-container-id-4 div.sk-label input.sk-toggleable__control:checked~label.sk-toggleable__label {background-color: #d4ebff;}#sk-container-id-4 input.sk-hidden--visually {border: 0;clip: rect(1px 1px 1px 1px);clip: rect(1px, 1px, 1px, 1px);height: 1px;margin: -1px;overflow: hidden;padding: 0;position: absolute;width: 1px;}#sk-container-id-4 div.sk-estimator {font-family: monospace;background-color: #f0f8ff;border: 1px dotted black;border-radius: 0.25em;box-sizing: border-box;margin-bottom: 0.5em;}#sk-container-id-4 div.sk-estimator:hover {background-color: #d4ebff;}#sk-container-id-4 div.sk-parallel-item::after {content: \"\";width: 100%;border-bottom: 1px solid gray;flex-grow: 1;}#sk-container-id-4 div.sk-label:hover label.sk-toggleable__label {background-color: #d4ebff;}#sk-container-id-4 div.sk-serial::before {content: \"\";position: absolute;border-left: 1px solid gray;box-sizing: border-box;top: 0;bottom: 0;left: 50%;z-index: 0;}#sk-container-id-4 div.sk-serial {display: flex;flex-direction: column;align-items: center;background-color: white;padding-right: 0.2em;padding-left: 0.2em;position: relative;}#sk-container-id-4 div.sk-item {position: relative;z-index: 1;}#sk-container-id-4 div.sk-parallel {display: flex;align-items: stretch;justify-content: center;background-color: white;position: relative;}#sk-container-id-4 div.sk-item::before, #sk-container-id-4 div.sk-parallel-item::before {content: \"\";position: absolute;border-left: 1px solid gray;box-sizing: border-box;top: 0;bottom: 0;left: 50%;z-index: -1;}#sk-container-id-4 div.sk-parallel-item {display: flex;flex-direction: column;z-index: 1;position: relative;background-color: white;}#sk-container-id-4 div.sk-parallel-item:first-child::after {align-self: flex-end;width: 50%;}#sk-container-id-4 div.sk-parallel-item:last-child::after {align-self: flex-start;width: 50%;}#sk-container-id-4 div.sk-parallel-item:only-child::after {width: 0;}#sk-container-id-4 div.sk-dashed-wrapped {border: 1px dashed gray;margin: 0 0.4em 0.5em 0.4em;box-sizing: border-box;padding-bottom: 0.4em;background-color: white;}#sk-container-id-4 div.sk-label label {font-family: monospace;font-weight: bold;display: inline-block;line-height: 1.2em;}#sk-container-id-4 div.sk-label-container {text-align: center;}#sk-container-id-4 div.sk-container {/* jupyter's `normalize.less` sets `[hidden] { display: none; }` but bootstrap.min.css set `[hidden] { display: none !important; }` so we also need the `!important` here to be able to override the default hidden behavior on the sphinx rendered scikit-learn.org. See: https://github.com/scikit-learn/scikit-learn/issues/21755 */display: inline-block !important;position: relative;}#sk-container-id-4 div.sk-text-repr-fallback {display: none;}</style><div id=\"sk-container-id-4\" class=\"sk-top-container\"><div class=\"sk-text-repr-fallback\"><pre>SVC(C=15, gamma=0.001)</pre><b>In a Jupyter environment, please rerun this cell to show the HTML representation or trust the notebook. <br />On GitHub, the HTML representation is unable to render, please try loading this page with nbviewer.org.</b></div><div class=\"sk-container\" hidden><div class=\"sk-item\"><div class=\"sk-estimator sk-toggleable\"><input class=\"sk-toggleable__control sk-hidden--visually\" id=\"sk-estimator-id-4\" type=\"checkbox\" checked><label for=\"sk-estimator-id-4\" class=\"sk-toggleable__label sk-toggleable__label-arrow\">SVC</label><div class=\"sk-toggleable__content\"><pre>SVC(C=15, gamma=0.001)</pre></div></div></div></div></div>"
      ],
      "text/plain": [
       "SVC(C=15, gamma=0.001)"
      ]
     },
     "execution_count": 60,
     "metadata": {},
     "output_type": "execute_result"
    }
   ],
   "source": [
    "svcrbf_best = svcrbf.best_estimator_\n",
    "svcrbf_best"
   ]
  },
  {
   "cell_type": "code",
   "execution_count": 41,
   "id": "potential-blackberry",
   "metadata": {},
   "outputs": [
    {
     "name": "stdout",
     "output_type": "stream",
     "text": [
      "misclassifcation error: 0.0036555645816409577\n",
      "confusion matrix:\n",
      " [[1257    4]\n",
      " [   5 1196]]\n"
     ]
    }
   ],
   "source": [
    "pred = svcrbf_best.predict(Xtest)\n",
    "print(\"misclassifcation error:\",1-accuracy_score(pred,testdata36.label))\n",
    "print(\"confusion matrix:\\n\",confusion_matrix(svcrbf_best.predict(Xtest),testdata36.label))"
   ]
  },
  {
   "cell_type": "markdown",
   "id": "referenced-elizabeth",
   "metadata": {},
   "source": [
    "## 3. Compare the results of the above two models and report your comments. \n",
    "\n",
    "The performance of svm with radial kernel is better than svm with linear kernel. However, it takes longer time and svm with radial kernel requires user to tune more parameter including cost parameter `C` and `gamma`.\n",
    "\n",
    "Hence, in practise, svm with radial kernel reuqires more experience on parameter tuning and patience for computation time. On the other hand, svm with linear kernel is more situable for rookies."
   ]
  },
  {
   "attachments": {},
   "cell_type": "markdown",
   "id": "ahead-estonia",
   "metadata": {},
   "source": [
    "## 4. Use only the digit images of 1,2,5 and 8 from train_resized.csv and test_resized.csv to build an \n",
    "SVM classifier for multi-class classification. More specifically, use a linear kernel and choose the \n",
    "best cost parameter (called budget in our course) by 5 fold cross validation. Apply your model on \n",
    "the test data and report the misclassification error, confusion matrix. Also report the time cost of \n",
    "training your model."
   ]
  },
  {
   "cell_type": "code",
   "execution_count": 46,
   "id": "noted-winning",
   "metadata": {},
   "outputs": [],
   "source": [
    "traindata1258 = traindata[traindata.label.isin((1,2,5,8))]\n",
    "testdata1258 = testdata[testdata.label.isin((1,2,5,8))]\n",
    "scaler = StandardScaler()\n",
    "Xtrain = scaler.fit_transform(traindata1258.loc[:,\"pixel1\":])\n",
    "Xtest = scaler.transform(testdata1258.loc[:,\"pixel1\":])"
   ]
  },
  {
   "cell_type": "code",
   "execution_count": 47,
   "id": "lined-locator",
   "metadata": {},
   "outputs": [
    {
     "name": "stdout",
     "output_type": "stream",
     "text": [
      "Used time:240.56118321418762s\n"
     ]
    },
    {
     "data": {
      "text/html": [
       "<div>\n",
       "<style scoped>\n",
       "    .dataframe tbody tr th:only-of-type {\n",
       "        vertical-align: middle;\n",
       "    }\n",
       "\n",
       "    .dataframe tbody tr th {\n",
       "        vertical-align: top;\n",
       "    }\n",
       "\n",
       "    .dataframe thead th {\n",
       "        text-align: right;\n",
       "    }\n",
       "</style>\n",
       "<table border=\"1\" class=\"dataframe\">\n",
       "  <thead>\n",
       "    <tr style=\"text-align: right;\">\n",
       "      <th></th>\n",
       "      <th>params</th>\n",
       "      <th>5-fold CV Error</th>\n",
       "    </tr>\n",
       "  </thead>\n",
       "  <tbody>\n",
       "    <tr>\n",
       "      <th>0</th>\n",
       "      <td>{'C': 0.001}</td>\n",
       "      <td>0.952154</td>\n",
       "    </tr>\n",
       "    <tr>\n",
       "      <th>1</th>\n",
       "      <td>{'C': 0.1}</td>\n",
       "      <td>0.960380</td>\n",
       "    </tr>\n",
       "    <tr>\n",
       "      <th>2</th>\n",
       "      <td>{'C': 0.5}</td>\n",
       "      <td>0.958785</td>\n",
       "    </tr>\n",
       "    <tr>\n",
       "      <th>3</th>\n",
       "      <td>{'C': 1}</td>\n",
       "      <td>0.956435</td>\n",
       "    </tr>\n",
       "    <tr>\n",
       "      <th>4</th>\n",
       "      <td>{'C': 5}</td>\n",
       "      <td>0.953077</td>\n",
       "    </tr>\n",
       "    <tr>\n",
       "      <th>5</th>\n",
       "      <td>{'C': 10}</td>\n",
       "      <td>0.953161</td>\n",
       "    </tr>\n",
       "    <tr>\n",
       "      <th>6</th>\n",
       "      <td>{'C': 15}</td>\n",
       "      <td>0.952069</td>\n",
       "    </tr>\n",
       "    <tr>\n",
       "      <th>7</th>\n",
       "      <td>{'C': 100}</td>\n",
       "      <td>0.949803</td>\n",
       "    </tr>\n",
       "  </tbody>\n",
       "</table>\n",
       "</div>"
      ],
      "text/plain": [
       "         params  5-fold CV Error\n",
       "0  {'C': 0.001}         0.952154\n",
       "1    {'C': 0.1}         0.960380\n",
       "2    {'C': 0.5}         0.958785\n",
       "3      {'C': 1}         0.956435\n",
       "4      {'C': 5}         0.953077\n",
       "5     {'C': 10}         0.953161\n",
       "6     {'C': 15}         0.952069\n",
       "7    {'C': 100}         0.949803"
      ]
     },
     "execution_count": 47,
     "metadata": {},
     "output_type": "execute_result"
    }
   ],
   "source": [
    "with timer:\n",
    "    params = {'C':(0.001, 0.1 ,0.5,1 ,5,10 ,15,100)}\n",
    "    svclin = GridSearchCV(SVC(kernel='linear',degree=1),param_grid=params,cv=5,n_jobs=-1)\n",
    "    svclin.fit(Xtrain,traindata1258.label)\n",
    "    result_df = pd.DataFrame({'params':svclin.cv_results_['params'],'5-fold CV Error':svclin.cv_results_['mean_test_score']})\n",
    "result_df"
   ]
  },
  {
   "cell_type": "code",
   "execution_count": 55,
   "id": "artificial-removal",
   "metadata": {},
   "outputs": [
    {
     "data": {
      "text/html": [
       "<style>#sk-container-id-2 {color: black;background-color: white;}#sk-container-id-2 pre{padding: 0;}#sk-container-id-2 div.sk-toggleable {background-color: white;}#sk-container-id-2 label.sk-toggleable__label {cursor: pointer;display: block;width: 100%;margin-bottom: 0;padding: 0.3em;box-sizing: border-box;text-align: center;}#sk-container-id-2 label.sk-toggleable__label-arrow:before {content: \"▸\";float: left;margin-right: 0.25em;color: #696969;}#sk-container-id-2 label.sk-toggleable__label-arrow:hover:before {color: black;}#sk-container-id-2 div.sk-estimator:hover label.sk-toggleable__label-arrow:before {color: black;}#sk-container-id-2 div.sk-toggleable__content {max-height: 0;max-width: 0;overflow: hidden;text-align: left;background-color: #f0f8ff;}#sk-container-id-2 div.sk-toggleable__content pre {margin: 0.2em;color: black;border-radius: 0.25em;background-color: #f0f8ff;}#sk-container-id-2 input.sk-toggleable__control:checked~div.sk-toggleable__content {max-height: 200px;max-width: 100%;overflow: auto;}#sk-container-id-2 input.sk-toggleable__control:checked~label.sk-toggleable__label-arrow:before {content: \"▾\";}#sk-container-id-2 div.sk-estimator input.sk-toggleable__control:checked~label.sk-toggleable__label {background-color: #d4ebff;}#sk-container-id-2 div.sk-label input.sk-toggleable__control:checked~label.sk-toggleable__label {background-color: #d4ebff;}#sk-container-id-2 input.sk-hidden--visually {border: 0;clip: rect(1px 1px 1px 1px);clip: rect(1px, 1px, 1px, 1px);height: 1px;margin: -1px;overflow: hidden;padding: 0;position: absolute;width: 1px;}#sk-container-id-2 div.sk-estimator {font-family: monospace;background-color: #f0f8ff;border: 1px dotted black;border-radius: 0.25em;box-sizing: border-box;margin-bottom: 0.5em;}#sk-container-id-2 div.sk-estimator:hover {background-color: #d4ebff;}#sk-container-id-2 div.sk-parallel-item::after {content: \"\";width: 100%;border-bottom: 1px solid gray;flex-grow: 1;}#sk-container-id-2 div.sk-label:hover label.sk-toggleable__label {background-color: #d4ebff;}#sk-container-id-2 div.sk-serial::before {content: \"\";position: absolute;border-left: 1px solid gray;box-sizing: border-box;top: 0;bottom: 0;left: 50%;z-index: 0;}#sk-container-id-2 div.sk-serial {display: flex;flex-direction: column;align-items: center;background-color: white;padding-right: 0.2em;padding-left: 0.2em;position: relative;}#sk-container-id-2 div.sk-item {position: relative;z-index: 1;}#sk-container-id-2 div.sk-parallel {display: flex;align-items: stretch;justify-content: center;background-color: white;position: relative;}#sk-container-id-2 div.sk-item::before, #sk-container-id-2 div.sk-parallel-item::before {content: \"\";position: absolute;border-left: 1px solid gray;box-sizing: border-box;top: 0;bottom: 0;left: 50%;z-index: -1;}#sk-container-id-2 div.sk-parallel-item {display: flex;flex-direction: column;z-index: 1;position: relative;background-color: white;}#sk-container-id-2 div.sk-parallel-item:first-child::after {align-self: flex-end;width: 50%;}#sk-container-id-2 div.sk-parallel-item:last-child::after {align-self: flex-start;width: 50%;}#sk-container-id-2 div.sk-parallel-item:only-child::after {width: 0;}#sk-container-id-2 div.sk-dashed-wrapped {border: 1px dashed gray;margin: 0 0.4em 0.5em 0.4em;box-sizing: border-box;padding-bottom: 0.4em;background-color: white;}#sk-container-id-2 div.sk-label label {font-family: monospace;font-weight: bold;display: inline-block;line-height: 1.2em;}#sk-container-id-2 div.sk-label-container {text-align: center;}#sk-container-id-2 div.sk-container {/* jupyter's `normalize.less` sets `[hidden] { display: none; }` but bootstrap.min.css set `[hidden] { display: none !important; }` so we also need the `!important` here to be able to override the default hidden behavior on the sphinx rendered scikit-learn.org. See: https://github.com/scikit-learn/scikit-learn/issues/21755 */display: inline-block !important;position: relative;}#sk-container-id-2 div.sk-text-repr-fallback {display: none;}</style><div id=\"sk-container-id-2\" class=\"sk-top-container\"><div class=\"sk-text-repr-fallback\"><pre>SVC(C=0.1, degree=1, kernel=&#x27;linear&#x27;)</pre><b>In a Jupyter environment, please rerun this cell to show the HTML representation or trust the notebook. <br />On GitHub, the HTML representation is unable to render, please try loading this page with nbviewer.org.</b></div><div class=\"sk-container\" hidden><div class=\"sk-item\"><div class=\"sk-estimator sk-toggleable\"><input class=\"sk-toggleable__control sk-hidden--visually\" id=\"sk-estimator-id-2\" type=\"checkbox\" checked><label for=\"sk-estimator-id-2\" class=\"sk-toggleable__label sk-toggleable__label-arrow\">SVC</label><div class=\"sk-toggleable__content\"><pre>SVC(C=0.1, degree=1, kernel=&#x27;linear&#x27;)</pre></div></div></div></div></div>"
      ],
      "text/plain": [
       "SVC(C=0.1, degree=1, kernel='linear')"
      ]
     },
     "execution_count": 55,
     "metadata": {},
     "output_type": "execute_result"
    }
   ],
   "source": [
    "svclin_best = svclin.best_estimator_\n",
    "svclin_best"
   ]
  },
  {
   "cell_type": "code",
   "execution_count": 48,
   "id": "strong-michael",
   "metadata": {},
   "outputs": [
    {
     "name": "stdout",
     "output_type": "stream",
     "text": [
      "misclassifcation error: 0.046608406158968\n",
      "confusion matrix:\n",
      " [[1344   10   16   23]\n",
      " [  11 1135   15   22]\n",
      " [   2   16 1062   46]\n",
      " [   6   24   33 1041]]\n"
     ]
    }
   ],
   "source": [
    "pred = svclin_best.predict(Xtest)\n",
    "print(\"misclassifcation error:\",1-accuracy_score(pred,testdata1258.label))\n",
    "print(\"confusion matrix:\\n\",confusion_matrix(svclin_best.predict(Xtest),testdata1258.label))"
   ]
  },
  {
   "attachments": {},
   "cell_type": "markdown",
   "id": "nonprofit-active",
   "metadata": {},
   "source": [
    "## 5. Use the complete dataset of train_resized.csv and test_resized.csv to build an SVM classifier for \n",
    "classifying all 10 classes. You can use any SVM model and tune the parameters by yourself. \n",
    "Report the best test performance (misclassification error) you can get, the model you used and the \n",
    "time cost of training your model."
   ]
  },
  {
   "cell_type": "code",
   "execution_count": 49,
   "id": "grateful-platform",
   "metadata": {},
   "outputs": [],
   "source": [
    "scaler = StandardScaler()\n",
    "Xtrain = scaler.fit_transform(traindata.loc[:,\"pixel1\":])\n",
    "Xtest = scaler.transform(testdata.loc[:,\"pixel1\":])"
   ]
  },
  {
   "cell_type": "code",
   "execution_count": 51,
   "id": "strategic-america",
   "metadata": {},
   "outputs": [
    {
     "name": "stdout",
     "output_type": "stream",
     "text": [
      "Used time:402.82375860214233s\n"
     ]
    },
    {
     "data": {
      "text/html": [
       "<div>\n",
       "<style scoped>\n",
       "    .dataframe tbody tr th:only-of-type {\n",
       "        vertical-align: middle;\n",
       "    }\n",
       "\n",
       "    .dataframe tbody tr th {\n",
       "        vertical-align: top;\n",
       "    }\n",
       "\n",
       "    .dataframe thead th {\n",
       "        text-align: right;\n",
       "    }\n",
       "</style>\n",
       "<table border=\"1\" class=\"dataframe\">\n",
       "  <thead>\n",
       "    <tr style=\"text-align: right;\">\n",
       "      <th></th>\n",
       "      <th>params</th>\n",
       "      <th>5-fold CV Error</th>\n",
       "    </tr>\n",
       "  </thead>\n",
       "  <tbody>\n",
       "    <tr>\n",
       "      <th>0</th>\n",
       "      <td>{'C': 10, 'gamma': 0.001}</td>\n",
       "      <td>0.953000</td>\n",
       "    </tr>\n",
       "    <tr>\n",
       "      <th>1</th>\n",
       "      <td>{'C': 10, 'gamma': 0.007}</td>\n",
       "      <td>0.964800</td>\n",
       "    </tr>\n",
       "    <tr>\n",
       "      <th>2</th>\n",
       "      <td>{'C': 10, 'gamma': 0.01}</td>\n",
       "      <td>0.962500</td>\n",
       "    </tr>\n",
       "    <tr>\n",
       "      <th>3</th>\n",
       "      <td>{'C': 20, 'gamma': 0.001}</td>\n",
       "      <td>0.956367</td>\n",
       "    </tr>\n",
       "    <tr>\n",
       "      <th>4</th>\n",
       "      <td>{'C': 20, 'gamma': 0.007}</td>\n",
       "      <td>0.965133</td>\n",
       "    </tr>\n",
       "    <tr>\n",
       "      <th>5</th>\n",
       "      <td>{'C': 20, 'gamma': 0.01}</td>\n",
       "      <td>0.962433</td>\n",
       "    </tr>\n",
       "  </tbody>\n",
       "</table>\n",
       "</div>"
      ],
      "text/plain": [
       "                      params  5-fold CV Error\n",
       "0  {'C': 10, 'gamma': 0.001}         0.953000\n",
       "1  {'C': 10, 'gamma': 0.007}         0.964800\n",
       "2   {'C': 10, 'gamma': 0.01}         0.962500\n",
       "3  {'C': 20, 'gamma': 0.001}         0.956367\n",
       "4  {'C': 20, 'gamma': 0.007}         0.965133\n",
       "5   {'C': 20, 'gamma': 0.01}         0.962433"
      ]
     },
     "execution_count": 51,
     "metadata": {},
     "output_type": "execute_result"
    }
   ],
   "source": [
    "with timer:\n",
    "    params = {'C': (10,20),'gamma': (0.001,0.007,0.01)}\n",
    "    svcrbf = GridSearchCV(SVC(kernel='rbf'), param_grid=params,\n",
    "                                cv=5, n_jobs=-1)\n",
    "    svcrbf.fit(Xtrain, traindata.label)\n",
    "    result_df = pd.DataFrame({'params': svcrbf.cv_results_[\n",
    "                             'params'], '5-fold CV Error': svcrbf.cv_results_['mean_test_score']})\n",
    "result_df"
   ]
  },
  {
   "cell_type": "code",
   "execution_count": 52,
   "id": "optimum-jurisdiction",
   "metadata": {},
   "outputs": [
    {
     "data": {
      "text/html": [
       "<style>#sk-container-id-1 {color: black;background-color: white;}#sk-container-id-1 pre{padding: 0;}#sk-container-id-1 div.sk-toggleable {background-color: white;}#sk-container-id-1 label.sk-toggleable__label {cursor: pointer;display: block;width: 100%;margin-bottom: 0;padding: 0.3em;box-sizing: border-box;text-align: center;}#sk-container-id-1 label.sk-toggleable__label-arrow:before {content: \"▸\";float: left;margin-right: 0.25em;color: #696969;}#sk-container-id-1 label.sk-toggleable__label-arrow:hover:before {color: black;}#sk-container-id-1 div.sk-estimator:hover label.sk-toggleable__label-arrow:before {color: black;}#sk-container-id-1 div.sk-toggleable__content {max-height: 0;max-width: 0;overflow: hidden;text-align: left;background-color: #f0f8ff;}#sk-container-id-1 div.sk-toggleable__content pre {margin: 0.2em;color: black;border-radius: 0.25em;background-color: #f0f8ff;}#sk-container-id-1 input.sk-toggleable__control:checked~div.sk-toggleable__content {max-height: 200px;max-width: 100%;overflow: auto;}#sk-container-id-1 input.sk-toggleable__control:checked~label.sk-toggleable__label-arrow:before {content: \"▾\";}#sk-container-id-1 div.sk-estimator input.sk-toggleable__control:checked~label.sk-toggleable__label {background-color: #d4ebff;}#sk-container-id-1 div.sk-label input.sk-toggleable__control:checked~label.sk-toggleable__label {background-color: #d4ebff;}#sk-container-id-1 input.sk-hidden--visually {border: 0;clip: rect(1px 1px 1px 1px);clip: rect(1px, 1px, 1px, 1px);height: 1px;margin: -1px;overflow: hidden;padding: 0;position: absolute;width: 1px;}#sk-container-id-1 div.sk-estimator {font-family: monospace;background-color: #f0f8ff;border: 1px dotted black;border-radius: 0.25em;box-sizing: border-box;margin-bottom: 0.5em;}#sk-container-id-1 div.sk-estimator:hover {background-color: #d4ebff;}#sk-container-id-1 div.sk-parallel-item::after {content: \"\";width: 100%;border-bottom: 1px solid gray;flex-grow: 1;}#sk-container-id-1 div.sk-label:hover label.sk-toggleable__label {background-color: #d4ebff;}#sk-container-id-1 div.sk-serial::before {content: \"\";position: absolute;border-left: 1px solid gray;box-sizing: border-box;top: 0;bottom: 0;left: 50%;z-index: 0;}#sk-container-id-1 div.sk-serial {display: flex;flex-direction: column;align-items: center;background-color: white;padding-right: 0.2em;padding-left: 0.2em;position: relative;}#sk-container-id-1 div.sk-item {position: relative;z-index: 1;}#sk-container-id-1 div.sk-parallel {display: flex;align-items: stretch;justify-content: center;background-color: white;position: relative;}#sk-container-id-1 div.sk-item::before, #sk-container-id-1 div.sk-parallel-item::before {content: \"\";position: absolute;border-left: 1px solid gray;box-sizing: border-box;top: 0;bottom: 0;left: 50%;z-index: -1;}#sk-container-id-1 div.sk-parallel-item {display: flex;flex-direction: column;z-index: 1;position: relative;background-color: white;}#sk-container-id-1 div.sk-parallel-item:first-child::after {align-self: flex-end;width: 50%;}#sk-container-id-1 div.sk-parallel-item:last-child::after {align-self: flex-start;width: 50%;}#sk-container-id-1 div.sk-parallel-item:only-child::after {width: 0;}#sk-container-id-1 div.sk-dashed-wrapped {border: 1px dashed gray;margin: 0 0.4em 0.5em 0.4em;box-sizing: border-box;padding-bottom: 0.4em;background-color: white;}#sk-container-id-1 div.sk-label label {font-family: monospace;font-weight: bold;display: inline-block;line-height: 1.2em;}#sk-container-id-1 div.sk-label-container {text-align: center;}#sk-container-id-1 div.sk-container {/* jupyter's `normalize.less` sets `[hidden] { display: none; }` but bootstrap.min.css set `[hidden] { display: none !important; }` so we also need the `!important` here to be able to override the default hidden behavior on the sphinx rendered scikit-learn.org. See: https://github.com/scikit-learn/scikit-learn/issues/21755 */display: inline-block !important;position: relative;}#sk-container-id-1 div.sk-text-repr-fallback {display: none;}</style><div id=\"sk-container-id-1\" class=\"sk-top-container\"><div class=\"sk-text-repr-fallback\"><pre>SVC(C=20, gamma=0.007)</pre><b>In a Jupyter environment, please rerun this cell to show the HTML representation or trust the notebook. <br />On GitHub, the HTML representation is unable to render, please try loading this page with nbviewer.org.</b></div><div class=\"sk-container\" hidden><div class=\"sk-item\"><div class=\"sk-estimator sk-toggleable\"><input class=\"sk-toggleable__control sk-hidden--visually\" id=\"sk-estimator-id-1\" type=\"checkbox\" checked><label for=\"sk-estimator-id-1\" class=\"sk-toggleable__label sk-toggleable__label-arrow\">SVC</label><div class=\"sk-toggleable__content\"><pre>SVC(C=20, gamma=0.007)</pre></div></div></div></div></div>"
      ],
      "text/plain": [
       "SVC(C=20, gamma=0.007)"
      ]
     },
     "execution_count": 52,
     "metadata": {},
     "output_type": "execute_result"
    }
   ],
   "source": [
    "svcrbf_best = svcrbf.best_estimator_\n",
    "svcrbf_best"
   ]
  },
  {
   "cell_type": "code",
   "execution_count": 54,
   "id": "foster-financing",
   "metadata": {},
   "outputs": [
    {
     "name": "stdout",
     "output_type": "stream",
     "text": [
      "misclassifcation error: 0.032749999999999946\n",
      "confusion matrix:\n",
      " [[1125    1    3    0    2    4    3    1    3    3]\n",
      " [   0 1343    1    2    2    2    0    1    3    2]\n",
      " [   3   13 1150   29   13    7   12   12   10    8]\n",
      " [   1    1    6 1206    0   16    0    2   13    4]\n",
      " [   0    1    7    0 1141    1    3    7    5   15]\n",
      " [   3    0    3    9    3 1069    7    1    8    2]\n",
      " [   7    0    1    1    3   11 1172    0    1    0]\n",
      " [   0    1    7    5    2    1    0 1224    5   15]\n",
      " [   1    2    5    3    0   12    3    0 1077    4]\n",
      " [   0    1    2    7    9    3    0   16    7 1100]]\n"
     ]
    }
   ],
   "source": [
    "pred = svcrbf_best.predict(Xtest)\n",
    "print(\"misclassifcation error:\",1-accuracy_score(pred,testdata.label))\n",
    "print(\"confusion matrix:\\n\",confusion_matrix(svcrbf_best.predict(Xtest),testdata.label))"
   ]
  },
  {
   "cell_type": "markdown",
   "id": "brief-lincoln",
   "metadata": {},
   "source": [
    "# Part IV. Additional Bonus\n",
    "Try any other machine learning methods you know, not necessarily limited to this course, on this \n",
    "MNIST dataset. Report the best test performance you can get, the model and the time cost of \n",
    "training your model. How does it compare to part III?"
   ]
  },
  {
   "cell_type": "markdown",
   "id": "dangerous-destruction",
   "metadata": {},
   "source": [
    "## Introduction\n",
    "\n",
    "In this section, I am going to complete this digital image classification task by constructing a Convolutional Neural Network.\n",
    "\n",
    "## Import dataset and preprocessing\n",
    "\n",
    "### Dataset\n",
    "\n",
    "`MNIST` dataset \n",
    "\n",
    "### Data Augment\n",
    "\n",
    "In order to improve generalization capability of model, dataset is preprocessed in following way:\n",
    "\n",
    "1. `RandomHorizontalFlip`\n",
    "2. `RandomGrayscale`\n",
    "\n",
    "We can just use `torchvision.transforms`[3] to do so."
   ]
  },
  {
   "cell_type": "code",
   "execution_count": 28,
   "id": "opponent-construction",
   "metadata": {},
   "outputs": [],
   "source": [
    "import torch\n",
    "from torch import nn,optim\n",
    "from torch.nn import functional as F, Sequential as Seq, Module\n",
    "from torchvision import datasets,transforms\n",
    "from torch.utils.data import DataLoader\n",
    "\n",
    "\n",
    "train_data_transformer = transforms.Compose([\n",
    "     transforms.RandomHorizontalFlip(),\n",
    "     transforms.RandomGrayscale(),\n",
    "     transforms.ToTensor()\n",
    "    ])\n",
    "\n",
    "train_data = datasets.MNIST(\n",
    "    root=\"data\",\n",
    "    train=True,\n",
    "    download=True,\n",
    "    transform=train_data_transformer\n",
    ")\n",
    "\n",
    "\n",
    "test_data = datasets.MNIST(\n",
    "    root=\"data\",\n",
    "    train=False,\n",
    "    download=True,\n",
    "    transform=transforms.ToTensor()\n",
    ")\n",
    "\n",
    "batch_size = 64\n",
    "\n",
    "train_dataloader = DataLoader(train_data, batch_size=batch_size)"
   ]
  },
  {
   "cell_type": "markdown",
   "id": "alone-optimum",
   "metadata": {},
   "source": [
    "### Inception Module\n",
    "\n",
    "This paper implements a simple parallel arrangement network structure according to the idea of Inception Net.\n",
    "\n",
    "<img src=\"../figs/MiniInceptionArchi.png\" style=\"zoom: 60%;\" />\n",
    "\n",
    "With this convolution arrangement, the input information can be simultaneously processed through three convolution operations of different sizes, making the network have a receptive field of $1 times1,3 times3,5 times5 $at the same time, so that more features of different scales can be extracted, and the dependence on the size of the convolution kernel can also be reduced. On the one hand, it increases the width of the network, on the other hand, the convolutions in the network are different in size, which can increase the adaptability of the network to different scales."
   ]
  },
  {
   "cell_type": "code",
   "execution_count": 9,
   "id": "understood-function",
   "metadata": {},
   "outputs": [],
   "source": [
    "class Inception(Module):\n",
    "    def __init__(self,input_channel):\n",
    "        super().__init__()\n",
    "        self.conv1x1 = nn.Conv2d(input_channel,16,1)\n",
    "        self.conv3x3 = nn.Conv2d(input_channel,16,3,padding=1)\n",
    "        self.conv5x5 = nn.Conv2d(input_channel,16,5,padding=2)\n",
    "        self.maxpool3x3 = Seq(nn.MaxPool2d(3,1,padding=1),nn.Conv2d(input_channel,16,1))\n",
    "        self.branches = (self.conv1x1,self.conv3x3,self.conv5x5,self.maxpool3x3)\n",
    "        \n",
    "    def forward(self,x):\n",
    "        return torch.cat([branch(x) for branch in self.branches],dim=1)"
   ]
  },
  {
   "cell_type": "markdown",
   "id": "romantic-continent",
   "metadata": {},
   "source": [
    "## Construct model architecture\n",
    "\n",
    "<img src=\"../figs/NetworkArchi.png\" alt=\"50%\" style=\"zoom:85%;\" />\n",
    "\n",
    "We also use `Batch Norm` and `Dropout` to improve the generalization capability of model."
   ]
  },
  {
   "cell_type": "code",
   "execution_count": 6,
   "id": "continued-aggregate",
   "metadata": {},
   "outputs": [],
   "source": [
    "class MiniInception(Module):\n",
    "    def __init__(self):\n",
    "        super().__init__()\n",
    "        self.conv = Seq(\n",
    "            # 1@28x28\n",
    "            nn.Conv2d(1,8,3),\n",
    "            # 8@28x28\n",
    "            nn.Conv2d(8,16,3),\n",
    "            # 16@24x24\n",
    "            nn.MaxPool2d(2,2), \n",
    "            # 16@12x12\n",
    "            nn.BatchNorm2d(16),\n",
    "            nn.ReLU(),\n",
    "            # 16@12x12\n",
    "            Inception(16),\n",
    "            # 64@12x12\n",
    "            nn.MaxPool2d(3,3),\n",
    "            # 64@4x4\n",
    "            nn.BatchNorm2d(64),\n",
    "            nn.ReLU(),\n",
    "            # 64@4x4\n",
    "        )\n",
    "        self.fc = Seq(\n",
    "            nn.Linear(64 * 4 * 4, 256),\n",
    "            nn.ReLU(),\n",
    "            nn.Dropout(),\n",
    "            nn.Linear(256,10),\n",
    "#             nn.Linear(64 * 4 * 4, 10),\n",
    "            nn.Softmax(dim=1)\n",
    "        )\n",
    "    \n",
    "    def forward(self,x):\n",
    "        x = self.conv(x)\n",
    "        x = x.view(-1, 64 * 4 * 4)\n",
    "        x = self.fc(x)\n",
    "        return x\n",
    "    \n",
    "    def predict(self,x):\n",
    "        return self(x).argmax(dim=1)"
   ]
  },
  {
   "cell_type": "code",
   "execution_count": 7,
   "id": "relevant-boards",
   "metadata": {},
   "outputs": [],
   "source": [
    "def train(dataloader, model, loss_fn, optimizer):\n",
    "    size = len(dataloader.dataset)\n",
    "    model.train()\n",
    "    for batch, (X, y) in enumerate(dataloader):\n",
    "        pred = model(X)\n",
    "        loss = loss_fn(pred, y)\n",
    "\n",
    "        optimizer.zero_grad()\n",
    "        loss.backward()\n",
    "        optimizer.step()\n",
    "\n",
    "        if batch % 100 == 0:\n",
    "            loss, current = loss.item(), batch * len(X)\n",
    "            print(f\"loss: {loss:>7f}  [{current:>5d}/{size:>5d}]\")\n",
    "            \n",
    "def test(model,test_data,loss_fn):\n",
    "    test_dataloader = DataLoader(test_data,batch_size=len(test_data))\n",
    "    model.eval()\n",
    "    with torch.no_grad():\n",
    "        for data,gt in test_dataloader:\n",
    "            pred = model(data)\n",
    "            n = len(gt)\n",
    "            loss = loss_fn(pred,gt).item()\n",
    "            return sum(pred.argmax(dim=1)==gt).item()/n,loss/n"
   ]
  },
  {
   "cell_type": "markdown",
   "id": "cultural-swift",
   "metadata": {},
   "source": [
    "## Trainning\n",
    "\n",
    "Use `Adam` as optimizer, learning rate $lr=0.0003$, use `CrossEntropyLoss` as loss function."
   ]
  },
  {
   "cell_type": "code",
   "execution_count": 33,
   "id": "median-wholesale",
   "metadata": {},
   "outputs": [],
   "source": [
    "model = MiniInception(1433,64,7)\n",
    "criterion = nn.CrossEntropyLoss()\n",
    "optimizer = optim.Adam(model.parameters(),lr=.0003)"
   ]
  },
  {
   "cell_type": "code",
   "execution_count": 34,
   "id": "posted-sampling",
   "metadata": {},
   "outputs": [
    {
     "name": "stdout",
     "output_type": "stream",
     "text": [
      "Epoch 1\n",
      "-------------------------------\n",
      "loss: 1.874268  [    0/60000]\n",
      "loss: 1.149189  [ 6400/60000]\n",
      "loss: 1.091419  [12800/60000]\n",
      "loss: 0.978976  [19200/60000]\n",
      "loss: 1.042264  [25600/60000]\n",
      "loss: 0.988840  [32000/60000]\n",
      "loss: 0.966481  [38400/60000]\n",
      "loss: 0.958035  [44800/60000]\n",
      "loss: 0.973559  [51200/60000]\n",
      "loss: 0.953318  [57600/60000]\n",
      "Test Error: \n",
      " Accuracy: 95.64%, Avg loss:   0.000092 \n",
      "\n",
      "Train Error: \n",
      " Accuracy: 95.58%, Avg loss:   0.000015 \n",
      "\n",
      "Epoch 2\n",
      "-------------------------------\n",
      "loss: 0.928505  [    0/60000]\n",
      "loss: 0.922106  [ 6400/60000]\n",
      "loss: 0.940118  [12800/60000]\n",
      "loss: 0.907674  [19200/60000]\n",
      "loss: 0.954526  [25600/60000]\n",
      "loss: 0.924731  [32000/60000]\n",
      "loss: 0.918796  [38400/60000]\n",
      "loss: 0.913824  [44800/60000]\n",
      "loss: 0.905266  [51200/60000]\n",
      "loss: 0.885337  [57600/60000]\n",
      "Test Error: \n",
      " Accuracy: 97.18%, Avg loss:   0.000090 \n",
      "\n",
      "Train Error: \n",
      " Accuracy: 97.21%, Avg loss:   0.000015 \n",
      "\n",
      "Epoch 3\n",
      "-------------------------------\n",
      "loss: 0.906601  [    0/60000]\n",
      "loss: 0.931560  [ 6400/60000]\n",
      "loss: 0.898033  [12800/60000]\n",
      "loss: 0.877442  [19200/60000]\n",
      "loss: 0.915734  [25600/60000]\n",
      "loss: 0.913114  [32000/60000]\n",
      "loss: 0.907968  [38400/60000]\n",
      "loss: 0.881892  [44800/60000]\n",
      "loss: 0.904860  [51200/60000]\n",
      "loss: 0.910081  [57600/60000]\n",
      "Test Error: \n",
      " Accuracy: 97.89%, Avg loss:   0.000089 \n",
      "\n",
      "Train Error: \n",
      " Accuracy: 97.97%, Avg loss:   0.000015 \n",
      "\n",
      "Epoch 4\n",
      "-------------------------------\n",
      "loss: 0.889284  [    0/60000]\n",
      "loss: 0.900987  [ 6400/60000]\n",
      "loss: 0.891701  [12800/60000]\n",
      "loss: 0.884210  [19200/60000]\n",
      "loss: 0.894162  [25600/60000]\n",
      "loss: 0.905629  [32000/60000]\n",
      "loss: 0.932034  [38400/60000]\n",
      "loss: 0.888315  [44800/60000]\n",
      "loss: 0.920982  [51200/60000]\n",
      "loss: 0.909180  [57600/60000]\n",
      "Test Error: \n",
      " Accuracy: 97.95%, Avg loss:   0.000089 \n",
      "\n",
      "Train Error: \n",
      " Accuracy: 98.09%, Avg loss:   0.000015 \n",
      "\n",
      "Epoch 5\n",
      "-------------------------------\n",
      "loss: 0.873771  [    0/60000]\n",
      "loss: 0.901839  [ 6400/60000]\n",
      "loss: 0.911265  [12800/60000]\n",
      "loss: 0.889208  [19200/60000]\n",
      "loss: 0.889569  [25600/60000]\n",
      "loss: 0.897478  [32000/60000]\n",
      "loss: 0.917159  [38400/60000]\n",
      "loss: 0.879085  [44800/60000]\n",
      "loss: 0.897105  [51200/60000]\n",
      "loss: 0.888916  [57600/60000]\n",
      "Test Error: \n",
      " Accuracy: 98.12%, Avg loss:   0.000089 \n",
      "\n",
      "Train Error: \n",
      " Accuracy: 98.31%, Avg loss:   0.000015 \n",
      "\n",
      "Epoch 6\n",
      "-------------------------------\n",
      "loss: 0.866199  [    0/60000]\n",
      "loss: 0.900599  [ 6400/60000]\n",
      "loss: 0.898666  [12800/60000]\n",
      "loss: 0.874123  [19200/60000]\n",
      "loss: 0.871374  [25600/60000]\n",
      "loss: 0.886028  [32000/60000]\n",
      "loss: 0.917548  [38400/60000]\n",
      "loss: 0.863283  [44800/60000]\n",
      "loss: 0.921623  [51200/60000]\n",
      "loss: 0.908457  [57600/60000]\n",
      "Test Error: \n",
      " Accuracy: 98.36%, Avg loss:   0.000088 \n",
      "\n",
      "Train Error: \n",
      " Accuracy: 98.60%, Avg loss:   0.000015 \n",
      "\n",
      "Epoch 7\n",
      "-------------------------------\n",
      "loss: 0.867356  [    0/60000]\n",
      "loss: 0.898066  [ 6400/60000]\n",
      "loss: 0.894893  [12800/60000]\n",
      "loss: 0.881000  [19200/60000]\n",
      "loss: 0.865909  [25600/60000]\n",
      "loss: 0.911724  [32000/60000]\n",
      "loss: 0.903895  [38400/60000]\n",
      "loss: 0.880438  [44800/60000]\n",
      "loss: 0.903512  [51200/60000]\n",
      "loss: 0.878277  [57600/60000]\n",
      "Test Error: \n",
      " Accuracy: 98.49%, Avg loss:   0.000088 \n",
      "\n",
      "Train Error: \n",
      " Accuracy: 98.84%, Avg loss:   0.000015 \n",
      "\n",
      "Done!\n"
     ]
    }
   ],
   "source": [
    "train_verbose = []\n",
    "test_verbose = []\n",
    "epochs = 7\n",
    "for epoch in range(epochs):\n",
    "    print(f\"Epoch {epoch+1}\\n-------------------------------\")\n",
    "    train(train_dataloader, model, criterion, optimizer)\n",
    "    correct,loss = test(model,test_data,criterion)\n",
    "    test_verbose.append((correct,loss))\n",
    "    print(f\"Test Error: \\n Accuracy: {(100*correct):>0.2f}%, Avg loss: {loss:>10f} \\n\")\n",
    "    correct,loss = test(model,train_data,criterion)\n",
    "    train_verbose.append((correct,loss))\n",
    "    print(f\"Train Error: \\n Accuracy: {(100*correct):>0.2f}%, Avg loss: {loss:>10f} \\n\")\n",
    "print(\"Done!\")"
   ]
  },
  {
   "cell_type": "markdown",
   "id": "administrative-bobby",
   "metadata": {},
   "source": [
    "In the end, the test accuracy can reach 98.84%."
   ]
  },
  {
   "cell_type": "markdown",
   "id": "explicit-court",
   "metadata": {},
   "source": [
    "## Visualization\n",
    "\n",
    "### Trainning visualization"
   ]
  },
  {
   "cell_type": "code",
   "execution_count": 37,
   "id": "arabic-assault",
   "metadata": {},
   "outputs": [
    {
     "data": {
      "image/png": "[encoded data removed]",
      "text/plain": [
       "<Figure size 432x288 with 2 Axes>"
      ]
     },
     "metadata": {
      "needs_background": "light"
     },
     "output_type": "display_data"
    }
   ],
   "source": [
    "from matplotlib import pyplot as plt\n",
    "import numpy as np\n",
    "\n",
    "def extract(index,li):\n",
    "    return [item[index] for item in li]\n",
    "\n",
    "train_verbose_loss = extract(1,train_verbose)\n",
    "test_verbose_loss = extract(1,test_verbose)\n",
    "train_verbose_accuracy = extract(0,train_verbose)\n",
    "test_verbose_accuray = extract(0,test_verbose)\n",
    "xs = list(range(1,epochs+1))\n",
    "\n",
    "fig,axes = plt.subplots(1,2)\n",
    "axes[1].set_title('loss')\n",
    "axes[0].set_title('accuray')\n",
    "axes[1].plot(xs,train_verbose_loss,label='train')\n",
    "axes[1].plot(xs,test_verbose_loss,label='test')\n",
    "axes[0].plot(xs,train_verbose_accuracy,label='train')\n",
    "axes[0].plot(xs,test_verbose_accuray,label='test')\n",
    "plt.legend()\n",
    "plt.show()"
   ]
  },
  {
   "cell_type": "markdown",
   "id": "facial-revolution",
   "metadata": {},
   "source": [
    "### Test visualization"
   ]
  },
  {
   "cell_type": "code",
   "execution_count": 35,
   "id": "talented-champion",
   "metadata": {},
   "outputs": [
    {
     "data": {
      "image/png": "[encoded data removed]",
      "text/plain": [
       "<Figure size 432x288 with 18 Axes>"
      ]
     },
     "metadata": {
      "needs_background": "light"
     },
     "output_type": "display_data"
    }
   ],
   "source": [
    "cnums = 6\n",
    "rnums = 3\n",
    "fig,axes = plt.subplots(rnums,cnums)\n",
    "for i,(X,y) in enumerate(DataLoader(test_data,batch_size = 1)):\n",
    "    r =int(i / cnums)\n",
    "    c = i % cnums\n",
    "    if r >= rnums:\n",
    "        break\n",
    "    axes[r][c].imshow(X.view(28,28))\n",
    "    axes[r][c].get_xaxis().set_visible(False)\n",
    "    axes[r][c].get_yaxis().set_visible(False)\n",
    "    axes[r][c].set_title(f'pred:{model.predict(X).item()}')\n",
    "plt.show()"
   ]
  },
  {
   "cell_type": "markdown",
   "id": "cordless-channels",
   "metadata": {},
   "source": [
    "## Conclusion\n",
    "\n",
    "Compare to part III, the CNN model can perform better than SVM classifier."
   ]
  },
  {
   "cell_type": "markdown",
   "id": "opposite-article",
   "metadata": {},
   "source": [
    "# Part V. Semi-supervised Classification on  Cardiotocography Data Set"
   ]
  },
  {
   "cell_type": "code",
   "execution_count": 75,
   "id": "exempt-award",
   "metadata": {},
   "outputs": [],
   "source": [
    "import pandas as pd\n",
    "import numpy as np\n",
    "from sklearn.preprocessing import StandardScaler\n",
    "from sklearn.svm import SVC\n",
    "from sklearn.neighbors import KNeighborsClassifier\n",
    "from sklearn.neural_network import MLPClassifier\n",
    "from sklearn.discriminant_analysis import LinearDiscriminantAnalysis as LDA\n",
    "from sklearn.semi_supervised import SelfTrainingClassifier\n",
    "from sklearn.model_selection import GridSearchCV\n",
    "from sklearn.metrics import confusion_matrix"
   ]
  },
  {
   "cell_type": "code",
   "execution_count": 33,
   "id": "auburn-writing",
   "metadata": {},
   "outputs": [],
   "source": [
    "def report(model,Xttest,yttest):\n",
    "    print(\"Model perform on test dataset\")\n",
    "    print(\"classification accuracy:\", model.score(Xtest,ytest))\n",
    "    print(\"mis-classification error:\",1-model.score(Xtest,ytest))\n",
    "    print(\"confusion matrix:\\n\",confusion_matrix(model.predict(Xtest),ytest))"
   ]
  },
  {
   "attachments": {},
   "cell_type": "markdown",
   "id": "empty-wichita",
   "metadata": {},
   "source": [
    "Import all dataset and preprocess by droping NA"
   ]
  },
  {
   "cell_type": "code",
   "execution_count": 84,
   "id": "minor-venice",
   "metadata": {},
   "outputs": [],
   "source": [
    "train_data_labeled = pd.read_csv(\"../data/CTG/CTG_Train_labeled.csv\").dropna()\n",
    "train_data_unlabeled = pd.read_csv(\"../data/CTG/CTG_Train_unlabeled.csv\").dropna()\n",
    "test_data = pd.read_csv(\"../data/CTG/CTG_Test.csv\").dropna()"
   ]
  },
  {
   "attachments": {},
   "cell_type": "markdown",
   "id": "entitled-giving",
   "metadata": {},
   "source": [
    "## 1. Try three classification methods \n",
    "using only labelled training data, and test their performances on \n",
    "the test data. Please try to optimize the tuning parameters as best as you can.  Report the results \n",
    "and conclusions.\n",
    "\n",
    "I will use LDA, SVM, MLP in this section."
   ]
  },
  {
   "attachments": {},
   "cell_type": "markdown",
   "id": "boolean-mainstream",
   "metadata": {},
   "source": [
    "Preprocess data by using StandardScaler"
   ]
  },
  {
   "cell_type": "code",
   "execution_count": 8,
   "id": "flush-entry",
   "metadata": {},
   "outputs": [],
   "source": [
    "scaler = StandardScaler()\n",
    "X = scaler.fit_transform(train_data_labeled.loc[:,:\"Tendency\"])\n",
    "y = train_data_labeled.NSP\n",
    "Xtest = scaler.transform(test_data.loc[:,:\"Tendency\"])\n",
    "ytest = test_data.NSP"
   ]
  },
  {
   "attachments": {},
   "cell_type": "markdown",
   "id": "higher-bangkok",
   "metadata": {},
   "source": [
    "### (1) LDA"
   ]
  },
  {
   "cell_type": "code",
   "execution_count": 34,
   "id": "approximate-updating",
   "metadata": {},
   "outputs": [
    {
     "name": "stdout",
     "output_type": "stream",
     "text": [
      "Model perform on test dataset\n",
      "classification accuracy: 0.8937875751503006\n",
      "mis-classification error: 0.1062124248496994\n",
      "confusion matrix:\n",
      " [[366  25   4]\n",
      " [ 11  46   6]\n",
      " [  3   4  34]]\n"
     ]
    }
   ],
   "source": [
    "# 1 LDA\n",
    "lda = LDA()\n",
    "lda.fit(X,y)\n",
    "\n",
    "report(lda,Xtest,ytest)"
   ]
  },
  {
   "attachments": {},
   "cell_type": "markdown",
   "id": "willing-accommodation",
   "metadata": {},
   "source": [
    "### (2) SVM"
   ]
  },
  {
   "cell_type": "code",
   "execution_count": 71,
   "id": "electrical-harrison",
   "metadata": {},
   "outputs": [
    {
     "data": {
      "text/html": [
       "<div>\n",
       "<style scoped>\n",
       "    .dataframe tbody tr th:only-of-type {\n",
       "        vertical-align: middle;\n",
       "    }\n",
       "\n",
       "    .dataframe tbody tr th {\n",
       "        vertical-align: top;\n",
       "    }\n",
       "\n",
       "    .dataframe thead th {\n",
       "        text-align: right;\n",
       "    }\n",
       "</style>\n",
       "<table border=\"1\" class=\"dataframe\">\n",
       "  <thead>\n",
       "    <tr style=\"text-align: right;\">\n",
       "      <th></th>\n",
       "      <th>params</th>\n",
       "      <th>5-fold CV Error</th>\n",
       "    </tr>\n",
       "  </thead>\n",
       "  <tbody>\n",
       "    <tr>\n",
       "      <th>0</th>\n",
       "      <td>{'C': 5, 'gamma': 0.1}</td>\n",
       "      <td>0.892</td>\n",
       "    </tr>\n",
       "    <tr>\n",
       "      <th>1</th>\n",
       "      <td>{'C': 5, 'gamma': 0.05}</td>\n",
       "      <td>0.892</td>\n",
       "    </tr>\n",
       "    <tr>\n",
       "      <th>2</th>\n",
       "      <td>{'C': 5, 'gamma': 0.01}</td>\n",
       "      <td>0.888</td>\n",
       "    </tr>\n",
       "    <tr>\n",
       "      <th>3</th>\n",
       "      <td>{'C': 10, 'gamma': 0.1}</td>\n",
       "      <td>0.892</td>\n",
       "    </tr>\n",
       "    <tr>\n",
       "      <th>4</th>\n",
       "      <td>{'C': 10, 'gamma': 0.05}</td>\n",
       "      <td>0.894</td>\n",
       "    </tr>\n",
       "    <tr>\n",
       "      <th>5</th>\n",
       "      <td>{'C': 10, 'gamma': 0.01}</td>\n",
       "      <td>0.886</td>\n",
       "    </tr>\n",
       "  </tbody>\n",
       "</table>\n",
       "</div>"
      ],
      "text/plain": [
       "                     params  5-fold CV Error\n",
       "0    {'C': 5, 'gamma': 0.1}            0.892\n",
       "1   {'C': 5, 'gamma': 0.05}            0.892\n",
       "2   {'C': 5, 'gamma': 0.01}            0.888\n",
       "3   {'C': 10, 'gamma': 0.1}            0.892\n",
       "4  {'C': 10, 'gamma': 0.05}            0.894\n",
       "5  {'C': 10, 'gamma': 0.01}            0.886"
      ]
     },
     "execution_count": 71,
     "metadata": {},
     "output_type": "execute_result"
    }
   ],
   "source": [
    "# 2 SVM with radical kernel\n",
    "params = {'C': (5, 10), 'gamma': (0.1, 0.05, 0.01)}\n",
    "svms = GridSearchCV(SVC(kernel='rbf'), param_grid=params,cv=5, n_jobs=-1)\n",
    "svms.fit(X, y)\n",
    "pd.DataFrame({'params': svms.cv_results_[\n",
    "             'params'], '5-fold CV Error': svms.cv_results_['mean_test_score']})\n"
   ]
  },
  {
   "cell_type": "code",
   "execution_count": 72,
   "id": "adjusted-morris",
   "metadata": {},
   "outputs": [
    {
     "data": {
      "text/html": [
       "<style>#sk-container-id-9 {color: black;background-color: white;}#sk-container-id-9 pre{padding: 0;}#sk-container-id-9 div.sk-toggleable {background-color: white;}#sk-container-id-9 label.sk-toggleable__label {cursor: pointer;display: block;width: 100%;margin-bottom: 0;padding: 0.3em;box-sizing: border-box;text-align: center;}#sk-container-id-9 label.sk-toggleable__label-arrow:before {content: \"▸\";float: left;margin-right: 0.25em;color: #696969;}#sk-container-id-9 label.sk-toggleable__label-arrow:hover:before {color: black;}#sk-container-id-9 div.sk-estimator:hover label.sk-toggleable__label-arrow:before {color: black;}#sk-container-id-9 div.sk-toggleable__content {max-height: 0;max-width: 0;overflow: hidden;text-align: left;background-color: #f0f8ff;}#sk-container-id-9 div.sk-toggleable__content pre {margin: 0.2em;color: black;border-radius: 0.25em;background-color: #f0f8ff;}#sk-container-id-9 input.sk-toggleable__control:checked~div.sk-toggleable__content {max-height: 200px;max-width: 100%;overflow: auto;}#sk-container-id-9 input.sk-toggleable__control:checked~label.sk-toggleable__label-arrow:before {content: \"▾\";}#sk-container-id-9 div.sk-estimator input.sk-toggleable__control:checked~label.sk-toggleable__label {background-color: #d4ebff;}#sk-container-id-9 div.sk-label input.sk-toggleable__control:checked~label.sk-toggleable__label {background-color: #d4ebff;}#sk-container-id-9 input.sk-hidden--visually {border: 0;clip: rect(1px 1px 1px 1px);clip: rect(1px, 1px, 1px, 1px);height: 1px;margin: -1px;overflow: hidden;padding: 0;position: absolute;width: 1px;}#sk-container-id-9 div.sk-estimator {font-family: monospace;background-color: #f0f8ff;border: 1px dotted black;border-radius: 0.25em;box-sizing: border-box;margin-bottom: 0.5em;}#sk-container-id-9 div.sk-estimator:hover {background-color: #d4ebff;}#sk-container-id-9 div.sk-parallel-item::after {content: \"\";width: 100%;border-bottom: 1px solid gray;flex-grow: 1;}#sk-container-id-9 div.sk-label:hover label.sk-toggleable__label {background-color: #d4ebff;}#sk-container-id-9 div.sk-serial::before {content: \"\";position: absolute;border-left: 1px solid gray;box-sizing: border-box;top: 0;bottom: 0;left: 50%;z-index: 0;}#sk-container-id-9 div.sk-serial {display: flex;flex-direction: column;align-items: center;background-color: white;padding-right: 0.2em;padding-left: 0.2em;position: relative;}#sk-container-id-9 div.sk-item {position: relative;z-index: 1;}#sk-container-id-9 div.sk-parallel {display: flex;align-items: stretch;justify-content: center;background-color: white;position: relative;}#sk-container-id-9 div.sk-item::before, #sk-container-id-9 div.sk-parallel-item::before {content: \"\";position: absolute;border-left: 1px solid gray;box-sizing: border-box;top: 0;bottom: 0;left: 50%;z-index: -1;}#sk-container-id-9 div.sk-parallel-item {display: flex;flex-direction: column;z-index: 1;position: relative;background-color: white;}#sk-container-id-9 div.sk-parallel-item:first-child::after {align-self: flex-end;width: 50%;}#sk-container-id-9 div.sk-parallel-item:last-child::after {align-self: flex-start;width: 50%;}#sk-container-id-9 div.sk-parallel-item:only-child::after {width: 0;}#sk-container-id-9 div.sk-dashed-wrapped {border: 1px dashed gray;margin: 0 0.4em 0.5em 0.4em;box-sizing: border-box;padding-bottom: 0.4em;background-color: white;}#sk-container-id-9 div.sk-label label {font-family: monospace;font-weight: bold;display: inline-block;line-height: 1.2em;}#sk-container-id-9 div.sk-label-container {text-align: center;}#sk-container-id-9 div.sk-container {/* jupyter's `normalize.less` sets `[hidden] { display: none; }` but bootstrap.min.css set `[hidden] { display: none !important; }` so we also need the `!important` here to be able to override the default hidden behavior on the sphinx rendered scikit-learn.org. See: https://github.com/scikit-learn/scikit-learn/issues/21755 */display: inline-block !important;position: relative;}#sk-container-id-9 div.sk-text-repr-fallback {display: none;}</style><div id=\"sk-container-id-9\" class=\"sk-top-container\"><div class=\"sk-text-repr-fallback\"><pre>SVC(C=10, gamma=0.05)</pre><b>In a Jupyter environment, please rerun this cell to show the HTML representation or trust the notebook. <br />On GitHub, the HTML representation is unable to render, please try loading this page with nbviewer.org.</b></div><div class=\"sk-container\" hidden><div class=\"sk-item\"><div class=\"sk-estimator sk-toggleable\"><input class=\"sk-toggleable__control sk-hidden--visually\" id=\"sk-estimator-id-9\" type=\"checkbox\" checked><label for=\"sk-estimator-id-9\" class=\"sk-toggleable__label sk-toggleable__label-arrow\">SVC</label><div class=\"sk-toggleable__content\"><pre>SVC(C=10, gamma=0.05)</pre></div></div></div></div></div>"
      ],
      "text/plain": [
       "SVC(C=10, gamma=0.05)"
      ]
     },
     "execution_count": 72,
     "metadata": {},
     "output_type": "execute_result"
    }
   ],
   "source": [
    "svm_best = svms.best_estimator_\n",
    "svm_best"
   ]
  },
  {
   "cell_type": "code",
   "execution_count": 73,
   "id": "mobile-messenger",
   "metadata": {},
   "outputs": [
    {
     "name": "stdout",
     "output_type": "stream",
     "text": [
      "Model perform on test dataset\n",
      "classification accuracy: 0.8877755511022044\n",
      "mis-classification error: 0.11222444889779559\n",
      "confusion matrix:\n",
      " [[360  25   2]\n",
      " [ 17  46   5]\n",
      " [  3   4  37]]\n"
     ]
    }
   ],
   "source": [
    "report(svm_best,Xtest,ytest)"
   ]
  },
  {
   "attachments": {},
   "cell_type": "markdown",
   "id": "overhead-approach",
   "metadata": {},
   "source": [
    "### (3) Multi-layer perceptron (MLP) algorithm"
   ]
  },
  {
   "cell_type": "code",
   "execution_count": 67,
   "id": "appointed-latvia",
   "metadata": {},
   "outputs": [
    {
     "name": "stdout",
     "output_type": "stream",
     "text": [
      "Model perform on test dataset\n",
      "classification accuracy: 0.8917835671342685\n",
      "mis-classification error: 0.10821643286573146\n",
      "confusion matrix:\n",
      " [[363  21   3]\n",
      " [ 15  47   6]\n",
      " [  2   7  35]]\n"
     ]
    }
   ],
   "source": [
    "mlp = MLPClassifier(alpha=5e-3,learning_rate_init=1e-3,hidden_layer_sizes=(32,32), random_state=5054, max_iter=1000)\n",
    "mlp.fit(X,y)\n",
    "\n",
    "report(mlp,Xtest,ytest)"
   ]
  },
  {
   "attachments": {},
   "cell_type": "markdown",
   "id": "suited-butterfly",
   "metadata": {},
   "source": [
    "Compared to SVM and MLP, LDA perform better on the test dataset, since the other two model may be esay to overfit the train dataset and hard to tune parameter."
   ]
  },
  {
   "attachments": {},
   "cell_type": "markdown",
   "id": "removable-suffering",
   "metadata": {},
   "source": [
    "## 2. Try two semi-supervised classification methods \n",
    "using both labelled training data and unlabelled \n",
    "training data,  and test their performances on the test data. Please try to optimise the tuning \n",
    "parameters as best as you can.  Report the results and compare with the results using only \n",
    "labelled data. "
   ]
  },
  {
   "attachments": {},
   "cell_type": "markdown",
   "id": "expired-metabolism",
   "metadata": {},
   "source": [
    "Preprocess train dataset"
   ]
  },
  {
   "cell_type": "code",
   "execution_count": 92,
   "id": "independent-capability",
   "metadata": {},
   "outputs": [
    {
     "data": {
      "text/html": [
       "<div>\n",
       "<style scoped>\n",
       "    .dataframe tbody tr th:only-of-type {\n",
       "        vertical-align: middle;\n",
       "    }\n",
       "\n",
       "    .dataframe tbody tr th {\n",
       "        vertical-align: top;\n",
       "    }\n",
       "\n",
       "    .dataframe thead th {\n",
       "        text-align: right;\n",
       "    }\n",
       "</style>\n",
       "<table border=\"1\" class=\"dataframe\">\n",
       "  <thead>\n",
       "    <tr style=\"text-align: right;\">\n",
       "      <th></th>\n",
       "      <th>AC</th>\n",
       "      <th>FM</th>\n",
       "      <th>UC</th>\n",
       "      <th>DL</th>\n",
       "      <th>DS</th>\n",
       "      <th>DP</th>\n",
       "      <th>ASTV</th>\n",
       "      <th>MSTV</th>\n",
       "      <th>ALTV</th>\n",
       "      <th>MLTV</th>\n",
       "      <th>...</th>\n",
       "      <th>Min</th>\n",
       "      <th>Max</th>\n",
       "      <th>Nmax</th>\n",
       "      <th>Nzeros</th>\n",
       "      <th>Mode</th>\n",
       "      <th>Mean</th>\n",
       "      <th>Median</th>\n",
       "      <th>Variance</th>\n",
       "      <th>Tendency</th>\n",
       "      <th>NSP</th>\n",
       "    </tr>\n",
       "  </thead>\n",
       "  <tbody>\n",
       "    <tr>\n",
       "      <th>0</th>\n",
       "      <td>0.000</td>\n",
       "      <td>0.0</td>\n",
       "      <td>0.007</td>\n",
       "      <td>0.000</td>\n",
       "      <td>0.0</td>\n",
       "      <td>0.0</td>\n",
       "      <td>60.0</td>\n",
       "      <td>0.4</td>\n",
       "      <td>17.0</td>\n",
       "      <td>6.8</td>\n",
       "      <td>...</td>\n",
       "      <td>142.0</td>\n",
       "      <td>163.0</td>\n",
       "      <td>0.0</td>\n",
       "      <td>0.0</td>\n",
       "      <td>153.0</td>\n",
       "      <td>152.0</td>\n",
       "      <td>153.0</td>\n",
       "      <td>1.0</td>\n",
       "      <td>0.0</td>\n",
       "      <td>2</td>\n",
       "    </tr>\n",
       "    <tr>\n",
       "      <th>1</th>\n",
       "      <td>0.002</td>\n",
       "      <td>0.0</td>\n",
       "      <td>0.005</td>\n",
       "      <td>0.000</td>\n",
       "      <td>0.0</td>\n",
       "      <td>0.0</td>\n",
       "      <td>40.0</td>\n",
       "      <td>0.8</td>\n",
       "      <td>7.0</td>\n",
       "      <td>10.3</td>\n",
       "      <td>...</td>\n",
       "      <td>119.0</td>\n",
       "      <td>154.0</td>\n",
       "      <td>2.0</td>\n",
       "      <td>0.0</td>\n",
       "      <td>138.0</td>\n",
       "      <td>139.0</td>\n",
       "      <td>140.0</td>\n",
       "      <td>2.0</td>\n",
       "      <td>0.0</td>\n",
       "      <td>1</td>\n",
       "    </tr>\n",
       "    <tr>\n",
       "      <th>2</th>\n",
       "      <td>0.000</td>\n",
       "      <td>0.0</td>\n",
       "      <td>0.005</td>\n",
       "      <td>0.003</td>\n",
       "      <td>0.0</td>\n",
       "      <td>0.0</td>\n",
       "      <td>31.0</td>\n",
       "      <td>1.4</td>\n",
       "      <td>17.0</td>\n",
       "      <td>14.6</td>\n",
       "      <td>...</td>\n",
       "      <td>82.0</td>\n",
       "      <td>164.0</td>\n",
       "      <td>4.0</td>\n",
       "      <td>0.0</td>\n",
       "      <td>147.0</td>\n",
       "      <td>135.0</td>\n",
       "      <td>139.0</td>\n",
       "      <td>30.0</td>\n",
       "      <td>1.0</td>\n",
       "      <td>1</td>\n",
       "    </tr>\n",
       "    <tr>\n",
       "      <th>3</th>\n",
       "      <td>0.002</td>\n",
       "      <td>0.0</td>\n",
       "      <td>0.003</td>\n",
       "      <td>0.000</td>\n",
       "      <td>0.0</td>\n",
       "      <td>0.0</td>\n",
       "      <td>49.0</td>\n",
       "      <td>0.7</td>\n",
       "      <td>3.0</td>\n",
       "      <td>9.8</td>\n",
       "      <td>...</td>\n",
       "      <td>140.0</td>\n",
       "      <td>184.0</td>\n",
       "      <td>3.0</td>\n",
       "      <td>0.0</td>\n",
       "      <td>162.0</td>\n",
       "      <td>158.0</td>\n",
       "      <td>162.0</td>\n",
       "      <td>4.0</td>\n",
       "      <td>0.0</td>\n",
       "      <td>2</td>\n",
       "    </tr>\n",
       "    <tr>\n",
       "      <th>4</th>\n",
       "      <td>0.009</td>\n",
       "      <td>0.0</td>\n",
       "      <td>0.003</td>\n",
       "      <td>0.006</td>\n",
       "      <td>0.0</td>\n",
       "      <td>0.0</td>\n",
       "      <td>19.0</td>\n",
       "      <td>2.3</td>\n",
       "      <td>0.0</td>\n",
       "      <td>4.0</td>\n",
       "      <td>...</td>\n",
       "      <td>76.0</td>\n",
       "      <td>176.0</td>\n",
       "      <td>6.0</td>\n",
       "      <td>1.0</td>\n",
       "      <td>145.0</td>\n",
       "      <td>138.0</td>\n",
       "      <td>143.0</td>\n",
       "      <td>36.0</td>\n",
       "      <td>1.0</td>\n",
       "      <td>1</td>\n",
       "    </tr>\n",
       "    <tr>\n",
       "      <th>...</th>\n",
       "      <td>...</td>\n",
       "      <td>...</td>\n",
       "      <td>...</td>\n",
       "      <td>...</td>\n",
       "      <td>...</td>\n",
       "      <td>...</td>\n",
       "      <td>...</td>\n",
       "      <td>...</td>\n",
       "      <td>...</td>\n",
       "      <td>...</td>\n",
       "      <td>...</td>\n",
       "      <td>...</td>\n",
       "      <td>...</td>\n",
       "      <td>...</td>\n",
       "      <td>...</td>\n",
       "      <td>...</td>\n",
       "      <td>...</td>\n",
       "      <td>...</td>\n",
       "      <td>...</td>\n",
       "      <td>...</td>\n",
       "      <td>...</td>\n",
       "    </tr>\n",
       "    <tr>\n",
       "      <th>1122</th>\n",
       "      <td>0.000</td>\n",
       "      <td>0.0</td>\n",
       "      <td>0.005</td>\n",
       "      <td>0.001</td>\n",
       "      <td>0.0</td>\n",
       "      <td>0.0</td>\n",
       "      <td>77.0</td>\n",
       "      <td>0.7</td>\n",
       "      <td>17.0</td>\n",
       "      <td>6.0</td>\n",
       "      <td>...</td>\n",
       "      <td>124.0</td>\n",
       "      <td>155.0</td>\n",
       "      <td>2.0</td>\n",
       "      <td>0.0</td>\n",
       "      <td>145.0</td>\n",
       "      <td>143.0</td>\n",
       "      <td>145.0</td>\n",
       "      <td>2.0</td>\n",
       "      <td>0.0</td>\n",
       "      <td>-1</td>\n",
       "    </tr>\n",
       "    <tr>\n",
       "      <th>1123</th>\n",
       "      <td>0.000</td>\n",
       "      <td>0.0</td>\n",
       "      <td>0.007</td>\n",
       "      <td>0.000</td>\n",
       "      <td>0.0</td>\n",
       "      <td>0.0</td>\n",
       "      <td>79.0</td>\n",
       "      <td>0.2</td>\n",
       "      <td>25.0</td>\n",
       "      <td>7.2</td>\n",
       "      <td>...</td>\n",
       "      <td>137.0</td>\n",
       "      <td>177.0</td>\n",
       "      <td>4.0</td>\n",
       "      <td>0.0</td>\n",
       "      <td>153.0</td>\n",
       "      <td>150.0</td>\n",
       "      <td>152.0</td>\n",
       "      <td>2.0</td>\n",
       "      <td>0.0</td>\n",
       "      <td>-1</td>\n",
       "    </tr>\n",
       "    <tr>\n",
       "      <th>1124</th>\n",
       "      <td>0.001</td>\n",
       "      <td>0.0</td>\n",
       "      <td>0.007</td>\n",
       "      <td>0.000</td>\n",
       "      <td>0.0</td>\n",
       "      <td>0.0</td>\n",
       "      <td>78.0</td>\n",
       "      <td>0.4</td>\n",
       "      <td>22.0</td>\n",
       "      <td>7.1</td>\n",
       "      <td>...</td>\n",
       "      <td>103.0</td>\n",
       "      <td>169.0</td>\n",
       "      <td>6.0</td>\n",
       "      <td>0.0</td>\n",
       "      <td>152.0</td>\n",
       "      <td>148.0</td>\n",
       "      <td>151.0</td>\n",
       "      <td>3.0</td>\n",
       "      <td>1.0</td>\n",
       "      <td>-1</td>\n",
       "    </tr>\n",
       "    <tr>\n",
       "      <th>1125</th>\n",
       "      <td>0.001</td>\n",
       "      <td>0.0</td>\n",
       "      <td>0.007</td>\n",
       "      <td>0.000</td>\n",
       "      <td>0.0</td>\n",
       "      <td>0.0</td>\n",
       "      <td>79.0</td>\n",
       "      <td>0.4</td>\n",
       "      <td>20.0</td>\n",
       "      <td>6.1</td>\n",
       "      <td>...</td>\n",
       "      <td>103.0</td>\n",
       "      <td>170.0</td>\n",
       "      <td>5.0</td>\n",
       "      <td>0.0</td>\n",
       "      <td>153.0</td>\n",
       "      <td>148.0</td>\n",
       "      <td>152.0</td>\n",
       "      <td>4.0</td>\n",
       "      <td>1.0</td>\n",
       "      <td>-1</td>\n",
       "    </tr>\n",
       "    <tr>\n",
       "      <th>1126</th>\n",
       "      <td>0.001</td>\n",
       "      <td>0.0</td>\n",
       "      <td>0.006</td>\n",
       "      <td>0.000</td>\n",
       "      <td>0.0</td>\n",
       "      <td>0.0</td>\n",
       "      <td>78.0</td>\n",
       "      <td>0.4</td>\n",
       "      <td>27.0</td>\n",
       "      <td>7.0</td>\n",
       "      <td>...</td>\n",
       "      <td>103.0</td>\n",
       "      <td>169.0</td>\n",
       "      <td>6.0</td>\n",
       "      <td>0.0</td>\n",
       "      <td>152.0</td>\n",
       "      <td>147.0</td>\n",
       "      <td>151.0</td>\n",
       "      <td>4.0</td>\n",
       "      <td>1.0</td>\n",
       "      <td>-1</td>\n",
       "    </tr>\n",
       "  </tbody>\n",
       "</table>\n",
       "<p>1627 rows × 21 columns</p>\n",
       "</div>"
      ],
      "text/plain": [
       "         AC   FM     UC     DL   DS   DP  ASTV  MSTV  ALTV  MLTV  ...    Min  \\\n",
       "0     0.000  0.0  0.007  0.000  0.0  0.0  60.0   0.4  17.0   6.8  ...  142.0   \n",
       "1     0.002  0.0  0.005  0.000  0.0  0.0  40.0   0.8   7.0  10.3  ...  119.0   \n",
       "2     0.000  0.0  0.005  0.003  0.0  0.0  31.0   1.4  17.0  14.6  ...   82.0   \n",
       "3     0.002  0.0  0.003  0.000  0.0  0.0  49.0   0.7   3.0   9.8  ...  140.0   \n",
       "4     0.009  0.0  0.003  0.006  0.0  0.0  19.0   2.3   0.0   4.0  ...   76.0   \n",
       "...     ...  ...    ...    ...  ...  ...   ...   ...   ...   ...  ...    ...   \n",
       "1122  0.000  0.0  0.005  0.001  0.0  0.0  77.0   0.7  17.0   6.0  ...  124.0   \n",
       "1123  0.000  0.0  0.007  0.000  0.0  0.0  79.0   0.2  25.0   7.2  ...  137.0   \n",
       "1124  0.001  0.0  0.007  0.000  0.0  0.0  78.0   0.4  22.0   7.1  ...  103.0   \n",
       "1125  0.001  0.0  0.007  0.000  0.0  0.0  79.0   0.4  20.0   6.1  ...  103.0   \n",
       "1126  0.001  0.0  0.006  0.000  0.0  0.0  78.0   0.4  27.0   7.0  ...  103.0   \n",
       "\n",
       "        Max  Nmax  Nzeros   Mode   Mean  Median  Variance  Tendency  NSP  \n",
       "0     163.0   0.0     0.0  153.0  152.0   153.0       1.0       0.0    2  \n",
       "1     154.0   2.0     0.0  138.0  139.0   140.0       2.0       0.0    1  \n",
       "2     164.0   4.0     0.0  147.0  135.0   139.0      30.0       1.0    1  \n",
       "3     184.0   3.0     0.0  162.0  158.0   162.0       4.0       0.0    2  \n",
       "4     176.0   6.0     1.0  145.0  138.0   143.0      36.0       1.0    1  \n",
       "...     ...   ...     ...    ...    ...     ...       ...       ...  ...  \n",
       "1122  155.0   2.0     0.0  145.0  143.0   145.0       2.0       0.0   -1  \n",
       "1123  177.0   4.0     0.0  153.0  150.0   152.0       2.0       0.0   -1  \n",
       "1124  169.0   6.0     0.0  152.0  148.0   151.0       3.0       1.0   -1  \n",
       "1125  170.0   5.0     0.0  153.0  148.0   152.0       4.0       1.0   -1  \n",
       "1126  169.0   6.0     0.0  152.0  147.0   151.0       4.0       1.0   -1  \n",
       "\n",
       "[1627 rows x 21 columns]"
      ]
     },
     "execution_count": 92,
     "metadata": {},
     "output_type": "execute_result"
    }
   ],
   "source": [
    "train_data_unlabeled['NSP'] = -1\n",
    "train_data= pd.concat([train_data_labeled,train_data_unlabeled])\n",
    "train_data"
   ]
  },
  {
   "cell_type": "code",
   "execution_count": 93,
   "id": "lined-enemy",
   "metadata": {},
   "outputs": [],
   "source": [
    "scaler = StandardScaler()\n",
    "X = scaler.fit_transform(train_data.loc[:,:\"Tendency\"])\n",
    "y = train_data.NSP\n",
    "Xtest = scaler.transform(test_data.loc[:,:\"Tendency\"])\n",
    "ytest = test_data.NSP"
   ]
  },
  {
   "attachments": {},
   "cell_type": "markdown",
   "id": "cooked-extension",
   "metadata": {},
   "source": [
    "### (1) KNN by SelfTraining method"
   ]
  },
  {
   "cell_type": "code",
   "execution_count": 98,
   "id": "champion-border",
   "metadata": {},
   "outputs": [
    {
     "name": "stdout",
     "output_type": "stream",
     "text": [
      "Model perform on test dataset\n",
      "classification accuracy: 0.8777555110220441\n",
      "mis-classification error: 0.12224448897795592\n",
      "confusion matrix:\n",
      " [[374  39   6]\n",
      " [  5  32   6]\n",
      " [  1   4  32]]\n"
     ]
    }
   ],
   "source": [
    "semi_knn = SelfTrainingClassifier(KNeighborsClassifier(n_neighbors=4))\n",
    "semi_knn.fit(X,y)\n",
    "\n",
    "report(semi_knn,Xtest,ytest)"
   ]
  },
  {
   "attachments": {},
   "cell_type": "markdown",
   "id": "prospective-welsh",
   "metadata": {},
   "source": [
    "### (2) SVM by SelfTraining method"
   ]
  },
  {
   "cell_type": "code",
   "execution_count": 104,
   "id": "approximate-wedding",
   "metadata": {},
   "outputs": [
    {
     "name": "stdout",
     "output_type": "stream",
     "text": [
      "Model perform on test dataset\n",
      "classification accuracy: 0.8837675350701403\n",
      "mis-classification error: 0.11623246492985972\n",
      "confusion matrix:\n",
      " [[361  27   2]\n",
      " [ 16  43   5]\n",
      " [  3   5  37]]\n"
     ]
    }
   ],
   "source": [
    "semi_svm = SelfTrainingClassifier(\n",
    "    SVC(kernel='rbf', probability=True, gamma=\"auto\", C=10))\n",
    "semi_svm.fit(X, y)\n",
    "\n",
    "report(semi_svm, Xtest, ytest)"
   ]
  },
  {
   "attachments": {},
   "cell_type": "markdown",
   "id": "selective-flavor",
   "metadata": {},
   "source": [
    "Both two semi-supervised classification methods perform not better than those three supervised classification methods, since the size of labeled training dataset is enough for training and shares the approximate data distribution with test dataset, so in this situation, the train dataset with unlabeled training dataset couldn't bring more value information for this classification task. Only when the size of labeled training dataset is very small and has bias on data distribution, the semi-supervised learning method can show it's advantage."
   ]
  }
 ],
 "metadata": {
  "kernelspec": {
   "display_name": "Python 3.8.7 64-bit",
   "language": "python",
   "name": "python3"
  },
  "language_info": {
   "codemirror_mode": {
    "name": "ipython",
    "version": 3
   },
   "file_extension": ".py",
   "mimetype": "text/x-python",
   "name": "python",
   "nbconvert_exporter": "python",
   "pygments_lexer": "ipython3",
   "version": "3.8.7"
  },
  "vscode": {
   "interpreter": {
    "hash": "570feb405e2e27c949193ac68f46852414290d515b0ba6e5d90d076ed2284471"
   }
  }
 },
 "nbformat": 4,
 "nbformat_minor": 5
}
