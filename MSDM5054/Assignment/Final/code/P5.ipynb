{
 "cells": [
  {
   "cell_type": "markdown",
   "metadata": {},
   "source": [
    "# Part V. Semi-supervised Classification on  Cardiotocography Data Set"
   ]
  },
  {
   "cell_type": "code",
   "execution_count": 30,
   "metadata": {},
   "outputs": [],
   "source": [
    "import pandas as pd\n",
    "import numpy as np\n",
    "from sklearn.svm import SVC\n",
    "from sklearn.linear_model import LogisticRegression\n",
    "from sklearn.discriminant_analysis import LinearDiscriminantAnalysis as LDA, QuadraticDiscriminantAnalysis as QDA\n",
    "from sklearn.semi_supervised import SelfTrainingClassifier\n",
    "from sklearn.model_selection import GridSearchCV\n",
    "from sklearn.metrics import confusion_matrix,accuracy_score"
   ]
  },
  {
   "cell_type": "code",
   "execution_count": 21,
   "metadata": {},
   "outputs": [],
   "source": [
    "train_data_labeled = pd.read_csv(\"../data/CTG/CTG_Train_labeled.csv\").dropna()\n",
    "train_data_unlabeled = pd.read_csv(\"../data/CTG/CTG_Train_unlabeled.csv\").dropna()\n",
    "test_data = pd.read_csv(\"../data/CTG/CTG_Test.csv\").dropna()\n",
    "Xtest = test_data.loc[:,:\"Tendency\"]\n",
    "ytest = test_data.NSP"
   ]
  },
  {
   "cell_type": "markdown",
   "metadata": {},
   "source": [
    "## 1. Try three classification methods \n",
    "using only labelled training data, and test their performances on \n",
    "the test data. Please try to optimize the tuning parameters as best as you can.  Report the results \n",
    "and conclusions."
   ]
  },
  {
   "cell_type": "code",
   "execution_count": 22,
   "metadata": {},
   "outputs": [],
   "source": [
    "X = train_data_labeled.loc[:,:\"Tendency\"]\n",
    "y = train_data_labeled.NSP"
   ]
  },
  {
   "cell_type": "code",
   "execution_count": 26,
   "metadata": {},
   "outputs": [
    {
     "name": "stdout",
     "output_type": "stream",
     "text": [
      "classification accuracy: 0.8937875751503006\n",
      "mis-classification error: 0.1062124248496994\n",
      "confusion matrix:\n",
      " [[366  25   4]\n",
      " [ 11  46   6]\n",
      " [  3   4  34]]\n"
     ]
    }
   ],
   "source": [
    "# 1 LDA\n",
    "lda = LDA()\n",
    "lda.fit(X,y)\n",
    "\n",
    "print(\"classification accuracy:\", lda.score(Xtest,ytest))\n",
    "print(\"mis-classification error:\",1-lda.score(Xtest,ytest))\n",
    "print(\"confusion matrix:\\n\",confusion_matrix(lda.predict(Xtest),ytest))"
   ]
  }
 ],
 "metadata": {
  "kernelspec": {
   "display_name": "Python 3.8.7 64-bit",
   "language": "python",
   "name": "python3"
  },
  "language_info": {
   "codemirror_mode": {
    "name": "ipython",
    "version": 3
   },
   "file_extension": ".py",
   "mimetype": "text/x-python",
   "name": "python",
   "nbconvert_exporter": "python",
   "pygments_lexer": "ipython3",
   "version": "3.8.7"
  },
  "orig_nbformat": 4,
  "vscode": {
   "interpreter": {
    "hash": "570feb405e2e27c949193ac68f46852414290d515b0ba6e5d90d076ed2284471"
   }
  }
 },
 "nbformat": 4,
 "nbformat_minor": 2
}
