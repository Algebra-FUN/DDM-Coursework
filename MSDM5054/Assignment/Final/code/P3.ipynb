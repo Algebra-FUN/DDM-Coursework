{
 "cells": [
  {
   "cell_type": "markdown",
   "metadata": {},
   "source": [
    "# Part III. Classification on MNIST Data"
   ]
  },
  {
   "cell_type": "code",
   "execution_count": 37,
   "metadata": {},
   "outputs": [],
   "source": [
    "import pandas as pd\n",
    "import numpy as np\n",
    "import time\n",
    "from sklearn.svm import SVC\n",
    "from sklearn.model_selection import train_test_split,GridSearchCV,cross_val_score\n",
    "from sklearn.metrics import confusion_matrix,accuracy_score\n",
    "\n",
    "def CVError(model,X,Y,cv=5):\n",
    "    return 1-cross_val_score(model,X,Y,cv=cv).mean()\n",
    "\n",
    "class Timer:\n",
    "    def __init__(self,):\n",
    "        self.time = None\n",
    "\n",
    "    def __enter__(self):\n",
    "        self.time = time.time()\n",
    "\n",
    "    def __exit__(self,*args,**kwargs):\n",
    "        used = time.time() - self.time\n",
    "        print(f\"Used time:{used}s\")\n",
    "\n",
    "timer = Timer()"
   ]
  },
  {
   "cell_type": "code",
   "execution_count": 4,
   "metadata": {},
   "outputs": [],
   "source": [
    "traindata = pd.read_csv('../data/MNIST/train_resized.csv')\n",
    "testdata = pd.read_csv('../data/MNIST/test_resized.csv')"
   ]
  },
  {
   "cell_type": "markdown",
   "metadata": {},
   "source": [
    "## 1. Use only the digit images of 3 and 6 from train_resized.csv and test_resized.csv to build an SVM \n",
    "classifier for binary classification. More specifically, use a linear kernel and choose the best cost \n",
    "(the data size is large so a large cost value is suitable) parameter (called budget in our course) by 5 \n",
    "fold cross validation. Apply your model on the test data and report the misclassification error, \n",
    "confusion matrix. Also report the time cost of training your model."
   ]
  },
  {
   "cell_type": "code",
   "execution_count": 10,
   "metadata": {},
   "outputs": [],
   "source": [
    "traindata36 = traindata[traindata.label.isin((3,6))]\n",
    "testdata36 = testdata[testdata.label.isin((3,6))]"
   ]
  },
  {
   "cell_type": "code",
   "execution_count": 39,
   "metadata": {},
   "outputs": [
    {
     "name": "stdout",
     "output_type": "stream",
     "text": [
      "Used time:7.691442012786865s\n"
     ]
    },
    {
     "data": {
      "text/html": [
       "<div>\n",
       "<style scoped>\n",
       "    .dataframe tbody tr th:only-of-type {\n",
       "        vertical-align: middle;\n",
       "    }\n",
       "\n",
       "    .dataframe tbody tr th {\n",
       "        vertical-align: top;\n",
       "    }\n",
       "\n",
       "    .dataframe thead th {\n",
       "        text-align: right;\n",
       "    }\n",
       "</style>\n",
       "<table border=\"1\" class=\"dataframe\">\n",
       "  <thead>\n",
       "    <tr style=\"text-align: right;\">\n",
       "      <th></th>\n",
       "      <th>C</th>\n",
       "      <th>5-fold CV Error</th>\n",
       "    </tr>\n",
       "  </thead>\n",
       "  <tbody>\n",
       "    <tr>\n",
       "      <th>0</th>\n",
       "      <td>{'C': 0.0001}</td>\n",
       "      <td>0.994690</td>\n",
       "    </tr>\n",
       "    <tr>\n",
       "      <th>1</th>\n",
       "      <td>{'C': 0.001}</td>\n",
       "      <td>0.992532</td>\n",
       "    </tr>\n",
       "    <tr>\n",
       "      <th>2</th>\n",
       "      <td>{'C': 0.01}</td>\n",
       "      <td>0.992034</td>\n",
       "    </tr>\n",
       "    <tr>\n",
       "      <th>3</th>\n",
       "      <td>{'C': 0.1}</td>\n",
       "      <td>0.992034</td>\n",
       "    </tr>\n",
       "    <tr>\n",
       "      <th>4</th>\n",
       "      <td>{'C': 1.0}</td>\n",
       "      <td>0.992034</td>\n",
       "    </tr>\n",
       "    <tr>\n",
       "      <th>5</th>\n",
       "      <td>{'C': 10.0}</td>\n",
       "      <td>0.992034</td>\n",
       "    </tr>\n",
       "    <tr>\n",
       "      <th>6</th>\n",
       "      <td>{'C': 100.0}</td>\n",
       "      <td>0.992034</td>\n",
       "    </tr>\n",
       "    <tr>\n",
       "      <th>7</th>\n",
       "      <td>{'C': 1000.0}</td>\n",
       "      <td>0.992034</td>\n",
       "    </tr>\n",
       "    <tr>\n",
       "      <th>8</th>\n",
       "      <td>{'C': 10000.0}</td>\n",
       "      <td>0.992034</td>\n",
       "    </tr>\n",
       "  </tbody>\n",
       "</table>\n",
       "</div>"
      ],
      "text/plain": [
       "                C  5-fold CV Error\n",
       "0   {'C': 0.0001}         0.994690\n",
       "1    {'C': 0.001}         0.992532\n",
       "2     {'C': 0.01}         0.992034\n",
       "3      {'C': 0.1}         0.992034\n",
       "4      {'C': 1.0}         0.992034\n",
       "5     {'C': 10.0}         0.992034\n",
       "6    {'C': 100.0}         0.992034\n",
       "7   {'C': 1000.0}         0.992034\n",
       "8  {'C': 10000.0}         0.992034"
      ]
     },
     "execution_count": 39,
     "metadata": {},
     "output_type": "execute_result"
    }
   ],
   "source": [
    "with timer:\n",
    "    params = {'C':np.logspace(-4,4,num=9)}\n",
    "    svc = GridSearchCV(SVC(kernel='linear',degree=1),param_grid=params,cv=5)\n",
    "    svc.fit(traindata36.loc[:,\"pixel1\":],traindata36.label)\n",
    "    result_df = pd.DataFrame({'C':svc.cv_results_['params'],'5-fold CV Error':svc.cv_results_['mean_test_score']})\n",
    "result_df"
   ]
  },
  {
   "cell_type": "code",
   "execution_count": 41,
   "metadata": {},
   "outputs": [
    {
     "name": "stdout",
     "output_type": "stream",
     "text": [
      "misclassifcation error: 0.006092607636068226\n",
      "confusion matrix:\n",
      " [[1251    4]\n",
      " [  11 1196]]\n"
     ]
    }
   ],
   "source": [
    "svc_best = svc.best_estimator_\n",
    "pred = svc_best.predict(testdata36.loc[:,\"pixel1\":])\n",
    "print(\"misclassifcation error:\",1-accuracy_score(pred,testdata36.label))\n",
    "print(\"confusion matrix:\\n\",confusion_matrix(svc_best.predict(testdata36.loc[:,\"pixel1\":]),testdata36.label))"
   ]
  },
  {
   "cell_type": "markdown",
   "metadata": {},
   "source": [
    "## 2. Use only the digit images of 3 and 6 from train_resized.csv and test_resized.csv to build an SVM \n",
    "classifier for binary classification. More specifically, use a radial kernel and choose the best cost \n",
    "parameter, gamma parameter by 5 fold cross validation. Apply your model on the test data and \n",
    "report the misclassification error, confusion matrix. Also report the time cost of training your \n",
    "model. "
   ]
  },
  {
   "cell_type": "code",
   "execution_count": null,
   "metadata": {},
   "outputs": [],
   "source": [
    "with timer:\n",
    "    params = {'C':np.logspace(-4,4,num=9),'gamma':np.logspace(-4,0,num=5)}\n",
    "    svc = GridSearchCV(SVC(kernel='rbf'),param_grid=params,cv=5)\n",
    "    svc.fit(traindata36.loc[:,\"pixel1\":],traindata36.label)\n",
    "    result_df = pd.DataFrame({'params':svc.cv_results_['params'],'5-fold CV Error':svc.cv_results_['mean_test_score']})\n",
    "result_df"
   ]
  },
  {
   "cell_type": "code",
   "execution_count": null,
   "metadata": {},
   "outputs": [],
   "source": [
    "svc_best = svc.best_estimator_\n",
    "pred = svc_best.predict(testdata36.loc[:,\"pixel1\":])\n",
    "print(\"misclassifcation error:\",1-accuracy_score(pred,testdata36.label))\n",
    "print(\"confusion matrix:\\n\",confusion_matrix(svc_best.predict(testdata36.loc[:,\"pixel1\":]),testdata36.label))"
   ]
  }
 ],
 "metadata": {
  "kernelspec": {
   "display_name": "Python 3.8.7 64-bit",
   "language": "python",
   "name": "python3"
  },
  "language_info": {
   "codemirror_mode": {
    "name": "ipython",
    "version": 3
   },
   "file_extension": ".py",
   "mimetype": "text/x-python",
   "name": "python",
   "nbconvert_exporter": "python",
   "pygments_lexer": "ipython3",
   "version": "3.8.7"
  },
  "vscode": {
   "interpreter": {
    "hash": "570feb405e2e27c949193ac68f46852414290d515b0ba6e5d90d076ed2284471"
   }
  }
 },
 "nbformat": 4,
 "nbformat_minor": 4
}
