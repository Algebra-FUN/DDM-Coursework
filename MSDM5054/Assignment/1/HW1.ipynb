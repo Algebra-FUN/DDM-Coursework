{
 "cells": [
  {
   "cell_type": "markdown",
   "id": "christian-innocent",
   "metadata": {},
   "source": [
    "# Assigment 1\n",
    "\n",
    "## Problem 1: Investigation of Life Expectancy\n",
    "\n",
    "Import data from `Life Expectancy Data.csv` and drop the column `Country`."
   ]
  },
  {
   "cell_type": "code",
   "execution_count": 1,
   "id": "offshore-meditation",
   "metadata": {},
   "outputs": [],
   "source": [
    "data = read.csv('Life Expectancy Data.csv')\n",
    "data = na.omit(subset(data, select = -c(Country)))"
   ]
  },
  {
   "cell_type": "markdown",
   "id": "uniform-dress",
   "metadata": {},
   "source": [
    "Fit linear regression models"
   ]
  },
  {
   "cell_type": "code",
   "execution_count": 2,
   "id": "affecting-computer",
   "metadata": {},
   "outputs": [],
   "source": [
    "full_mod = lm('Life.expectancy ~ .',data)"
   ]
  },
  {
   "cell_type": "markdown",
   "id": "israeli-butter",
   "metadata": {},
   "source": [
    "### 1. Report the summary of the linear model. \n",
    "\n",
    "What are the predicting variables actually affecting the life expectancy? Justify your answer based on the outputs of linear regression model."
   ]
  },
  {
   "cell_type": "code",
   "execution_count": 3,
   "id": "brilliant-terminology",
   "metadata": {},
   "outputs": [
    {
     "data": {
      "text/plain": [
       "\n",
       "Call:\n",
       "lm(formula = \"Life.expectancy ~ .\", data = data)\n",
       "\n",
       "Residuals:\n",
       "     Min       1Q   Median       3Q      Max \n",
       "-16.7681  -2.1427   0.0273   2.1776  12.4242 \n",
       "\n",
       "Coefficients:\n",
       "                                  Estimate Std. Error t value Pr(>|t|)    \n",
       "(Intercept)                      3.090e+02  4.621e+01   6.687 3.12e-11 ***\n",
       "Year                            -1.272e-01  2.308e-02  -5.510 4.18e-08 ***\n",
       "StatusDeveloping                -8.865e-01  3.353e-01  -2.644  0.00827 ** \n",
       "Adult.Mortality                 -1.621e-02  9.441e-04 -17.171  < 2e-16 ***\n",
       "infant.deaths                    8.873e-02  1.059e-02   8.376  < 2e-16 ***\n",
       "Alcohol                         -1.313e-01  3.366e-02  -3.901 9.95e-05 ***\n",
       "percentage.expenditure           3.026e-04  1.789e-04   1.691  0.09096 .  \n",
       "Hepatitis.B                     -3.258e-03  4.449e-03  -0.732  0.46413    \n",
       "Measles                         -1.033e-05  1.070e-05  -0.966  0.33439    \n",
       "BMI                              3.183e-02  5.955e-03   5.345 1.03e-07 ***\n",
       "under.five.deaths               -6.662e-02  7.673e-03  -8.682  < 2e-16 ***\n",
       "Polio                            5.797e-03  5.121e-03   1.132  0.25776    \n",
       "Total.expenditure                9.220e-02  4.042e-02   2.281  0.02268 *  \n",
       "Diphtheria                       1.403e-02  5.877e-03   2.387  0.01712 *  \n",
       "HIV.AIDS                        -4.481e-01  1.780e-02 -25.174  < 2e-16 ***\n",
       "GDP                              2.451e-05  2.826e-05   0.867  0.38594    \n",
       "Population                      -6.085e-10  1.733e-09  -0.351  0.72558    \n",
       "thinness.1.19.years             -5.815e-03  5.254e-02  -0.111  0.91189    \n",
       "thinness.5.9.years              -5.010e-02  5.185e-02  -0.966  0.33412    \n",
       "Income.composition.of.resources  1.045e+01  8.327e-01  12.549  < 2e-16 ***\n",
       "Schooling                        8.949e-01  5.910e-02  15.142  < 2e-16 ***\n",
       "---\n",
       "Signif. codes:  0 '***' 0.001 '**' 0.01 '*' 0.05 '.' 0.1 ' ' 1\n",
       "\n",
       "Residual standard error: 3.556 on 1628 degrees of freedom\n",
       "Multiple R-squared:  0.8386,\tAdjusted R-squared:  0.8366 \n",
       "F-statistic: 422.9 on 20 and 1628 DF,  p-value: < 2.2e-16\n"
      ]
     },
     "metadata": {},
     "output_type": "display_data"
    }
   ],
   "source": [
    "summary(full_mod)"
   ]
  },
  {
   "cell_type": "markdown",
   "id": "compressed-wallet",
   "metadata": {},
   "source": [
    "From the summary of the linear model, the Year,Status,Adult Mortality,Infant, deaths,Alcohol,BMI,under-five deaths,HIV/AIDS,Income composition of resources,Schooling, these variables actually affecting the life expectancy."
   ]
  },
  {
   "cell_type": "markdown",
   "id": "romance-guest",
   "metadata": {},
   "source": [
    "### 2. Construct the 95% confidence intervals for the coefficient of “Adult Mortality” and “HIV/AIDS”.\n",
    "Are you confident that these predictors have negative impact on the life expectancy? Explain why."
   ]
  },
  {
   "cell_type": "code",
   "execution_count": 4,
   "id": "favorite-stereo",
   "metadata": {},
   "outputs": [
    {
     "data": {
      "text/html": [
       "<table>\n",
       "<caption>A matrix: 2 × 2 of type dbl</caption>\n",
       "<thead>\n",
       "\t<tr><th></th><th scope=col>2.5 %</th><th scope=col>97.5 %</th></tr>\n",
       "</thead>\n",
       "<tbody>\n",
       "\t<tr><th scope=row>Adult.Mortality</th><td>-0.01806251</td><td>-0.01435896</td></tr>\n",
       "\t<tr><th scope=row>HIV.AIDS</th><td>-0.48296446</td><td>-0.41314512</td></tr>\n",
       "</tbody>\n",
       "</table>\n"
      ],
      "text/latex": [
       "A matrix: 2 × 2 of type dbl\n",
       "\\begin{tabular}{r|ll}\n",
       "  & 2.5 \\% & 97.5 \\%\\\\\n",
       "\\hline\n",
       "\tAdult.Mortality & -0.01806251 & -0.01435896\\\\\n",
       "\tHIV.AIDS & -0.48296446 & -0.41314512\\\\\n",
       "\\end{tabular}\n"
      ],
      "text/markdown": [
       "\n",
       "A matrix: 2 × 2 of type dbl\n",
       "\n",
       "| <!--/--> | 2.5 % | 97.5 % |\n",
       "|---|---|---|\n",
       "| Adult.Mortality | -0.01806251 | -0.01435896 |\n",
       "| HIV.AIDS | -0.48296446 | -0.41314512 |\n",
       "\n"
      ],
      "text/plain": [
       "                2.5 %       97.5 %     \n",
       "Adult.Mortality -0.01806251 -0.01435896\n",
       "HIV.AIDS        -0.48296446 -0.41314512"
      ]
     },
     "metadata": {},
     "output_type": "display_data"
    }
   ],
   "source": [
    "confint(full_mod,c(\"Adult.Mortality\",\"HIV.AIDS\"))"
   ]
  },
  {
   "cell_type": "markdown",
   "id": "current-tracy",
   "metadata": {},
   "source": [
    "The answer is Yes. The “Adult Mortality” and “HIV/AIDS” have negative impact on the life expectancy. Since the confidence intervals don't cross zero and these prodictors are significant according to the p-value. "
   ]
  },
  {
   "cell_type": "markdown",
   "id": "broken-doctrine",
   "metadata": {},
   "source": [
    "### 3. Construct the 97% confidence intervals for the coefficient of “Schooling” and “Alcohol”. \n",
    "Explain how these predictors impact the life expectancy."
   ]
  },
  {
   "cell_type": "code",
   "execution_count": 5,
   "id": "vertical-performance",
   "metadata": {},
   "outputs": [
    {
     "data": {
      "text/html": [
       "<table>\n",
       "<caption>A matrix: 2 × 2 of type dbl</caption>\n",
       "<thead>\n",
       "\t<tr><th></th><th scope=col>1.5 %</th><th scope=col>98.5 %</th></tr>\n",
       "</thead>\n",
       "<tbody>\n",
       "\t<tr><th scope=row>Schooling</th><td> 0.7665181</td><td> 1.02324749</td></tr>\n",
       "\t<tr><th scope=row>Alcohol</th><td>-0.2044186</td><td>-0.05820994</td></tr>\n",
       "</tbody>\n",
       "</table>\n"
      ],
      "text/latex": [
       "A matrix: 2 × 2 of type dbl\n",
       "\\begin{tabular}{r|ll}\n",
       "  & 1.5 \\% & 98.5 \\%\\\\\n",
       "\\hline\n",
       "\tSchooling &  0.7665181 &  1.02324749\\\\\n",
       "\tAlcohol & -0.2044186 & -0.05820994\\\\\n",
       "\\end{tabular}\n"
      ],
      "text/markdown": [
       "\n",
       "A matrix: 2 × 2 of type dbl\n",
       "\n",
       "| <!--/--> | 1.5 % | 98.5 % |\n",
       "|---|---|---|\n",
       "| Schooling |  0.7665181 |  1.02324749 |\n",
       "| Alcohol | -0.2044186 | -0.05820994 |\n",
       "\n"
      ],
      "text/plain": [
       "          1.5 %      98.5 %     \n",
       "Schooling  0.7665181  1.02324749\n",
       "Alcohol   -0.2044186 -0.05820994"
      ]
     },
     "metadata": {},
     "output_type": "display_data"
    }
   ],
   "source": [
    "confint(full_mod,c(\"Schooling\",\"Alcohol\"),level=0.97)"
   ]
  },
  {
   "cell_type": "markdown",
   "id": "meaningful-credit",
   "metadata": {},
   "source": [
    "`Schooling` has positive impact on life expectancy, since it's confidence interval is positive.\n",
    "\n",
    "`Alcohol` has negative impact on life expectancy, since it's confidence interval is negative."
   ]
  },
  {
   "cell_type": "markdown",
   "id": "satellite-baker",
   "metadata": {},
   "source": [
    "## 4. Based on the p-values, which are the top-seven most influential predictors?\n",
    "Use these predictors to fit a smaller model and report the summary.\n",
    "\n",
    "From the summary of \"big\" model, the `Year`,`Adult.Mortality`,`infant.deaths`,`under.five.deaths`,`HIV.AIDS`,`Income.composition.of.resources` and `Schooling` are the top-seven most influential predictors."
   ]
  },
  {
   "cell_type": "code",
   "execution_count": 6,
   "id": "portuguese-perfume",
   "metadata": {},
   "outputs": [],
   "source": [
    "small_mod = lm('Life.expectancy~Year+Adult.Mortality+infant.deaths+under.five.deaths+HIV.AIDS+Income.composition.of.resources+Schooling',data)"
   ]
  },
  {
   "cell_type": "code",
   "execution_count": 7,
   "id": "mental-hayes",
   "metadata": {},
   "outputs": [
    {
     "data": {
      "text/plain": [
       "\n",
       "Call:\n",
       "lm(formula = \"Life.expectancy~Year+Adult.Mortality+infant.deaths+under.five.deaths+HIV.AIDS+Income.composition.of.resources+Schooling\", \n",
       "    data = data)\n",
       "\n",
       "Residuals:\n",
       "     Min       1Q   Median       3Q      Max \n",
       "-18.4354  -2.1962   0.0252   2.2574  13.0385 \n",
       "\n",
       "Coefficients:\n",
       "                                  Estimate Std. Error t value Pr(>|t|)    \n",
       "(Intercept)                      2.855e+02  4.550e+01   6.275 4.46e-10 ***\n",
       "Year                            -1.158e-01  2.269e-02  -5.105 3.69e-07 ***\n",
       "Adult.Mortality                 -1.812e-02  9.615e-04 -18.845  < 2e-16 ***\n",
       "infant.deaths                    8.706e-02  9.897e-03   8.796  < 2e-16 ***\n",
       "under.five.deaths               -6.746e-02  7.356e-03  -9.171  < 2e-16 ***\n",
       "HIV.AIDS                        -4.498e-01  1.827e-02 -24.615  < 2e-16 ***\n",
       "Income.composition.of.resources  1.191e+01  8.249e-01  14.440  < 2e-16 ***\n",
       "Schooling                        1.063e+00  5.403e-02  19.677  < 2e-16 ***\n",
       "---\n",
       "Signif. codes:  0 '***' 0.001 '**' 0.01 '*' 0.05 '.' 0.1 ' ' 1\n",
       "\n",
       "Residual standard error: 3.7 on 1641 degrees of freedom\n",
       "Multiple R-squared:  0.8238,\tAdjusted R-squared:  0.8231 \n",
       "F-statistic:  1096 on 7 and 1641 DF,  p-value: < 2.2e-16\n"
      ]
     },
     "metadata": {},
     "output_type": "display_data"
    }
   ],
   "source": [
    "summary(small_mod)"
   ]
  },
  {
   "cell_type": "markdown",
   "id": "middle-argentina",
   "metadata": {},
   "source": [
    "### 5. Use the smaller model to predict the life expectancy if a new observation is given with\n",
    "\n",
    "Year=2008, Status=Developed, Adult Mortality=125, infant deaths=94, Alcohol=4.1, percentage expenditure=100, Hepatitis B=20, Measles=13, BMI=55, under-five deaths=2, Polio=12, Total expenditure=5.9, Diphtheria=12,HIV/AIDS=0.5, GDP=5892,Population=1.34 ×106, Income composition of resources=0.9, Schooling=18.\n",
    "\n",
    "Report the 99% confidence interval for your prediction."
   ]
  },
  {
   "cell_type": "code",
   "execution_count": 8,
   "id": "bridal-usage",
   "metadata": {},
   "outputs": [
    {
     "data": {
      "text/html": [
       "<table>\n",
       "<caption>A matrix: 1 × 3 of type dbl</caption>\n",
       "<thead>\n",
       "\t<tr><th></th><th scope=col>fit</th><th scope=col>lwr</th><th scope=col>upr</th></tr>\n",
       "</thead>\n",
       "<tbody>\n",
       "\t<tr><th scope=row>1</th><td>88.38095</td><td>85.99266</td><td>90.76924</td></tr>\n",
       "</tbody>\n",
       "</table>\n"
      ],
      "text/latex": [
       "A matrix: 1 × 3 of type dbl\n",
       "\\begin{tabular}{r|lll}\n",
       "  & fit & lwr & upr\\\\\n",
       "\\hline\n",
       "\t1 & 88.38095 & 85.99266 & 90.76924\\\\\n",
       "\\end{tabular}\n"
      ],
      "text/markdown": [
       "\n",
       "A matrix: 1 × 3 of type dbl\n",
       "\n",
       "| <!--/--> | fit | lwr | upr |\n",
       "|---|---|---|---|\n",
       "| 1 | 88.38095 | 85.99266 | 90.76924 |\n",
       "\n"
      ],
      "text/plain": [
       "  fit      lwr      upr     \n",
       "1 88.38095 85.99266 90.76924"
      ]
     },
     "metadata": {},
     "output_type": "display_data"
    }
   ],
   "source": [
    "newdata = data.frame(Year=2008,Adult.Mortality=125,infant.deaths=94,under.five.deaths=2,HIV.AIDS=0.5,Income.composition.of.resources=0.9,Schooling=18)\n",
    "predict(small_mod,newdata,interval=\"confidence\",level=0.99)"
   ]
  },
  {
   "cell_type": "markdown",
   "id": "inclusive-invasion",
   "metadata": {},
   "source": [
    "### 6. Use AIC to compare the full model and the smaller model."
   ]
  },
  {
   "cell_type": "code",
   "execution_count": 9,
   "id": "center-trinity",
   "metadata": {},
   "outputs": [
    {
     "data": {
      "text/html": [
       "8886.48395184995"
      ],
      "text/latex": [
       "8886.48395184995"
      ],
      "text/markdown": [
       "8886.48395184995"
      ],
      "text/plain": [
       "[1] 8886.484"
      ]
     },
     "metadata": {},
     "output_type": "display_data"
    }
   ],
   "source": [
    "AIC(full_mod)"
   ]
  },
  {
   "cell_type": "code",
   "execution_count": 10,
   "id": "retired-willow",
   "metadata": {},
   "outputs": [
    {
     "data": {
      "text/html": [
       "9004.56217969415"
      ],
      "text/latex": [
       "9004.56217969415"
      ],
      "text/markdown": [
       "9004.56217969415"
      ],
      "text/plain": [
       "[1] 9004.562"
      ]
     },
     "metadata": {},
     "output_type": "display_data"
    }
   ],
   "source": [
    "AIC(small_mod)"
   ]
  },
  {
   "cell_type": "markdown",
   "id": "earned-cross",
   "metadata": {},
   "source": [
    "The AIC of full model is smaller than smaller model, so the full model is perferred that smaller model. "
   ]
  },
  {
   "cell_type": "markdown",
   "id": "vocal-equipment",
   "metadata": {},
   "source": [
    "## Problem 2 : Predicting Breast Cancer"
   ]
  },
  {
   "cell_type": "markdown",
   "id": "smart-background",
   "metadata": {},
   "source": [
    "First of all, preprocess the data by replacing na with columns average with Python.\n",
    "\n",
    "Meanwhile, also drop the feature \"Id\", since it is clear that \"Id\" won't have any influence on result.\n",
    "\n",
    "```python\n",
    "import pandas as pd\n",
    "\n",
    "target_name = './BreastCancer_train'\n",
    "\n",
    "df = pd.read_csv(f'{target_name}.csv')\n",
    "df.drop(columns=['Id'],inplace=True)\n",
    "df.fillna(value=df[df.columns[:-1]].mean(),inplace=True)\n",
    "df.to_csv(f'{target_name}_preprocessed.csv',index=False)\n",
    "```\n",
    "\n",
    "Output as \"BreastCancer_train_preprocessed.csv\""
   ]
  },
  {
   "cell_type": "code",
   "execution_count": 11,
   "id": "inclusive-tract",
   "metadata": {},
   "outputs": [
    {
     "name": "stderr",
     "output_type": "stream",
     "text": [
      "Warning message:\n",
      "\"package 'ROCR' was built under R version 4.0.5\"\n"
     ]
    }
   ],
   "source": [
    "library(ROCR)"
   ]
  },
  {
   "cell_type": "markdown",
   "id": "imperial-fancy",
   "metadata": {},
   "source": [
    "Import data from BreastCancer_train_preprocessed.csv "
   ]
  },
  {
   "cell_type": "code",
   "execution_count": 12,
   "id": "generic-peace",
   "metadata": {},
   "outputs": [],
   "source": [
    "train.data = read.csv(\"BreastCancer_train_preprocessed.csv\")\n",
    "test.data = read.csv(\"BreastCancer_test_preprocessed.csv\")"
   ]
  },
  {
   "cell_type": "markdown",
   "id": "spoken-lease",
   "metadata": {},
   "source": [
    "Set 'malignant' to 1 and 'benign' to zero."
   ]
  },
  {
   "cell_type": "code",
   "execution_count": 13,
   "id": "cardiovascular-christmas",
   "metadata": {},
   "outputs": [],
   "source": [
    "train.data$Class=train.data$Class=='malignant'\n",
    "test.data$Class=test.data$Class=='malignant'"
   ]
  },
  {
   "cell_type": "markdown",
   "id": "muslim-lebanon",
   "metadata": {},
   "source": [
    "## 1. Use all the predictors to fit a logistic regression model and report the summary. Plot the ROC curve on the test dataset."
   ]
  },
  {
   "cell_type": "code",
   "execution_count": 14,
   "id": "atomic-wrist",
   "metadata": {},
   "outputs": [
    {
     "data": {
      "text/plain": [
       "\n",
       "Call:\n",
       "glm(formula = Class ~ ., family = \"binomial\", data = train.data)\n",
       "\n",
       "Deviance Residuals: \n",
       "    Min       1Q   Median       3Q      Max  \n",
       "-3.3083  -0.0848  -0.0536   0.0201   1.8751  \n",
       "\n",
       "Coefficients:\n",
       "                Estimate Std. Error z value Pr(>|z|)    \n",
       "(Intercept)     -10.6454     1.7181  -6.196 5.79e-10 ***\n",
       "Cl.thickness      0.3729     0.2165   1.723   0.0849 .  \n",
       "Cell.size        -0.2873     0.2781  -1.033   0.3015    \n",
       "Cell.shape        0.5689     0.3091   1.841   0.0657 .  \n",
       "Marg.adhesion     0.3514     0.1414   2.485   0.0130 *  \n",
       "Epith.c.size      0.4082     0.2642   1.545   0.1223    \n",
       "Bare.nuclei       0.2915     0.1216   2.397   0.0165 *  \n",
       "Bl.cromatin       0.6153     0.2631   2.339   0.0193 *  \n",
       "Normal.nucleoli   0.2043     0.1626   1.257   0.2089    \n",
       "Mitoses           0.3156     0.4106   0.769   0.4421    \n",
       "---\n",
       "Signif. codes:  0 '***' 0.001 '**' 0.01 '*' 0.05 '.' 0.1 ' ' 1\n",
       "\n",
       "(Dispersion parameter for binomial family taken to be 1)\n",
       "\n",
       "    Null deviance: 514.144  on 399  degrees of freedom\n",
       "Residual deviance:  53.972  on 390  degrees of freedom\n",
       "AIC: 73.972\n",
       "\n",
       "Number of Fisher Scoring iterations: 8\n"
      ]
     },
     "metadata": {},
     "output_type": "display_data"
    }
   ],
   "source": [
    "log.full.mod = glm(Class~.,family=\"binomial\",data=train.data)\n",
    "\n",
    "summary(log.full.mod)"
   ]
  },
  {
   "cell_type": "code",
   "execution_count": 15,
   "id": "pediatric-spring",
   "metadata": {},
   "outputs": [
    {
     "data": {
      "image/png": "[encoded data removed]",
      "text/plain": [
       "plot without title"
      ]
     },
     "metadata": {
      "image/png": {
       "height": 420,
       "width": 420
      }
     },
     "output_type": "display_data"
    }
   ],
   "source": [
    "pred = predict(log.full.mod,test.data,type=\"response\")\n",
    "log.full.pred = prediction(pred,test.data$Class)\n",
    "roc = performance(log.full.pred,\"tpr\",\"fpr\")\n",
    "plot(roc, colorize = T, lwd = 2)"
   ]
  },
  {
   "cell_type": "code",
   "execution_count": 16,
   "id": "subject-coordination",
   "metadata": {},
   "outputs": [
    {
     "data": {
      "text/html": [
       "0.99043392504931"
      ],
      "text/latex": [
       "0.99043392504931"
      ],
      "text/markdown": [
       "0.99043392504931"
      ],
      "text/plain": [
       "[1] 0.9904339"
      ]
     },
     "metadata": {},
     "output_type": "display_data"
    }
   ],
   "source": [
    "auc = performance(log.full.pred,\"auc\")@y.values[[1]]\n",
    "auc"
   ]
  },
  {
   "cell_type": "markdown",
   "id": "liberal-nicholas",
   "metadata": {},
   "source": [
    "## 2. Use the predictors Cl.thickness, Cell.shape, Marg.adhesion, Bare.nuclei, Bl.cromatin to fit a logistic model and report the summary. Plot the ROC curve on the test dataset."
   ]
  },
  {
   "cell_type": "code",
   "execution_count": 17,
   "id": "atomic-holmes",
   "metadata": {},
   "outputs": [
    {
     "data": {
      "text/plain": [
       "\n",
       "Call:\n",
       "glm(formula = Class ~ Cl.thickness + Cell.shape + Marg.adhesion + \n",
       "    Bare.nuclei + Bl.cromatin, family = \"binomial\", data = train.data)\n",
       "\n",
       "Deviance Residuals: \n",
       "    Min       1Q   Median       3Q      Max  \n",
       "-3.2436  -0.1051  -0.0561   0.0229   1.9158  \n",
       "\n",
       "Coefficients:\n",
       "              Estimate Std. Error z value Pr(>|z|)    \n",
       "(Intercept)    -9.8337     1.4964  -6.572 4.98e-11 ***\n",
       "Cl.thickness    0.4902     0.1938   2.530 0.011416 *  \n",
       "Cell.shape      0.4991     0.1998   2.498 0.012478 *  \n",
       "Marg.adhesion   0.3544     0.1237   2.864 0.004181 ** \n",
       "Bare.nuclei     0.2905     0.1078   2.694 0.007065 ** \n",
       "Bl.cromatin     0.7664     0.2300   3.332 0.000861 ***\n",
       "---\n",
       "Signif. codes:  0 '***' 0.001 '**' 0.01 '*' 0.05 '.' 0.1 ' ' 1\n",
       "\n",
       "(Dispersion parameter for binomial family taken to be 1)\n",
       "\n",
       "    Null deviance: 514.144  on 399  degrees of freedom\n",
       "Residual deviance:  61.572  on 394  degrees of freedom\n",
       "AIC: 73.572\n",
       "\n",
       "Number of Fisher Scoring iterations: 8\n"
      ]
     },
     "metadata": {},
     "output_type": "display_data"
    }
   ],
   "source": [
    "log.sm.mod = glm(Class~Cl.thickness+Cell.shape+Marg.adhesion+Bare.nuclei+Bl.cromatin,family=\"binomial\",data=train.data)\n",
    "\n",
    "summary(log.sm.mod)"
   ]
  },
  {
   "cell_type": "code",
   "execution_count": 18,
   "id": "meaningful-privilege",
   "metadata": {},
   "outputs": [
    {
     "data": {
      "image/png": "[encoded data removed]",
      "text/plain": [
       "plot without title"
      ]
     },
     "metadata": {
      "image/png": {
       "height": 420,
       "width": 420
      }
     },
     "output_type": "display_data"
    }
   ],
   "source": [
    "pred = predict(log.sm.mod,test.data,type=\"response\")\n",
    "log.sm.pred = prediction(pred,test.data$Class)\n",
    "roc = performance(log.sm.pred,\"tpr\",\"fpr\")\n",
    "plot(roc, colorize = T, lwd = 2)"
   ]
  },
  {
   "cell_type": "code",
   "execution_count": 19,
   "id": "dominican-playback",
   "metadata": {},
   "outputs": [
    {
     "data": {
      "text/html": [
       "0.992209072978304"
      ],
      "text/latex": [
       "0.992209072978304"
      ],
      "text/markdown": [
       "0.992209072978304"
      ],
      "text/plain": [
       "[1] 0.9922091"
      ]
     },
     "metadata": {},
     "output_type": "display_data"
    }
   ],
   "source": [
    "auc = performance(log.sm.pred,\"auc\")@y.values[[1]]\n",
    "auc"
   ]
  },
  {
   "cell_type": "markdown",
   "id": "heard-carroll",
   "metadata": {},
   "source": [
    "## 3. Use all the predictors to fit an LDA model and report the summary. Plot the ROC curve on the test dataset."
   ]
  },
  {
   "cell_type": "code",
   "execution_count": 20,
   "id": "stretch-jesus",
   "metadata": {},
   "outputs": [],
   "source": [
    "library(MASS)"
   ]
  },
  {
   "cell_type": "code",
   "execution_count": 21,
   "id": "ahead-toddler",
   "metadata": {},
   "outputs": [
    {
     "data": {
      "text/plain": [
       "Call:\n",
       "lda(Class ~ ., data = train.data)\n",
       "\n",
       "Prior probabilities of groups:\n",
       " FALSE   TRUE \n",
       "0.6575 0.3425 \n",
       "\n",
       "Group means:\n",
       "      Cl.thickness Cell.size Cell.shape Marg.adhesion Epith.c.size Bare.nuclei\n",
       "FALSE     2.859316  1.273764   1.384030      1.296578     2.091255    1.399104\n",
       "TRUE      7.124088  6.678832   6.627737      5.751825     5.321168    7.726762\n",
       "      Bl.cromatin Normal.nucleoli  Mitoses\n",
       "FALSE    2.030418        1.231939 1.064639\n",
       "TRUE     6.262774        6.204380 2.773723\n",
       "\n",
       "Coefficients of linear discriminants:\n",
       "                        LD1\n",
       "Cl.thickness     0.15868777\n",
       "Cell.size        0.08493867\n",
       "Cell.shape       0.11582336\n",
       "Marg.adhesion    0.08586815\n",
       "Epith.c.size     0.12495092\n",
       "Bare.nuclei      0.24317710\n",
       "Bl.cromatin      0.11974025\n",
       "Normal.nucleoli  0.10889167\n",
       "Mitoses         -0.03055314"
      ]
     },
     "metadata": {},
     "output_type": "display_data"
    }
   ],
   "source": [
    "lda.full.mod=lda(Class~.,data=train.data) \n",
    "lda.full.mod"
   ]
  },
  {
   "cell_type": "code",
   "execution_count": 22,
   "id": "described-stand",
   "metadata": {},
   "outputs": [
    {
     "data": {
      "image/png": "[encoded data removed]",
      "text/plain": [
       "plot without title"
      ]
     },
     "metadata": {
      "image/png": {
       "height": 420,
       "width": 420
      }
     },
     "output_type": "display_data"
    }
   ],
   "source": [
    "pred = predict(lda.full.mod,test.data,type=\"response\")\n",
    "lda.full.pred = prediction(pred$posterior[,2],test.data$Class)\n",
    "roc = performance(lda.full.pred,\"tpr\",\"fpr\")\n",
    "plot(roc, colorize = T, lwd = 2)"
   ]
  },
  {
   "cell_type": "code",
   "execution_count": 23,
   "id": "generous-swift",
   "metadata": {},
   "outputs": [
    {
     "data": {
      "text/html": [
       "0.992554240631164"
      ],
      "text/latex": [
       "0.992554240631164"
      ],
      "text/markdown": [
       "0.992554240631164"
      ],
      "text/plain": [
       "[1] 0.9925542"
      ]
     },
     "metadata": {},
     "output_type": "display_data"
    }
   ],
   "source": [
    "auc = performance(lda.full.pred,\"auc\")@y.values[[1]]\n",
    "auc"
   ]
  },
  {
   "cell_type": "markdown",
   "id": "banned-chuck",
   "metadata": {},
   "source": [
    "## 4. Use the predictors Cl.thickness, Cell.shape, Marg.adhesion, Bare.nuclei, Bl.cromatin to fit an LDA model and report the summary. Plot the ROC curve on the test dataset."
   ]
  },
  {
   "cell_type": "code",
   "execution_count": 24,
   "id": "standing-tsunami",
   "metadata": {},
   "outputs": [
    {
     "data": {
      "text/plain": [
       "Call:\n",
       "lda(Class ~ Cl.thickness + Cell.shape + Marg.adhesion + Bare.nuclei + \n",
       "    Bl.cromatin, data = train.data)\n",
       "\n",
       "Prior probabilities of groups:\n",
       " FALSE   TRUE \n",
       "0.6575 0.3425 \n",
       "\n",
       "Group means:\n",
       "      Cl.thickness Cell.shape Marg.adhesion Bare.nuclei Bl.cromatin\n",
       "FALSE     2.859316   1.384030      1.296578    1.399104    2.030418\n",
       "TRUE      7.124088   6.627737      5.751825    7.726762    6.262774\n",
       "\n",
       "Coefficients of linear discriminants:\n",
       "                    LD1\n",
       "Cl.thickness  0.1663488\n",
       "Cell.shape    0.2438485\n",
       "Marg.adhesion 0.1108034\n",
       "Bare.nuclei   0.2342889\n",
       "Bl.cromatin   0.1925606"
      ]
     },
     "metadata": {},
     "output_type": "display_data"
    }
   ],
   "source": [
    "lda.sm.mod=lda(Class~Cl.thickness+Cell.shape+Marg.adhesion+Bare.nuclei+Bl.cromatin,data=train.data) \n",
    "lda.sm.mod"
   ]
  },
  {
   "cell_type": "code",
   "execution_count": 25,
   "id": "strategic-diversity",
   "metadata": {},
   "outputs": [
    {
     "data": {
      "image/png": "[encoded data removed]",
      "text/plain": [
       "plot without title"
      ]
     },
     "metadata": {
      "image/png": {
       "height": 420,
       "width": 420
      }
     },
     "output_type": "display_data"
    }
   ],
   "source": [
    "pred = predict(lda.sm.mod,test.data,type=\"response\")\n",
    "lda.sm.pred = prediction(pred$posterior[,2],test.data$Class)\n",
    "roc = performance(lda.sm.pred,\"tpr\",\"fpr\")\n",
    "plot(roc, colorize = T, lwd = 2)"
   ]
  },
  {
   "cell_type": "code",
   "execution_count": 26,
   "id": "appointed-illness",
   "metadata": {},
   "outputs": [
    {
     "data": {
      "text/html": [
       "0.994132149901381"
      ],
      "text/latex": [
       "0.994132149901381"
      ],
      "text/markdown": [
       "0.994132149901381"
      ],
      "text/plain": [
       "[1] 0.9941321"
      ]
     },
     "metadata": {},
     "output_type": "display_data"
    }
   ],
   "source": [
    "auc = performance(lda.sm.pred,\"auc\")@y.values[[1]]\n",
    "auc"
   ]
  },
  {
   "cell_type": "markdown",
   "id": "civilian-balloon",
   "metadata": {},
   "source": [
    "## 5.Use all the predictors to fit a QDA model and report the summary. Plot the ROC curve on the test dataset."
   ]
  },
  {
   "cell_type": "code",
   "execution_count": 27,
   "id": "electronic-device",
   "metadata": {},
   "outputs": [
    {
     "data": {
      "text/plain": [
       "Call:\n",
       "qda(Class ~ ., data = train.data)\n",
       "\n",
       "Prior probabilities of groups:\n",
       " FALSE   TRUE \n",
       "0.6575 0.3425 \n",
       "\n",
       "Group means:\n",
       "      Cl.thickness Cell.size Cell.shape Marg.adhesion Epith.c.size Bare.nuclei\n",
       "FALSE     2.859316  1.273764   1.384030      1.296578     2.091255    1.399104\n",
       "TRUE      7.124088  6.678832   6.627737      5.751825     5.321168    7.726762\n",
       "      Bl.cromatin Normal.nucleoli  Mitoses\n",
       "FALSE    2.030418        1.231939 1.064639\n",
       "TRUE     6.262774        6.204380 2.773723"
      ]
     },
     "metadata": {},
     "output_type": "display_data"
    }
   ],
   "source": [
    "qda.full.mod=qda(Class~.,data=train.data) \n",
    "qda.full.mod"
   ]
  },
  {
   "cell_type": "code",
   "execution_count": 28,
   "id": "faced-adapter",
   "metadata": {},
   "outputs": [
    {
     "data": {
      "image/png": "[encoded data removed]",
      "text/plain": [
       "plot without title"
      ]
     },
     "metadata": {
      "image/png": {
       "height": 420,
       "width": 420
      }
     },
     "output_type": "display_data"
    }
   ],
   "source": [
    "pred = predict(qda.full.mod,test.data,type=\"response\")\n",
    "qda.full.pred = prediction(pred$posterior[,2],test.data$Class)\n",
    "roc = performance(qda.full.pred,\"tpr\",\"fpr\")\n",
    "plot(roc, colorize = T, lwd = 2)"
   ]
  },
  {
   "cell_type": "code",
   "execution_count": 29,
   "id": "signed-repair",
   "metadata": {},
   "outputs": [
    {
     "data": {
      "text/html": [
       "0.97879684418146"
      ],
      "text/latex": [
       "0.97879684418146"
      ],
      "text/markdown": [
       "0.97879684418146"
      ],
      "text/plain": [
       "[1] 0.9787968"
      ]
     },
     "metadata": {},
     "output_type": "display_data"
    }
   ],
   "source": [
    "auc = performance(qda.full.pred,\"auc\")@y.values[[1]]\n",
    "auc"
   ]
  },
  {
   "cell_type": "markdown",
   "id": "answering-supervision",
   "metadata": {},
   "source": [
    "## 6. Compare all the above models by AUC.\n",
    "\n",
    "All AUC of each Models are summerized as following table.\n",
    "\n",
    "| Model                                     | AUC              |\n",
    "| ----------------------------------------- | ---------------- |\n",
    "| Logistic Regression(All predictors)       | 0.99043392504931 |\n",
    "| Logistic Regression(Specified predictors) | 0.99220907297830 |\n",
    "| LDA(All predictors)                       | 0.99255424063116 |\n",
    "| LDA(Specified predictors)                 | 0.99413214990138 |\n",
    "| QDA(All predictors)                       | 0.97879684418146 |\n",
    "\n",
    "From this table, we can see LDA(Specified predictors) model has the biggest AUC value comparing with other model."
   ]
  }
 ],
 "metadata": {
  "kernelspec": {
   "display_name": "R",
   "language": "R",
   "name": "ir"
  },
  "language_info": {
   "codemirror_mode": "r",
   "file_extension": ".r",
   "mimetype": "text/x-r-source",
   "name": "R",
   "pygments_lexer": "r",
   "version": "4.0.3"
  }
 },
 "nbformat": 4,
 "nbformat_minor": 5
}
