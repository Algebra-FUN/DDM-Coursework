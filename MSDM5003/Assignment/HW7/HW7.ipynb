{
 "cells": [
  {
   "cell_type": "markdown",
   "metadata": {},
   "source": [
    "# Homework 7\n",
    "\n",
    "## 1. Wealth Game of Hang Seng Index \n",
    "Write a Python program modeling 𝑁  =  101 agents using Wealth Game strategies and payoffs to invest \n",
    "in the time series of Hang Seng Index. Fix the memory size 𝑀 = 3. Below are the suggested logical steps:\n",
    "### (1) Download the time series of Hang Seng Index from 21 November 2021 to 21 November 2022, \n",
    "as it was done in Problem Set 5A. This will form the time series of the prices 𝑃(𝑡)."
   ]
  },
  {
   "cell_type": "code",
   "execution_count": 8,
   "metadata": {},
   "outputs": [],
   "source": [
    "import pandas as pd\n",
    "import numpy as np"
   ]
  },
  {
   "cell_type": "code",
   "execution_count": 3,
   "metadata": {},
   "outputs": [],
   "source": [
    "df = pd.read_csv(\"^HSI.csv\")\n",
    "df.dropna(inplace=True)\n",
    "P = df[\"Adj Close\"].to_numpy()"
   ]
  },
  {
   "cell_type": "markdown",
   "metadata": {},
   "source": [
    "### (2) Set the market impact factor to 𝛽 = 0.5. Starting from 𝑡 = 0, the time series of the transaction price $P_T(t)$ will be generated using\n",
    "\n",
    "$$\n",
    "P_T(t+1)=P(t)+\\beta(P(t+1)-P(t))\n",
    "$$"
   ]
  },
  {
   "cell_type": "code",
   "execution_count": 9,
   "metadata": {},
   "outputs": [],
   "source": [
    "beta = 0.5\n",
    "PT = np.zeros_like(P)\n",
    "PT[1:] = P[:-1] + beta * (P[1:]-P[:-1])"
   ]
  }
 ],
 "metadata": {
  "kernelspec": {
   "display_name": "Python 3.8.7 64-bit",
   "language": "python",
   "name": "python3"
  },
  "language_info": {
   "codemirror_mode": {
    "name": "ipython",
    "version": 3
   },
   "file_extension": ".py",
   "mimetype": "text/x-python",
   "name": "python",
   "nbconvert_exporter": "python",
   "pygments_lexer": "ipython3",
   "version": "3.8.7"
  },
  "orig_nbformat": 4,
  "vscode": {
   "interpreter": {
    "hash": "570feb405e2e27c949193ac68f46852414290d515b0ba6e5d90d076ed2284471"
   }
  }
 },
 "nbformat": 4,
 "nbformat_minor": 2
}
