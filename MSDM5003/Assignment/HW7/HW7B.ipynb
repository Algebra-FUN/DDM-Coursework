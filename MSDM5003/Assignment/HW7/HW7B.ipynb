{
 "cells": [
  {
   "cell_type": "markdown",
   "metadata": {},
   "source": [
    "# Problem Set 7B\n",
    "# 2. Portfolio Management with Principal Component Analysis"
   ]
  },
  {
   "cell_type": "code",
   "execution_count": 1,
   "metadata": {},
   "outputs": [],
   "source": [
    "import numpy as np\n",
    "import pandas as pd\n",
    "import yfinance as yf\n",
    "from matplotlib import pyplot as plt\n",
    "from IPython.display import Markdown"
   ]
  },
  {
   "cell_type": "markdown",
   "metadata": {},
   "source": [
    "> Here we use yfinance package to download stock data from Yahoo!Finance"
   ]
  },
  {
   "cell_type": "markdown",
   "metadata": {},
   "source": [
    "### (1)  Download  from  Yahoo!Finance  the  daily  closing  price  of  the  \n",
    "following  constituents  of  S&P \n",
    "500:MSFT, AAPL, AMZN, GOOGL, TSLA, GOOG, FB, NVDA, BRK-B, JPM\n",
    "Also download the daily closing price of S&P 500 (^GSPC).\n",
    "The period is from 28 November 2021 to 27 November 2022. (In Yahoo!Finance you need to type \n",
    "the end date as 11/28/2022.) Calculate the return 𝑅𝑖(𝑡) of the stock 𝑖 on day 𝑡 from 28 November \n",
    "2021 to 27 November 2022 using the formula\n",
    "𝑅𝑖(𝑡) = ln 𝑥𝑖(𝑡 + 1) ― ln 𝑥𝑖(𝑡),\n",
    "where 𝑥𝑖(𝑡) is the stock price on day 𝑡."
   ]
  },
  {
   "cell_type": "code",
   "execution_count": 2,
   "metadata": {},
   "outputs": [
    {
     "name": "stdout",
     "output_type": "stream",
     "text": [
      "[*********************100%***********************]  1 of 1 completed\n",
      "[*********************100%***********************]  1 of 1 completed\n",
      "[*********************100%***********************]  1 of 1 completed\n",
      "[*********************100%***********************]  1 of 1 completed\n",
      "[*********************100%***********************]  1 of 1 completed\n",
      "[*********************100%***********************]  1 of 1 completed\n",
      "[*********************100%***********************]  1 of 1 completed\n",
      "[*********************100%***********************]  1 of 1 completed\n",
      "[*********************100%***********************]  1 of 1 completed\n",
      "[*********************100%***********************]  1 of 1 completed\n",
      "[*********************100%***********************]  1 of 1 completed\n"
     ]
    },
    {
     "data": {
      "text/html": [
       "<div>\n",
       "<style scoped>\n",
       "    .dataframe tbody tr th:only-of-type {\n",
       "        vertical-align: middle;\n",
       "    }\n",
       "\n",
       "    .dataframe tbody tr th {\n",
       "        vertical-align: top;\n",
       "    }\n",
       "\n",
       "    .dataframe thead th {\n",
       "        text-align: right;\n",
       "    }\n",
       "</style>\n",
       "<table border=\"1\" class=\"dataframe\">\n",
       "  <thead>\n",
       "    <tr style=\"text-align: right;\">\n",
       "      <th></th>\n",
       "      <th>^GSPC</th>\n",
       "      <th>MSFT</th>\n",
       "      <th>AAPL</th>\n",
       "      <th>AMZN</th>\n",
       "      <th>GOOGL</th>\n",
       "      <th>TSLA</th>\n",
       "      <th>GOOG</th>\n",
       "      <th>META</th>\n",
       "      <th>NVDA</th>\n",
       "      <th>BRK-B</th>\n",
       "      <th>JPM</th>\n",
       "    </tr>\n",
       "    <tr>\n",
       "      <th>Date</th>\n",
       "      <th></th>\n",
       "      <th></th>\n",
       "      <th></th>\n",
       "      <th></th>\n",
       "      <th></th>\n",
       "      <th></th>\n",
       "      <th></th>\n",
       "      <th></th>\n",
       "      <th></th>\n",
       "      <th></th>\n",
       "      <th></th>\n",
       "    </tr>\n",
       "  </thead>\n",
       "  <tbody>\n",
       "    <tr>\n",
       "      <th>2021-11-29</th>\n",
       "      <td>4655.270020</td>\n",
       "      <td>333.504974</td>\n",
       "      <td>159.315369</td>\n",
       "      <td>178.078506</td>\n",
       "      <td>145.530502</td>\n",
       "      <td>378.996674</td>\n",
       "      <td>146.113998</td>\n",
       "      <td>338.029999</td>\n",
       "      <td>333.407349</td>\n",
       "      <td>282.119995</td>\n",
       "      <td>156.296783</td>\n",
       "    </tr>\n",
       "    <tr>\n",
       "      <th>2021-11-30</th>\n",
       "      <td>4567.000000</td>\n",
       "      <td>327.521057</td>\n",
       "      <td>164.346161</td>\n",
       "      <td>175.353500</td>\n",
       "      <td>141.897507</td>\n",
       "      <td>381.586670</td>\n",
       "      <td>142.451996</td>\n",
       "      <td>324.459991</td>\n",
       "      <td>326.414764</td>\n",
       "      <td>276.690002</td>\n",
       "      <td>153.970230</td>\n",
       "    </tr>\n",
       "    <tr>\n",
       "      <th>2021-12-01</th>\n",
       "      <td>4513.040039</td>\n",
       "      <td>327.015808</td>\n",
       "      <td>163.819244</td>\n",
       "      <td>172.186005</td>\n",
       "      <td>141.051498</td>\n",
       "      <td>365.000000</td>\n",
       "      <td>141.617996</td>\n",
       "      <td>310.600006</td>\n",
       "      <td>314.056335</td>\n",
       "      <td>275.000000</td>\n",
       "      <td>153.058975</td>\n",
       "    </tr>\n",
       "    <tr>\n",
       "      <th>2021-12-02</th>\n",
       "      <td>4577.100098</td>\n",
       "      <td>326.431305</td>\n",
       "      <td>162.815048</td>\n",
       "      <td>171.867996</td>\n",
       "      <td>142.966003</td>\n",
       "      <td>361.533325</td>\n",
       "      <td>143.776505</td>\n",
       "      <td>310.390015</td>\n",
       "      <td>320.959869</td>\n",
       "      <td>279.089996</td>\n",
       "      <td>156.277405</td>\n",
       "    </tr>\n",
       "    <tr>\n",
       "      <th>2021-12-03</th>\n",
       "      <td>4538.430176</td>\n",
       "      <td>320.011444</td>\n",
       "      <td>160.906128</td>\n",
       "      <td>169.489502</td>\n",
       "      <td>142.001495</td>\n",
       "      <td>338.323334</td>\n",
       "      <td>142.520493</td>\n",
       "      <td>306.839996</td>\n",
       "      <td>306.643250</td>\n",
       "      <td>277.429993</td>\n",
       "      <td>153.446732</td>\n",
       "    </tr>\n",
       "    <tr>\n",
       "      <th>...</th>\n",
       "      <td>...</td>\n",
       "      <td>...</td>\n",
       "      <td>...</td>\n",
       "      <td>...</td>\n",
       "      <td>...</td>\n",
       "      <td>...</td>\n",
       "      <td>...</td>\n",
       "      <td>...</td>\n",
       "      <td>...</td>\n",
       "      <td>...</td>\n",
       "      <td>...</td>\n",
       "    </tr>\n",
       "    <tr>\n",
       "      <th>2022-11-18</th>\n",
       "      <td>3965.340088</td>\n",
       "      <td>241.220001</td>\n",
       "      <td>151.289993</td>\n",
       "      <td>94.139999</td>\n",
       "      <td>97.430000</td>\n",
       "      <td>180.190002</td>\n",
       "      <td>97.800003</td>\n",
       "      <td>112.050003</td>\n",
       "      <td>154.050583</td>\n",
       "      <td>310.760010</td>\n",
       "      <td>133.839996</td>\n",
       "    </tr>\n",
       "    <tr>\n",
       "      <th>2022-11-21</th>\n",
       "      <td>3949.939941</td>\n",
       "      <td>242.050003</td>\n",
       "      <td>148.009995</td>\n",
       "      <td>92.459999</td>\n",
       "      <td>95.599998</td>\n",
       "      <td>167.869995</td>\n",
       "      <td>95.830002</td>\n",
       "      <td>109.860001</td>\n",
       "      <td>153.130829</td>\n",
       "      <td>311.200012</td>\n",
       "      <td>133.050003</td>\n",
       "    </tr>\n",
       "    <tr>\n",
       "      <th>2022-11-22</th>\n",
       "      <td>4003.580078</td>\n",
       "      <td>245.029999</td>\n",
       "      <td>150.179993</td>\n",
       "      <td>93.199997</td>\n",
       "      <td>97.050003</td>\n",
       "      <td>169.910004</td>\n",
       "      <td>97.330002</td>\n",
       "      <td>111.440002</td>\n",
       "      <td>160.338989</td>\n",
       "      <td>315.760010</td>\n",
       "      <td>135.039993</td>\n",
       "    </tr>\n",
       "    <tr>\n",
       "      <th>2022-11-23</th>\n",
       "      <td>4027.260010</td>\n",
       "      <td>247.580002</td>\n",
       "      <td>151.070007</td>\n",
       "      <td>94.129997</td>\n",
       "      <td>98.459999</td>\n",
       "      <td>183.199997</td>\n",
       "      <td>98.820000</td>\n",
       "      <td>112.239998</td>\n",
       "      <td>165.147751</td>\n",
       "      <td>316.179993</td>\n",
       "      <td>136.479996</td>\n",
       "    </tr>\n",
       "    <tr>\n",
       "      <th>2022-11-25</th>\n",
       "      <td>4026.120117</td>\n",
       "      <td>247.490005</td>\n",
       "      <td>148.110001</td>\n",
       "      <td>93.410004</td>\n",
       "      <td>97.459999</td>\n",
       "      <td>182.860001</td>\n",
       "      <td>97.599998</td>\n",
       "      <td>111.410004</td>\n",
       "      <td>162.658386</td>\n",
       "      <td>317.429993</td>\n",
       "      <td>136.740005</td>\n",
       "    </tr>\n",
       "  </tbody>\n",
       "</table>\n",
       "<p>251 rows × 11 columns</p>\n",
       "</div>"
      ],
      "text/plain": [
       "                  ^GSPC        MSFT        AAPL        AMZN       GOOGL  \\\n",
       "Date                                                                      \n",
       "2021-11-29  4655.270020  333.504974  159.315369  178.078506  145.530502   \n",
       "2021-11-30  4567.000000  327.521057  164.346161  175.353500  141.897507   \n",
       "2021-12-01  4513.040039  327.015808  163.819244  172.186005  141.051498   \n",
       "2021-12-02  4577.100098  326.431305  162.815048  171.867996  142.966003   \n",
       "2021-12-03  4538.430176  320.011444  160.906128  169.489502  142.001495   \n",
       "...                 ...         ...         ...         ...         ...   \n",
       "2022-11-18  3965.340088  241.220001  151.289993   94.139999   97.430000   \n",
       "2022-11-21  3949.939941  242.050003  148.009995   92.459999   95.599998   \n",
       "2022-11-22  4003.580078  245.029999  150.179993   93.199997   97.050003   \n",
       "2022-11-23  4027.260010  247.580002  151.070007   94.129997   98.459999   \n",
       "2022-11-25  4026.120117  247.490005  148.110001   93.410004   97.459999   \n",
       "\n",
       "                  TSLA        GOOG        META        NVDA       BRK-B  \\\n",
       "Date                                                                     \n",
       "2021-11-29  378.996674  146.113998  338.029999  333.407349  282.119995   \n",
       "2021-11-30  381.586670  142.451996  324.459991  326.414764  276.690002   \n",
       "2021-12-01  365.000000  141.617996  310.600006  314.056335  275.000000   \n",
       "2021-12-02  361.533325  143.776505  310.390015  320.959869  279.089996   \n",
       "2021-12-03  338.323334  142.520493  306.839996  306.643250  277.429993   \n",
       "...                ...         ...         ...         ...         ...   \n",
       "2022-11-18  180.190002   97.800003  112.050003  154.050583  310.760010   \n",
       "2022-11-21  167.869995   95.830002  109.860001  153.130829  311.200012   \n",
       "2022-11-22  169.910004   97.330002  111.440002  160.338989  315.760010   \n",
       "2022-11-23  183.199997   98.820000  112.239998  165.147751  316.179993   \n",
       "2022-11-25  182.860001   97.599998  111.410004  162.658386  317.429993   \n",
       "\n",
       "                   JPM  \n",
       "Date                    \n",
       "2021-11-29  156.296783  \n",
       "2021-11-30  153.970230  \n",
       "2021-12-01  153.058975  \n",
       "2021-12-02  156.277405  \n",
       "2021-12-03  153.446732  \n",
       "...                ...  \n",
       "2022-11-18  133.839996  \n",
       "2022-11-21  133.050003  \n",
       "2022-11-22  135.039993  \n",
       "2022-11-23  136.479996  \n",
       "2022-11-25  136.740005  \n",
       "\n",
       "[251 rows x 11 columns]"
      ]
     },
     "execution_count": 2,
     "metadata": {},
     "output_type": "execute_result"
    }
   ],
   "source": [
    "data = yf.download(\"^GSPC\", start=\"2021-11-28\",\n",
    "                   end=\"2022-11-28\", threads=False)\n",
    "price_df = pd.DataFrame(index=data.index)\n",
    "price_df[\"^GSPC\"] = data[\"Adj Close\"]\n",
    "stock_names = \"MSFT, AAPL, AMZN, GOOGL, TSLA, GOOG, META, NVDA, BRK-B, JPM\".split(\n",
    "    \", \")\n",
    "for stock_name in stock_names:\n",
    "    data = yf.download(stock_name, start=\"2021-11-28\",\n",
    "                       end=\"2022-11-28\", threads=False)\n",
    "    price_df[stock_name] = data[\"Adj Close\"]\n",
    "price_df.to_csv(\"data/S&P500.csv\")\n",
    "price_df"
   ]
  },
  {
   "cell_type": "code",
   "execution_count": 3,
   "metadata": {},
   "outputs": [
    {
     "data": {
      "text/html": [
       "<div>\n",
       "<style scoped>\n",
       "    .dataframe tbody tr th:only-of-type {\n",
       "        vertical-align: middle;\n",
       "    }\n",
       "\n",
       "    .dataframe tbody tr th {\n",
       "        vertical-align: top;\n",
       "    }\n",
       "\n",
       "    .dataframe thead th {\n",
       "        text-align: right;\n",
       "    }\n",
       "</style>\n",
       "<table border=\"1\" class=\"dataframe\">\n",
       "  <thead>\n",
       "    <tr style=\"text-align: right;\">\n",
       "      <th></th>\n",
       "      <th>^GSPC</th>\n",
       "      <th>MSFT</th>\n",
       "      <th>AAPL</th>\n",
       "      <th>AMZN</th>\n",
       "      <th>GOOGL</th>\n",
       "      <th>TSLA</th>\n",
       "      <th>GOOG</th>\n",
       "      <th>META</th>\n",
       "      <th>NVDA</th>\n",
       "      <th>BRK-B</th>\n",
       "      <th>JPM</th>\n",
       "    </tr>\n",
       "    <tr>\n",
       "      <th>Date</th>\n",
       "      <th></th>\n",
       "      <th></th>\n",
       "      <th></th>\n",
       "      <th></th>\n",
       "      <th></th>\n",
       "      <th></th>\n",
       "      <th></th>\n",
       "      <th></th>\n",
       "      <th></th>\n",
       "      <th></th>\n",
       "      <th></th>\n",
       "    </tr>\n",
       "  </thead>\n",
       "  <tbody>\n",
       "    <tr>\n",
       "      <th>2021-11-29</th>\n",
       "      <td>NaN</td>\n",
       "      <td>NaN</td>\n",
       "      <td>NaN</td>\n",
       "      <td>NaN</td>\n",
       "      <td>NaN</td>\n",
       "      <td>NaN</td>\n",
       "      <td>NaN</td>\n",
       "      <td>NaN</td>\n",
       "      <td>NaN</td>\n",
       "      <td>NaN</td>\n",
       "      <td>NaN</td>\n",
       "    </tr>\n",
       "    <tr>\n",
       "      <th>2021-11-30</th>\n",
       "      <td>-0.019143</td>\n",
       "      <td>-0.018105</td>\n",
       "      <td>0.031089</td>\n",
       "      <td>-0.015421</td>\n",
       "      <td>-0.025281</td>\n",
       "      <td>0.006811</td>\n",
       "      <td>-0.025382</td>\n",
       "      <td>-0.040972</td>\n",
       "      <td>-0.021196</td>\n",
       "      <td>-0.019435</td>\n",
       "      <td>-0.014997</td>\n",
       "    </tr>\n",
       "    <tr>\n",
       "      <th>2021-12-01</th>\n",
       "      <td>-0.011886</td>\n",
       "      <td>-0.001544</td>\n",
       "      <td>-0.003211</td>\n",
       "      <td>-0.018229</td>\n",
       "      <td>-0.005980</td>\n",
       "      <td>-0.044441</td>\n",
       "      <td>-0.005872</td>\n",
       "      <td>-0.043656</td>\n",
       "      <td>-0.038596</td>\n",
       "      <td>-0.006127</td>\n",
       "      <td>-0.005936</td>\n",
       "    </tr>\n",
       "    <tr>\n",
       "      <th>2021-12-02</th>\n",
       "      <td>0.014095</td>\n",
       "      <td>-0.001789</td>\n",
       "      <td>-0.006149</td>\n",
       "      <td>-0.001849</td>\n",
       "      <td>0.013482</td>\n",
       "      <td>-0.009543</td>\n",
       "      <td>0.015127</td>\n",
       "      <td>-0.000676</td>\n",
       "      <td>0.021744</td>\n",
       "      <td>0.014763</td>\n",
       "      <td>0.020809</td>\n",
       "    </tr>\n",
       "    <tr>\n",
       "      <th>2021-12-03</th>\n",
       "      <td>-0.008484</td>\n",
       "      <td>-0.019863</td>\n",
       "      <td>-0.011794</td>\n",
       "      <td>-0.013936</td>\n",
       "      <td>-0.006769</td>\n",
       "      <td>-0.066352</td>\n",
       "      <td>-0.008774</td>\n",
       "      <td>-0.011503</td>\n",
       "      <td>-0.045631</td>\n",
       "      <td>-0.005966</td>\n",
       "      <td>-0.018279</td>\n",
       "    </tr>\n",
       "    <tr>\n",
       "      <th>...</th>\n",
       "      <td>...</td>\n",
       "      <td>...</td>\n",
       "      <td>...</td>\n",
       "      <td>...</td>\n",
       "      <td>...</td>\n",
       "      <td>...</td>\n",
       "      <td>...</td>\n",
       "      <td>...</td>\n",
       "      <td>...</td>\n",
       "      <td>...</td>\n",
       "      <td>...</td>\n",
       "    </tr>\n",
       "    <tr>\n",
       "      <th>2022-11-18</th>\n",
       "      <td>0.004747</td>\n",
       "      <td>-0.001905</td>\n",
       "      <td>0.003775</td>\n",
       "      <td>-0.007514</td>\n",
       "      <td>-0.009500</td>\n",
       "      <td>-0.016403</td>\n",
       "      <td>-0.007132</td>\n",
       "      <td>0.005369</td>\n",
       "      <td>-0.017243</td>\n",
       "      <td>0.010741</td>\n",
       "      <td>0.009761</td>\n",
       "    </tr>\n",
       "    <tr>\n",
       "      <th>2022-11-21</th>\n",
       "      <td>-0.003891</td>\n",
       "      <td>0.003435</td>\n",
       "      <td>-0.021919</td>\n",
       "      <td>-0.018007</td>\n",
       "      <td>-0.018961</td>\n",
       "      <td>-0.070822</td>\n",
       "      <td>-0.020349</td>\n",
       "      <td>-0.019738</td>\n",
       "      <td>-0.005988</td>\n",
       "      <td>0.001415</td>\n",
       "      <td>-0.005920</td>\n",
       "    </tr>\n",
       "    <tr>\n",
       "      <th>2022-11-22</th>\n",
       "      <td>0.013489</td>\n",
       "      <td>0.012236</td>\n",
       "      <td>0.014555</td>\n",
       "      <td>0.007972</td>\n",
       "      <td>0.015054</td>\n",
       "      <td>0.012079</td>\n",
       "      <td>0.015531</td>\n",
       "      <td>0.014280</td>\n",
       "      <td>0.045998</td>\n",
       "      <td>0.014547</td>\n",
       "      <td>0.014846</td>\n",
       "    </tr>\n",
       "    <tr>\n",
       "      <th>2022-11-23</th>\n",
       "      <td>0.005897</td>\n",
       "      <td>0.010353</td>\n",
       "      <td>0.005909</td>\n",
       "      <td>0.009929</td>\n",
       "      <td>0.014424</td>\n",
       "      <td>0.075310</td>\n",
       "      <td>0.015193</td>\n",
       "      <td>0.007153</td>\n",
       "      <td>0.029550</td>\n",
       "      <td>0.001329</td>\n",
       "      <td>0.010607</td>\n",
       "    </tr>\n",
       "    <tr>\n",
       "      <th>2022-11-25</th>\n",
       "      <td>-0.000283</td>\n",
       "      <td>-0.000364</td>\n",
       "      <td>-0.019788</td>\n",
       "      <td>-0.007678</td>\n",
       "      <td>-0.010208</td>\n",
       "      <td>-0.001858</td>\n",
       "      <td>-0.012423</td>\n",
       "      <td>-0.007422</td>\n",
       "      <td>-0.015188</td>\n",
       "      <td>0.003946</td>\n",
       "      <td>0.001903</td>\n",
       "    </tr>\n",
       "  </tbody>\n",
       "</table>\n",
       "<p>251 rows × 11 columns</p>\n",
       "</div>"
      ],
      "text/plain": [
       "               ^GSPC      MSFT      AAPL      AMZN     GOOGL      TSLA  \\\n",
       "Date                                                                     \n",
       "2021-11-29       NaN       NaN       NaN       NaN       NaN       NaN   \n",
       "2021-11-30 -0.019143 -0.018105  0.031089 -0.015421 -0.025281  0.006811   \n",
       "2021-12-01 -0.011886 -0.001544 -0.003211 -0.018229 -0.005980 -0.044441   \n",
       "2021-12-02  0.014095 -0.001789 -0.006149 -0.001849  0.013482 -0.009543   \n",
       "2021-12-03 -0.008484 -0.019863 -0.011794 -0.013936 -0.006769 -0.066352   \n",
       "...              ...       ...       ...       ...       ...       ...   \n",
       "2022-11-18  0.004747 -0.001905  0.003775 -0.007514 -0.009500 -0.016403   \n",
       "2022-11-21 -0.003891  0.003435 -0.021919 -0.018007 -0.018961 -0.070822   \n",
       "2022-11-22  0.013489  0.012236  0.014555  0.007972  0.015054  0.012079   \n",
       "2022-11-23  0.005897  0.010353  0.005909  0.009929  0.014424  0.075310   \n",
       "2022-11-25 -0.000283 -0.000364 -0.019788 -0.007678 -0.010208 -0.001858   \n",
       "\n",
       "                GOOG      META      NVDA     BRK-B       JPM  \n",
       "Date                                                          \n",
       "2021-11-29       NaN       NaN       NaN       NaN       NaN  \n",
       "2021-11-30 -0.025382 -0.040972 -0.021196 -0.019435 -0.014997  \n",
       "2021-12-01 -0.005872 -0.043656 -0.038596 -0.006127 -0.005936  \n",
       "2021-12-02  0.015127 -0.000676  0.021744  0.014763  0.020809  \n",
       "2021-12-03 -0.008774 -0.011503 -0.045631 -0.005966 -0.018279  \n",
       "...              ...       ...       ...       ...       ...  \n",
       "2022-11-18 -0.007132  0.005369 -0.017243  0.010741  0.009761  \n",
       "2022-11-21 -0.020349 -0.019738 -0.005988  0.001415 -0.005920  \n",
       "2022-11-22  0.015531  0.014280  0.045998  0.014547  0.014846  \n",
       "2022-11-23  0.015193  0.007153  0.029550  0.001329  0.010607  \n",
       "2022-11-25 -0.012423 -0.007422 -0.015188  0.003946  0.001903  \n",
       "\n",
       "[251 rows x 11 columns]"
      ]
     },
     "execution_count": 3,
     "metadata": {},
     "output_type": "execute_result"
    }
   ],
   "source": [
    "return_df = price_df.apply(np.log).diff()\n",
    "return_df"
   ]
  },
  {
   "cell_type": "markdown",
   "metadata": {},
   "source": [
    "### (2) Construct and output the correlation matrix of the 10 stocks."
   ]
  },
  {
   "cell_type": "code",
   "execution_count": 4,
   "metadata": {},
   "outputs": [
    {
     "data": {
      "text/html": [
       "<div>\n",
       "<style scoped>\n",
       "    .dataframe tbody tr th:only-of-type {\n",
       "        vertical-align: middle;\n",
       "    }\n",
       "\n",
       "    .dataframe tbody tr th {\n",
       "        vertical-align: top;\n",
       "    }\n",
       "\n",
       "    .dataframe thead th {\n",
       "        text-align: right;\n",
       "    }\n",
       "</style>\n",
       "<table border=\"1\" class=\"dataframe\">\n",
       "  <thead>\n",
       "    <tr style=\"text-align: right;\">\n",
       "      <th></th>\n",
       "      <th>MSFT</th>\n",
       "      <th>AAPL</th>\n",
       "      <th>AMZN</th>\n",
       "      <th>GOOGL</th>\n",
       "      <th>TSLA</th>\n",
       "      <th>GOOG</th>\n",
       "      <th>META</th>\n",
       "      <th>NVDA</th>\n",
       "      <th>BRK-B</th>\n",
       "      <th>JPM</th>\n",
       "    </tr>\n",
       "  </thead>\n",
       "  <tbody>\n",
       "    <tr>\n",
       "      <th>MSFT</th>\n",
       "      <td>1.000000</td>\n",
       "      <td>0.810413</td>\n",
       "      <td>0.729019</td>\n",
       "      <td>0.844061</td>\n",
       "      <td>0.576430</td>\n",
       "      <td>0.839346</td>\n",
       "      <td>0.594170</td>\n",
       "      <td>0.771785</td>\n",
       "      <td>0.610831</td>\n",
       "      <td>0.512967</td>\n",
       "    </tr>\n",
       "    <tr>\n",
       "      <th>AAPL</th>\n",
       "      <td>0.810413</td>\n",
       "      <td>1.000000</td>\n",
       "      <td>0.683967</td>\n",
       "      <td>0.776904</td>\n",
       "      <td>0.668603</td>\n",
       "      <td>0.769650</td>\n",
       "      <td>0.556775</td>\n",
       "      <td>0.748972</td>\n",
       "      <td>0.641247</td>\n",
       "      <td>0.528112</td>\n",
       "    </tr>\n",
       "    <tr>\n",
       "      <th>AMZN</th>\n",
       "      <td>0.729019</td>\n",
       "      <td>0.683967</td>\n",
       "      <td>1.000000</td>\n",
       "      <td>0.717235</td>\n",
       "      <td>0.601187</td>\n",
       "      <td>0.719412</td>\n",
       "      <td>0.589946</td>\n",
       "      <td>0.697680</td>\n",
       "      <td>0.544159</td>\n",
       "      <td>0.496756</td>\n",
       "    </tr>\n",
       "    <tr>\n",
       "      <th>GOOGL</th>\n",
       "      <td>0.844061</td>\n",
       "      <td>0.776904</td>\n",
       "      <td>0.717235</td>\n",
       "      <td>1.000000</td>\n",
       "      <td>0.564512</td>\n",
       "      <td>0.997506</td>\n",
       "      <td>0.647684</td>\n",
       "      <td>0.765353</td>\n",
       "      <td>0.609479</td>\n",
       "      <td>0.516643</td>\n",
       "    </tr>\n",
       "    <tr>\n",
       "      <th>TSLA</th>\n",
       "      <td>0.576430</td>\n",
       "      <td>0.668603</td>\n",
       "      <td>0.601187</td>\n",
       "      <td>0.564512</td>\n",
       "      <td>1.000000</td>\n",
       "      <td>0.558566</td>\n",
       "      <td>0.392082</td>\n",
       "      <td>0.690754</td>\n",
       "      <td>0.398875</td>\n",
       "      <td>0.382005</td>\n",
       "    </tr>\n",
       "    <tr>\n",
       "      <th>GOOG</th>\n",
       "      <td>0.839346</td>\n",
       "      <td>0.769650</td>\n",
       "      <td>0.719412</td>\n",
       "      <td>0.997506</td>\n",
       "      <td>0.558566</td>\n",
       "      <td>1.000000</td>\n",
       "      <td>0.649263</td>\n",
       "      <td>0.761417</td>\n",
       "      <td>0.605628</td>\n",
       "      <td>0.513054</td>\n",
       "    </tr>\n",
       "    <tr>\n",
       "      <th>META</th>\n",
       "      <td>0.594170</td>\n",
       "      <td>0.556775</td>\n",
       "      <td>0.589946</td>\n",
       "      <td>0.647684</td>\n",
       "      <td>0.392082</td>\n",
       "      <td>0.649263</td>\n",
       "      <td>1.000000</td>\n",
       "      <td>0.564882</td>\n",
       "      <td>0.411686</td>\n",
       "      <td>0.378477</td>\n",
       "    </tr>\n",
       "    <tr>\n",
       "      <th>NVDA</th>\n",
       "      <td>0.771785</td>\n",
       "      <td>0.748972</td>\n",
       "      <td>0.697680</td>\n",
       "      <td>0.765353</td>\n",
       "      <td>0.690754</td>\n",
       "      <td>0.761417</td>\n",
       "      <td>0.564882</td>\n",
       "      <td>1.000000</td>\n",
       "      <td>0.551854</td>\n",
       "      <td>0.521554</td>\n",
       "    </tr>\n",
       "    <tr>\n",
       "      <th>BRK-B</th>\n",
       "      <td>0.610831</td>\n",
       "      <td>0.641247</td>\n",
       "      <td>0.544159</td>\n",
       "      <td>0.609479</td>\n",
       "      <td>0.398875</td>\n",
       "      <td>0.605628</td>\n",
       "      <td>0.411686</td>\n",
       "      <td>0.551854</td>\n",
       "      <td>1.000000</td>\n",
       "      <td>0.706998</td>\n",
       "    </tr>\n",
       "    <tr>\n",
       "      <th>JPM</th>\n",
       "      <td>0.512967</td>\n",
       "      <td>0.528112</td>\n",
       "      <td>0.496756</td>\n",
       "      <td>0.516643</td>\n",
       "      <td>0.382005</td>\n",
       "      <td>0.513054</td>\n",
       "      <td>0.378477</td>\n",
       "      <td>0.521554</td>\n",
       "      <td>0.706998</td>\n",
       "      <td>1.000000</td>\n",
       "    </tr>\n",
       "  </tbody>\n",
       "</table>\n",
       "</div>"
      ],
      "text/plain": [
       "           MSFT      AAPL      AMZN     GOOGL      TSLA      GOOG      META  \\\n",
       "MSFT   1.000000  0.810413  0.729019  0.844061  0.576430  0.839346  0.594170   \n",
       "AAPL   0.810413  1.000000  0.683967  0.776904  0.668603  0.769650  0.556775   \n",
       "AMZN   0.729019  0.683967  1.000000  0.717235  0.601187  0.719412  0.589946   \n",
       "GOOGL  0.844061  0.776904  0.717235  1.000000  0.564512  0.997506  0.647684   \n",
       "TSLA   0.576430  0.668603  0.601187  0.564512  1.000000  0.558566  0.392082   \n",
       "GOOG   0.839346  0.769650  0.719412  0.997506  0.558566  1.000000  0.649263   \n",
       "META   0.594170  0.556775  0.589946  0.647684  0.392082  0.649263  1.000000   \n",
       "NVDA   0.771785  0.748972  0.697680  0.765353  0.690754  0.761417  0.564882   \n",
       "BRK-B  0.610831  0.641247  0.544159  0.609479  0.398875  0.605628  0.411686   \n",
       "JPM    0.512967  0.528112  0.496756  0.516643  0.382005  0.513054  0.378477   \n",
       "\n",
       "           NVDA     BRK-B       JPM  \n",
       "MSFT   0.771785  0.610831  0.512967  \n",
       "AAPL   0.748972  0.641247  0.528112  \n",
       "AMZN   0.697680  0.544159  0.496756  \n",
       "GOOGL  0.765353  0.609479  0.516643  \n",
       "TSLA   0.690754  0.398875  0.382005  \n",
       "GOOG   0.761417  0.605628  0.513054  \n",
       "META   0.564882  0.411686  0.378477  \n",
       "NVDA   1.000000  0.551854  0.521554  \n",
       "BRK-B  0.551854  1.000000  0.706998  \n",
       "JPM    0.521554  0.706998  1.000000  "
      ]
     },
     "execution_count": 4,
     "metadata": {},
     "output_type": "execute_result"
    }
   ],
   "source": [
    "CMdf = return_df.loc[:,\"MSFT\":].corr()\n",
    "CMdf"
   ]
  },
  {
   "cell_type": "markdown",
   "metadata": {},
   "source": [
    "### (3) Compute and output the eigenvalues and eigenvectors of the correlation matrix, respectively."
   ]
  },
  {
   "cell_type": "code",
   "execution_count": 5,
   "metadata": {},
   "outputs": [
    {
     "name": "stdout",
     "output_type": "stream",
     "text": [
      "eigenvalues:\n",
      " [2.375e-03 1.510e-01 2.218e-01 2.406e-01 3.047e-01 3.295e-01 4.698e-01\n",
      " 6.763e-01 8.778e-01 6.726e+00]\n",
      "eigenvectors:\n",
      " [[ 8.328e-03  7.487e-01 -2.411e-01 -3.955e-01 -7.809e-02  7.331e-02\n",
      "   2.820e-01 -6.521e-02  9.336e-02  3.477e-01]\n",
      " [ 9.396e-03 -5.248e-01 -5.102e-01 -2.470e-01 -4.274e-01 -2.280e-01\n",
      "   1.566e-01  1.626e-01  3.444e-02  3.411e-01]\n",
      " [-9.917e-03 -1.489e-01 -6.892e-03  2.850e-02 -1.123e-01  8.850e-01\n",
      "  -2.548e-01  3.653e-02  1.086e-01  3.209e-01]\n",
      " [-7.122e-01 -1.009e-01  2.378e-02  3.438e-01  2.371e-01 -4.440e-02\n",
      "   3.362e-01 -2.232e-01  1.284e-01  3.554e-01]\n",
      " [ 3.828e-03  2.485e-01 -8.500e-03  4.249e-01 -1.973e-02 -2.114e-01\n",
      "  -2.742e-01  7.108e-01  2.386e-01  2.741e-01]\n",
      " [ 7.018e-01 -1.072e-01  3.307e-02  3.560e-01  2.440e-01 -2.966e-02\n",
      "   3.325e-01 -2.333e-01  1.315e-01  3.542e-01]\n",
      " [-1.872e-03  6.535e-02  1.036e-02  1.819e-03 -1.518e-01 -3.037e-01\n",
      "  -6.654e-01 -5.572e-01  2.304e-01  2.719e-01]\n",
      " [ 1.380e-03 -2.145e-01  5.756e-01 -5.718e-01  3.235e-01 -1.259e-01\n",
      "  -2.576e-02  2.123e-01  1.294e-01  3.358e-01]\n",
      " [ 6.343e-04  9.105e-02  4.768e-01  1.682e-01 -5.433e-01 -5.498e-02\n",
      "   1.035e-01 -3.019e-02 -5.880e-01  2.837e-01]\n",
      " [ 1.673e-03  2.382e-03 -3.478e-01 -3.270e-02  5.094e-01 -2.744e-02\n",
      "  -2.795e-01  4.456e-02 -6.870e-01  2.561e-01]]\n"
     ]
    }
   ],
   "source": [
    "CM = CMdf.to_numpy()\n",
    "eigvals,eigvecs = np.linalg.eigh(CM)\n",
    "with np.printoptions(precision=3):\n",
    "    print(\"eigenvalues:\\n\",eigvals)\n",
    "    print(\"eigenvectors:\\n\",eigvecs)"
   ]
  },
  {
   "cell_type": "markdown",
   "metadata": {},
   "source": [
    "### (4) Sort the eigenvalues and eigenvectors in descending magnitude of the eigenvalues. \n",
    "Output \n",
    "the sorted eigenvalues and eigenvectors."
   ]
  },
  {
   "cell_type": "code",
   "execution_count": 6,
   "metadata": {},
   "outputs": [
    {
     "name": "stdout",
     "output_type": "stream",
     "text": [
      "eigenvalues:\n",
      " [6.726e+00 8.778e-01 6.763e-01 4.698e-01 3.295e-01 3.047e-01 2.406e-01\n",
      " 2.218e-01 1.510e-01 2.375e-03]\n",
      "eigenvectors:\n",
      " [[ 3.477e-01  9.336e-02 -6.521e-02  2.820e-01  7.331e-02 -7.809e-02\n",
      "  -3.955e-01 -2.411e-01  7.487e-01  8.328e-03]\n",
      " [ 3.411e-01  3.444e-02  1.626e-01  1.566e-01 -2.280e-01 -4.274e-01\n",
      "  -2.470e-01 -5.102e-01 -5.248e-01  9.396e-03]\n",
      " [ 3.209e-01  1.086e-01  3.653e-02 -2.548e-01  8.850e-01 -1.123e-01\n",
      "   2.850e-02 -6.892e-03 -1.489e-01 -9.917e-03]\n",
      " [ 3.554e-01  1.284e-01 -2.232e-01  3.362e-01 -4.440e-02  2.371e-01\n",
      "   3.438e-01  2.378e-02 -1.009e-01 -7.122e-01]\n",
      " [ 2.741e-01  2.386e-01  7.108e-01 -2.742e-01 -2.114e-01 -1.973e-02\n",
      "   4.249e-01 -8.500e-03  2.485e-01  3.828e-03]\n",
      " [ 3.542e-01  1.315e-01 -2.333e-01  3.325e-01 -2.966e-02  2.440e-01\n",
      "   3.560e-01  3.307e-02 -1.072e-01  7.018e-01]\n",
      " [ 2.719e-01  2.304e-01 -5.572e-01 -6.654e-01 -3.037e-01 -1.518e-01\n",
      "   1.819e-03  1.036e-02  6.535e-02 -1.872e-03]\n",
      " [ 3.358e-01  1.294e-01  2.123e-01 -2.576e-02 -1.259e-01  3.235e-01\n",
      "  -5.718e-01  5.756e-01 -2.145e-01  1.380e-03]\n",
      " [ 2.837e-01 -5.880e-01 -3.019e-02  1.035e-01 -5.498e-02 -5.433e-01\n",
      "   1.682e-01  4.768e-01  9.105e-02  6.343e-04]\n",
      " [ 2.561e-01 -6.870e-01  4.456e-02 -2.795e-01 -2.744e-02  5.094e-01\n",
      "  -3.270e-02 -3.478e-01  2.382e-03  1.673e-03]]\n"
     ]
    }
   ],
   "source": [
    "# since we use np.linalg.eigh here, so the eigenvalues is given in ascending order\n",
    "# we just need to reverse it to get in descending of eigenvalues.\n",
    "eigvals,eigvecs = eigvals[::-1], eigvecs[:,::-1]\n",
    "with np.printoptions(precision=3):\n",
    "    print(\"eigenvalues:\\n\",eigvals)\n",
    "    print(\"eigenvectors:\\n\",eigvecs)"
   ]
  },
  {
   "cell_type": "markdown",
   "metadata": {},
   "source": [
    "### (5) Plot the eigenvalues of the eigenmodes versus the eigenmode numbers."
   ]
  },
  {
   "cell_type": "code",
   "execution_count": 7,
   "metadata": {},
   "outputs": [
    {
     "data": {
      "image/png": "[encoded data removed]",
      "text/plain": [
       "<Figure size 432x288 with 1 Axes>"
      ]
     },
     "metadata": {
      "needs_background": "light"
     },
     "output_type": "display_data"
    }
   ],
   "source": [
    "p = len(eigvals)\n",
    "plt.plot(np.arange(p)+1,eigvals,marker='.')\n",
    "plt.grid(True)\n",
    "plt.xlabel(\"Component Number\")\n",
    "plt.ylabel(\"Eigenvalues\")\n",
    "plt.title(\"Scree plot\")\n",
    "plt.show()"
   ]
  },
  {
   "cell_type": "markdown",
   "metadata": {},
   "source": [
    "### (7)Compute the cumulative variance. \n",
    "Let 𝑁 be the number of first few principal portfolios whose \n",
    "cumulative variance corresponds to the 80% cutoff. Determine 𝑁."
   ]
  },
  {
   "cell_type": "code",
   "execution_count": 8,
   "metadata": {},
   "outputs": [
    {
     "data": {
      "image/png": "[encoded data removed]",
      "text/plain": [
       "<Figure size 432x288 with 1 Axes>"
      ]
     },
     "metadata": {
      "needs_background": "light"
     },
     "output_type": "display_data"
    }
   ],
   "source": [
    "CumVar = eigvals.cumsum()/p\n",
    "\n",
    "plt.plot(np.arange(p)+1,CumVar,marker='.')\n",
    "plt.xlabel(\"Component Number\")\n",
    "plt.ylabel(\"Cumulative Variance\")\n",
    "plt.grid(True)\n",
    "plt.show()"
   ]
  },
  {
   "cell_type": "code",
   "execution_count": 9,
   "metadata": {},
   "outputs": [
    {
     "data": {
      "text/markdown": [
       "$N=3$"
      ],
      "text/plain": [
       "<IPython.core.display.Markdown object>"
      ]
     },
     "execution_count": 9,
     "metadata": {},
     "output_type": "execute_result"
    }
   ],
   "source": [
    "N = np.argwhere(CumVar >= .8).T.flatten()[0] + 1\n",
    "Markdown(f\"$N={N}$\")"
   ]
  },
  {
   "cell_type": "markdown",
   "metadata": {},
   "source": [
    "### (8)  Plot  the  10  stocks  in  the  space  of  the  2nd  and  3rd  principal  components.  \n",
    "Comment  on  any \n",
    "clusters that you observe, and comment on the nature of the clusters."
   ]
  },
  {
   "cell_type": "code",
   "execution_count": 10,
   "metadata": {},
   "outputs": [
    {
     "data": {
      "image/png": "[encoded data removed]",
      "text/plain": [
       "<Figure size 432x288 with 1 Axes>"
      ]
     },
     "metadata": {
      "needs_background": "light"
     },
     "output_type": "display_data"
    }
   ],
   "source": [
    "u2 = eigvecs[:,1]\n",
    "u3 = eigvecs[:,2]\n",
    "\n",
    "for name,x,y in zip(stock_names,u2,u3):\n",
    "    plt.plot((0,y),(0,x),marker='s',label=name)\n",
    "plt.xlabel(\"Component 3\")\n",
    "plt.ylabel(\"Component 2\")\n",
    "plt.grid(True)\n",
    "plt.legend()\n",
    "plt.show()"
   ]
  },
  {
   "cell_type": "code",
   "execution_count": 11,
   "metadata": {},
   "outputs": [],
   "source": [
    "volumn_df = pd.DataFrame(columns=stock_names)"
   ]
  },
  {
   "cell_type": "markdown",
   "metadata": {},
   "source": [
    "Assume total capital is 1000."
   ]
  },
  {
   "cell_type": "code",
   "execution_count": 12,
   "metadata": {},
   "outputs": [],
   "source": [
    "total_capital = 1"
   ]
  },
  {
   "cell_type": "markdown",
   "metadata": {},
   "source": [
    "### (A) Stock investment with equal weight\n",
    "(9)  In  this  strategy,  the  capital  allocated  to  each  of  the  10  stocks  is  the  same.  \n",
    "Considering  the \n",
    "stock  price,  compute  the  volume  of  stocks  to  be  invested.  Then  compute  the  value  of  the \n",
    "portfolio during the period."
   ]
  },
  {
   "cell_type": "code",
   "execution_count": 13,
   "metadata": {},
   "outputs": [],
   "source": [
    "def portfolio(weight,name):\n",
    "    each_capital = total_capital*weight\n",
    "    volumn_df.loc[name] = each_capital/price_df.iloc[0][\"MSFT\":\"JPM\"]\n",
    "    price_df[name] = (volumn_df.loc[name].to_numpy()*price_df.loc[:,\"MSFT\":\"JPM\"]).sum(axis=1)\n",
    "    print(\"Volumn:\\n\",volumn_df.loc[name])\n",
    "    print(\"Value of portfolio:\\n\", price_df[name])"
   ]
  },
  {
   "cell_type": "code",
   "execution_count": 14,
   "metadata": {},
   "outputs": [
    {
     "name": "stdout",
     "output_type": "stream",
     "text": [
      "Volumn:\n",
      " MSFT     0.000300\n",
      "AAPL     0.000628\n",
      "AMZN     0.000562\n",
      "GOOGL    0.000687\n",
      "TSLA     0.000264\n",
      "GOOG     0.000684\n",
      "META     0.000296\n",
      "NVDA     0.000300\n",
      "BRK-B    0.000354\n",
      "JPM      0.000640\n",
      "Name: A, dtype: float64\n",
      "Value of portfolio:\n",
      " Date\n",
      "2021-11-29    1.000000\n",
      "2021-11-30    0.985989\n",
      "2021-12-01    0.969210\n",
      "2021-12-02    0.975622\n",
      "2021-12-03    0.955773\n",
      "                ...   \n",
      "2022-11-18    0.676718\n",
      "2022-11-21    0.666835\n",
      "2022-11-22    0.677587\n",
      "2022-11-23    0.687677\n",
      "2022-11-25    0.683393\n",
      "Name: A, Length: 251, dtype: float64\n"
     ]
    }
   ],
   "source": [
    "portfolio(1/p,'A')"
   ]
  },
  {
   "cell_type": "markdown",
   "metadata": {},
   "source": [
    "### (B) Risk Parity (or Equal Risk Contribution)\n",
    "(10) In this strategy, the risk of stock 𝑖 per unit of capital is estimated by its standard deviation 𝜎𝑖 \n",
    "(note that the risk correlations of the stocks are neglected). The capital allocated to each of the \n",
    "10 stocks is such that the risk of each stock is the same. Hence the capital allocated to each stock \n",
    "is proportional to 1/𝜎𝑖. Compute the weight of the stocks to be invested. Then compute the value \n",
    "of the portfolio during the period."
   ]
  },
  {
   "cell_type": "code",
   "execution_count": 15,
   "metadata": {},
   "outputs": [
    {
     "name": "stdout",
     "output_type": "stream",
     "text": [
      "Weight:\n",
      " MSFT     0.077503\n",
      "AAPL     0.182931\n",
      "AMZN     0.096603\n",
      "GOOGL    0.139030\n",
      "TSLA     0.045798\n",
      "GOOG     0.139722\n",
      "META     0.034017\n",
      "NVDA     0.040668\n",
      "BRK-B    0.098423\n",
      "JPM      0.145306\n",
      "dtype: float64\n",
      "Volumn:\n",
      " MSFT     0.000232\n",
      "AAPL     0.001148\n",
      "AMZN     0.000542\n",
      "GOOGL    0.000955\n",
      "TSLA     0.000121\n",
      "GOOG     0.000956\n",
      "META     0.000101\n",
      "NVDA     0.000122\n",
      "BRK-B    0.000349\n",
      "JPM      0.000930\n",
      "Name: B, dtype: float64\n",
      "Value of portfolio:\n",
      " Date\n",
      "2021-11-29    1.000000\n",
      "2021-11-30    0.989972\n",
      "2021-12-01    0.979583\n",
      "2021-12-02    0.986835\n",
      "2021-12-03    0.971620\n",
      "                ...   \n",
      "2022-11-18    0.752124\n",
      "2022-11-21    0.741605\n",
      "2022-11-22    0.752736\n",
      "2022-11-23    0.761385\n",
      "2022-11-25    0.755702\n",
      "Name: B, Length: 251, dtype: float64\n"
     ]
    }
   ],
   "source": [
    "weightB = 1/price_df.loc[:,\"MSFT\":\"JPM\"].std()\n",
    "weightB /= weightB.sum()\n",
    "print('Weight:\\n',weightB)\n",
    "portfolio(weightB,'B')"
   ]
  },
  {
   "cell_type": "markdown",
   "metadata": {},
   "source": [
    "### (C) Equal Weight Portfolio (or 1/N Strategy)\n",
    "(11) In this strategy, the first 𝑁 principal portfolios are selected, \n",
    "and equal weight is allocated to \n",
    "each of them. The first step is to determine the signs of the eigenvectors  $\\pm u_a$ to be adopted. \n",
    "We  will  consider  a  portfolio  with  equal  capital  allocated  to  the  10  stocks,  and  require  the \n",
    "projection of this portfolio to the principal eigenvectors to be positive. Compute the projections."
   ]
  },
  {
   "cell_type": "code",
   "execution_count": 16,
   "metadata": {},
   "outputs": [
    {
     "data": {
      "text/plain": [
       "array([ 3.14108355e-01, -1.80257638e-02,  5.76834180e-03, -2.88942527e-02,\n",
       "       -6.72502137e-03, -1.85266396e-03,  7.63043933e-03,  5.08308398e-04,\n",
       "        5.96901044e-03,  3.03709917e-04])"
      ]
     },
     "execution_count": 16,
     "metadata": {},
     "output_type": "execute_result"
    }
   ],
   "source": [
    "projs = np.einsum(\"i,ik->k\", np.ones(p)/p, eigvecs)\n",
    "projs"
   ]
  },
  {
   "cell_type": "markdown",
   "metadata": {},
   "source": [
    "(12) Compute the sign-corrected principal eigenvectors. Then compute the total weight of each \n",
    "stock contributed from the 𝑁 principal portfolios."
   ]
  },
  {
   "cell_type": "code",
   "execution_count": 17,
   "metadata": {},
   "outputs": [
    {
     "data": {
      "text/plain": [
       "array([[ 3.47731669e-01, -9.33573536e-02, -6.52090951e-02,\n",
       "        -2.82033773e-01, -7.33129835e-02,  7.80862721e-02,\n",
       "        -3.95469544e-01, -2.41140638e-01,  7.48655619e-01,\n",
       "         8.32789944e-03],\n",
       "       [ 3.41142544e-01, -3.44420634e-02,  1.62578378e-01,\n",
       "        -1.56578409e-01,  2.27996333e-01,  4.27427786e-01,\n",
       "        -2.47015816e-01, -5.10228452e-01, -5.24758961e-01,\n",
       "         9.39615370e-03],\n",
       "       [ 3.20929645e-01, -1.08646288e-01,  3.65280871e-02,\n",
       "         2.54799622e-01, -8.84991281e-01,  1.12302670e-01,\n",
       "         2.85002503e-02, -6.89192554e-03, -1.48873887e-01,\n",
       "        -9.91691295e-03],\n",
       "       [ 3.55417235e-01, -1.28384219e-01, -2.23216485e-01,\n",
       "        -3.36178200e-01,  4.43985682e-02, -2.37117980e-01,\n",
       "         3.43782674e-01,  2.37839612e-02, -1.00917152e-01,\n",
       "        -7.12195237e-01],\n",
       "       [ 2.74101097e-01, -2.38613304e-01,  7.10818565e-01,\n",
       "         2.74199436e-01,  2.11390116e-01,  1.97339194e-02,\n",
       "         4.24947685e-01, -8.50001021e-03,  2.48477908e-01,\n",
       "         3.82773973e-03],\n",
       "       [ 3.54234906e-01, -1.31483141e-01, -2.33275345e-01,\n",
       "        -3.32466017e-01,  2.96634299e-02, -2.44041874e-01,\n",
       "         3.56023935e-01,  3.30725078e-02, -1.07223563e-01,\n",
       "         7.01782513e-01],\n",
       "       [ 2.71905721e-01, -2.30402164e-01, -5.57225360e-01,\n",
       "         6.65426556e-01,  3.03742273e-01,  1.51806502e-01,\n",
       "         1.81924533e-03,  1.03640622e-02,  6.53506450e-02,\n",
       "        -1.87229678e-03],\n",
       "       [ 3.35765020e-01, -1.29443080e-01,  2.12316534e-01,\n",
       "         2.57565380e-02,  1.25940865e-01, -3.23525360e-01,\n",
       "        -5.71752993e-01,  5.75622407e-01, -2.14453552e-01,\n",
       "         1.38011408e-03],\n",
       "       [ 2.83720212e-01,  5.88032118e-01, -3.01930049e-02,\n",
       "        -1.03480109e-01,  5.49799230e-02,  5.43300978e-01,\n",
       "         1.68168399e-01,  4.76792766e-01,  9.10506470e-02,\n",
       "         6.34337230e-04],\n",
       "       [ 2.56135500e-01,  6.86997132e-01,  4.45611441e-02,\n",
       "         2.79496882e-01,  2.74429694e-02, -5.09446274e-01,\n",
       "        -3.26994411e-02, -3.47791594e-01,  2.38239955e-03,\n",
       "         1.67278924e-03]])"
      ]
     },
     "execution_count": 17,
     "metadata": {},
     "output_type": "execute_result"
    }
   ],
   "source": [
    "signed_eigenvecs = eigvecs*np.sign(projs)\n",
    "signed_eigenvecs"
   ]
  },
  {
   "cell_type": "code",
   "execution_count": 31,
   "metadata": {},
   "outputs": [
    {
     "data": {
      "text/plain": [
       "array([-0.51255716,  0.91199828,  0.04423164, -1.4895857 ,  3.69542746,\n",
       "       -1.55356852, -3.61722654,  1.02317155,  0.94302513,  1.55508386])"
      ]
     },
     "execution_count": 31,
     "metadata": {},
     "output_type": "execute_result"
    }
   ],
   "source": [
    "signed_principal_eigenvecs = signed_eigenvecs[:,:N].copy()\n",
    "signed_principal_eigenvecs /= signed_principal_eigenvecs.sum(axis=0)\n",
    "weightC = signed_principal_eigenvecs.sum(axis=1)/N\n",
    "# weightC /= weightC.sum()\n",
    "weightC"
   ]
  },
  {
   "cell_type": "markdown",
   "metadata": {},
   "source": [
    "(13)  Which  stocks  in  this  strategy  are  in  short  positions?  Compute  the  value  of  the  portfolio \n",
    "during the period. Note that the initial value is no longer equal to 1 due to the short-positioned \n",
    "stocks."
   ]
  },
  {
   "cell_type": "code",
   "execution_count": 32,
   "metadata": {},
   "outputs": [
    {
     "name": "stdout",
     "output_type": "stream",
     "text": [
      "Stocks MSFT, GOOGL, GOOG, META are in short positions.\n"
     ]
    }
   ],
   "source": [
    "short_stock = list(zip(*filter(lambda _: weightC[_[0]] < 0, enumerate(stock_names))))[-1]\n",
    "print(f\"Stocks {', '.join(short_stock)} are in short positions.\")"
   ]
  },
  {
   "cell_type": "code",
   "execution_count": 33,
   "metadata": {},
   "outputs": [
    {
     "name": "stdout",
     "output_type": "stream",
     "text": [
      "Volumn:\n",
      " MSFT    -0.001537\n",
      "AAPL     0.005724\n",
      "AMZN     0.000248\n",
      "GOOGL   -0.010236\n",
      "TSLA     0.009751\n",
      "GOOG    -0.010633\n",
      "META    -0.010701\n",
      "NVDA     0.003069\n",
      "BRK-B    0.003343\n",
      "JPM      0.009950\n",
      "Name: C, dtype: float64\n",
      "Value of portfolio:\n",
      " Date\n",
      "2021-11-29    1.000000\n",
      "2021-11-30    1.221148\n",
      "2021-12-01    1.169592\n",
      "2021-12-02    1.157441\n",
      "2021-12-03    0.913046\n",
      "                ...   \n",
      "2022-11-18    1.882676\n",
      "2022-11-21    1.795980\n",
      "2022-11-22    1.833362\n",
      "2022-11-23    1.956007\n",
      "2022-11-25    1.966922\n",
      "Name: C, Length: 251, dtype: float64\n"
     ]
    }
   ],
   "source": [
    "portfolio(weightC,'C')"
   ]
  },
  {
   "cell_type": "markdown",
   "metadata": {},
   "source": [
    "### (D) Diversified Risk Parity\n",
    "(14) In this strategy, the capital allocated to each of the 𝑁 principal portfolios are such that the \n",
    "risk of each portfolio is the same. Since the eigenvalue of each portfolio is the variance $\\lambda_a$, the \n",
    "capital allocated to each portfolio is proportional to $1/\\sqrt{\\lambda_a}$. Compute the volume of stocks to be \n",
    "acquired.  Which  stocks  in  this  strategy  are  in  short  positions?  Then  compute  the  value  of  the \n",
    "strategy during the period."
   ]
  },
  {
   "cell_type": "code",
   "execution_count": 34,
   "metadata": {},
   "outputs": [
    {
     "data": {
      "text/plain": [
       "array([-0.70617695,  1.22338677,  0.06223137, -2.03154012,  5.09754939,\n",
       "       -2.11791871, -4.89985508,  1.40522169,  1.0791839 ,  1.88791773])"
      ]
     },
     "execution_count": 34,
     "metadata": {},
     "output_type": "execute_result"
    }
   ],
   "source": [
    "weight_portfolio = 1/(eigvals[:N]**.5)\n",
    "weight_portfolio /= weight_portfolio.sum()\n",
    "weightD = np.einsum(\"k,ik->i\",weight_portfolio,signed_principal_eigenvecs)\n",
    "# weightD /= weightD.sum()\n",
    "weightD"
   ]
  },
  {
   "cell_type": "code",
   "execution_count": 35,
   "metadata": {},
   "outputs": [
    {
     "name": "stdout",
     "output_type": "stream",
     "text": [
      "Stocks MSFT, GOOGL, GOOG, META are in short positions.\n"
     ]
    }
   ],
   "source": [
    "short_stock = list(zip(*filter(lambda _: weightD[_[0]] < 0, enumerate(stock_names))))[-1]\n",
    "print(f\"Stocks {', '.join(short_stock)} are in short positions.\")"
   ]
  },
  {
   "cell_type": "code",
   "execution_count": 36,
   "metadata": {},
   "outputs": [
    {
     "name": "stdout",
     "output_type": "stream",
     "text": [
      "Volumn:\n",
      " MSFT    -0.002117\n",
      "AAPL     0.007679\n",
      "AMZN     0.000349\n",
      "GOOGL   -0.013960\n",
      "TSLA     0.013450\n",
      "GOOG    -0.014495\n",
      "META    -0.014495\n",
      "NVDA     0.004215\n",
      "BRK-B    0.003825\n",
      "JPM      0.012079\n",
      "Name: D, dtype: float64\n",
      "Value of portfolio:\n",
      " Date\n",
      "2021-11-29    1.000000\n",
      "2021-11-30    1.307337\n",
      "2021-12-01    1.235406\n",
      "2021-12-02    1.210842\n",
      "2021-12-03    0.879015\n",
      "                ...   \n",
      "2022-11-18    2.160259\n",
      "2022-11-21    2.041132\n",
      "2022-11-22    2.086156\n",
      "2022-11-23    2.253060\n",
      "2022-11-25    2.266800\n",
      "Name: D, Length: 251, dtype: float64\n"
     ]
    }
   ],
   "source": [
    "portfolio(weightD,'D')"
   ]
  },
  {
   "cell_type": "markdown",
   "metadata": {},
   "source": [
    "## Comparison of the Strategies\n",
    "\n",
    "First of all, show the data frame of volumn and price in period of each strategies(A-D)."
   ]
  },
  {
   "cell_type": "code",
   "execution_count": 37,
   "metadata": {},
   "outputs": [
    {
     "data": {
      "text/html": [
       "<div>\n",
       "<style scoped>\n",
       "    .dataframe tbody tr th:only-of-type {\n",
       "        vertical-align: middle;\n",
       "    }\n",
       "\n",
       "    .dataframe tbody tr th {\n",
       "        vertical-align: top;\n",
       "    }\n",
       "\n",
       "    .dataframe thead th {\n",
       "        text-align: right;\n",
       "    }\n",
       "</style>\n",
       "<table border=\"1\" class=\"dataframe\">\n",
       "  <thead>\n",
       "    <tr style=\"text-align: right;\">\n",
       "      <th></th>\n",
       "      <th>MSFT</th>\n",
       "      <th>AAPL</th>\n",
       "      <th>AMZN</th>\n",
       "      <th>GOOGL</th>\n",
       "      <th>TSLA</th>\n",
       "      <th>GOOG</th>\n",
       "      <th>META</th>\n",
       "      <th>NVDA</th>\n",
       "      <th>BRK-B</th>\n",
       "      <th>JPM</th>\n",
       "    </tr>\n",
       "  </thead>\n",
       "  <tbody>\n",
       "    <tr>\n",
       "      <th>A</th>\n",
       "      <td>0.000300</td>\n",
       "      <td>0.000628</td>\n",
       "      <td>0.000562</td>\n",
       "      <td>0.000687</td>\n",
       "      <td>0.000264</td>\n",
       "      <td>0.000684</td>\n",
       "      <td>0.000296</td>\n",
       "      <td>0.000300</td>\n",
       "      <td>0.000354</td>\n",
       "      <td>0.000640</td>\n",
       "    </tr>\n",
       "    <tr>\n",
       "      <th>B</th>\n",
       "      <td>0.000232</td>\n",
       "      <td>0.001148</td>\n",
       "      <td>0.000542</td>\n",
       "      <td>0.000955</td>\n",
       "      <td>0.000121</td>\n",
       "      <td>0.000956</td>\n",
       "      <td>0.000101</td>\n",
       "      <td>0.000122</td>\n",
       "      <td>0.000349</td>\n",
       "      <td>0.000930</td>\n",
       "    </tr>\n",
       "    <tr>\n",
       "      <th>C</th>\n",
       "      <td>-0.001537</td>\n",
       "      <td>0.005724</td>\n",
       "      <td>0.000248</td>\n",
       "      <td>-0.010236</td>\n",
       "      <td>0.009751</td>\n",
       "      <td>-0.010633</td>\n",
       "      <td>-0.010701</td>\n",
       "      <td>0.003069</td>\n",
       "      <td>0.003343</td>\n",
       "      <td>0.009950</td>\n",
       "    </tr>\n",
       "    <tr>\n",
       "      <th>D</th>\n",
       "      <td>-0.002117</td>\n",
       "      <td>0.007679</td>\n",
       "      <td>0.000349</td>\n",
       "      <td>-0.013960</td>\n",
       "      <td>0.013450</td>\n",
       "      <td>-0.014495</td>\n",
       "      <td>-0.014495</td>\n",
       "      <td>0.004215</td>\n",
       "      <td>0.003825</td>\n",
       "      <td>0.012079</td>\n",
       "    </tr>\n",
       "  </tbody>\n",
       "</table>\n",
       "</div>"
      ],
      "text/plain": [
       "       MSFT      AAPL      AMZN     GOOGL      TSLA      GOOG      META  \\\n",
       "A  0.000300  0.000628  0.000562  0.000687  0.000264  0.000684  0.000296   \n",
       "B  0.000232  0.001148  0.000542  0.000955  0.000121  0.000956  0.000101   \n",
       "C -0.001537  0.005724  0.000248 -0.010236  0.009751 -0.010633 -0.010701   \n",
       "D -0.002117  0.007679  0.000349 -0.013960  0.013450 -0.014495 -0.014495   \n",
       "\n",
       "       NVDA     BRK-B       JPM  \n",
       "A  0.000300  0.000354  0.000640  \n",
       "B  0.000122  0.000349  0.000930  \n",
       "C  0.003069  0.003343  0.009950  \n",
       "D  0.004215  0.003825  0.012079  "
      ]
     },
     "execution_count": 37,
     "metadata": {},
     "output_type": "execute_result"
    }
   ],
   "source": [
    "volumn_df"
   ]
  },
  {
   "cell_type": "code",
   "execution_count": 38,
   "metadata": {},
   "outputs": [
    {
     "data": {
      "text/html": [
       "<div>\n",
       "<style scoped>\n",
       "    .dataframe tbody tr th:only-of-type {\n",
       "        vertical-align: middle;\n",
       "    }\n",
       "\n",
       "    .dataframe tbody tr th {\n",
       "        vertical-align: top;\n",
       "    }\n",
       "\n",
       "    .dataframe thead th {\n",
       "        text-align: right;\n",
       "    }\n",
       "</style>\n",
       "<table border=\"1\" class=\"dataframe\">\n",
       "  <thead>\n",
       "    <tr style=\"text-align: right;\">\n",
       "      <th></th>\n",
       "      <th>A</th>\n",
       "      <th>B</th>\n",
       "      <th>C</th>\n",
       "      <th>D</th>\n",
       "    </tr>\n",
       "    <tr>\n",
       "      <th>Date</th>\n",
       "      <th></th>\n",
       "      <th></th>\n",
       "      <th></th>\n",
       "      <th></th>\n",
       "    </tr>\n",
       "  </thead>\n",
       "  <tbody>\n",
       "    <tr>\n",
       "      <th>2021-11-29</th>\n",
       "      <td>1.000000</td>\n",
       "      <td>1.000000</td>\n",
       "      <td>1.000000</td>\n",
       "      <td>1.000000</td>\n",
       "    </tr>\n",
       "    <tr>\n",
       "      <th>2021-11-30</th>\n",
       "      <td>0.985989</td>\n",
       "      <td>0.989972</td>\n",
       "      <td>1.221148</td>\n",
       "      <td>1.307337</td>\n",
       "    </tr>\n",
       "    <tr>\n",
       "      <th>2021-12-01</th>\n",
       "      <td>0.969210</td>\n",
       "      <td>0.979583</td>\n",
       "      <td>1.169592</td>\n",
       "      <td>1.235406</td>\n",
       "    </tr>\n",
       "    <tr>\n",
       "      <th>2021-12-02</th>\n",
       "      <td>0.975622</td>\n",
       "      <td>0.986835</td>\n",
       "      <td>1.157441</td>\n",
       "      <td>1.210842</td>\n",
       "    </tr>\n",
       "    <tr>\n",
       "      <th>2021-12-03</th>\n",
       "      <td>0.955773</td>\n",
       "      <td>0.971620</td>\n",
       "      <td>0.913046</td>\n",
       "      <td>0.879015</td>\n",
       "    </tr>\n",
       "    <tr>\n",
       "      <th>...</th>\n",
       "      <td>...</td>\n",
       "      <td>...</td>\n",
       "      <td>...</td>\n",
       "      <td>...</td>\n",
       "    </tr>\n",
       "    <tr>\n",
       "      <th>2022-11-18</th>\n",
       "      <td>0.676718</td>\n",
       "      <td>0.752124</td>\n",
       "      <td>1.882676</td>\n",
       "      <td>2.160259</td>\n",
       "    </tr>\n",
       "    <tr>\n",
       "      <th>2022-11-21</th>\n",
       "      <td>0.666835</td>\n",
       "      <td>0.741605</td>\n",
       "      <td>1.795980</td>\n",
       "      <td>2.041132</td>\n",
       "    </tr>\n",
       "    <tr>\n",
       "      <th>2022-11-22</th>\n",
       "      <td>0.677587</td>\n",
       "      <td>0.752736</td>\n",
       "      <td>1.833362</td>\n",
       "      <td>2.086156</td>\n",
       "    </tr>\n",
       "    <tr>\n",
       "      <th>2022-11-23</th>\n",
       "      <td>0.687677</td>\n",
       "      <td>0.761385</td>\n",
       "      <td>1.956007</td>\n",
       "      <td>2.253060</td>\n",
       "    </tr>\n",
       "    <tr>\n",
       "      <th>2022-11-25</th>\n",
       "      <td>0.683393</td>\n",
       "      <td>0.755702</td>\n",
       "      <td>1.966922</td>\n",
       "      <td>2.266800</td>\n",
       "    </tr>\n",
       "  </tbody>\n",
       "</table>\n",
       "<p>251 rows × 4 columns</p>\n",
       "</div>"
      ],
      "text/plain": [
       "                   A         B         C         D\n",
       "Date                                              \n",
       "2021-11-29  1.000000  1.000000  1.000000  1.000000\n",
       "2021-11-30  0.985989  0.989972  1.221148  1.307337\n",
       "2021-12-01  0.969210  0.979583  1.169592  1.235406\n",
       "2021-12-02  0.975622  0.986835  1.157441  1.210842\n",
       "2021-12-03  0.955773  0.971620  0.913046  0.879015\n",
       "...              ...       ...       ...       ...\n",
       "2022-11-18  0.676718  0.752124  1.882676  2.160259\n",
       "2022-11-21  0.666835  0.741605  1.795980  2.041132\n",
       "2022-11-22  0.677587  0.752736  1.833362  2.086156\n",
       "2022-11-23  0.687677  0.761385  1.956007  2.253060\n",
       "2022-11-25  0.683393  0.755702  1.966922  2.266800\n",
       "\n",
       "[251 rows x 4 columns]"
      ]
     },
     "execution_count": 38,
     "metadata": {},
     "output_type": "execute_result"
    }
   ],
   "source": [
    "portfolio_price_df = price_df.loc[:,'A':'D']\n",
    "portfolio_price_df "
   ]
  },
  {
   "cell_type": "markdown",
   "metadata": {},
   "source": [
    "(15) Plot the value of the 4 strategies. Comment on any observations you make."
   ]
  },
  {
   "cell_type": "code",
   "execution_count": 39,
   "metadata": {},
   "outputs": [
    {
     "data": {
      "image/png": "[encoded data removed]",
      "text/plain": [
       "<Figure size 432x288 with 1 Axes>"
      ]
     },
     "metadata": {
      "needs_background": "light"
     },
     "output_type": "display_data"
    }
   ],
   "source": [
    "price_df.loc[:,'A':'D'].plot()\n",
    "(price_df['^GSPC']/price_df.iloc[0]['^GSPC']*total_capital).plot(label=\"^GSPC\")\n",
    "plt.ylabel(\"Price\")\n",
    "plt.grid(True)\n",
    "plt.legend()\n",
    "plt.show()"
   ]
  },
  {
   "cell_type": "markdown",
   "metadata": {},
   "source": [
    "(16)  The  ability  of  the  4  strategies  to  reduce  risks  is  compared  by  calculating  the  following \n",
    "parameters:\n",
    "\n",
    "* Gain (the final value divided by the initial value)\n",
    "\n",
    "* Standard deviation\n",
    "\n",
    "* Minimum value (divided by the initial value)"
   ]
  },
  {
   "cell_type": "code",
   "execution_count": 40,
   "metadata": {},
   "outputs": [
    {
     "data": {
      "text/html": [
       "<div>\n",
       "<style scoped>\n",
       "    .dataframe tbody tr th:only-of-type {\n",
       "        vertical-align: middle;\n",
       "    }\n",
       "\n",
       "    .dataframe tbody tr th {\n",
       "        vertical-align: top;\n",
       "    }\n",
       "\n",
       "    .dataframe thead th {\n",
       "        text-align: right;\n",
       "    }\n",
       "</style>\n",
       "<table border=\"1\" class=\"dataframe\">\n",
       "  <thead>\n",
       "    <tr style=\"text-align: right;\">\n",
       "      <th></th>\n",
       "      <th>A</th>\n",
       "      <th>B</th>\n",
       "      <th>C</th>\n",
       "      <th>D</th>\n",
       "    </tr>\n",
       "  </thead>\n",
       "  <tbody>\n",
       "    <tr>\n",
       "      <th>Gain</th>\n",
       "      <td>0.683393</td>\n",
       "      <td>0.755702</td>\n",
       "      <td>1.966922</td>\n",
       "      <td>2.2668</td>\n",
       "    </tr>\n",
       "    <tr>\n",
       "      <th>Std</th>\n",
       "      <td>0.109564</td>\n",
       "      <td>0.09746</td>\n",
       "      <td>0.496851</td>\n",
       "      <td>0.679263</td>\n",
       "    </tr>\n",
       "    <tr>\n",
       "      <th>Min</th>\n",
       "      <td>0.621058</td>\n",
       "      <td>0.685448</td>\n",
       "      <td>0.256292</td>\n",
       "      <td>-0.044143</td>\n",
       "    </tr>\n",
       "  </tbody>\n",
       "</table>\n",
       "</div>"
      ],
      "text/plain": [
       "             A         B         C         D\n",
       "Gain  0.683393  0.755702  1.966922    2.2668\n",
       "Std   0.109564   0.09746  0.496851  0.679263\n",
       "Min   0.621058  0.685448  0.256292 -0.044143"
      ]
     },
     "execution_count": 40,
     "metadata": {},
     "output_type": "execute_result"
    }
   ],
   "source": [
    "perf_df = pd.DataFrame(columns=volumn_df.index)\n",
    "perf_df.loc['Gain',:] = portfolio_price_df.iloc[-1]/portfolio_price_df.iloc[0]\n",
    "perf_df.loc['Std',:] = portfolio_price_df.std()\n",
    "perf_df.loc['Min',:] = portfolio_price_df.min(axis=0)/portfolio_price_df.iloc[0]\n",
    "perf_df"
   ]
  },
  {
   "cell_type": "markdown",
   "metadata": {},
   "source": [
    "(17)  The  standard  deviation  is  not  informative  of  the  risk  when  the  price  has  a  trend.  Another \n",
    "common risk measure is the beta coefficient, or systematic risk, defined as\n",
    "$$\n",
    "\\beta=\\frac{\\text{covariance}(\\text{portfolio return},\\text{market return})}{\\text{variance}(\\text{market return})}\n",
    "$$\n",
    "Compute 𝛽 of the 4 strategies from: the covariance of the daily returns of the strategies and the \n",
    "daily returns of the market (S&P 500) averaged over the one-year period, and the variance of the \n",
    "daily returns of the market, also averaged over the one-year period."
   ]
  },
  {
   "cell_type": "code",
   "execution_count": 41,
   "metadata": {},
   "outputs": [],
   "source": [
    "ret_df = price_df.apply(np.log).diff()\n",
    "var_marker_ret = ret_df[\"^GSPC\"].var()"
   ]
  },
  {
   "cell_type": "code",
   "execution_count": 42,
   "metadata": {},
   "outputs": [
    {
     "data": {
      "text/plain": [
       "A    1.348934\n",
       "B    1.246475\n",
       "C    1.109252\n",
       "D    3.137535\n",
       "Name: ^GSPC, dtype: float64"
      ]
     },
     "execution_count": 42,
     "metadata": {},
     "output_type": "execute_result"
    }
   ],
   "source": [
    "beta = ret_df[[\"^GSPC\",\"A\",\"B\",\"C\",\"D\"]].cov().loc[\"^GSPC\",\"A\":\"D\"]/var_marker_ret\n",
    "beta"
   ]
  }
 ],
 "metadata": {
  "kernelspec": {
   "display_name": "Python 3.8.7 64-bit",
   "language": "python",
   "name": "python3"
  },
  "language_info": {
   "codemirror_mode": {
    "name": "ipython",
    "version": 3
   },
   "file_extension": ".py",
   "mimetype": "text/x-python",
   "name": "python",
   "nbconvert_exporter": "python",
   "pygments_lexer": "ipython3",
   "version": "3.8.7"
  },
  "orig_nbformat": 4,
  "vscode": {
   "interpreter": {
    "hash": "570feb405e2e27c949193ac68f46852414290d515b0ba6e5d90d076ed2284471"
   }
  }
 },
 "nbformat": 4,
 "nbformat_minor": 2
}
