{
 "cells": [
  {
   "cell_type": "markdown",
   "metadata": {},
   "source": [
    "# Problem Set 6A"
   ]
  },
  {
   "cell_type": "code",
   "execution_count": 1,
   "metadata": {},
   "outputs": [],
   "source": [
    "import numpy as np\n",
    "from numba import njit\n",
    "from matplotlib import pyplot as plt\n",
    "import statsmodels.api as sm\n",
    "from IPython.display import Markdown"
   ]
  },
  {
   "cell_type": "markdown",
   "metadata": {},
   "source": [
    "## 1. Simulation of the Asset Exchange Model\n",
    "\n",
    "### (a)  Write  a  Python  program  to  simulate  the  asset  exchange  model  with  the  saving  factors  distributed according to\n",
    "$$\n",
    "\\rho(\\lambda)\\propto\\lambda^{-0.7}, \\lambda\\in[0,1].\n",
    "$$\n",
    "The number of agents $N$ is not less than 1,000.\n",
    "\n",
    "The number of iterations $T$ is not less than 5,000.\n",
    "\n",
    "The number of samples $S$ is not less than 5.\n",
    "\n",
    "The wealth of each agent $m_i(0)$ is initialized to 1.\n",
    "\n",
    "#### Random saving factors formula\n",
    "\n",
    "First of all, calculate the formulate to get the random saving factors:\n",
    "\n",
    "Let $u\\sim \\mathcal{U}(0,1)$, then $\\lambda=F^{-1}(u)=u^{\\frac1{0.3}}$.\n",
    "\n",
    "#### Exchange between agents\n",
    "\n",
    "$$\n",
    "\\begin{pmatrix}m_i(t+1)\\\\ m_j(t+1)\\end{pmatrix}=\n",
    "\\begin{pmatrix}\\lambda_i+\\epsilon_{ij}(1-\\lambda_i)&\\epsilon_{ij}(1-\\lambda_j)\\\\(1-\\epsilon_{ij})(1-\\lambda_i)&\\lambda_j+(1-\\epsilon_{ij})(1-\\lambda_j)\\end{pmatrix}\\begin{pmatrix}m_i(t)\\\\ m_j(t)\\end{pmatrix},\n",
    "$$\n",
    "\n",
    "where $\\epsilon_{ij}\\sim\\mathcal{U}(0,1)$.\n"
   ]
  },
  {
   "cell_type": "code",
   "execution_count": 2,
   "metadata": {},
   "outputs": [],
   "source": [
    "@njit\n",
    "def asset_exchange_simu(N=1000,T=5000,alpha=-0.7,seed=123456):\n",
    "    np.random.seed(seed)\n",
    "    m=np.zeros((N,T+1))\n",
    "    m[:,0]=np.ones(N)\n",
    "    λ=np.random.random(N)**(1/(alpha+1))\n",
    "    for t in range(T):\n",
    "        pairs=np.random.permutation(N).reshape(-1,2)\n",
    "        εs=np.random.random(N//2)\n",
    "        for pair,ε in zip(pairs,εs):\n",
    "            i,j = pair\n",
    "            m[i,t+1]=(λ[i]+ε*(1-λ[i]))*m[i,t]+ε*(1-λ[j])*m[j,t]\n",
    "            m[j,t+1]=(λ[j]+(1-ε)*(1-λ[j]))*m[j,t]+(1-ε)*(1-λ[i])*m[i,t]\n",
    "    return m"
   ]
  },
  {
   "cell_type": "code",
   "execution_count": 3,
   "metadata": {},
   "outputs": [
    {
     "name": "stdout",
     "output_type": "stream",
     "text": [
      "Wall time: 1min 18s\n"
     ]
    }
   ],
   "source": [
    "%%time\n",
    "nsample=20\n",
    "N=5000\n",
    "T=20000\n",
    "wealth=[]\n",
    "for i in range(nsample):\n",
    "    wealth.extend(asset_exchange_simu(N=N,T=T,seed=5003+i)[:,-1])"
   ]
  },
  {
   "cell_type": "markdown",
   "metadata": {},
   "source": [
    "### (b) Construct a histogram of the wealth distribution in log-log scale. \n",
    "To facilitate the analysis of the tail distribution, the histogram should be cumulative from the higher end of the wealth. \n",
    "Check whether the tail distribution obeys the power law. If so, calculate the exponent."
   ]
  },
  {
   "cell_type": "code",
   "execution_count": 4,
   "metadata": {},
   "outputs": [
    {
     "data": {
      "image/png": "[encoded data removed]",
      "text/plain": [
       "<Figure size 432x288 with 1 Axes>"
      ]
     },
     "metadata": {
      "needs_background": "light"
     },
     "output_type": "display_data"
    }
   ],
   "source": [
    "log_wealth=np.log10(wealth)\n",
    "bins=10**np.linspace(np.min(log_wealth),np.max(log_wealth),101)\n",
    "plt.title(\"Histogram of cumulative wealth distribution\")\n",
    "y,x,*_=plt.hist(wealth,bins=bins,density=1,log=True,cumulative=-1,histtype='step',lw=3)\n",
    "plt.xscale('log')\n",
    "plt.xlabel(\"log(wealth)\")\n",
    "plt.ylabel(\"log(P(W>w))\")\n",
    "plt.xlim([10**-3,10**3])\n",
    "plt.grid(True)\n",
    "plt.show()"
   ]
  },
  {
   "cell_type": "code",
   "execution_count": 5,
   "metadata": {},
   "outputs": [],
   "source": [
    "def fit_tail(x,y):\n",
    "    X = sm.add_constant(x)\n",
    "    Y = y\n",
    "\n",
    "    mod = sm.OLS(Y, X)\n",
    "    results = mod.fit()\n",
    "    b,a = results.params\n",
    "    r2 = results.rsquared\n",
    "    return a,b,r2"
   ]
  },
  {
   "cell_type": "code",
   "execution_count": 6,
   "metadata": {},
   "outputs": [
    {
     "data": {
      "image/png": "[encoded data removed]",
      "text/plain": [
       "<Figure size 432x288 with 1 Axes>"
      ]
     },
     "metadata": {
      "needs_background": "light"
     },
     "output_type": "display_data"
    }
   ],
   "source": [
    "log_wealth=np.log10(wealth)\n",
    "bins=np.logspace(np.min(log_wealth),np.max(log_wealth),101)\n",
    "y,x,_=plt.hist(wealth,bins=bins,density=1,log=True,cumulative=-1,histtype='step',lw=3,label=\"Cumulative distribution\")\n",
    "count=np.sum(x>1)\n",
    "a,b,r2=fit_tail(np.log10(x[-count:-1]),np.log10(y[-count:-1]))\n",
    "beta=-a\n",
    "x=10**np.linspace(0,3)\n",
    "y_hat=10**b*x**a\n",
    "plt.plot(x,y_hat,label=rf\"Fitted tail($\\beta={beta:.4f}$)\")\n",
    "plt.xscale('log')\n",
    "plt.xlim([10**-3,10**3])\n",
    "plt.xlabel(\"log(wealth)\")\n",
    "plt.ylabel(\"log(P(W>w))\")\n",
    "plt.text(10**0.5,10**-1,rf\"${10**b:.2f}x^{{{a:.2f}}}$\")\n",
    "plt.legend()\n",
    "plt.grid(True)\n",
    "plt.show()"
   ]
  },
  {
   "cell_type": "code",
   "execution_count": 7,
   "metadata": {},
   "outputs": [
    {
     "data": {
      "text/markdown": [
       "\n",
       "The tail distribution $P(W>w) \\propto w^{-\\beta}$ obeys the power law with the exponent $\\beta\\approx1.0180$.\n"
      ],
      "text/plain": [
       "<IPython.core.display.Markdown object>"
      ]
     },
     "execution_count": 7,
     "metadata": {},
     "output_type": "execute_result"
    }
   ],
   "source": [
    "Markdown(rf\"\"\"\n",
    "The tail distribution $P(W>w) \\propto w^{{-\\beta}}$ obeys the power law with the exponent $\\beta\\approx{beta:.4f}$.\n",
    "\"\"\")"
   ]
  },
  {
   "cell_type": "markdown",
   "metadata": {},
   "source": [
    "### (c) To explain your result to a lay person, you would say that “among the wealthier agents of the model, \n",
    "when  we  compare  agents’  wealth  with  those  agents  whose  wealth  is  doubled,  the  average  number  of \n",
    "agents will be reduced by a factor of x”. Calculate x.\n",
    "\n",
    "From aboving tail distribution, we can get CDF of wealth $P(W\\leq w)=1-cw^{-\\beta}$, \n",
    "\n",
    "then the the PDF of wealth is $p(w)=c\\beta w^{-1-\\beta}$. The average numeber of agents with wealth equals to $w$ is $N\\cdot p(w)dw$.\n",
    "\n",
    "Let denote $W$ as a random variable represents the wealth of a random choosed agent, according to the tail distribution we obtain, $N$ is the total number of agents, so $N\\cdot p(w)dw$ is the average number of agents whose wealth equals $w$. Now let's consider the average number of agents whose wealth equals to $2w$ which doubled $w$ is $N\\cdot p(2w)dw$. The average number of agents will be reduced by a factor $x=\\frac{p(2w)}{p(w)}=2^{-1-\\beta}$."
   ]
  },
  {
   "cell_type": "code",
   "execution_count": 8,
   "metadata": {},
   "outputs": [
    {
     "name": "stdout",
     "output_type": "stream",
     "text": [
      "The estimated reduced factor x is 0.2469.\n"
     ]
    }
   ],
   "source": [
    "print(f\"The estimated reduced factor x is {2**(-1-beta):.4f}.\")"
   ]
  },
  {
   "cell_type": "markdown",
   "metadata": {},
   "source": [
    "### (d)  Construct  a  histogram  of  the  wealth  distribution  in  log-linear  scale  among  the  less  wealthy  agents, \n",
    "defined as those agents with final wealth less than the initial wealth. To facilitate the analysis of the tail \n",
    "distribution, the histogram should be cumulative from the higher end of the wealth. Check whether the \n",
    "tail distribution obeys the exponential law. If so, calculate the exponential function."
   ]
  },
  {
   "cell_type": "code",
   "execution_count": 9,
   "metadata": {},
   "outputs": [
    {
     "data": {
      "image/png": "[encoded data removed]",
      "text/plain": [
       "<Figure size 432x288 with 1 Axes>"
      ]
     },
     "metadata": {
      "needs_background": "light"
     },
     "output_type": "display_data"
    }
   ],
   "source": [
    "bins=np.linspace(0,1,101)\n",
    "plt.title(\"Histogram of cumulative wealth distribution among poor agents\")\n",
    "y,x,*_=plt.hist(wealth,bins=bins,density=1,log=True,cumulative=-1,histtype='step',lw=3)\n",
    "plt.xlabel(\"Wealth\")\n",
    "plt.xlim([0.1,1.1])\n",
    "plt.ylabel(\"log(P(W>w))\")\n",
    "plt.grid(True)\n",
    "plt.show()"
   ]
  },
  {
   "cell_type": "code",
   "execution_count": 10,
   "metadata": {},
   "outputs": [
    {
     "data": {
      "image/png": "[encoded data removed]",
      "text/plain": [
       "<Figure size 432x288 with 1 Axes>"
      ]
     },
     "metadata": {
      "needs_background": "light"
     },
     "output_type": "display_data"
    }
   ],
   "source": [
    "bins=np.linspace(0,1,101)\n",
    "plt.title(\"Histogram of cumulative wealth distribution among poor agents\")\n",
    "y,x,*_=plt.hist(wealth,bins=bins,density=1,log=True,cumulative=-1,histtype='step',lw=3,label=\"Cumulative distribution\")\n",
    "count=np.sum(x>=0.9)\n",
    "a,b,r2=fit_tail(x[-count:],np.log(y[-count:]))\n",
    "alpha=-a\n",
    "x=np.linspace(0.9,1)\n",
    "y_hat=np.exp(a*x+b)\n",
    "plt.plot(x,y_hat,label=rf\"Fitted tail($\\alpha={alpha:.4f}$)\")\n",
    "plt.xlabel(\"Wealth\")\n",
    "plt.xlim([0.1,1.1])\n",
    "plt.ylabel(\"log(P(W>w))\")\n",
    "plt.text(0.9,10**-1,rf\"${np.exp(b):.1E}e^{{{a:.2f}x}}$\")\n",
    "plt.grid(True)\n",
    "plt.legend()\n",
    "plt.show()"
   ]
  },
  {
   "cell_type": "code",
   "execution_count": 11,
   "metadata": {},
   "outputs": [
    {
     "data": {
      "text/markdown": [
       "\n",
       "The tail distribution $P(W>w) \\propto e^{-\\alpha x}$ obeys the exponential law.\n",
       "\n",
       "The exponential function $P(W>w)=1.9E+07 e^{-22.63x}$.\n"
      ],
      "text/plain": [
       "<IPython.core.display.Markdown object>"
      ]
     },
     "execution_count": 11,
     "metadata": {},
     "output_type": "execute_result"
    }
   ],
   "source": [
    "Markdown(rf\"\"\"\n",
    "The tail distribution $P(W>w) \\propto e^{{-\\alpha x}}$ obeys the exponential law.\n",
    "\n",
    "The exponential function $P(W>w)={np.exp(b):.1E} e^{{{a:.2f}x}}$.\n",
    "\"\"\")"
   ]
  },
  {
   "cell_type": "markdown",
   "metadata": {},
   "source": [
    "### (e) To explain your result to a lay person, you would say that “among the less wealthy agents of the model, \n",
    "when we compare the average number of agents with a certain wealth with those whose wealth is higher \n",
    "by y (in units of the average wealth of the market), the average number of agents will be reduced by one \n",
    "half”. Calculate y.\n",
    "\n",
    "Let denote the CDF is $P(W\\leq w)=1 - c e^{-\\alpha w}$, then the PDF is $p(w)=c\\alpha e^{-\\alpha w}$. So the average number of agents with wealth $w$ equals $N\\cdot p(w)dw$.\n",
    "\n",
    "Let's calculate the average number of agents with wealth equals to $w$ is $N\\cdot p(w)dw$.Meanwhil the average number of agents whose wealth is higher \n",
    "by y is $N\\cdot p(w+y)dw$, then the $x=\\frac{p(w+y)}{p(w)}=e^{-\\alpha y}$ should be $\\frac12$, then we get this equation:\n",
    "$$\n",
    "e^{-\\alpha y}=2^{-1},\n",
    "$$\n",
    "then we can solve it and get $y=\\frac{\\ln 2}{\\alpha}$.\n"
   ]
  },
  {
   "cell_type": "code",
   "execution_count": 12,
   "metadata": {},
   "outputs": [
    {
     "name": "stdout",
     "output_type": "stream",
     "text": [
      "The estimated y is 0.0306.\n"
     ]
    }
   ],
   "source": [
    "print(f\"The estimated y is {np.log(2)/alpha:.4f}.\")"
   ]
  },
  {
   "cell_type": "markdown",
   "metadata": {},
   "source": [
    "### (f) Calculate the percentage of wealth owned by the wealthiest 20% of the agents in your model. "
   ]
  },
  {
   "cell_type": "code",
   "execution_count": 15,
   "metadata": {},
   "outputs": [
    {
     "name": "stdout",
     "output_type": "stream",
     "text": [
      "In this model, about 80.36% of wealth owned by the wealthiest 20% of the agents in this model.\n"
     ]
    }
   ],
   "source": [
    "richers = np.sort(wealth)[-len(wealth)//5:]\n",
    "percent = np.sum(richers)/np.sum(wealth)\n",
    "print(f\"In this model, about {100*percent:.2f}% of wealth owned by the wealthiest 20% of the agents in this model.\")"
   ]
  },
  {
   "cell_type": "code",
   "execution_count": 14,
   "metadata": {},
   "outputs": [
    {
     "data": {
      "image/png": "[encoded data removed]",
      "text/plain": [
       "<Figure size 432x288 with 1 Axes>"
      ]
     },
     "metadata": {
      "needs_background": "light"
     },
     "output_type": "display_data"
    }
   ],
   "source": [
    "N=len(wealth)\n",
    "plt.plot(np.arange(N)/N,np.cumsum(np.sort(wealth)[::-1])/np.sum(wealth))\n",
    "plt.ylabel(\"Percentage of wealth\")\n",
    "plt.xlabel(\"Percentage of richer\")\n",
    "plt.grid(True)\n",
    "plt.show()"
   ]
  }
 ],
 "metadata": {
  "kernelspec": {
   "display_name": "Python 3.8.7 64-bit",
   "language": "python",
   "name": "python3"
  },
  "language_info": {
   "codemirror_mode": {
    "name": "ipython",
    "version": 3
   },
   "file_extension": ".py",
   "mimetype": "text/x-python",
   "name": "python",
   "nbconvert_exporter": "python",
   "pygments_lexer": "ipython3",
   "version": "3.8.7"
  },
  "orig_nbformat": 4,
  "vscode": {
   "interpreter": {
    "hash": "570feb405e2e27c949193ac68f46852414290d515b0ba6e5d90d076ed2284471"
   }
  }
 },
 "nbformat": 4,
 "nbformat_minor": 2
}
