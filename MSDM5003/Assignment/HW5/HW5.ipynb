{
 "cells": [
  {
   "cell_type": "markdown",
   "metadata": {},
   "source": [
    "# Problem Set 5"
   ]
  },
  {
   "cell_type": "code",
   "execution_count": 1,
   "metadata": {},
   "outputs": [],
   "source": [
    "import numpy as np\n",
    "import pandas as pd\n",
    "from matplotlib import pyplot as plt\n",
    "import statsmodels.api as sm\n",
    "import warnings\n",
    "warnings.filterwarnings(\"ignore\")"
   ]
  },
  {
   "cell_type": "markdown",
   "metadata": {},
   "source": [
    "## 1. Study of the historical data of Hang Seng Index Using Python\n",
    "\n",
    "### a. Import the index data of `^HSI`\n",
    "\n",
    "The data is more than 9k lines.\n",
    "\n",
    "### b. Clean the data by removing the unwanted lines labeled by “null”."
   ]
  },
  {
   "cell_type": "code",
   "execution_count": 2,
   "metadata": {},
   "outputs": [
    {
     "data": {
      "text/html": [
       "<div>\n",
       "<style scoped>\n",
       "    .dataframe tbody tr th:only-of-type {\n",
       "        vertical-align: middle;\n",
       "    }\n",
       "\n",
       "    .dataframe tbody tr th {\n",
       "        vertical-align: top;\n",
       "    }\n",
       "\n",
       "    .dataframe thead th {\n",
       "        text-align: right;\n",
       "    }\n",
       "</style>\n",
       "<table border=\"1\" class=\"dataframe\">\n",
       "  <thead>\n",
       "    <tr style=\"text-align: right;\">\n",
       "      <th></th>\n",
       "      <th>Date</th>\n",
       "      <th>Open</th>\n",
       "      <th>High</th>\n",
       "      <th>Low</th>\n",
       "      <th>Close</th>\n",
       "      <th>Adj Close</th>\n",
       "      <th>Volume0</th>\n",
       "    </tr>\n",
       "  </thead>\n",
       "  <tbody>\n",
       "    <tr>\n",
       "      <th>0</th>\n",
       "      <td>1986-12-31</td>\n",
       "      <td>2568.300049</td>\n",
       "      <td>2568.300049</td>\n",
       "      <td>2568.300049</td>\n",
       "      <td>2568.300049</td>\n",
       "      <td>2568.300049</td>\n",
       "      <td>0.000000e+00</td>\n",
       "    </tr>\n",
       "    <tr>\n",
       "      <th>2</th>\n",
       "      <td>1987-01-02</td>\n",
       "      <td>2540.100098</td>\n",
       "      <td>2540.100098</td>\n",
       "      <td>2540.100098</td>\n",
       "      <td>2540.100098</td>\n",
       "      <td>2540.100098</td>\n",
       "      <td>0.000000e+00</td>\n",
       "    </tr>\n",
       "    <tr>\n",
       "      <th>3</th>\n",
       "      <td>1987-01-05</td>\n",
       "      <td>2552.399902</td>\n",
       "      <td>2552.399902</td>\n",
       "      <td>2552.399902</td>\n",
       "      <td>2552.399902</td>\n",
       "      <td>2552.399902</td>\n",
       "      <td>0.000000e+00</td>\n",
       "    </tr>\n",
       "    <tr>\n",
       "      <th>4</th>\n",
       "      <td>1987-01-06</td>\n",
       "      <td>2583.899902</td>\n",
       "      <td>2583.899902</td>\n",
       "      <td>2583.899902</td>\n",
       "      <td>2583.899902</td>\n",
       "      <td>2583.899902</td>\n",
       "      <td>0.000000e+00</td>\n",
       "    </tr>\n",
       "    <tr>\n",
       "      <th>5</th>\n",
       "      <td>1987-01-07</td>\n",
       "      <td>2607.100098</td>\n",
       "      <td>2607.100098</td>\n",
       "      <td>2607.100098</td>\n",
       "      <td>2607.100098</td>\n",
       "      <td>2607.100098</td>\n",
       "      <td>0.000000e+00</td>\n",
       "    </tr>\n",
       "    <tr>\n",
       "      <th>...</th>\n",
       "      <td>...</td>\n",
       "      <td>...</td>\n",
       "      <td>...</td>\n",
       "      <td>...</td>\n",
       "      <td>...</td>\n",
       "      <td>...</td>\n",
       "      <td>...</td>\n",
       "    </tr>\n",
       "    <tr>\n",
       "      <th>9091</th>\n",
       "      <td>2022-10-18</td>\n",
       "      <td>16860.199219</td>\n",
       "      <td>16914.580078</td>\n",
       "      <td>16558.410156</td>\n",
       "      <td>16914.580078</td>\n",
       "      <td>16914.580078</td>\n",
       "      <td>1.971282e+09</td>\n",
       "    </tr>\n",
       "    <tr>\n",
       "      <th>9092</th>\n",
       "      <td>2022-10-19</td>\n",
       "      <td>16805.910156</td>\n",
       "      <td>16923.119141</td>\n",
       "      <td>16508.369141</td>\n",
       "      <td>16511.279297</td>\n",
       "      <td>16511.279297</td>\n",
       "      <td>1.713975e+09</td>\n",
       "    </tr>\n",
       "    <tr>\n",
       "      <th>9093</th>\n",
       "      <td>2022-10-20</td>\n",
       "      <td>16230.790039</td>\n",
       "      <td>16452.970703</td>\n",
       "      <td>16010.719727</td>\n",
       "      <td>16280.219727</td>\n",
       "      <td>16280.219727</td>\n",
       "      <td>2.295269e+09</td>\n",
       "    </tr>\n",
       "    <tr>\n",
       "      <th>9094</th>\n",
       "      <td>2022-10-21</td>\n",
       "      <td>16331.110352</td>\n",
       "      <td>16359.040039</td>\n",
       "      <td>16137.179688</td>\n",
       "      <td>16211.120117</td>\n",
       "      <td>16211.120117</td>\n",
       "      <td>2.052413e+09</td>\n",
       "    </tr>\n",
       "    <tr>\n",
       "      <th>9095</th>\n",
       "      <td>2022-10-24</td>\n",
       "      <td>15894.750000</td>\n",
       "      <td>15993.879883</td>\n",
       "      <td>15082.839844</td>\n",
       "      <td>15180.690430</td>\n",
       "      <td>15180.690430</td>\n",
       "      <td>3.597358e+09</td>\n",
       "    </tr>\n",
       "  </tbody>\n",
       "</table>\n",
       "<p>8844 rows × 7 columns</p>\n",
       "</div>"
      ],
      "text/plain": [
       "            Date          Open          High           Low         Close  \\\n",
       "0     1986-12-31   2568.300049   2568.300049   2568.300049   2568.300049   \n",
       "2     1987-01-02   2540.100098   2540.100098   2540.100098   2540.100098   \n",
       "3     1987-01-05   2552.399902   2552.399902   2552.399902   2552.399902   \n",
       "4     1987-01-06   2583.899902   2583.899902   2583.899902   2583.899902   \n",
       "5     1987-01-07   2607.100098   2607.100098   2607.100098   2607.100098   \n",
       "...          ...           ...           ...           ...           ...   \n",
       "9091  2022-10-18  16860.199219  16914.580078  16558.410156  16914.580078   \n",
       "9092  2022-10-19  16805.910156  16923.119141  16508.369141  16511.279297   \n",
       "9093  2022-10-20  16230.790039  16452.970703  16010.719727  16280.219727   \n",
       "9094  2022-10-21  16331.110352  16359.040039  16137.179688  16211.120117   \n",
       "9095  2022-10-24  15894.750000  15993.879883  15082.839844  15180.690430   \n",
       "\n",
       "         Adj Close       Volume0  \n",
       "0      2568.300049  0.000000e+00  \n",
       "2      2540.100098  0.000000e+00  \n",
       "3      2552.399902  0.000000e+00  \n",
       "4      2583.899902  0.000000e+00  \n",
       "5      2607.100098  0.000000e+00  \n",
       "...            ...           ...  \n",
       "9091  16914.580078  1.971282e+09  \n",
       "9092  16511.279297  1.713975e+09  \n",
       "9093  16280.219727  2.295269e+09  \n",
       "9094  16211.120117  2.052413e+09  \n",
       "9095  15180.690430  3.597358e+09  \n",
       "\n",
       "[8844 rows x 7 columns]"
      ]
     },
     "execution_count": 2,
     "metadata": {},
     "output_type": "execute_result"
    }
   ],
   "source": [
    "df = pd.read_csv(\"^HSI.csv\")\n",
    "df.dropna(inplace=True)\n",
    "df"
   ]
  },
  {
   "cell_type": "markdown",
   "metadata": {},
   "source": [
    "### c. Calculate the daily returns.\n",
    "\n",
    "I choose `Adj Close` price of each day as the daily price, then calculate the daily returns with the definition:\n",
    "\n",
    "$$\n",
    "r(t)=\\log\\left(\\frac{P(t+1)}{P(t)}\\right)\n",
    "$$"
   ]
  },
  {
   "cell_type": "code",
   "execution_count": 3,
   "metadata": {},
   "outputs": [
    {
     "data": {
      "image/png": "[encoded data removed]",
      "text/plain": [
       "<Figure size 432x288 with 1 Axes>"
      ]
     },
     "metadata": {
      "needs_background": "light"
     },
     "output_type": "display_data"
    }
   ],
   "source": [
    "prices=df[\"Adj Close\"].to_numpy()\n",
    "r=np.log(prices[1:]/prices[:-1])\n",
    "plt.plot(r)\n",
    "plt.show()"
   ]
  },
  {
   "cell_type": "markdown",
   "metadata": {},
   "source": [
    "### d. Calculate the normalized daily returns and separate the data into positive and negative returns.\n",
    "\n",
    "1. Calculate the normalized daily returns"
   ]
  },
  {
   "cell_type": "code",
   "execution_count": 4,
   "metadata": {},
   "outputs": [],
   "source": [
    "def normalize(x):\n",
    "    return (x-np.mean(x))/np.std(x)"
   ]
  },
  {
   "cell_type": "code",
   "execution_count": 5,
   "metadata": {},
   "outputs": [
    {
     "data": {
      "text/plain": [
       "array([-0.68614701,  0.28257527,  0.73639263, ..., -0.87243852,\n",
       "       -0.27187612, -4.02069925])"
      ]
     },
     "execution_count": 5,
     "metadata": {},
     "output_type": "execute_result"
    }
   ],
   "source": [
    "r_normed=normalize(r)\n",
    "r_normed"
   ]
  },
  {
   "cell_type": "markdown",
   "metadata": {},
   "source": [
    "2. separate the data into positive and negative returns"
   ]
  },
  {
   "cell_type": "code",
   "execution_count": 6,
   "metadata": {},
   "outputs": [],
   "source": [
    "rp = r[r > 0]\n",
    "rn = r[r < 0]"
   ]
  },
  {
   "cell_type": "markdown",
   "metadata": {},
   "source": [
    "### e. Plot the cumulative return distribution for the positive and negative tails separately. \n",
    "The return values should be binned logarithmically."
   ]
  },
  {
   "cell_type": "code",
   "execution_count": 7,
   "metadata": {},
   "outputs": [],
   "source": [
    "def ecdf(rs:np.ndarray):\n",
    "    return lambda x: np.mean(rs>x)\n",
    "\n",
    "def power_law_fit(rs:np.ndarray,xs):\n",
    "    y = np.array(list(map(ecdf(rs),xs)))\n",
    "    X = sm.add_constant(np.log10(xs[y>0]))\n",
    "    y = np.log10(y[y>0])\n",
    "\n",
    "    mod = sm.OLS(y, X)\n",
    "    results = mod.fit()\n",
    "    a,b = results.params\n",
    "    r2 = results.rsquared\n",
    "    return {\n",
    "        \"α\":-b,\n",
    "        \"c\": a,\n",
    "        \"R2\":r2\n",
    "    }"
   ]
  },
  {
   "cell_type": "code",
   "execution_count": 8,
   "metadata": {},
   "outputs": [
    {
     "data": {
      "image/png": "[encoded data removed]",
      "text/plain": [
       "<Figure size 432x288 with 1 Axes>"
      ]
     },
     "metadata": {
      "needs_background": "light"
     },
     "output_type": "display_data"
    }
   ],
   "source": [
    "xs=np.arange(0.01,0.2,0.001)\n",
    "alpha,c,R2=power_law_fit(rp,xs).values()\n",
    "ys=list(map(ecdf(rp),xs))\n",
    "yfits=10**c*xs**(-alpha)\n",
    "\n",
    "plt.scatter(xs,ys,label=\"observation\")\n",
    "plt.plot(xs,yfits,label=f\"fit(α=${alpha:.3f}$)\",c=\"red\")\n",
    "plt.text(10**-2.5,10**-2,f\"y=${10**c:.6f}x^{{{-alpha:.3f}}}$\")\n",
    "plt.text(10**-2.5,10**-2.5,f\"R²=${R2:.4f}$\")\n",
    "plt.xlabel(\"log(return⁺)\")\n",
    "plt.ylabel(\"log(cumulative probability)\")\n",
    "plt.xscale(\"log\")\n",
    "plt.yscale(\"log\")\n",
    "plt.xlim((10**-2.5,10**0))\n",
    "plt.ylim((10**-4,10**0))\n",
    "plt.title(\"Postive Tail\")\n",
    "plt.grid(True)\n",
    "plt.legend()\n",
    "plt.show()"
   ]
  },
  {
   "cell_type": "code",
   "execution_count": 9,
   "metadata": {},
   "outputs": [
    {
     "data": {
      "image/png": "[encoded data removed]",
      "text/plain": [
       "<Figure size 432x288 with 1 Axes>"
      ]
     },
     "metadata": {
      "needs_background": "light"
     },
     "output_type": "display_data"
    }
   ],
   "source": [
    "xs=np.arange(0.01,0.2,0.001)\n",
    "absrn=np.abs(rn)\n",
    "alpha,c,R2=power_law_fit(absrn,xs).values()\n",
    "ys=list(map(ecdf(absrn),xs))\n",
    "yfits=10**c*xs**(-alpha)\n",
    "\n",
    "plt.scatter(xs,ys,label=\"observation\")\n",
    "plt.plot(xs,yfits,label=f\"fit(α=${alpha:.3f}$)\",c=\"red\")\n",
    "plt.text(10**-2.5,10**-2,f\"y=${10**c:.6f}x^{{{-alpha:.3f}}}$\")\n",
    "plt.text(10**-2.5,10**-2.5,f\"R²=${R2:.4f}$\")\n",
    "plt.xlabel(\"log(abs(return⁻))\")\n",
    "plt.ylabel(\"log(cumulative probability)\")\n",
    "plt.xscale(\"log\")\n",
    "plt.yscale(\"log\")\n",
    "plt.xlim((10**-2.5,10**0))\n",
    "plt.ylim((10**-4,10**0))\n",
    "plt.title(\"Negative Tail\")\n",
    "plt.grid(True)\n",
    "plt.legend()\n",
    "plt.show()"
   ]
  },
  {
   "cell_type": "markdown",
   "metadata": {},
   "source": [
    "### f. Observe  whether  the  plots  obey  power  law  distributions.  If  so,  calculate  the  exponents  of  the power-law regime.\n",
    "\n",
    "From the plots, we can claim that both positive and negative tail obey power law distributions.\n",
    "\n",
    "The $\\alpha_+=3.023$ is the exponents of positive tail and $\\alpha_-=2.648$ is the exponents of negative tail."
   ]
  },
  {
   "cell_type": "markdown",
   "metadata": {},
   "source": [
    "## 2. Detrended Fluctuation Analysis of Hang Seng Index Using Python\n",
    "\n",
    "### a. Read the data from the cleaned data file using Pandas."
   ]
  },
  {
   "cell_type": "code",
   "execution_count": 10,
   "metadata": {},
   "outputs": [
    {
     "data": {
      "text/html": [
       "<div>\n",
       "<style scoped>\n",
       "    .dataframe tbody tr th:only-of-type {\n",
       "        vertical-align: middle;\n",
       "    }\n",
       "\n",
       "    .dataframe tbody tr th {\n",
       "        vertical-align: top;\n",
       "    }\n",
       "\n",
       "    .dataframe thead th {\n",
       "        text-align: right;\n",
       "    }\n",
       "</style>\n",
       "<table border=\"1\" class=\"dataframe\">\n",
       "  <thead>\n",
       "    <tr style=\"text-align: right;\">\n",
       "      <th></th>\n",
       "      <th>Date</th>\n",
       "      <th>Open</th>\n",
       "      <th>High</th>\n",
       "      <th>Low</th>\n",
       "      <th>Close</th>\n",
       "      <th>Adj Close</th>\n",
       "      <th>Volume0</th>\n",
       "    </tr>\n",
       "  </thead>\n",
       "  <tbody>\n",
       "    <tr>\n",
       "      <th>0</th>\n",
       "      <td>1986-12-31</td>\n",
       "      <td>2568.300049</td>\n",
       "      <td>2568.300049</td>\n",
       "      <td>2568.300049</td>\n",
       "      <td>2568.300049</td>\n",
       "      <td>2568.300049</td>\n",
       "      <td>0.000000e+00</td>\n",
       "    </tr>\n",
       "    <tr>\n",
       "      <th>2</th>\n",
       "      <td>1987-01-02</td>\n",
       "      <td>2540.100098</td>\n",
       "      <td>2540.100098</td>\n",
       "      <td>2540.100098</td>\n",
       "      <td>2540.100098</td>\n",
       "      <td>2540.100098</td>\n",
       "      <td>0.000000e+00</td>\n",
       "    </tr>\n",
       "    <tr>\n",
       "      <th>3</th>\n",
       "      <td>1987-01-05</td>\n",
       "      <td>2552.399902</td>\n",
       "      <td>2552.399902</td>\n",
       "      <td>2552.399902</td>\n",
       "      <td>2552.399902</td>\n",
       "      <td>2552.399902</td>\n",
       "      <td>0.000000e+00</td>\n",
       "    </tr>\n",
       "    <tr>\n",
       "      <th>4</th>\n",
       "      <td>1987-01-06</td>\n",
       "      <td>2583.899902</td>\n",
       "      <td>2583.899902</td>\n",
       "      <td>2583.899902</td>\n",
       "      <td>2583.899902</td>\n",
       "      <td>2583.899902</td>\n",
       "      <td>0.000000e+00</td>\n",
       "    </tr>\n",
       "    <tr>\n",
       "      <th>5</th>\n",
       "      <td>1987-01-07</td>\n",
       "      <td>2607.100098</td>\n",
       "      <td>2607.100098</td>\n",
       "      <td>2607.100098</td>\n",
       "      <td>2607.100098</td>\n",
       "      <td>2607.100098</td>\n",
       "      <td>0.000000e+00</td>\n",
       "    </tr>\n",
       "    <tr>\n",
       "      <th>...</th>\n",
       "      <td>...</td>\n",
       "      <td>...</td>\n",
       "      <td>...</td>\n",
       "      <td>...</td>\n",
       "      <td>...</td>\n",
       "      <td>...</td>\n",
       "      <td>...</td>\n",
       "    </tr>\n",
       "    <tr>\n",
       "      <th>9091</th>\n",
       "      <td>2022-10-18</td>\n",
       "      <td>16860.199219</td>\n",
       "      <td>16914.580078</td>\n",
       "      <td>16558.410156</td>\n",
       "      <td>16914.580078</td>\n",
       "      <td>16914.580078</td>\n",
       "      <td>1.971282e+09</td>\n",
       "    </tr>\n",
       "    <tr>\n",
       "      <th>9092</th>\n",
       "      <td>2022-10-19</td>\n",
       "      <td>16805.910156</td>\n",
       "      <td>16923.119141</td>\n",
       "      <td>16508.369141</td>\n",
       "      <td>16511.279297</td>\n",
       "      <td>16511.279297</td>\n",
       "      <td>1.713975e+09</td>\n",
       "    </tr>\n",
       "    <tr>\n",
       "      <th>9093</th>\n",
       "      <td>2022-10-20</td>\n",
       "      <td>16230.790039</td>\n",
       "      <td>16452.970703</td>\n",
       "      <td>16010.719727</td>\n",
       "      <td>16280.219727</td>\n",
       "      <td>16280.219727</td>\n",
       "      <td>2.295269e+09</td>\n",
       "    </tr>\n",
       "    <tr>\n",
       "      <th>9094</th>\n",
       "      <td>2022-10-21</td>\n",
       "      <td>16331.110352</td>\n",
       "      <td>16359.040039</td>\n",
       "      <td>16137.179688</td>\n",
       "      <td>16211.120117</td>\n",
       "      <td>16211.120117</td>\n",
       "      <td>2.052413e+09</td>\n",
       "    </tr>\n",
       "    <tr>\n",
       "      <th>9095</th>\n",
       "      <td>2022-10-24</td>\n",
       "      <td>15894.750000</td>\n",
       "      <td>15993.879883</td>\n",
       "      <td>15082.839844</td>\n",
       "      <td>15180.690430</td>\n",
       "      <td>15180.690430</td>\n",
       "      <td>3.597358e+09</td>\n",
       "    </tr>\n",
       "  </tbody>\n",
       "</table>\n",
       "<p>8844 rows × 7 columns</p>\n",
       "</div>"
      ],
      "text/plain": [
       "            Date          Open          High           Low         Close  \\\n",
       "0     1986-12-31   2568.300049   2568.300049   2568.300049   2568.300049   \n",
       "2     1987-01-02   2540.100098   2540.100098   2540.100098   2540.100098   \n",
       "3     1987-01-05   2552.399902   2552.399902   2552.399902   2552.399902   \n",
       "4     1987-01-06   2583.899902   2583.899902   2583.899902   2583.899902   \n",
       "5     1987-01-07   2607.100098   2607.100098   2607.100098   2607.100098   \n",
       "...          ...           ...           ...           ...           ...   \n",
       "9091  2022-10-18  16860.199219  16914.580078  16558.410156  16914.580078   \n",
       "9092  2022-10-19  16805.910156  16923.119141  16508.369141  16511.279297   \n",
       "9093  2022-10-20  16230.790039  16452.970703  16010.719727  16280.219727   \n",
       "9094  2022-10-21  16331.110352  16359.040039  16137.179688  16211.120117   \n",
       "9095  2022-10-24  15894.750000  15993.879883  15082.839844  15180.690430   \n",
       "\n",
       "         Adj Close       Volume0  \n",
       "0      2568.300049  0.000000e+00  \n",
       "2      2540.100098  0.000000e+00  \n",
       "3      2552.399902  0.000000e+00  \n",
       "4      2583.899902  0.000000e+00  \n",
       "5      2607.100098  0.000000e+00  \n",
       "...            ...           ...  \n",
       "9091  16914.580078  1.971282e+09  \n",
       "9092  16511.279297  1.713975e+09  \n",
       "9093  16280.219727  2.295269e+09  \n",
       "9094  16211.120117  2.052413e+09  \n",
       "9095  15180.690430  3.597358e+09  \n",
       "\n",
       "[8844 rows x 7 columns]"
      ]
     },
     "execution_count": 10,
     "metadata": {},
     "output_type": "execute_result"
    }
   ],
   "source": [
    "df = pd.read_csv(\"^HSI.csv\")\n",
    "df.dropna(inplace=True)\n",
    "df"
   ]
  },
  {
   "cell_type": "markdown",
   "metadata": {},
   "source": [
    "### b. Extract the time series of the absolute returns from the column ‘Adj Close’ "
   ]
  },
  {
   "cell_type": "code",
   "execution_count": 11,
   "metadata": {},
   "outputs": [
    {
     "data": {
      "text/plain": [
       "array([0.01104073, 0.00483057, 0.01226579, ..., 0.01409288, 0.00425342,\n",
       "       0.06567318])"
      ]
     },
     "execution_count": 11,
     "metadata": {},
     "output_type": "execute_result"
    }
   ],
   "source": [
    "prices=df[\"Adj Close\"].to_numpy()\n",
    "ret=np.abs(np.log(prices[1:]/prices[:-1]))\n",
    "ret"
   ]
  },
  {
   "cell_type": "markdown",
   "metadata": {},
   "source": [
    "### c. Compute the average of the time series. "
   ]
  },
  {
   "cell_type": "code",
   "execution_count": 12,
   "metadata": {},
   "outputs": [
    {
     "data": {
      "text/plain": [
       "0.010692097535708493"
      ]
     },
     "execution_count": 12,
     "metadata": {},
     "output_type": "execute_result"
    }
   ],
   "source": [
    "avg = np.average(ret)\n",
    "avg"
   ]
  },
  {
   "cell_type": "markdown",
   "metadata": {},
   "source": [
    "### d. Generate the series of cumulative sum, with each term subtracted by the average."
   ]
  },
  {
   "cell_type": "code",
   "execution_count": 13,
   "metadata": {},
   "outputs": [
    {
     "data": {
      "text/plain": [
       "array([ 3.48634062e-04, -5.51289777e-03, -3.93920237e-03, ...,\n",
       "       -4.85424084e-02, -5.49810824e-02,  7.27196081e-15])"
      ]
     },
     "execution_count": 13,
     "metadata": {},
     "output_type": "execute_result"
    }
   ],
   "source": [
    "ret_c = ret-avg\n",
    "ret_cumsum = np.cumsum(ret_c)\n",
    "ret_cumsum"
   ]
  },
  {
   "cell_type": "code",
   "execution_count": 14,
   "metadata": {},
   "outputs": [
    {
     "data": {
      "text/plain": [
       "[<matplotlib.lines.Line2D at 0x1c75e89e700>]"
      ]
     },
     "execution_count": 14,
     "metadata": {},
     "output_type": "execute_result"
    },
    {
     "data": {
      "image/png": "[encoded data removed]",
      "text/plain": [
       "<Figure size 432x288 with 1 Axes>"
      ]
     },
     "metadata": {
      "needs_background": "light"
     },
     "output_type": "display_data"
    }
   ],
   "source": [
    "plt.plot(ret_cumsum)"
   ]
  },
  {
   "cell_type": "markdown",
   "metadata": {},
   "source": [
    "### e. The Sliding Window Method\n",
    "### f. For each segment starting at $𝑡_0$, compute the root-mean-square difference between the data points  and  the  local  trend.  "
   ]
  },
  {
   "cell_type": "code",
   "execution_count": 15,
   "metadata": {},
   "outputs": [],
   "source": [
    "def εs(series, tau):\n",
    "    T = len(series)\n",
    "    t_end = T-tau+1\n",
    "\n",
    "    x = np.arange(0, tau)\n",
    "    x_mean = np.mean(x)\n",
    "    x_var = np.var(x)\n",
    "\n",
    "    ys = np.array([series[t:t+tau] for t in np.arange(0, t_end)])\n",
    "    ysmean = np.mean(ys, axis=1)\n",
    "    y_vars = np.var(ys, axis=1)\n",
    "    xysmean = np.mean(ys*x, axis=1)\n",
    "    return (y_vars-(xysmean-x_mean*ysmean)**2/x_var)**.5\n",
    "\n",
    "\n",
    "def F(series, tau):\n",
    "    return np.mean(εs(series, tau))\n"
   ]
  },
  {
   "cell_type": "code",
   "execution_count": 16,
   "metadata": {},
   "outputs": [],
   "source": [
    "T = len(ret_cumsum)\n",
    "xs = np.arange(round(np.log10(7), 1), round(np.log10(T-6), 1), 0.1)\n",
    "taus = (10**xs).astype(int)\n",
    "Fs = np.array([F(ret_cumsum, tau) for tau in taus])"
   ]
  },
  {
   "cell_type": "markdown",
   "metadata": {},
   "source": [
    "### g. For  each  value  of  𝜏,  average  𝜀  over  all  samples  of  $𝑡_0$.  This  yields  the  result  𝐹(𝜏).  Plot  𝐹(𝜏) versus 𝜏 using logarithmic scales for both axes."
   ]
  },
  {
   "cell_type": "code",
   "execution_count": 17,
   "metadata": {},
   "outputs": [
    {
     "data": {
      "image/png": "[encoded data removed]",
      "text/plain": [
       "<Figure size 432x288 with 1 Axes>"
      ]
     },
     "metadata": {
      "needs_background": "light"
     },
     "output_type": "display_data"
    }
   ],
   "source": [
    "plt.plot(taus, Fs, 'o-')\n",
    "plt.xlabel(r\"$\\tau$\")\n",
    "plt.xscale(\"log\")\n",
    "plt.yscale(\"log\")\n",
    "plt.title(r\"$F(\\tau)$\")\n",
    "plt.grid(True)\n",
    "plt.show()"
   ]
  },
  {
   "cell_type": "markdown",
   "metadata": {},
   "source": [
    "### h. To obtain the exponent 𝛼 in the relation 𝐹(𝜏) ∝ $\\tau^\\alpha$, discard the upper and lower parts of the data points that deviate from the power law and obtain the value of 𝛼."
   ]
  },
  {
   "cell_type": "code",
   "execution_count": 18,
   "metadata": {},
   "outputs": [],
   "source": [
    "cond=(taus>10)*(taus<=10**3.5)\n",
    "X = sm.add_constant(np.log10(taus[cond]))\n",
    "y = np.log10(Fs[cond])\n",
    "mod = sm.OLS(y, X)\n",
    "results = mod.fit()\n",
    "c,alpha = results.params\n",
    "R2 = results.rsquared"
   ]
  },
  {
   "cell_type": "code",
   "execution_count": 19,
   "metadata": {},
   "outputs": [
    {
     "data": {
      "image/png": "[encoded data removed]",
      "text/plain": [
       "<Figure size 432x288 with 1 Axes>"
      ]
     },
     "metadata": {
      "needs_background": "light"
     },
     "output_type": "display_data"
    }
   ],
   "source": [
    "Ffits=10**c*(taus**alpha)\n",
    "\n",
    "plt.plot(taus[cond], Fs[cond], 'o-',label=\"observation\")\n",
    "plt.plot(taus[cond], Ffits[cond], label=rf\"fit($\\alpha={alpha:.4f}$)\")\n",
    "plt.grid(True)\n",
    "plt.xlabel(r\"$\\tau$\")\n",
    "plt.xscale(\"log\")\n",
    "plt.yscale(\"log\")\n",
    "plt.title(r\"$F(\\tau)$\")\n",
    "plt.text(10, 0.3, rf\"$\\alpha={alpha:.4f}$\")\n",
    "plt.text(10, 0.2, f\"$R^2={R2:.4f}$\")\n",
    "plt.legend()\n",
    "plt.show()"
   ]
  },
  {
   "cell_type": "markdown",
   "metadata": {},
   "source": [
    "## 3. Power Spectral Density of Hang Seng Index Using Python\n",
    "\n",
    "### a. Using the time series of the absolute returns of the Hang Seng Index obtained in the previous problem, plot the autocorrelation function as a function of time lag. \n",
    "Discard large values of time lag at which the autocorrelation function becomes too noisy."
   ]
  },
  {
   "cell_type": "code",
   "execution_count": 20,
   "metadata": {},
   "outputs": [
    {
     "data": {
      "image/png": "[encoded data removed]",
      "text/plain": [
       "<Figure size 432x288 with 1 Axes>"
      ]
     },
     "metadata": {
      "needs_background": "light"
     },
     "output_type": "display_data"
    }
   ],
   "source": [
    "maxlags=400\n",
    "ts,Cs,*_=plt.acorr(ret,maxlags=maxlags,usevlines=False,linestyle=\"-\",marker=\" \")\n",
    "plt.title(\"autocorrelation of abs(return)\")\n",
    "plt.xlabel(\"Delay time /day\")\n",
    "plt.ylabel(\"autocorrelation\")\n",
    "plt.xlim([1,maxlags])\n",
    "plt.grid(True)\n",
    "plt.show()"
   ]
  },
  {
   "cell_type": "markdown",
   "metadata": {},
   "source": [
    "### b. Plot the power spectral density 𝑆(𝑓) of the above autocorrelation function \n",
    "using logarithmic scales for both axes."
   ]
  },
  {
   "cell_type": "code",
   "execution_count": 21,
   "metadata": {},
   "outputs": [],
   "source": [
    "Cs=Cs[ts>0]\n",
    "Ss=np.fft.rfft(Cs)\n",
    "fs=np.fft.rfftfreq(Cs.size)\n",
    "As=np.abs(Ss)"
   ]
  },
  {
   "cell_type": "code",
   "execution_count": 22,
   "metadata": {},
   "outputs": [
    {
     "data": {
      "image/png": "[encoded data removed]",
      "text/plain": [
       "<Figure size 432x288 with 1 Axes>"
      ]
     },
     "metadata": {
      "needs_background": "light"
     },
     "output_type": "display_data"
    }
   ],
   "source": [
    "plt.plot(fs,As)\n",
    "plt.grid(True)\n",
    "plt.ylabel(\"$S(f)$\")\n",
    "plt.xlabel(\"f\")\n",
    "plt.yscale(\"log\")\n",
    "plt.xscale(\"log\")\n",
    "plt.show()"
   ]
  },
  {
   "cell_type": "markdown",
   "metadata": {},
   "source": [
    "### c. For the linear part of the power spectral density plot, compute the exponent 𝛽 in the relation \n",
    "𝑆(𝑓) ∝ $f^{-\\beta}$. "
   ]
  },
  {
   "cell_type": "code",
   "execution_count": 23,
   "metadata": {},
   "outputs": [
    {
     "data": {
      "text/plain": [
       "array([0.    , 0.0025, 0.005 , 0.0075, 0.01  , 0.0125, 0.015 , 0.0175,\n",
       "       0.02  , 0.0225, 0.025 , 0.0275, 0.03  , 0.0325, 0.035 , 0.0375,\n",
       "       0.04  , 0.0425, 0.045 , 0.0475, 0.05  , 0.0525, 0.055 , 0.0575,\n",
       "       0.06  , 0.0625, 0.065 , 0.0675, 0.07  , 0.0725, 0.075 , 0.0775,\n",
       "       0.08  , 0.0825, 0.085 , 0.0875, 0.09  , 0.0925, 0.095 , 0.0975,\n",
       "       0.1   , 0.1025, 0.105 , 0.1075, 0.11  , 0.1125, 0.115 , 0.1175,\n",
       "       0.12  , 0.1225, 0.125 , 0.1275, 0.13  , 0.1325, 0.135 , 0.1375,\n",
       "       0.14  , 0.1425, 0.145 , 0.1475, 0.15  , 0.1525, 0.155 , 0.1575,\n",
       "       0.16  , 0.1625, 0.165 , 0.1675, 0.17  , 0.1725, 0.175 , 0.1775,\n",
       "       0.18  , 0.1825, 0.185 , 0.1875, 0.19  , 0.1925, 0.195 , 0.1975,\n",
       "       0.2   , 0.2025, 0.205 , 0.2075, 0.21  , 0.2125, 0.215 , 0.2175,\n",
       "       0.22  , 0.2225, 0.225 , 0.2275, 0.23  , 0.2325, 0.235 , 0.2375,\n",
       "       0.24  , 0.2425, 0.245 , 0.2475, 0.25  , 0.2525, 0.255 , 0.2575,\n",
       "       0.26  , 0.2625, 0.265 , 0.2675, 0.27  , 0.2725, 0.275 , 0.2775,\n",
       "       0.28  , 0.2825, 0.285 , 0.2875, 0.29  , 0.2925, 0.295 , 0.2975,\n",
       "       0.3   , 0.3025, 0.305 , 0.3075, 0.31  , 0.3125, 0.315 , 0.3175,\n",
       "       0.32  , 0.3225, 0.325 , 0.3275, 0.33  , 0.3325, 0.335 , 0.3375,\n",
       "       0.34  , 0.3425, 0.345 , 0.3475, 0.35  , 0.3525, 0.355 , 0.3575,\n",
       "       0.36  , 0.3625, 0.365 , 0.3675, 0.37  , 0.3725, 0.375 , 0.3775,\n",
       "       0.38  , 0.3825, 0.385 , 0.3875, 0.39  , 0.3925, 0.395 , 0.3975,\n",
       "       0.4   , 0.4025, 0.405 , 0.4075, 0.41  , 0.4125, 0.415 , 0.4175,\n",
       "       0.42  , 0.4225, 0.425 , 0.4275, 0.43  , 0.4325, 0.435 , 0.4375,\n",
       "       0.44  , 0.4425, 0.445 , 0.4475, 0.45  , 0.4525, 0.455 , 0.4575,\n",
       "       0.46  , 0.4625, 0.465 , 0.4675, 0.47  , 0.4725, 0.475 , 0.4775,\n",
       "       0.48  , 0.4825, 0.485 , 0.4875, 0.49  , 0.4925, 0.495 , 0.4975,\n",
       "       0.5   ])"
      ]
     },
     "execution_count": 23,
     "metadata": {},
     "output_type": "execute_result"
    }
   ],
   "source": [
    "fs"
   ]
  },
  {
   "cell_type": "code",
   "execution_count": 24,
   "metadata": {},
   "outputs": [],
   "source": [
    "def psd_fit(fs,As,cond):\n",
    "    X = sm.add_constant(np.log10(fs[cond]))\n",
    "    y = np.log10(As[cond])\n",
    "    mod = sm.OLS(y, X)\n",
    "    results = mod.fit()\n",
    "    lnc, beta_ = results.params\n",
    "    beta = -beta_\n",
    "    R2 = results.rsquared\n",
    "    return lnc,beta,R2"
   ]
  },
  {
   "cell_type": "code",
   "execution_count": 25,
   "metadata": {},
   "outputs": [
    {
     "data": {
      "text/plain": [
       "0.928500798325872"
      ]
     },
     "execution_count": 25,
     "metadata": {},
     "output_type": "execute_result"
    }
   ],
   "source": [
    "cond1=(fs >= 0.002)*(fs <= 0.02)\n",
    "lnc1,beta1,R2_1=psd_fit(fs,As,cond1)\n",
    "beta1"
   ]
  },
  {
   "cell_type": "markdown",
   "metadata": {},
   "source": [
    "$\\beta_1$=0.928500798325872"
   ]
  },
  {
   "cell_type": "code",
   "execution_count": 26,
   "metadata": {},
   "outputs": [
    {
     "data": {
      "text/plain": [
       "0.6647540492514703"
      ]
     },
     "execution_count": 26,
     "metadata": {},
     "output_type": "execute_result"
    }
   ],
   "source": [
    "cond2=(fs >= 0.02)*(fs < 1)\n",
    "lnc2,beta2,R2_2=psd_fit(fs,As,cond2)\n",
    "beta2"
   ]
  },
  {
   "cell_type": "code",
   "execution_count": 27,
   "metadata": {},
   "outputs": [
    {
     "data": {
      "image/png": "[encoded data removed]",
      "text/plain": [
       "<Figure size 432x288 with 1 Axes>"
      ]
     },
     "metadata": {
      "needs_background": "light"
     },
     "output_type": "display_data"
    }
   ],
   "source": [
    "A1s=10**lnc1*fs**(-beta1)\n",
    "A2s=10**lnc2*fs**(-beta2)\n",
    "\n",
    "plt.plot(fs,As,label=\"observation\")\n",
    "plt.plot(fs[cond1],A1s[cond1],label=rf\"fit($\\beta_1={beta1:.4f}$)\")\n",
    "plt.plot(fs[cond2],A2s[cond2],label=rf\"fit($\\beta_2={beta2:.4f}$)\")\n",
    "plt.grid(True)\n",
    "plt.ylabel(\"$S(f)$\")\n",
    "plt.xlabel(\"f\")\n",
    "plt.yscale(\"log\")\n",
    "plt.xscale(\"log\")\n",
    "plt.text(10**-1.6,10**.5,rf\"$\\beta_1={beta1:.4f}$\")\n",
    "plt.text(10**-.6,1,rf\"$\\beta_2={beta2:.4f}$\")\n",
    "plt.title(\"Power spectral density plot\")\n",
    "plt.legend()\n",
    "plt.show()"
   ]
  },
  {
   "cell_type": "markdown",
   "metadata": {},
   "source": [
    "### d. Verify whether the relation 𝛽 = 2𝛼 ― 1 is valid."
   ]
  },
  {
   "cell_type": "code",
   "execution_count": 28,
   "metadata": {},
   "outputs": [
    {
     "data": {
      "text/plain": [
       "0.9205098400738079"
      ]
     },
     "execution_count": 28,
     "metadata": {},
     "output_type": "execute_result"
    }
   ],
   "source": [
    "2*alpha-1"
   ]
  },
  {
   "cell_type": "code",
   "execution_count": 29,
   "metadata": {},
   "outputs": [
    {
     "data": {
      "text/plain": [
       "0.928500798325872"
      ]
     },
     "execution_count": 29,
     "metadata": {},
     "output_type": "execute_result"
    }
   ],
   "source": [
    "beta1"
   ]
  },
  {
   "cell_type": "markdown",
   "metadata": {},
   "source": [
    "From above calculation, we obtain the value of two parameter:\n",
    "\n",
    "$2\\alpha-1$=0.9205098400738079\n",
    "\n",
    "$\\beta_1$=0.928500798325872\n",
    "\n",
    "These two values are quite close, so we claim that the relation $\\beta=2\\alpha-1$ is valid."
   ]
  },
  {
   "cell_type": "code",
   "execution_count": 30,
   "metadata": {},
   "outputs": [
    {
     "data": {
      "text/plain": [
       "0.9602549200369039"
      ]
     },
     "execution_count": 30,
     "metadata": {},
     "output_type": "execute_result"
    }
   ],
   "source": [
    "alpha"
   ]
  }
 ],
 "metadata": {
  "kernelspec": {
   "display_name": "Python 3",
   "language": "python",
   "name": "python3"
  },
  "language_info": {
   "codemirror_mode": {
    "name": "ipython",
    "version": 3
   },
   "file_extension": ".py",
   "mimetype": "text/x-python",
   "name": "python",
   "nbconvert_exporter": "python",
   "pygments_lexer": "ipython3",
   "version": "3.8.7"
  },
  "vscode": {
   "interpreter": {
    "hash": "570feb405e2e27c949193ac68f46852414290d515b0ba6e5d90d076ed2284471"
   }
  }
 },
 "nbformat": 4,
 "nbformat_minor": 4
}
