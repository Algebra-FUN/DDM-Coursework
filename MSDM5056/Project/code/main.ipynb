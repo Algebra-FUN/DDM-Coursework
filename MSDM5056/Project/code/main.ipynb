{
 "cells": [
  {
   "cell_type": "markdown",
   "metadata": {},
   "source": [
    "# Project: Community Detection and Network Resilience"
   ]
  },
  {
   "cell_type": "markdown",
   "metadata": {},
   "source": [
    "## (a) Construct a network from the dataset. "
   ]
  },
  {
   "cell_type": "code",
   "execution_count": 164,
   "metadata": {},
   "outputs": [],
   "source": [
    "import networkx as nx\n",
    "import numpy as np\n",
    "from matplotlib import pyplot as plt\n",
    "from itertools import takewhile\n",
    "from functools import partial as part\n",
    "import pickle"
   ]
  },
  {
   "cell_type": "code",
   "execution_count": 3,
   "metadata": {},
   "outputs": [],
   "source": [
    "g = nx.read_gml(\"../data/netscience/netscience.gml\")"
   ]
  },
  {
   "cell_type": "markdown",
   "metadata": {},
   "source": [
    "## (b) Plot  its  degree  distribution,  then  compute  its  average  shortest  distance  and average clustering coefficient. \n",
    "\n",
    "### Degree distribution"
   ]
  },
  {
   "cell_type": "code",
   "execution_count": 170,
   "metadata": {},
   "outputs": [],
   "source": [
    "def deg_dist_plot(g: nx.Graph, *args, plotter=plt, **kwargs):\n",
    "    degs = [k for n,k in g.degree if k > 0]\n",
    "    km, kM = min(degs), max(degs)\n",
    "    plotter.scatter(range(km, kM+1), (np.bincount(degs)/len(degs))\n",
    "                    [km:kM+1], *args, **kwargs)\n"
   ]
  },
  {
   "cell_type": "code",
   "execution_count": 171,
   "metadata": {},
   "outputs": [
    {
     "data": {
      "image/png": "[encoded data removed]",
      "text/plain": [
       "<Figure size 864x288 with 2 Axes>"
      ]
     },
     "metadata": {
      "needs_background": "light"
     },
     "output_type": "display_data"
    }
   ],
   "source": [
    "plt.figure(figsize=(12,4))\n",
    "plt.subplot(121)\n",
    "deg_dist_plot(g)\n",
    "plt.xlabel(\"$k$\")\n",
    "plt.ylabel(\"$P_k$\")\n",
    "# plt.xscale(\"log\")\n",
    "# plt.yscale(\"log\")\n",
    "# plt.ylim([10**-4,1])\n",
    "plt.grid(True)\n",
    "plt.title(\"degree distribution(lin-lin)\")\n",
    "plt.subplot(122)\n",
    "deg_dist_plot(g)\n",
    "plt.xlabel(\"$\\log(k)$\")\n",
    "plt.ylabel(\"$\\log(P_k)$\")\n",
    "plt.xscale(\"log\")\n",
    "plt.yscale(\"log\")\n",
    "plt.ylim([10**-4,1])\n",
    "plt.grid(True)\n",
    "plt.title(\"degree distribution(log-log)\")\n",
    "plt.show()"
   ]
  },
  {
   "cell_type": "markdown",
   "metadata": {},
   "source": [
    "from this degree distribution, we can see it obeys a power law."
   ]
  },
  {
   "cell_type": "markdown",
   "metadata": {},
   "source": [
    "### Average shortest distance\n",
    "\n",
    "Since this network isn't a connected graph, so we just compute it's average shortest distance for it's giant component."
   ]
  },
  {
   "cell_type": "code",
   "execution_count": 12,
   "metadata": {},
   "outputs": [],
   "source": [
    "giant_subgraph = g.subgraph(max(nx.connected_components(g), key=len))"
   ]
  },
  {
   "cell_type": "code",
   "execution_count": 13,
   "metadata": {},
   "outputs": [
    {
     "data": {
      "text/plain": [
       "6.041867347935949"
      ]
     },
     "execution_count": 13,
     "metadata": {},
     "output_type": "execute_result"
    }
   ],
   "source": [
    "nx.average_shortest_path_length(giant_subgraph)"
   ]
  },
  {
   "cell_type": "markdown",
   "metadata": {},
   "source": [
    "### Average clustering coefficient"
   ]
  },
  {
   "cell_type": "code",
   "execution_count": 14,
   "metadata": {},
   "outputs": [
    {
     "data": {
      "text/plain": [
       "0.6377905695067805"
      ]
     },
     "execution_count": 14,
     "metadata": {},
     "output_type": "execute_result"
    }
   ],
   "source": [
    "nx.average_clustering(g)"
   ]
  },
  {
   "cell_type": "markdown",
   "metadata": {},
   "source": [
    "## (c) Use the Girvan-Newman algorithm to find its communities. "
   ]
  },
  {
   "cell_type": "code",
   "execution_count": 41,
   "metadata": {},
   "outputs": [],
   "source": [
    "maxNComm = 410\n",
    "gncomm = nx.community.girvan_newman(g)\n",
    "communities = list(takewhile(lambda c: len(c) <= maxNComm, gncomm))\n",
    "\n",
    "with open(\"../out/gn-comm-finding.pkl\",\"wb\") as output:\n",
    "    pickle.dump(communities,output)"
   ]
  },
  {
   "cell_type": "code",
   "execution_count": 42,
   "metadata": {},
   "outputs": [
    {
     "data": {
      "text/plain": [
       "[200, 179, 176, 127, 127, 100, 100, 91, 91, 73, 73, 73, 73, 53]"
      ]
     },
     "execution_count": 42,
     "metadata": {},
     "output_type": "execute_result"
    }
   ],
   "source": [
    "[len(max(comm,key=len)) for comm in communities]"
   ]
  },
  {
   "cell_type": "markdown",
   "metadata": {},
   "source": [
    "## (d) Perform  (i)  a  random  attack  and  (ii)  a  targeted  attack  \n",
    "on  the  network  by \n",
    "removing nodes from the network. Plot the size of the giant component against \n",
    "the fraction of nodes removed like p.17–18 in Lecture 9. "
   ]
  },
  {
   "cell_type": "code",
   "execution_count": 117,
   "metadata": {},
   "outputs": [],
   "source": [
    "def random_attack(g: nx.Graph, p):\n",
    "    N = g.number_of_nodes()\n",
    "    C = np.floor(N*(1-p)).astype(int)\n",
    "    choices = np.random.choice(g.nodes, size=C, replace=False)\n",
    "    return g.subgraph(choices)\n",
    "\n",
    "\n",
    "def target_attack(g: nx.Graph, p):\n",
    "    N = g.number_of_nodes()\n",
    "    C = np.floor(N*(1-p)).astype(int)\n",
    "    choices = [node for node, k in sorted(\n",
    "        g.degree, key=lambda item:item[1])[:C]]\n",
    "    return g.subgraph(choices)\n",
    "\n",
    "\n",
    "def size_of_giant(g:nx.Graph):\n",
    "    giant = g.subgraph(max(nx.connected_components(g), key=len))\n",
    "    return giant.number_of_nodes()"
   ]
  },
  {
   "cell_type": "code",
   "execution_count": 128,
   "metadata": {},
   "outputs": [],
   "source": [
    "np.random.seed(5003)\n",
    "nsample = 50\n",
    "ps = np.arange(0, 1, .02)\n",
    "N = size_of_giant(g)\n",
    "target_attack_survive = np.array(\n",
    "    [*map(size_of_giant, map(part(target_attack, g), ps))])/N\n",
    "random_attack_survive = np.array(\n",
    "    [[*map(size_of_giant, map(part(random_attack, g), ps))] for _ in range(nsample)]).mean(axis=0)/N\n"
   ]
  },
  {
   "cell_type": "code",
   "execution_count": 131,
   "metadata": {},
   "outputs": [
    {
     "data": {
      "image/png": "[encoded data removed]",
      "text/plain": [
       "<Figure size 432x288 with 1 Axes>"
      ]
     },
     "metadata": {
      "needs_background": "light"
     },
     "output_type": "display_data"
    }
   ],
   "source": [
    "plt.plot(ps,target_attack_survive,marker='x',label=\"target attack\")\n",
    "plt.plot(ps,random_attack_survive,marker='.',label=\"random attack\")\n",
    "plt.xlabel(\"node removal rate\")\n",
    "plt.ylabel(\"size of giant component\")\n",
    "plt.legend()\n",
    "plt.grid(True)\n",
    "plt.show()"
   ]
  }
 ],
 "metadata": {
  "kernelspec": {
   "display_name": "Python 3.8.7 64-bit",
   "language": "python",
   "name": "python3"
  },
  "language_info": {
   "codemirror_mode": {
    "name": "ipython",
    "version": 3
   },
   "file_extension": ".py",
   "mimetype": "text/x-python",
   "name": "python",
   "nbconvert_exporter": "python",
   "pygments_lexer": "ipython3",
   "version": "3.8.7"
  },
  "orig_nbformat": 4,
  "vscode": {
   "interpreter": {
    "hash": "570feb405e2e27c949193ac68f46852414290d515b0ba6e5d90d076ed2284471"
   }
  }
 },
 "nbformat": 4,
 "nbformat_minor": 2
}
