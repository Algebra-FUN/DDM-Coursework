{
 "cells": [
  {
   "cell_type": "code",
   "execution_count": 1,
   "metadata": {},
   "outputs": [],
   "source": [
    "import networkx as nx\n",
    "import numpy as np\n",
    "from matplotlib import pyplot as plt\n",
    "from functools import partial as part\n",
    "import random\n",
    "\n",
    "er_fast = nx.fast_gnp_random_graph\n"
   ]
  },
  {
   "cell_type": "code",
   "execution_count": 2,
   "metadata": {},
   "outputs": [],
   "source": [
    "def er_fast_Nk(N, kavg, seed=123456):\n",
    "    p = kavg/(N-1)\n",
    "    return er_fast(N, p, seed=seed)\n"
   ]
  },
  {
   "cell_type": "code",
   "execution_count": 9,
   "metadata": {},
   "outputs": [],
   "source": [
    "def degplot(degs, *args, plotter=plt, **kwargs):\n",
    "    km, kM = min(degs), max(degs)\n",
    "    plotter.plot(range(km, kM+1), (np.bincount(degs)/len(degs))\n",
    "                 [km:kM+1], *args, **kwargs)\n",
    "\n",
    "\n",
    "def degplot4rng(rng_gnr, *args, trials=10, seed=123456, plotter=plt, **kwargs):\n",
    "    rngs = map(rng_gnr, range(seed, seed+trials))\n",
    "    degs = [k for g in rngs for n, k in g.degree]\n",
    "    degplot(degs, *args, plotter=plotter, **kwargs)\n",
    "\n",
    "\n",
    "def degplot4er(N, kavg, *args, trials=10, seed=123456, plotter=plt, **kwargs):\n",
    "    degplot4rng(part(er_fast_Nk, N, kavg), *args, trials=trials,\n",
    "                seed=seed, plotter=plotter, **kwargs)\n"
   ]
  },
  {
   "cell_type": "code",
   "execution_count": 6,
   "metadata": {},
   "outputs": [],
   "source": [
    "def aspl_estim(g: nx.Graph, nsample=10):\n",
    "    N = g.number_of_nodes()\n",
    "    spls = []\n",
    "    for _ in range(nsample):\n",
    "        ps = nx.shortest_path_length(g, source=random.randint(0, N-1))\n",
    "        spls.append(np.mean(tuple(ps.values())))\n",
    "    return np.mean(spls)\n",
    "\n",
    "\n",
    "def aspl4er(N, kavg, trials=10, seed=123456, nsample=False):\n",
    "    \"\"\"Average shortest path length for ER networks\"\"\"\n",
    "    graphs = [er_fast_Nk(N, kavg, seed=seed+t) for t in range(trials)]\n",
    "    ls = [aspl_estim(g, nsample=nsample)\n",
    "          if nsample else nx.average_shortest_path_length(g) for g in graphs]\n",
    "    lBar = np.mean(ls)\n",
    "    lstd = np.std(ls)\n",
    "    l = np.log(N)/np.log(kavg)\n",
    "    l1 = (np.log(N)-0.57722)/np.log(kavg)+1/2\n",
    "    return (lBar, lstd), (l, l1)\n"
   ]
  },
  {
   "cell_type": "code",
   "execution_count": null,
   "metadata": {},
   "outputs": [],
   "source": [
    "degplot4er(100, 20, 'o', seed=123456)\n",
    "plt.ylabel(\"$P_k$\")\n",
    "plt.xlabel(\"$k$\")\n",
    "plt.show()\n"
   ]
  }
 ],
 "metadata": {
  "kernelspec": {
   "display_name": "Python 3",
   "language": "python",
   "name": "python3"
  },
  "language_info": {
   "codemirror_mode": {
    "name": "ipython",
    "version": 3
   },
   "file_extension": ".py",
   "mimetype": "text/x-python",
   "name": "python",
   "nbconvert_exporter": "python",
   "pygments_lexer": "ipython3",
   "version": "3.8.13"
  },
  "orig_nbformat": 4,
  "vscode": {
   "interpreter": {
    "hash": "9ac03a0a6051494cc606d484d27d20fce22fb7b4d169f583271e11d5ba46a56e"
   }
  }
 },
 "nbformat": 4,
 "nbformat_minor": 2
}
