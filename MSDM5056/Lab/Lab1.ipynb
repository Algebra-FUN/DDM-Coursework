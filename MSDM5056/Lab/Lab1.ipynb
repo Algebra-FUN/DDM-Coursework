{
 "cells": [
  {
   "cell_type": "code",
   "execution_count": 4,
   "metadata": {},
   "outputs": [],
   "source": [
    "import networkx as nx\n",
    "import numpy as np\n",
    "from matplotlib import pyplot as plt\n",
    "from functools import partial as part\n",
    "\n",
    "er_fast = nx.fast_gnp_random_graph"
   ]
  },
  {
   "cell_type": "code",
   "execution_count": 42,
   "metadata": {},
   "outputs": [],
   "source": [
    "def deg_dis_plot(degs, *args, plotter=plt, **kwargs):\n",
    "    km, kM = min(degs), max(degs)\n",
    "    plotter.plot(range(km, kM+1), (np.bincount(degs)/len(degs))\n",
    "                 [km:kM+1], *args, **kwargs)\n",
    "\n",
    "\n",
    "def deg_dis_plot4rng(rng_gnr, *args, trials=10, seed=123456, plotter=plt, **kwargs):\n",
    "    rngs = [rng_gnr(seed+t) for t in range(trials)]\n",
    "    degs = [k for g in rngs for n, k in g.degree]\n",
    "    deg_dis_plot(degs, *args, plotter=plotter, **kwargs)\n",
    "\n",
    "\n",
    "def deg_dis_plot4er(N, kavg, *args, trials=10, seed=123456, plotter=plt, **kwargs):\n",
    "    p = kavg/(N-1)\n",
    "    deg_dis_plot4rng(lambda s: er_fast(N, p, seed=s),\n",
    "                     *args, trials=trials, seed=seed, plotter=plotter, **kwargs)\n"
   ]
  },
  {
   "cell_type": "code",
   "execution_count": 50,
   "metadata": {},
   "outputs": [],
   "source": [
    "def avsp4er(N, kavg, trials=10, seed=123456):\n",
    "    \"\"\"Average shortest path length for ER networks\"\"\"\n",
    "    p = kavg/(N-1)\n",
    "    graphs = [er_fast(N,p,seed=seed+t) for t in range(trials)]\n",
    "    ls = [nx.average_shortest_path_length(g) for g in graphs]\n",
    "    lBar = np.mean(ls)\n",
    "    lstd = np.std(ls)\n",
    "    l = np.log(N)/np.log(kavg) \n",
    "    return (lBar,lstd),l"
   ]
  },
  {
   "cell_type": "code",
   "execution_count": 45,
   "metadata": {},
   "outputs": [
    {
     "data": {
      "image/png": "[encoded data removed]",
      "text/plain": [
       "<Figure size 432x288 with 1 Axes>"
      ]
     },
     "metadata": {
      "needs_background": "light"
     },
     "output_type": "display_data"
    }
   ],
   "source": [
    "deg_dis_plot4er(100,20,'o',seed=123456)\n",
    "plt.ylabel(\"$P_k$\")\n",
    "plt.xlabel(\"$k$\")\n",
    "plt.show()"
   ]
  },
  {
   "cell_type": "code",
   "execution_count": 56,
   "metadata": {},
   "outputs": [
    {
     "data": {
      "text/plain": [
       "((2.629853853853854, 0.0), 2.3058653605207224)"
      ]
     },
     "execution_count": 56,
     "metadata": {},
     "output_type": "execute_result"
    }
   ],
   "source": [
    "avsp4er(1000,20,trials=1,seed=213)"
   ]
  }
 ],
 "metadata": {
  "kernelspec": {
   "display_name": "Python 3.8.7 64-bit",
   "language": "python",
   "name": "python3"
  },
  "language_info": {
   "codemirror_mode": {
    "name": "ipython",
    "version": 3
   },
   "file_extension": ".py",
   "mimetype": "text/x-python",
   "name": "python",
   "nbconvert_exporter": "python",
   "pygments_lexer": "ipython3",
   "version": "3.8.7"
  },
  "orig_nbformat": 4,
  "vscode": {
   "interpreter": {
    "hash": "570feb405e2e27c949193ac68f46852414290d515b0ba6e5d90d076ed2284471"
   }
  }
 },
 "nbformat": 4,
 "nbformat_minor": 2
}
